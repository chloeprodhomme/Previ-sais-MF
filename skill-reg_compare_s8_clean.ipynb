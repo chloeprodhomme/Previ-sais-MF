{
 "cells": [
  {
   "cell_type": "markdown",
   "metadata": {},
   "source": [
    "script to compare in several region the skill of the SST from MF operational system  and the skill of the triatlas hindcast in a given region for the May startdate, Might need some adaptation for november startdate."
   ]
  },
  {
   "cell_type": "code",
   "execution_count": 5,
   "metadata": {},
   "outputs": [],
   "source": [
    "#import matplotlib\n",
    "#matplotlib.use('Agg') # to run on aneto (not very useful for this script)\n",
    "from function_read import *\n",
    "#other libraries\n",
    "from mpl_toolkits.basemap import Basemap\n",
    "import matplotlib.pyplot as plt\n",
    "import scipy.stats\n",
    "import cartopy as cart\n",
    "import cartopy.crs as ccrs\n",
    "from function_read import *\n",
    "from mpl_toolkits.axisartist.axislines import Subplot \n",
    "import sys\n",
    "\n",
    "# name of the experience\n",
    "exp=\"dcppA-hincast\"\n",
    "\n",
    "\n",
    "#period to analyse\n",
    "year1=1998\n",
    "year2=2014\n",
    "#number of months of the hindcast to read\n",
    "nmon=6\n",
    "#number of members\n",
    "nmemb=10\n",
    "#starting month of the hindcast (may:5 or November:11)\n",
    "monstart=5\n",
    "\n",
    "varname=\"tos\"\n",
    "level=\"all\"\n",
    "\n",
    "regname=\"Nino34\"\n",
    "lat_bnds = [-5,5]\n",
    "lon_bnds = [360-170,360-120]\n",
    "#lon_bnds = [-180,-120]\n",
    "\n",
    "regname=\"Atl3\"\n",
    "lat_bnds = [-3,3]\n",
    "lon_bnds = [-20,-1]\n",
    "\n",
    "prefixe=\"/home/prodhommec\"\n",
    "\n",
    "scaledict = {\"tos\":1, \"bigthetao\":1,\"chlos\":1e3, \"o2\":1e3, \"no3os\":1e3, \"intpp\":12*1000*3600*24 }\n",
    "scale=scaledict.get(varname)"
   ]
  },
  {
   "cell_type": "code",
   "execution_count": 6,
   "metadata": {},
   "outputs": [],
   "source": [
    "#compute dates from year1 and year2\n",
    "nyear=year2-year1+1\n",
    "yearlst=np.arange(year1, year2+1)\n",
    "sdatelst=[]\n",
    "for year in yearlst:\n",
    "    sdatelst.append(date(year=year, month=monstart, day=1))"
   ]
  },
  {
   "cell_type": "markdown",
   "metadata": {},
   "source": [
    "### Read files: hindcasts"
   ]
  },
  {
   "cell_type": "code",
   "execution_count": 7,
   "metadata": {},
   "outputs": [
    {
     "name": "stdout",
     "output_type": "stream",
     "text": [
      "all\n",
      "True [-20  -1]\n",
      "3\n",
      "I am here\n",
      "1\n",
      "(6, 6, 20)\n",
      "all\n",
      "True [-20  -1]\n",
      "3\n",
      "I am here\n",
      "1\n",
      "(6, 6, 20)\n"
     ]
    },
    {
     "name": "stderr",
     "output_type": "stream",
     "text": [
      "/home/prodhommec/analyseMF/scripts-final-MF/previ-sais/function_read.py:26: FutureWarning: elementwise comparison failed; returning scalar instead, but in the future will perform elementwise comparison\n",
      "  print(lon_bnds != \"all\", lon_bnds)\n",
      "/home/prodhommec/analyseMF/scripts-final-MF/previ-sais/function_read.py:27: FutureWarning: elementwise comparison failed; returning scalar instead, but in the future will perform elementwise comparison\n",
      "  if lon_bnds != \"all\":\n",
      "/home/prodhommec/analyseMF/scripts-final-MF/previ-sais/function_read.py:26: FutureWarning: elementwise comparison failed; returning scalar instead, but in the future will perform elementwise comparison\n",
      "  print(lon_bnds != \"all\", lon_bnds)\n",
      "/home/prodhommec/analyseMF/scripts-final-MF/previ-sais/function_read.py:27: FutureWarning: elementwise comparison failed; returning scalar instead, but in the future will perform elementwise comparison\n",
      "  if lon_bnds != \"all\":\n"
     ]
    },
    {
     "name": "stdout",
     "output_type": "stream",
     "text": [
      "all\n",
      "True [-20  -1]\n",
      "3\n",
      "I am here\n",
      "1\n",
      "(6, 6, 20)\n",
      "all\n",
      "True [-20  -1]\n",
      "3\n",
      "I am here\n",
      "1\n",
      "(6, 6, 20)\n"
     ]
    },
    {
     "name": "stderr",
     "output_type": "stream",
     "text": [
      "/home/prodhommec/analyseMF/scripts-final-MF/previ-sais/function_read.py:26: FutureWarning: elementwise comparison failed; returning scalar instead, but in the future will perform elementwise comparison\n",
      "  print(lon_bnds != \"all\", lon_bnds)\n",
      "/home/prodhommec/analyseMF/scripts-final-MF/previ-sais/function_read.py:27: FutureWarning: elementwise comparison failed; returning scalar instead, but in the future will perform elementwise comparison\n",
      "  if lon_bnds != \"all\":\n",
      "/home/prodhommec/analyseMF/scripts-final-MF/previ-sais/function_read.py:26: FutureWarning: elementwise comparison failed; returning scalar instead, but in the future will perform elementwise comparison\n",
      "  print(lon_bnds != \"all\", lon_bnds)\n",
      "/home/prodhommec/analyseMF/scripts-final-MF/previ-sais/function_read.py:27: FutureWarning: elementwise comparison failed; returning scalar instead, but in the future will perform elementwise comparison\n",
      "  if lon_bnds != \"all\":\n"
     ]
    },
    {
     "name": "stdout",
     "output_type": "stream",
     "text": [
      "all\n",
      "True [-20  -1]\n",
      "3\n",
      "I am here\n",
      "1\n",
      "(6, 6, 20)\n",
      "all\n",
      "True [-20  -1]\n",
      "3\n",
      "I am here\n",
      "1\n",
      "(6, 6, 20)\n"
     ]
    },
    {
     "name": "stderr",
     "output_type": "stream",
     "text": [
      "/home/prodhommec/analyseMF/scripts-final-MF/previ-sais/function_read.py:26: FutureWarning: elementwise comparison failed; returning scalar instead, but in the future will perform elementwise comparison\n",
      "  print(lon_bnds != \"all\", lon_bnds)\n",
      "/home/prodhommec/analyseMF/scripts-final-MF/previ-sais/function_read.py:27: FutureWarning: elementwise comparison failed; returning scalar instead, but in the future will perform elementwise comparison\n",
      "  if lon_bnds != \"all\":\n",
      "/home/prodhommec/analyseMF/scripts-final-MF/previ-sais/function_read.py:26: FutureWarning: elementwise comparison failed; returning scalar instead, but in the future will perform elementwise comparison\n",
      "  print(lon_bnds != \"all\", lon_bnds)\n",
      "/home/prodhommec/analyseMF/scripts-final-MF/previ-sais/function_read.py:27: FutureWarning: elementwise comparison failed; returning scalar instead, but in the future will perform elementwise comparison\n",
      "  if lon_bnds != \"all\":\n"
     ]
    },
    {
     "name": "stdout",
     "output_type": "stream",
     "text": [
      "all\n",
      "True [-20  -1]\n",
      "3\n",
      "I am here\n",
      "1\n",
      "(6, 6, 20)\n",
      "all\n",
      "True [-20  -1]\n",
      "3\n",
      "I am here\n",
      "1\n",
      "(6, 6, 20)\n"
     ]
    },
    {
     "name": "stderr",
     "output_type": "stream",
     "text": [
      "/home/prodhommec/analyseMF/scripts-final-MF/previ-sais/function_read.py:26: FutureWarning: elementwise comparison failed; returning scalar instead, but in the future will perform elementwise comparison\n",
      "  print(lon_bnds != \"all\", lon_bnds)\n",
      "/home/prodhommec/analyseMF/scripts-final-MF/previ-sais/function_read.py:27: FutureWarning: elementwise comparison failed; returning scalar instead, but in the future will perform elementwise comparison\n",
      "  if lon_bnds != \"all\":\n",
      "/home/prodhommec/analyseMF/scripts-final-MF/previ-sais/function_read.py:26: FutureWarning: elementwise comparison failed; returning scalar instead, but in the future will perform elementwise comparison\n",
      "  print(lon_bnds != \"all\", lon_bnds)\n",
      "/home/prodhommec/analyseMF/scripts-final-MF/previ-sais/function_read.py:27: FutureWarning: elementwise comparison failed; returning scalar instead, but in the future will perform elementwise comparison\n",
      "  if lon_bnds != \"all\":\n"
     ]
    },
    {
     "name": "stdout",
     "output_type": "stream",
     "text": [
      "all\n",
      "True [-20  -1]\n",
      "3\n",
      "I am here\n",
      "1\n",
      "(6, 6, 20)\n",
      "all\n",
      "True [-20  -1]\n",
      "3\n",
      "I am here\n",
      "1\n",
      "(6, 6, 20)\n"
     ]
    },
    {
     "name": "stderr",
     "output_type": "stream",
     "text": [
      "/home/prodhommec/analyseMF/scripts-final-MF/previ-sais/function_read.py:26: FutureWarning: elementwise comparison failed; returning scalar instead, but in the future will perform elementwise comparison\n",
      "  print(lon_bnds != \"all\", lon_bnds)\n",
      "/home/prodhommec/analyseMF/scripts-final-MF/previ-sais/function_read.py:27: FutureWarning: elementwise comparison failed; returning scalar instead, but in the future will perform elementwise comparison\n",
      "  if lon_bnds != \"all\":\n",
      "/home/prodhommec/analyseMF/scripts-final-MF/previ-sais/function_read.py:26: FutureWarning: elementwise comparison failed; returning scalar instead, but in the future will perform elementwise comparison\n",
      "  print(lon_bnds != \"all\", lon_bnds)\n",
      "/home/prodhommec/analyseMF/scripts-final-MF/previ-sais/function_read.py:27: FutureWarning: elementwise comparison failed; returning scalar instead, but in the future will perform elementwise comparison\n",
      "  if lon_bnds != \"all\":\n"
     ]
    },
    {
     "name": "stdout",
     "output_type": "stream",
     "text": [
      "all\n",
      "True [-20  -1]\n",
      "3\n",
      "I am here\n",
      "1\n",
      "(6, 6, 20)\n",
      "all\n",
      "True [-20  -1]\n",
      "3\n",
      "I am here\n",
      "1\n",
      "(6, 6, 20)\n"
     ]
    },
    {
     "name": "stderr",
     "output_type": "stream",
     "text": [
      "/home/prodhommec/analyseMF/scripts-final-MF/previ-sais/function_read.py:26: FutureWarning: elementwise comparison failed; returning scalar instead, but in the future will perform elementwise comparison\n",
      "  print(lon_bnds != \"all\", lon_bnds)\n",
      "/home/prodhommec/analyseMF/scripts-final-MF/previ-sais/function_read.py:27: FutureWarning: elementwise comparison failed; returning scalar instead, but in the future will perform elementwise comparison\n",
      "  if lon_bnds != \"all\":\n",
      "/home/prodhommec/analyseMF/scripts-final-MF/previ-sais/function_read.py:26: FutureWarning: elementwise comparison failed; returning scalar instead, but in the future will perform elementwise comparison\n",
      "  print(lon_bnds != \"all\", lon_bnds)\n",
      "/home/prodhommec/analyseMF/scripts-final-MF/previ-sais/function_read.py:27: FutureWarning: elementwise comparison failed; returning scalar instead, but in the future will perform elementwise comparison\n",
      "  if lon_bnds != \"all\":\n"
     ]
    },
    {
     "name": "stdout",
     "output_type": "stream",
     "text": [
      "all\n",
      "True [-20  -1]\n",
      "3\n",
      "I am here\n",
      "1\n",
      "(6, 6, 20)\n",
      "all\n",
      "True [-20  -1]\n",
      "3\n",
      "I am here\n",
      "1\n",
      "(6, 6, 20)\n"
     ]
    },
    {
     "name": "stderr",
     "output_type": "stream",
     "text": [
      "/home/prodhommec/analyseMF/scripts-final-MF/previ-sais/function_read.py:26: FutureWarning: elementwise comparison failed; returning scalar instead, but in the future will perform elementwise comparison\n",
      "  print(lon_bnds != \"all\", lon_bnds)\n",
      "/home/prodhommec/analyseMF/scripts-final-MF/previ-sais/function_read.py:27: FutureWarning: elementwise comparison failed; returning scalar instead, but in the future will perform elementwise comparison\n",
      "  if lon_bnds != \"all\":\n",
      "/home/prodhommec/analyseMF/scripts-final-MF/previ-sais/function_read.py:26: FutureWarning: elementwise comparison failed; returning scalar instead, but in the future will perform elementwise comparison\n",
      "  print(lon_bnds != \"all\", lon_bnds)\n",
      "/home/prodhommec/analyseMF/scripts-final-MF/previ-sais/function_read.py:27: FutureWarning: elementwise comparison failed; returning scalar instead, but in the future will perform elementwise comparison\n",
      "  if lon_bnds != \"all\":\n"
     ]
    },
    {
     "name": "stdout",
     "output_type": "stream",
     "text": [
      "all\n",
      "True [-20  -1]\n",
      "3\n",
      "I am here\n",
      "1\n",
      "(6, 6, 20)\n",
      "all\n",
      "True [-20  -1]\n",
      "3\n",
      "I am here\n",
      "1\n",
      "(6, 6, 20)\n"
     ]
    },
    {
     "name": "stderr",
     "output_type": "stream",
     "text": [
      "/home/prodhommec/analyseMF/scripts-final-MF/previ-sais/function_read.py:26: FutureWarning: elementwise comparison failed; returning scalar instead, but in the future will perform elementwise comparison\n",
      "  print(lon_bnds != \"all\", lon_bnds)\n",
      "/home/prodhommec/analyseMF/scripts-final-MF/previ-sais/function_read.py:27: FutureWarning: elementwise comparison failed; returning scalar instead, but in the future will perform elementwise comparison\n",
      "  if lon_bnds != \"all\":\n",
      "/home/prodhommec/analyseMF/scripts-final-MF/previ-sais/function_read.py:26: FutureWarning: elementwise comparison failed; returning scalar instead, but in the future will perform elementwise comparison\n",
      "  print(lon_bnds != \"all\", lon_bnds)\n",
      "/home/prodhommec/analyseMF/scripts-final-MF/previ-sais/function_read.py:27: FutureWarning: elementwise comparison failed; returning scalar instead, but in the future will perform elementwise comparison\n",
      "  if lon_bnds != \"all\":\n"
     ]
    },
    {
     "name": "stdout",
     "output_type": "stream",
     "text": [
      "all\n",
      "True [-20  -1]\n",
      "3\n",
      "I am here\n",
      "1\n",
      "(6, 6, 20)\n",
      "all\n",
      "True [-20  -1]\n",
      "3\n",
      "I am here\n",
      "1\n",
      "(6, 6, 20)\n"
     ]
    },
    {
     "name": "stderr",
     "output_type": "stream",
     "text": [
      "/home/prodhommec/analyseMF/scripts-final-MF/previ-sais/function_read.py:26: FutureWarning: elementwise comparison failed; returning scalar instead, but in the future will perform elementwise comparison\n",
      "  print(lon_bnds != \"all\", lon_bnds)\n",
      "/home/prodhommec/analyseMF/scripts-final-MF/previ-sais/function_read.py:27: FutureWarning: elementwise comparison failed; returning scalar instead, but in the future will perform elementwise comparison\n",
      "  if lon_bnds != \"all\":\n",
      "/home/prodhommec/analyseMF/scripts-final-MF/previ-sais/function_read.py:26: FutureWarning: elementwise comparison failed; returning scalar instead, but in the future will perform elementwise comparison\n",
      "  print(lon_bnds != \"all\", lon_bnds)\n",
      "/home/prodhommec/analyseMF/scripts-final-MF/previ-sais/function_read.py:27: FutureWarning: elementwise comparison failed; returning scalar instead, but in the future will perform elementwise comparison\n",
      "  if lon_bnds != \"all\":\n"
     ]
    },
    {
     "name": "stdout",
     "output_type": "stream",
     "text": [
      "all\n",
      "True [-20  -1]\n",
      "3\n",
      "I am here\n",
      "1\n",
      "(6, 6, 20)\n",
      "all\n",
      "True [-20  -1]\n",
      "3\n",
      "I am here\n",
      "1\n",
      "(6, 6, 20)\n"
     ]
    },
    {
     "name": "stderr",
     "output_type": "stream",
     "text": [
      "/home/prodhommec/analyseMF/scripts-final-MF/previ-sais/function_read.py:26: FutureWarning: elementwise comparison failed; returning scalar instead, but in the future will perform elementwise comparison\n",
      "  print(lon_bnds != \"all\", lon_bnds)\n",
      "/home/prodhommec/analyseMF/scripts-final-MF/previ-sais/function_read.py:27: FutureWarning: elementwise comparison failed; returning scalar instead, but in the future will perform elementwise comparison\n",
      "  if lon_bnds != \"all\":\n",
      "/home/prodhommec/analyseMF/scripts-final-MF/previ-sais/function_read.py:26: FutureWarning: elementwise comparison failed; returning scalar instead, but in the future will perform elementwise comparison\n",
      "  print(lon_bnds != \"all\", lon_bnds)\n",
      "/home/prodhommec/analyseMF/scripts-final-MF/previ-sais/function_read.py:27: FutureWarning: elementwise comparison failed; returning scalar instead, but in the future will perform elementwise comparison\n",
      "  if lon_bnds != \"all\":\n"
     ]
    },
    {
     "name": "stdout",
     "output_type": "stream",
     "text": [
      "all\n",
      "True [-20  -1]\n",
      "3\n",
      "I am here\n",
      "1\n",
      "(6, 6, 20)\n",
      "all\n",
      "True [-20  -1]\n",
      "3\n",
      "I am here\n",
      "1\n",
      "(6, 6, 20)\n"
     ]
    },
    {
     "name": "stderr",
     "output_type": "stream",
     "text": [
      "/home/prodhommec/analyseMF/scripts-final-MF/previ-sais/function_read.py:26: FutureWarning: elementwise comparison failed; returning scalar instead, but in the future will perform elementwise comparison\n",
      "  print(lon_bnds != \"all\", lon_bnds)\n",
      "/home/prodhommec/analyseMF/scripts-final-MF/previ-sais/function_read.py:27: FutureWarning: elementwise comparison failed; returning scalar instead, but in the future will perform elementwise comparison\n",
      "  if lon_bnds != \"all\":\n",
      "/home/prodhommec/analyseMF/scripts-final-MF/previ-sais/function_read.py:26: FutureWarning: elementwise comparison failed; returning scalar instead, but in the future will perform elementwise comparison\n",
      "  print(lon_bnds != \"all\", lon_bnds)\n",
      "/home/prodhommec/analyseMF/scripts-final-MF/previ-sais/function_read.py:27: FutureWarning: elementwise comparison failed; returning scalar instead, but in the future will perform elementwise comparison\n",
      "  if lon_bnds != \"all\":\n"
     ]
    },
    {
     "name": "stdout",
     "output_type": "stream",
     "text": [
      "all\n",
      "True [-20  -1]\n",
      "3\n",
      "I am here\n",
      "1\n",
      "(6, 6, 20)\n",
      "all\n",
      "True [-20  -1]\n",
      "3\n",
      "I am here\n",
      "1\n",
      "(6, 6, 20)\n"
     ]
    },
    {
     "name": "stderr",
     "output_type": "stream",
     "text": [
      "/home/prodhommec/analyseMF/scripts-final-MF/previ-sais/function_read.py:26: FutureWarning: elementwise comparison failed; returning scalar instead, but in the future will perform elementwise comparison\n",
      "  print(lon_bnds != \"all\", lon_bnds)\n",
      "/home/prodhommec/analyseMF/scripts-final-MF/previ-sais/function_read.py:27: FutureWarning: elementwise comparison failed; returning scalar instead, but in the future will perform elementwise comparison\n",
      "  if lon_bnds != \"all\":\n",
      "/home/prodhommec/analyseMF/scripts-final-MF/previ-sais/function_read.py:26: FutureWarning: elementwise comparison failed; returning scalar instead, but in the future will perform elementwise comparison\n",
      "  print(lon_bnds != \"all\", lon_bnds)\n",
      "/home/prodhommec/analyseMF/scripts-final-MF/previ-sais/function_read.py:27: FutureWarning: elementwise comparison failed; returning scalar instead, but in the future will perform elementwise comparison\n",
      "  if lon_bnds != \"all\":\n"
     ]
    },
    {
     "name": "stdout",
     "output_type": "stream",
     "text": [
      "all\n",
      "True [-20  -1]\n",
      "3\n",
      "I am here\n",
      "1\n",
      "(6, 6, 20)\n",
      "all\n",
      "True [-20  -1]\n",
      "3\n",
      "I am here\n",
      "1\n",
      "(6, 6, 20)\n"
     ]
    },
    {
     "name": "stderr",
     "output_type": "stream",
     "text": [
      "/home/prodhommec/analyseMF/scripts-final-MF/previ-sais/function_read.py:26: FutureWarning: elementwise comparison failed; returning scalar instead, but in the future will perform elementwise comparison\n",
      "  print(lon_bnds != \"all\", lon_bnds)\n",
      "/home/prodhommec/analyseMF/scripts-final-MF/previ-sais/function_read.py:27: FutureWarning: elementwise comparison failed; returning scalar instead, but in the future will perform elementwise comparison\n",
      "  if lon_bnds != \"all\":\n",
      "/home/prodhommec/analyseMF/scripts-final-MF/previ-sais/function_read.py:26: FutureWarning: elementwise comparison failed; returning scalar instead, but in the future will perform elementwise comparison\n",
      "  print(lon_bnds != \"all\", lon_bnds)\n",
      "/home/prodhommec/analyseMF/scripts-final-MF/previ-sais/function_read.py:27: FutureWarning: elementwise comparison failed; returning scalar instead, but in the future will perform elementwise comparison\n",
      "  if lon_bnds != \"all\":\n"
     ]
    },
    {
     "name": "stdout",
     "output_type": "stream",
     "text": [
      "all\n",
      "True [-20  -1]\n",
      "3\n",
      "I am here\n",
      "1\n",
      "(6, 6, 20)\n",
      "all\n",
      "True [-20  -1]\n",
      "3\n",
      "I am here\n",
      "1\n",
      "(6, 6, 20)\n"
     ]
    },
    {
     "name": "stderr",
     "output_type": "stream",
     "text": [
      "/home/prodhommec/analyseMF/scripts-final-MF/previ-sais/function_read.py:26: FutureWarning: elementwise comparison failed; returning scalar instead, but in the future will perform elementwise comparison\n",
      "  print(lon_bnds != \"all\", lon_bnds)\n",
      "/home/prodhommec/analyseMF/scripts-final-MF/previ-sais/function_read.py:27: FutureWarning: elementwise comparison failed; returning scalar instead, but in the future will perform elementwise comparison\n",
      "  if lon_bnds != \"all\":\n",
      "/home/prodhommec/analyseMF/scripts-final-MF/previ-sais/function_read.py:26: FutureWarning: elementwise comparison failed; returning scalar instead, but in the future will perform elementwise comparison\n",
      "  print(lon_bnds != \"all\", lon_bnds)\n",
      "/home/prodhommec/analyseMF/scripts-final-MF/previ-sais/function_read.py:27: FutureWarning: elementwise comparison failed; returning scalar instead, but in the future will perform elementwise comparison\n",
      "  if lon_bnds != \"all\":\n"
     ]
    },
    {
     "name": "stdout",
     "output_type": "stream",
     "text": [
      "all\n",
      "True [-20  -1]\n",
      "3\n",
      "I am here\n",
      "1\n",
      "(6, 6, 20)\n",
      "all\n",
      "True [-20  -1]\n",
      "3\n",
      "I am here\n",
      "1\n",
      "(6, 6, 20)\n"
     ]
    },
    {
     "name": "stderr",
     "output_type": "stream",
     "text": [
      "/home/prodhommec/analyseMF/scripts-final-MF/previ-sais/function_read.py:26: FutureWarning: elementwise comparison failed; returning scalar instead, but in the future will perform elementwise comparison\n",
      "  print(lon_bnds != \"all\", lon_bnds)\n",
      "/home/prodhommec/analyseMF/scripts-final-MF/previ-sais/function_read.py:27: FutureWarning: elementwise comparison failed; returning scalar instead, but in the future will perform elementwise comparison\n",
      "  if lon_bnds != \"all\":\n",
      "/home/prodhommec/analyseMF/scripts-final-MF/previ-sais/function_read.py:26: FutureWarning: elementwise comparison failed; returning scalar instead, but in the future will perform elementwise comparison\n",
      "  print(lon_bnds != \"all\", lon_bnds)\n",
      "/home/prodhommec/analyseMF/scripts-final-MF/previ-sais/function_read.py:27: FutureWarning: elementwise comparison failed; returning scalar instead, but in the future will perform elementwise comparison\n",
      "  if lon_bnds != \"all\":\n"
     ]
    },
    {
     "name": "stdout",
     "output_type": "stream",
     "text": [
      "all\n",
      "True [-20  -1]\n",
      "3\n",
      "I am here\n",
      "1\n",
      "(6, 6, 20)\n",
      "all\n",
      "True [-20  -1]\n",
      "3\n",
      "I am here\n",
      "1\n",
      "(6, 6, 20)\n"
     ]
    },
    {
     "name": "stderr",
     "output_type": "stream",
     "text": [
      "/home/prodhommec/analyseMF/scripts-final-MF/previ-sais/function_read.py:26: FutureWarning: elementwise comparison failed; returning scalar instead, but in the future will perform elementwise comparison\n",
      "  print(lon_bnds != \"all\", lon_bnds)\n",
      "/home/prodhommec/analyseMF/scripts-final-MF/previ-sais/function_read.py:27: FutureWarning: elementwise comparison failed; returning scalar instead, but in the future will perform elementwise comparison\n",
      "  if lon_bnds != \"all\":\n",
      "/home/prodhommec/analyseMF/scripts-final-MF/previ-sais/function_read.py:26: FutureWarning: elementwise comparison failed; returning scalar instead, but in the future will perform elementwise comparison\n",
      "  print(lon_bnds != \"all\", lon_bnds)\n",
      "/home/prodhommec/analyseMF/scripts-final-MF/previ-sais/function_read.py:27: FutureWarning: elementwise comparison failed; returning scalar instead, but in the future will perform elementwise comparison\n",
      "  if lon_bnds != \"all\":\n"
     ]
    },
    {
     "name": "stdout",
     "output_type": "stream",
     "text": [
      "all\n",
      "True [-20  -1]\n",
      "3\n",
      "I am here\n",
      "1\n",
      "(6, 6, 20)\n",
      "all\n",
      "True [-20  -1]\n",
      "3\n",
      "I am here\n",
      "1\n",
      "(6, 6, 20)\n"
     ]
    },
    {
     "name": "stderr",
     "output_type": "stream",
     "text": [
      "/home/prodhommec/analyseMF/scripts-final-MF/previ-sais/function_read.py:26: FutureWarning: elementwise comparison failed; returning scalar instead, but in the future will perform elementwise comparison\n",
      "  print(lon_bnds != \"all\", lon_bnds)\n",
      "/home/prodhommec/analyseMF/scripts-final-MF/previ-sais/function_read.py:27: FutureWarning: elementwise comparison failed; returning scalar instead, but in the future will perform elementwise comparison\n",
      "  if lon_bnds != \"all\":\n",
      "/home/prodhommec/analyseMF/scripts-final-MF/previ-sais/function_read.py:26: FutureWarning: elementwise comparison failed; returning scalar instead, but in the future will perform elementwise comparison\n",
      "  print(lon_bnds != \"all\", lon_bnds)\n",
      "/home/prodhommec/analyseMF/scripts-final-MF/previ-sais/function_read.py:27: FutureWarning: elementwise comparison failed; returning scalar instead, but in the future will perform elementwise comparison\n",
      "  if lon_bnds != \"all\":\n"
     ]
    },
    {
     "name": "stdout",
     "output_type": "stream",
     "text": [
      "all\n",
      "True [-20  -1]\n",
      "3\n",
      "I am here\n",
      "1\n",
      "(6, 6, 20)\n",
      "all\n",
      "True [-20  -1]\n",
      "3\n",
      "I am here\n",
      "1\n",
      "(6, 6, 20)\n"
     ]
    },
    {
     "name": "stderr",
     "output_type": "stream",
     "text": [
      "/home/prodhommec/analyseMF/scripts-final-MF/previ-sais/function_read.py:26: FutureWarning: elementwise comparison failed; returning scalar instead, but in the future will perform elementwise comparison\n",
      "  print(lon_bnds != \"all\", lon_bnds)\n",
      "/home/prodhommec/analyseMF/scripts-final-MF/previ-sais/function_read.py:27: FutureWarning: elementwise comparison failed; returning scalar instead, but in the future will perform elementwise comparison\n",
      "  if lon_bnds != \"all\":\n",
      "/home/prodhommec/analyseMF/scripts-final-MF/previ-sais/function_read.py:26: FutureWarning: elementwise comparison failed; returning scalar instead, but in the future will perform elementwise comparison\n",
      "  print(lon_bnds != \"all\", lon_bnds)\n",
      "/home/prodhommec/analyseMF/scripts-final-MF/previ-sais/function_read.py:27: FutureWarning: elementwise comparison failed; returning scalar instead, but in the future will perform elementwise comparison\n",
      "  if lon_bnds != \"all\":\n"
     ]
    },
    {
     "name": "stdout",
     "output_type": "stream",
     "text": [
      "all\n",
      "True [-20  -1]\n",
      "3\n",
      "I am here\n",
      "1\n",
      "(6, 6, 20)\n",
      "all\n",
      "True [-20  -1]\n",
      "3\n",
      "I am here\n",
      "1\n",
      "(6, 6, 20)\n"
     ]
    },
    {
     "name": "stderr",
     "output_type": "stream",
     "text": [
      "/home/prodhommec/analyseMF/scripts-final-MF/previ-sais/function_read.py:26: FutureWarning: elementwise comparison failed; returning scalar instead, but in the future will perform elementwise comparison\n",
      "  print(lon_bnds != \"all\", lon_bnds)\n",
      "/home/prodhommec/analyseMF/scripts-final-MF/previ-sais/function_read.py:27: FutureWarning: elementwise comparison failed; returning scalar instead, but in the future will perform elementwise comparison\n",
      "  if lon_bnds != \"all\":\n",
      "/home/prodhommec/analyseMF/scripts-final-MF/previ-sais/function_read.py:26: FutureWarning: elementwise comparison failed; returning scalar instead, but in the future will perform elementwise comparison\n",
      "  print(lon_bnds != \"all\", lon_bnds)\n",
      "/home/prodhommec/analyseMF/scripts-final-MF/previ-sais/function_read.py:27: FutureWarning: elementwise comparison failed; returning scalar instead, but in the future will perform elementwise comparison\n",
      "  if lon_bnds != \"all\":\n"
     ]
    },
    {
     "name": "stdout",
     "output_type": "stream",
     "text": [
      "all\n",
      "True [-20  -1]\n",
      "3\n",
      "I am here\n",
      "1\n",
      "(6, 6, 20)\n",
      "all\n",
      "True [-20  -1]\n",
      "3\n",
      "I am here\n",
      "1\n",
      "(6, 6, 20)\n"
     ]
    },
    {
     "name": "stderr",
     "output_type": "stream",
     "text": [
      "/home/prodhommec/analyseMF/scripts-final-MF/previ-sais/function_read.py:26: FutureWarning: elementwise comparison failed; returning scalar instead, but in the future will perform elementwise comparison\n",
      "  print(lon_bnds != \"all\", lon_bnds)\n",
      "/home/prodhommec/analyseMF/scripts-final-MF/previ-sais/function_read.py:27: FutureWarning: elementwise comparison failed; returning scalar instead, but in the future will perform elementwise comparison\n",
      "  if lon_bnds != \"all\":\n",
      "/home/prodhommec/analyseMF/scripts-final-MF/previ-sais/function_read.py:26: FutureWarning: elementwise comparison failed; returning scalar instead, but in the future will perform elementwise comparison\n",
      "  print(lon_bnds != \"all\", lon_bnds)\n",
      "/home/prodhommec/analyseMF/scripts-final-MF/previ-sais/function_read.py:27: FutureWarning: elementwise comparison failed; returning scalar instead, but in the future will perform elementwise comparison\n",
      "  if lon_bnds != \"all\":\n"
     ]
    },
    {
     "name": "stdout",
     "output_type": "stream",
     "text": [
      "all\n",
      "True [-20  -1]\n",
      "3\n",
      "I am here\n",
      "1\n",
      "(6, 6, 20)\n",
      "all\n",
      "True [-20  -1]\n",
      "3\n",
      "I am here\n",
      "1\n",
      "(6, 6, 20)\n"
     ]
    },
    {
     "name": "stderr",
     "output_type": "stream",
     "text": [
      "/home/prodhommec/analyseMF/scripts-final-MF/previ-sais/function_read.py:26: FutureWarning: elementwise comparison failed; returning scalar instead, but in the future will perform elementwise comparison\n",
      "  print(lon_bnds != \"all\", lon_bnds)\n",
      "/home/prodhommec/analyseMF/scripts-final-MF/previ-sais/function_read.py:27: FutureWarning: elementwise comparison failed; returning scalar instead, but in the future will perform elementwise comparison\n",
      "  if lon_bnds != \"all\":\n",
      "/home/prodhommec/analyseMF/scripts-final-MF/previ-sais/function_read.py:26: FutureWarning: elementwise comparison failed; returning scalar instead, but in the future will perform elementwise comparison\n",
      "  print(lon_bnds != \"all\", lon_bnds)\n",
      "/home/prodhommec/analyseMF/scripts-final-MF/previ-sais/function_read.py:27: FutureWarning: elementwise comparison failed; returning scalar instead, but in the future will perform elementwise comparison\n",
      "  if lon_bnds != \"all\":\n"
     ]
    },
    {
     "name": "stdout",
     "output_type": "stream",
     "text": [
      "all\n",
      "True [-20  -1]\n",
      "3\n",
      "I am here\n",
      "1\n",
      "(6, 6, 20)\n",
      "all\n",
      "True [-20  -1]\n",
      "3\n",
      "I am here\n",
      "1\n",
      "(6, 6, 20)\n"
     ]
    },
    {
     "name": "stderr",
     "output_type": "stream",
     "text": [
      "/home/prodhommec/analyseMF/scripts-final-MF/previ-sais/function_read.py:26: FutureWarning: elementwise comparison failed; returning scalar instead, but in the future will perform elementwise comparison\n",
      "  print(lon_bnds != \"all\", lon_bnds)\n",
      "/home/prodhommec/analyseMF/scripts-final-MF/previ-sais/function_read.py:27: FutureWarning: elementwise comparison failed; returning scalar instead, but in the future will perform elementwise comparison\n",
      "  if lon_bnds != \"all\":\n",
      "/home/prodhommec/analyseMF/scripts-final-MF/previ-sais/function_read.py:26: FutureWarning: elementwise comparison failed; returning scalar instead, but in the future will perform elementwise comparison\n",
      "  print(lon_bnds != \"all\", lon_bnds)\n",
      "/home/prodhommec/analyseMF/scripts-final-MF/previ-sais/function_read.py:27: FutureWarning: elementwise comparison failed; returning scalar instead, but in the future will perform elementwise comparison\n",
      "  if lon_bnds != \"all\":\n"
     ]
    },
    {
     "name": "stdout",
     "output_type": "stream",
     "text": [
      "all\n",
      "True [-20  -1]\n",
      "3\n",
      "I am here\n",
      "1\n",
      "(6, 6, 20)\n",
      "all\n",
      "True [-20  -1]\n",
      "3\n",
      "I am here\n",
      "1\n",
      "(6, 6, 20)\n"
     ]
    },
    {
     "name": "stderr",
     "output_type": "stream",
     "text": [
      "/home/prodhommec/analyseMF/scripts-final-MF/previ-sais/function_read.py:26: FutureWarning: elementwise comparison failed; returning scalar instead, but in the future will perform elementwise comparison\n",
      "  print(lon_bnds != \"all\", lon_bnds)\n",
      "/home/prodhommec/analyseMF/scripts-final-MF/previ-sais/function_read.py:27: FutureWarning: elementwise comparison failed; returning scalar instead, but in the future will perform elementwise comparison\n",
      "  if lon_bnds != \"all\":\n",
      "/home/prodhommec/analyseMF/scripts-final-MF/previ-sais/function_read.py:26: FutureWarning: elementwise comparison failed; returning scalar instead, but in the future will perform elementwise comparison\n",
      "  print(lon_bnds != \"all\", lon_bnds)\n",
      "/home/prodhommec/analyseMF/scripts-final-MF/previ-sais/function_read.py:27: FutureWarning: elementwise comparison failed; returning scalar instead, but in the future will perform elementwise comparison\n",
      "  if lon_bnds != \"all\":\n"
     ]
    },
    {
     "name": "stdout",
     "output_type": "stream",
     "text": [
      "all\n",
      "True [-20  -1]\n",
      "3\n",
      "I am here\n",
      "1\n",
      "(6, 6, 20)\n",
      "all\n",
      "True [-20  -1]\n",
      "3\n",
      "I am here\n",
      "1\n",
      "(6, 6, 20)\n"
     ]
    },
    {
     "name": "stderr",
     "output_type": "stream",
     "text": [
      "/home/prodhommec/analyseMF/scripts-final-MF/previ-sais/function_read.py:26: FutureWarning: elementwise comparison failed; returning scalar instead, but in the future will perform elementwise comparison\n",
      "  print(lon_bnds != \"all\", lon_bnds)\n",
      "/home/prodhommec/analyseMF/scripts-final-MF/previ-sais/function_read.py:27: FutureWarning: elementwise comparison failed; returning scalar instead, but in the future will perform elementwise comparison\n",
      "  if lon_bnds != \"all\":\n",
      "/home/prodhommec/analyseMF/scripts-final-MF/previ-sais/function_read.py:26: FutureWarning: elementwise comparison failed; returning scalar instead, but in the future will perform elementwise comparison\n",
      "  print(lon_bnds != \"all\", lon_bnds)\n",
      "/home/prodhommec/analyseMF/scripts-final-MF/previ-sais/function_read.py:27: FutureWarning: elementwise comparison failed; returning scalar instead, but in the future will perform elementwise comparison\n",
      "  if lon_bnds != \"all\":\n"
     ]
    },
    {
     "name": "stdout",
     "output_type": "stream",
     "text": [
      "all\n",
      "True [-20  -1]\n",
      "3\n",
      "I am here\n",
      "1\n",
      "(6, 6, 20)\n",
      "all\n",
      "True [-20  -1]\n",
      "3\n",
      "I am here\n",
      "1\n",
      "(6, 6, 20)\n"
     ]
    },
    {
     "name": "stderr",
     "output_type": "stream",
     "text": [
      "/home/prodhommec/analyseMF/scripts-final-MF/previ-sais/function_read.py:26: FutureWarning: elementwise comparison failed; returning scalar instead, but in the future will perform elementwise comparison\n",
      "  print(lon_bnds != \"all\", lon_bnds)\n",
      "/home/prodhommec/analyseMF/scripts-final-MF/previ-sais/function_read.py:27: FutureWarning: elementwise comparison failed; returning scalar instead, but in the future will perform elementwise comparison\n",
      "  if lon_bnds != \"all\":\n",
      "/home/prodhommec/analyseMF/scripts-final-MF/previ-sais/function_read.py:26: FutureWarning: elementwise comparison failed; returning scalar instead, but in the future will perform elementwise comparison\n",
      "  print(lon_bnds != \"all\", lon_bnds)\n",
      "/home/prodhommec/analyseMF/scripts-final-MF/previ-sais/function_read.py:27: FutureWarning: elementwise comparison failed; returning scalar instead, but in the future will perform elementwise comparison\n",
      "  if lon_bnds != \"all\":\n"
     ]
    },
    {
     "name": "stdout",
     "output_type": "stream",
     "text": [
      "all\n",
      "True [-20  -1]\n",
      "3\n",
      "I am here\n",
      "1\n",
      "(6, 6, 20)\n",
      "all\n",
      "True [-20  -1]\n",
      "3\n",
      "I am here\n",
      "1\n",
      "(6, 6, 20)\n"
     ]
    },
    {
     "name": "stderr",
     "output_type": "stream",
     "text": [
      "/home/prodhommec/analyseMF/scripts-final-MF/previ-sais/function_read.py:26: FutureWarning: elementwise comparison failed; returning scalar instead, but in the future will perform elementwise comparison\n",
      "  print(lon_bnds != \"all\", lon_bnds)\n",
      "/home/prodhommec/analyseMF/scripts-final-MF/previ-sais/function_read.py:27: FutureWarning: elementwise comparison failed; returning scalar instead, but in the future will perform elementwise comparison\n",
      "  if lon_bnds != \"all\":\n",
      "/home/prodhommec/analyseMF/scripts-final-MF/previ-sais/function_read.py:26: FutureWarning: elementwise comparison failed; returning scalar instead, but in the future will perform elementwise comparison\n",
      "  print(lon_bnds != \"all\", lon_bnds)\n",
      "/home/prodhommec/analyseMF/scripts-final-MF/previ-sais/function_read.py:27: FutureWarning: elementwise comparison failed; returning scalar instead, but in the future will perform elementwise comparison\n",
      "  if lon_bnds != \"all\":\n"
     ]
    },
    {
     "name": "stdout",
     "output_type": "stream",
     "text": [
      "all\n",
      "True [-20  -1]\n",
      "3\n",
      "I am here\n",
      "1\n",
      "(6, 6, 20)\n",
      "all\n",
      "True [-20  -1]\n",
      "3\n",
      "I am here\n",
      "1\n",
      "(6, 6, 20)\n"
     ]
    },
    {
     "name": "stderr",
     "output_type": "stream",
     "text": [
      "/home/prodhommec/analyseMF/scripts-final-MF/previ-sais/function_read.py:26: FutureWarning: elementwise comparison failed; returning scalar instead, but in the future will perform elementwise comparison\n",
      "  print(lon_bnds != \"all\", lon_bnds)\n",
      "/home/prodhommec/analyseMF/scripts-final-MF/previ-sais/function_read.py:27: FutureWarning: elementwise comparison failed; returning scalar instead, but in the future will perform elementwise comparison\n",
      "  if lon_bnds != \"all\":\n",
      "/home/prodhommec/analyseMF/scripts-final-MF/previ-sais/function_read.py:26: FutureWarning: elementwise comparison failed; returning scalar instead, but in the future will perform elementwise comparison\n",
      "  print(lon_bnds != \"all\", lon_bnds)\n",
      "/home/prodhommec/analyseMF/scripts-final-MF/previ-sais/function_read.py:27: FutureWarning: elementwise comparison failed; returning scalar instead, but in the future will perform elementwise comparison\n",
      "  if lon_bnds != \"all\":\n"
     ]
    },
    {
     "name": "stdout",
     "output_type": "stream",
     "text": [
      "all\n",
      "True [-20  -1]\n",
      "3\n",
      "I am here\n",
      "1\n",
      "(6, 6, 20)\n",
      "all\n",
      "True [-20  -1]\n",
      "3\n",
      "I am here\n",
      "1\n",
      "(6, 6, 20)\n"
     ]
    },
    {
     "name": "stderr",
     "output_type": "stream",
     "text": [
      "/home/prodhommec/analyseMF/scripts-final-MF/previ-sais/function_read.py:26: FutureWarning: elementwise comparison failed; returning scalar instead, but in the future will perform elementwise comparison\n",
      "  print(lon_bnds != \"all\", lon_bnds)\n",
      "/home/prodhommec/analyseMF/scripts-final-MF/previ-sais/function_read.py:27: FutureWarning: elementwise comparison failed; returning scalar instead, but in the future will perform elementwise comparison\n",
      "  if lon_bnds != \"all\":\n",
      "/home/prodhommec/analyseMF/scripts-final-MF/previ-sais/function_read.py:26: FutureWarning: elementwise comparison failed; returning scalar instead, but in the future will perform elementwise comparison\n",
      "  print(lon_bnds != \"all\", lon_bnds)\n",
      "/home/prodhommec/analyseMF/scripts-final-MF/previ-sais/function_read.py:27: FutureWarning: elementwise comparison failed; returning scalar instead, but in the future will perform elementwise comparison\n",
      "  if lon_bnds != \"all\":\n"
     ]
    },
    {
     "name": "stdout",
     "output_type": "stream",
     "text": [
      "all\n",
      "True [-20  -1]\n",
      "3\n",
      "I am here\n",
      "1\n",
      "(6, 6, 20)\n",
      "all\n",
      "True [-20  -1]\n",
      "3\n",
      "I am here\n",
      "1\n",
      "(6, 6, 20)\n"
     ]
    },
    {
     "name": "stderr",
     "output_type": "stream",
     "text": [
      "/home/prodhommec/analyseMF/scripts-final-MF/previ-sais/function_read.py:26: FutureWarning: elementwise comparison failed; returning scalar instead, but in the future will perform elementwise comparison\n",
      "  print(lon_bnds != \"all\", lon_bnds)\n",
      "/home/prodhommec/analyseMF/scripts-final-MF/previ-sais/function_read.py:27: FutureWarning: elementwise comparison failed; returning scalar instead, but in the future will perform elementwise comparison\n",
      "  if lon_bnds != \"all\":\n",
      "/home/prodhommec/analyseMF/scripts-final-MF/previ-sais/function_read.py:26: FutureWarning: elementwise comparison failed; returning scalar instead, but in the future will perform elementwise comparison\n",
      "  print(lon_bnds != \"all\", lon_bnds)\n",
      "/home/prodhommec/analyseMF/scripts-final-MF/previ-sais/function_read.py:27: FutureWarning: elementwise comparison failed; returning scalar instead, but in the future will perform elementwise comparison\n",
      "  if lon_bnds != \"all\":\n"
     ]
    },
    {
     "name": "stdout",
     "output_type": "stream",
     "text": [
      "all\n",
      "True [-20  -1]\n",
      "3\n",
      "I am here\n",
      "1\n",
      "(6, 6, 20)\n",
      "all\n",
      "True [-20  -1]\n",
      "3\n",
      "I am here\n",
      "1\n",
      "(6, 6, 20)\n"
     ]
    },
    {
     "name": "stderr",
     "output_type": "stream",
     "text": [
      "/home/prodhommec/analyseMF/scripts-final-MF/previ-sais/function_read.py:26: FutureWarning: elementwise comparison failed; returning scalar instead, but in the future will perform elementwise comparison\n",
      "  print(lon_bnds != \"all\", lon_bnds)\n",
      "/home/prodhommec/analyseMF/scripts-final-MF/previ-sais/function_read.py:27: FutureWarning: elementwise comparison failed; returning scalar instead, but in the future will perform elementwise comparison\n",
      "  if lon_bnds != \"all\":\n",
      "/home/prodhommec/analyseMF/scripts-final-MF/previ-sais/function_read.py:26: FutureWarning: elementwise comparison failed; returning scalar instead, but in the future will perform elementwise comparison\n",
      "  print(lon_bnds != \"all\", lon_bnds)\n",
      "/home/prodhommec/analyseMF/scripts-final-MF/previ-sais/function_read.py:27: FutureWarning: elementwise comparison failed; returning scalar instead, but in the future will perform elementwise comparison\n",
      "  if lon_bnds != \"all\":\n"
     ]
    },
    {
     "name": "stdout",
     "output_type": "stream",
     "text": [
      "all\n",
      "True [-20  -1]\n",
      "3\n",
      "I am here\n",
      "1\n",
      "(6, 6, 20)\n",
      "all\n",
      "True [-20  -1]\n",
      "3\n",
      "I am here\n",
      "1\n",
      "(6, 6, 20)\n"
     ]
    },
    {
     "name": "stderr",
     "output_type": "stream",
     "text": [
      "/home/prodhommec/analyseMF/scripts-final-MF/previ-sais/function_read.py:26: FutureWarning: elementwise comparison failed; returning scalar instead, but in the future will perform elementwise comparison\n",
      "  print(lon_bnds != \"all\", lon_bnds)\n",
      "/home/prodhommec/analyseMF/scripts-final-MF/previ-sais/function_read.py:27: FutureWarning: elementwise comparison failed; returning scalar instead, but in the future will perform elementwise comparison\n",
      "  if lon_bnds != \"all\":\n",
      "/home/prodhommec/analyseMF/scripts-final-MF/previ-sais/function_read.py:26: FutureWarning: elementwise comparison failed; returning scalar instead, but in the future will perform elementwise comparison\n",
      "  print(lon_bnds != \"all\", lon_bnds)\n",
      "/home/prodhommec/analyseMF/scripts-final-MF/previ-sais/function_read.py:27: FutureWarning: elementwise comparison failed; returning scalar instead, but in the future will perform elementwise comparison\n",
      "  if lon_bnds != \"all\":\n"
     ]
    },
    {
     "name": "stdout",
     "output_type": "stream",
     "text": [
      "all\n",
      "True [-20  -1]\n",
      "3\n",
      "I am here\n",
      "1\n",
      "(6, 6, 20)\n",
      "all\n",
      "True [-20  -1]\n",
      "3\n",
      "I am here\n",
      "1\n",
      "(6, 6, 20)\n"
     ]
    },
    {
     "name": "stderr",
     "output_type": "stream",
     "text": [
      "/home/prodhommec/analyseMF/scripts-final-MF/previ-sais/function_read.py:26: FutureWarning: elementwise comparison failed; returning scalar instead, but in the future will perform elementwise comparison\n",
      "  print(lon_bnds != \"all\", lon_bnds)\n",
      "/home/prodhommec/analyseMF/scripts-final-MF/previ-sais/function_read.py:27: FutureWarning: elementwise comparison failed; returning scalar instead, but in the future will perform elementwise comparison\n",
      "  if lon_bnds != \"all\":\n",
      "/home/prodhommec/analyseMF/scripts-final-MF/previ-sais/function_read.py:26: FutureWarning: elementwise comparison failed; returning scalar instead, but in the future will perform elementwise comparison\n",
      "  print(lon_bnds != \"all\", lon_bnds)\n",
      "/home/prodhommec/analyseMF/scripts-final-MF/previ-sais/function_read.py:27: FutureWarning: elementwise comparison failed; returning scalar instead, but in the future will perform elementwise comparison\n",
      "  if lon_bnds != \"all\":\n"
     ]
    },
    {
     "name": "stdout",
     "output_type": "stream",
     "text": [
      "all\n",
      "True [-20  -1]\n",
      "3\n",
      "I am here\n",
      "1\n",
      "(6, 6, 20)\n",
      "all\n",
      "True [-20  -1]\n",
      "3\n",
      "I am here\n",
      "1\n",
      "(6, 6, 20)\n"
     ]
    },
    {
     "name": "stderr",
     "output_type": "stream",
     "text": [
      "/home/prodhommec/analyseMF/scripts-final-MF/previ-sais/function_read.py:26: FutureWarning: elementwise comparison failed; returning scalar instead, but in the future will perform elementwise comparison\n",
      "  print(lon_bnds != \"all\", lon_bnds)\n",
      "/home/prodhommec/analyseMF/scripts-final-MF/previ-sais/function_read.py:27: FutureWarning: elementwise comparison failed; returning scalar instead, but in the future will perform elementwise comparison\n",
      "  if lon_bnds != \"all\":\n",
      "/home/prodhommec/analyseMF/scripts-final-MF/previ-sais/function_read.py:26: FutureWarning: elementwise comparison failed; returning scalar instead, but in the future will perform elementwise comparison\n",
      "  print(lon_bnds != \"all\", lon_bnds)\n",
      "/home/prodhommec/analyseMF/scripts-final-MF/previ-sais/function_read.py:27: FutureWarning: elementwise comparison failed; returning scalar instead, but in the future will perform elementwise comparison\n",
      "  if lon_bnds != \"all\":\n"
     ]
    },
    {
     "name": "stdout",
     "output_type": "stream",
     "text": [
      "all\n",
      "True [-20  -1]\n",
      "3\n",
      "I am here\n",
      "1\n",
      "(6, 6, 20)\n",
      "all\n",
      "True [-20  -1]\n",
      "3\n",
      "I am here\n",
      "1\n",
      "(6, 6, 20)\n"
     ]
    },
    {
     "name": "stderr",
     "output_type": "stream",
     "text": [
      "/home/prodhommec/analyseMF/scripts-final-MF/previ-sais/function_read.py:26: FutureWarning: elementwise comparison failed; returning scalar instead, but in the future will perform elementwise comparison\n",
      "  print(lon_bnds != \"all\", lon_bnds)\n",
      "/home/prodhommec/analyseMF/scripts-final-MF/previ-sais/function_read.py:27: FutureWarning: elementwise comparison failed; returning scalar instead, but in the future will perform elementwise comparison\n",
      "  if lon_bnds != \"all\":\n",
      "/home/prodhommec/analyseMF/scripts-final-MF/previ-sais/function_read.py:26: FutureWarning: elementwise comparison failed; returning scalar instead, but in the future will perform elementwise comparison\n",
      "  print(lon_bnds != \"all\", lon_bnds)\n",
      "/home/prodhommec/analyseMF/scripts-final-MF/previ-sais/function_read.py:27: FutureWarning: elementwise comparison failed; returning scalar instead, but in the future will perform elementwise comparison\n",
      "  if lon_bnds != \"all\":\n"
     ]
    },
    {
     "name": "stdout",
     "output_type": "stream",
     "text": [
      "all\n",
      "True [-20  -1]\n",
      "3\n",
      "I am here\n",
      "1\n",
      "(6, 6, 20)\n",
      "all\n",
      "True [-20  -1]\n",
      "3\n",
      "I am here\n",
      "1\n",
      "(6, 6, 20)\n"
     ]
    },
    {
     "name": "stderr",
     "output_type": "stream",
     "text": [
      "/home/prodhommec/analyseMF/scripts-final-MF/previ-sais/function_read.py:26: FutureWarning: elementwise comparison failed; returning scalar instead, but in the future will perform elementwise comparison\n",
      "  print(lon_bnds != \"all\", lon_bnds)\n",
      "/home/prodhommec/analyseMF/scripts-final-MF/previ-sais/function_read.py:27: FutureWarning: elementwise comparison failed; returning scalar instead, but in the future will perform elementwise comparison\n",
      "  if lon_bnds != \"all\":\n",
      "/home/prodhommec/analyseMF/scripts-final-MF/previ-sais/function_read.py:26: FutureWarning: elementwise comparison failed; returning scalar instead, but in the future will perform elementwise comparison\n",
      "  print(lon_bnds != \"all\", lon_bnds)\n",
      "/home/prodhommec/analyseMF/scripts-final-MF/previ-sais/function_read.py:27: FutureWarning: elementwise comparison failed; returning scalar instead, but in the future will perform elementwise comparison\n",
      "  if lon_bnds != \"all\":\n"
     ]
    },
    {
     "name": "stdout",
     "output_type": "stream",
     "text": [
      "all\n",
      "True [-20  -1]\n",
      "3\n",
      "I am here\n",
      "1\n",
      "(6, 6, 20)\n",
      "all\n",
      "True [-20  -1]\n",
      "3\n",
      "I am here\n",
      "1\n",
      "(6, 6, 20)\n"
     ]
    },
    {
     "name": "stderr",
     "output_type": "stream",
     "text": [
      "/home/prodhommec/analyseMF/scripts-final-MF/previ-sais/function_read.py:26: FutureWarning: elementwise comparison failed; returning scalar instead, but in the future will perform elementwise comparison\n",
      "  print(lon_bnds != \"all\", lon_bnds)\n",
      "/home/prodhommec/analyseMF/scripts-final-MF/previ-sais/function_read.py:27: FutureWarning: elementwise comparison failed; returning scalar instead, but in the future will perform elementwise comparison\n",
      "  if lon_bnds != \"all\":\n",
      "/home/prodhommec/analyseMF/scripts-final-MF/previ-sais/function_read.py:26: FutureWarning: elementwise comparison failed; returning scalar instead, but in the future will perform elementwise comparison\n",
      "  print(lon_bnds != \"all\", lon_bnds)\n",
      "/home/prodhommec/analyseMF/scripts-final-MF/previ-sais/function_read.py:27: FutureWarning: elementwise comparison failed; returning scalar instead, but in the future will perform elementwise comparison\n",
      "  if lon_bnds != \"all\":\n"
     ]
    },
    {
     "name": "stdout",
     "output_type": "stream",
     "text": [
      "all\n",
      "True [-20  -1]\n",
      "3\n",
      "I am here\n",
      "1\n",
      "(6, 6, 20)\n",
      "all\n",
      "True [-20  -1]\n",
      "3\n",
      "I am here\n",
      "1\n",
      "(6, 6, 20)\n"
     ]
    },
    {
     "name": "stderr",
     "output_type": "stream",
     "text": [
      "/home/prodhommec/analyseMF/scripts-final-MF/previ-sais/function_read.py:26: FutureWarning: elementwise comparison failed; returning scalar instead, but in the future will perform elementwise comparison\n",
      "  print(lon_bnds != \"all\", lon_bnds)\n",
      "/home/prodhommec/analyseMF/scripts-final-MF/previ-sais/function_read.py:27: FutureWarning: elementwise comparison failed; returning scalar instead, but in the future will perform elementwise comparison\n",
      "  if lon_bnds != \"all\":\n",
      "/home/prodhommec/analyseMF/scripts-final-MF/previ-sais/function_read.py:26: FutureWarning: elementwise comparison failed; returning scalar instead, but in the future will perform elementwise comparison\n",
      "  print(lon_bnds != \"all\", lon_bnds)\n",
      "/home/prodhommec/analyseMF/scripts-final-MF/previ-sais/function_read.py:27: FutureWarning: elementwise comparison failed; returning scalar instead, but in the future will perform elementwise comparison\n",
      "  if lon_bnds != \"all\":\n"
     ]
    },
    {
     "name": "stdout",
     "output_type": "stream",
     "text": [
      "all\n",
      "True [-20  -1]\n",
      "3\n",
      "I am here\n",
      "1\n",
      "(6, 6, 20)\n",
      "all\n",
      "True [-20  -1]\n",
      "3\n",
      "I am here\n",
      "1\n",
      "(6, 6, 20)\n"
     ]
    },
    {
     "name": "stderr",
     "output_type": "stream",
     "text": [
      "/home/prodhommec/analyseMF/scripts-final-MF/previ-sais/function_read.py:26: FutureWarning: elementwise comparison failed; returning scalar instead, but in the future will perform elementwise comparison\n",
      "  print(lon_bnds != \"all\", lon_bnds)\n",
      "/home/prodhommec/analyseMF/scripts-final-MF/previ-sais/function_read.py:27: FutureWarning: elementwise comparison failed; returning scalar instead, but in the future will perform elementwise comparison\n",
      "  if lon_bnds != \"all\":\n",
      "/home/prodhommec/analyseMF/scripts-final-MF/previ-sais/function_read.py:26: FutureWarning: elementwise comparison failed; returning scalar instead, but in the future will perform elementwise comparison\n",
      "  print(lon_bnds != \"all\", lon_bnds)\n",
      "/home/prodhommec/analyseMF/scripts-final-MF/previ-sais/function_read.py:27: FutureWarning: elementwise comparison failed; returning scalar instead, but in the future will perform elementwise comparison\n",
      "  if lon_bnds != \"all\":\n"
     ]
    },
    {
     "name": "stdout",
     "output_type": "stream",
     "text": [
      "all\n",
      "True [-20  -1]\n",
      "3\n",
      "I am here\n",
      "1\n",
      "(6, 6, 20)\n",
      "all\n",
      "True [-20  -1]\n",
      "3\n",
      "I am here\n",
      "1\n",
      "(6, 6, 20)\n"
     ]
    },
    {
     "name": "stderr",
     "output_type": "stream",
     "text": [
      "/home/prodhommec/analyseMF/scripts-final-MF/previ-sais/function_read.py:26: FutureWarning: elementwise comparison failed; returning scalar instead, but in the future will perform elementwise comparison\n",
      "  print(lon_bnds != \"all\", lon_bnds)\n",
      "/home/prodhommec/analyseMF/scripts-final-MF/previ-sais/function_read.py:27: FutureWarning: elementwise comparison failed; returning scalar instead, but in the future will perform elementwise comparison\n",
      "  if lon_bnds != \"all\":\n",
      "/home/prodhommec/analyseMF/scripts-final-MF/previ-sais/function_read.py:26: FutureWarning: elementwise comparison failed; returning scalar instead, but in the future will perform elementwise comparison\n",
      "  print(lon_bnds != \"all\", lon_bnds)\n",
      "/home/prodhommec/analyseMF/scripts-final-MF/previ-sais/function_read.py:27: FutureWarning: elementwise comparison failed; returning scalar instead, but in the future will perform elementwise comparison\n",
      "  if lon_bnds != \"all\":\n"
     ]
    },
    {
     "name": "stdout",
     "output_type": "stream",
     "text": [
      "all\n",
      "True [-20  -1]\n",
      "3\n",
      "I am here\n",
      "1\n",
      "(6, 6, 20)\n",
      "all\n",
      "True [-20  -1]\n",
      "3\n",
      "I am here\n",
      "1\n",
      "(6, 6, 20)\n"
     ]
    },
    {
     "name": "stderr",
     "output_type": "stream",
     "text": [
      "/home/prodhommec/analyseMF/scripts-final-MF/previ-sais/function_read.py:26: FutureWarning: elementwise comparison failed; returning scalar instead, but in the future will perform elementwise comparison\n",
      "  print(lon_bnds != \"all\", lon_bnds)\n",
      "/home/prodhommec/analyseMF/scripts-final-MF/previ-sais/function_read.py:27: FutureWarning: elementwise comparison failed; returning scalar instead, but in the future will perform elementwise comparison\n",
      "  if lon_bnds != \"all\":\n",
      "/home/prodhommec/analyseMF/scripts-final-MF/previ-sais/function_read.py:26: FutureWarning: elementwise comparison failed; returning scalar instead, but in the future will perform elementwise comparison\n",
      "  print(lon_bnds != \"all\", lon_bnds)\n",
      "/home/prodhommec/analyseMF/scripts-final-MF/previ-sais/function_read.py:27: FutureWarning: elementwise comparison failed; returning scalar instead, but in the future will perform elementwise comparison\n",
      "  if lon_bnds != \"all\":\n"
     ]
    },
    {
     "name": "stdout",
     "output_type": "stream",
     "text": [
      "all\n",
      "True [-20  -1]\n",
      "3\n",
      "I am here\n",
      "1\n",
      "(6, 6, 20)\n",
      "all\n",
      "True [-20  -1]\n",
      "3\n",
      "I am here\n",
      "1\n",
      "(6, 6, 20)\n"
     ]
    },
    {
     "name": "stderr",
     "output_type": "stream",
     "text": [
      "/home/prodhommec/analyseMF/scripts-final-MF/previ-sais/function_read.py:26: FutureWarning: elementwise comparison failed; returning scalar instead, but in the future will perform elementwise comparison\n",
      "  print(lon_bnds != \"all\", lon_bnds)\n",
      "/home/prodhommec/analyseMF/scripts-final-MF/previ-sais/function_read.py:27: FutureWarning: elementwise comparison failed; returning scalar instead, but in the future will perform elementwise comparison\n",
      "  if lon_bnds != \"all\":\n",
      "/home/prodhommec/analyseMF/scripts-final-MF/previ-sais/function_read.py:26: FutureWarning: elementwise comparison failed; returning scalar instead, but in the future will perform elementwise comparison\n",
      "  print(lon_bnds != \"all\", lon_bnds)\n",
      "/home/prodhommec/analyseMF/scripts-final-MF/previ-sais/function_read.py:27: FutureWarning: elementwise comparison failed; returning scalar instead, but in the future will perform elementwise comparison\n",
      "  if lon_bnds != \"all\":\n"
     ]
    },
    {
     "name": "stdout",
     "output_type": "stream",
     "text": [
      "all\n",
      "True [-20  -1]\n",
      "3\n",
      "I am here\n",
      "1\n",
      "(6, 6, 20)\n",
      "all\n",
      "True [-20  -1]\n",
      "3\n",
      "I am here\n",
      "1\n",
      "(6, 6, 20)\n"
     ]
    },
    {
     "name": "stderr",
     "output_type": "stream",
     "text": [
      "/home/prodhommec/analyseMF/scripts-final-MF/previ-sais/function_read.py:26: FutureWarning: elementwise comparison failed; returning scalar instead, but in the future will perform elementwise comparison\n",
      "  print(lon_bnds != \"all\", lon_bnds)\n",
      "/home/prodhommec/analyseMF/scripts-final-MF/previ-sais/function_read.py:27: FutureWarning: elementwise comparison failed; returning scalar instead, but in the future will perform elementwise comparison\n",
      "  if lon_bnds != \"all\":\n",
      "/home/prodhommec/analyseMF/scripts-final-MF/previ-sais/function_read.py:26: FutureWarning: elementwise comparison failed; returning scalar instead, but in the future will perform elementwise comparison\n",
      "  print(lon_bnds != \"all\", lon_bnds)\n",
      "/home/prodhommec/analyseMF/scripts-final-MF/previ-sais/function_read.py:27: FutureWarning: elementwise comparison failed; returning scalar instead, but in the future will perform elementwise comparison\n",
      "  if lon_bnds != \"all\":\n"
     ]
    },
    {
     "name": "stdout",
     "output_type": "stream",
     "text": [
      "all\n",
      "True [-20  -1]\n",
      "3\n",
      "I am here\n",
      "1\n",
      "(6, 6, 20)\n",
      "all\n",
      "True [-20  -1]\n",
      "3\n",
      "I am here\n",
      "1\n",
      "(6, 6, 20)\n"
     ]
    },
    {
     "name": "stderr",
     "output_type": "stream",
     "text": [
      "/home/prodhommec/analyseMF/scripts-final-MF/previ-sais/function_read.py:26: FutureWarning: elementwise comparison failed; returning scalar instead, but in the future will perform elementwise comparison\n",
      "  print(lon_bnds != \"all\", lon_bnds)\n",
      "/home/prodhommec/analyseMF/scripts-final-MF/previ-sais/function_read.py:27: FutureWarning: elementwise comparison failed; returning scalar instead, but in the future will perform elementwise comparison\n",
      "  if lon_bnds != \"all\":\n",
      "/home/prodhommec/analyseMF/scripts-final-MF/previ-sais/function_read.py:26: FutureWarning: elementwise comparison failed; returning scalar instead, but in the future will perform elementwise comparison\n",
      "  print(lon_bnds != \"all\", lon_bnds)\n",
      "/home/prodhommec/analyseMF/scripts-final-MF/previ-sais/function_read.py:27: FutureWarning: elementwise comparison failed; returning scalar instead, but in the future will perform elementwise comparison\n",
      "  if lon_bnds != \"all\":\n"
     ]
    },
    {
     "name": "stdout",
     "output_type": "stream",
     "text": [
      "all\n",
      "True [-20  -1]\n",
      "3\n",
      "I am here\n",
      "1\n",
      "(6, 6, 20)\n",
      "all\n",
      "True [-20  -1]\n",
      "3\n",
      "I am here\n",
      "1\n",
      "(6, 6, 20)\n"
     ]
    },
    {
     "name": "stderr",
     "output_type": "stream",
     "text": [
      "/home/prodhommec/analyseMF/scripts-final-MF/previ-sais/function_read.py:26: FutureWarning: elementwise comparison failed; returning scalar instead, but in the future will perform elementwise comparison\n",
      "  print(lon_bnds != \"all\", lon_bnds)\n",
      "/home/prodhommec/analyseMF/scripts-final-MF/previ-sais/function_read.py:27: FutureWarning: elementwise comparison failed; returning scalar instead, but in the future will perform elementwise comparison\n",
      "  if lon_bnds != \"all\":\n",
      "/home/prodhommec/analyseMF/scripts-final-MF/previ-sais/function_read.py:26: FutureWarning: elementwise comparison failed; returning scalar instead, but in the future will perform elementwise comparison\n",
      "  print(lon_bnds != \"all\", lon_bnds)\n",
      "/home/prodhommec/analyseMF/scripts-final-MF/previ-sais/function_read.py:27: FutureWarning: elementwise comparison failed; returning scalar instead, but in the future will perform elementwise comparison\n",
      "  if lon_bnds != \"all\":\n"
     ]
    },
    {
     "name": "stdout",
     "output_type": "stream",
     "text": [
      "all\n",
      "True [-20  -1]\n",
      "3\n",
      "I am here\n",
      "1\n",
      "(6, 6, 20)\n",
      "all\n",
      "True [-20  -1]\n",
      "3\n",
      "I am here\n",
      "1\n",
      "(6, 6, 20)\n"
     ]
    },
    {
     "name": "stderr",
     "output_type": "stream",
     "text": [
      "/home/prodhommec/analyseMF/scripts-final-MF/previ-sais/function_read.py:26: FutureWarning: elementwise comparison failed; returning scalar instead, but in the future will perform elementwise comparison\n",
      "  print(lon_bnds != \"all\", lon_bnds)\n",
      "/home/prodhommec/analyseMF/scripts-final-MF/previ-sais/function_read.py:27: FutureWarning: elementwise comparison failed; returning scalar instead, but in the future will perform elementwise comparison\n",
      "  if lon_bnds != \"all\":\n",
      "/home/prodhommec/analyseMF/scripts-final-MF/previ-sais/function_read.py:26: FutureWarning: elementwise comparison failed; returning scalar instead, but in the future will perform elementwise comparison\n",
      "  print(lon_bnds != \"all\", lon_bnds)\n",
      "/home/prodhommec/analyseMF/scripts-final-MF/previ-sais/function_read.py:27: FutureWarning: elementwise comparison failed; returning scalar instead, but in the future will perform elementwise comparison\n",
      "  if lon_bnds != \"all\":\n"
     ]
    },
    {
     "name": "stdout",
     "output_type": "stream",
     "text": [
      "all\n",
      "True [-20  -1]\n",
      "3\n",
      "I am here\n",
      "1\n",
      "(6, 6, 20)\n",
      "all\n",
      "True [-20  -1]\n",
      "3\n",
      "I am here\n",
      "1\n",
      "(6, 6, 20)\n"
     ]
    },
    {
     "name": "stderr",
     "output_type": "stream",
     "text": [
      "/home/prodhommec/analyseMF/scripts-final-MF/previ-sais/function_read.py:26: FutureWarning: elementwise comparison failed; returning scalar instead, but in the future will perform elementwise comparison\n",
      "  print(lon_bnds != \"all\", lon_bnds)\n",
      "/home/prodhommec/analyseMF/scripts-final-MF/previ-sais/function_read.py:27: FutureWarning: elementwise comparison failed; returning scalar instead, but in the future will perform elementwise comparison\n",
      "  if lon_bnds != \"all\":\n",
      "/home/prodhommec/analyseMF/scripts-final-MF/previ-sais/function_read.py:26: FutureWarning: elementwise comparison failed; returning scalar instead, but in the future will perform elementwise comparison\n",
      "  print(lon_bnds != \"all\", lon_bnds)\n",
      "/home/prodhommec/analyseMF/scripts-final-MF/previ-sais/function_read.py:27: FutureWarning: elementwise comparison failed; returning scalar instead, but in the future will perform elementwise comparison\n",
      "  if lon_bnds != \"all\":\n"
     ]
    },
    {
     "name": "stdout",
     "output_type": "stream",
     "text": [
      "all\n",
      "True [-20  -1]\n",
      "3\n",
      "I am here\n",
      "1\n",
      "(6, 6, 20)\n",
      "all\n",
      "True [-20  -1]\n",
      "3\n",
      "I am here\n",
      "1\n",
      "(6, 6, 20)\n"
     ]
    },
    {
     "name": "stderr",
     "output_type": "stream",
     "text": [
      "/home/prodhommec/analyseMF/scripts-final-MF/previ-sais/function_read.py:26: FutureWarning: elementwise comparison failed; returning scalar instead, but in the future will perform elementwise comparison\n",
      "  print(lon_bnds != \"all\", lon_bnds)\n",
      "/home/prodhommec/analyseMF/scripts-final-MF/previ-sais/function_read.py:27: FutureWarning: elementwise comparison failed; returning scalar instead, but in the future will perform elementwise comparison\n",
      "  if lon_bnds != \"all\":\n",
      "/home/prodhommec/analyseMF/scripts-final-MF/previ-sais/function_read.py:26: FutureWarning: elementwise comparison failed; returning scalar instead, but in the future will perform elementwise comparison\n",
      "  print(lon_bnds != \"all\", lon_bnds)\n",
      "/home/prodhommec/analyseMF/scripts-final-MF/previ-sais/function_read.py:27: FutureWarning: elementwise comparison failed; returning scalar instead, but in the future will perform elementwise comparison\n",
      "  if lon_bnds != \"all\":\n"
     ]
    },
    {
     "name": "stdout",
     "output_type": "stream",
     "text": [
      "all\n",
      "True [-20  -1]\n",
      "3\n",
      "I am here\n",
      "1\n",
      "(6, 6, 20)\n",
      "all\n",
      "True [-20  -1]\n",
      "3\n",
      "I am here\n",
      "1\n",
      "(6, 6, 20)\n"
     ]
    },
    {
     "name": "stderr",
     "output_type": "stream",
     "text": [
      "/home/prodhommec/analyseMF/scripts-final-MF/previ-sais/function_read.py:26: FutureWarning: elementwise comparison failed; returning scalar instead, but in the future will perform elementwise comparison\n",
      "  print(lon_bnds != \"all\", lon_bnds)\n",
      "/home/prodhommec/analyseMF/scripts-final-MF/previ-sais/function_read.py:27: FutureWarning: elementwise comparison failed; returning scalar instead, but in the future will perform elementwise comparison\n",
      "  if lon_bnds != \"all\":\n",
      "/home/prodhommec/analyseMF/scripts-final-MF/previ-sais/function_read.py:26: FutureWarning: elementwise comparison failed; returning scalar instead, but in the future will perform elementwise comparison\n",
      "  print(lon_bnds != \"all\", lon_bnds)\n",
      "/home/prodhommec/analyseMF/scripts-final-MF/previ-sais/function_read.py:27: FutureWarning: elementwise comparison failed; returning scalar instead, but in the future will perform elementwise comparison\n",
      "  if lon_bnds != \"all\":\n"
     ]
    },
    {
     "name": "stdout",
     "output_type": "stream",
     "text": [
      "all\n",
      "True [-20  -1]\n",
      "3\n",
      "I am here\n",
      "1\n",
      "(6, 6, 20)\n",
      "all\n",
      "True [-20  -1]\n",
      "3\n",
      "I am here\n",
      "1\n",
      "(6, 6, 20)\n"
     ]
    },
    {
     "name": "stderr",
     "output_type": "stream",
     "text": [
      "/home/prodhommec/analyseMF/scripts-final-MF/previ-sais/function_read.py:26: FutureWarning: elementwise comparison failed; returning scalar instead, but in the future will perform elementwise comparison\n",
      "  print(lon_bnds != \"all\", lon_bnds)\n",
      "/home/prodhommec/analyseMF/scripts-final-MF/previ-sais/function_read.py:27: FutureWarning: elementwise comparison failed; returning scalar instead, but in the future will perform elementwise comparison\n",
      "  if lon_bnds != \"all\":\n",
      "/home/prodhommec/analyseMF/scripts-final-MF/previ-sais/function_read.py:26: FutureWarning: elementwise comparison failed; returning scalar instead, but in the future will perform elementwise comparison\n",
      "  print(lon_bnds != \"all\", lon_bnds)\n",
      "/home/prodhommec/analyseMF/scripts-final-MF/previ-sais/function_read.py:27: FutureWarning: elementwise comparison failed; returning scalar instead, but in the future will perform elementwise comparison\n",
      "  if lon_bnds != \"all\":\n"
     ]
    },
    {
     "name": "stdout",
     "output_type": "stream",
     "text": [
      "all\n",
      "True [-20  -1]\n",
      "3\n",
      "I am here\n",
      "1\n",
      "(6, 6, 20)\n",
      "all\n",
      "True [-20  -1]\n",
      "3\n",
      "I am here\n",
      "1\n",
      "(6, 6, 20)\n"
     ]
    },
    {
     "name": "stderr",
     "output_type": "stream",
     "text": [
      "/home/prodhommec/analyseMF/scripts-final-MF/previ-sais/function_read.py:26: FutureWarning: elementwise comparison failed; returning scalar instead, but in the future will perform elementwise comparison\n",
      "  print(lon_bnds != \"all\", lon_bnds)\n",
      "/home/prodhommec/analyseMF/scripts-final-MF/previ-sais/function_read.py:27: FutureWarning: elementwise comparison failed; returning scalar instead, but in the future will perform elementwise comparison\n",
      "  if lon_bnds != \"all\":\n",
      "/home/prodhommec/analyseMF/scripts-final-MF/previ-sais/function_read.py:26: FutureWarning: elementwise comparison failed; returning scalar instead, but in the future will perform elementwise comparison\n",
      "  print(lon_bnds != \"all\", lon_bnds)\n",
      "/home/prodhommec/analyseMF/scripts-final-MF/previ-sais/function_read.py:27: FutureWarning: elementwise comparison failed; returning scalar instead, but in the future will perform elementwise comparison\n",
      "  if lon_bnds != \"all\":\n"
     ]
    },
    {
     "name": "stdout",
     "output_type": "stream",
     "text": [
      "all\n",
      "True [-20  -1]\n",
      "3\n",
      "I am here\n",
      "1\n",
      "(6, 6, 20)\n",
      "all\n",
      "True [-20  -1]\n",
      "3\n",
      "I am here\n",
      "1\n",
      "(6, 6, 20)\n"
     ]
    },
    {
     "name": "stderr",
     "output_type": "stream",
     "text": [
      "/home/prodhommec/analyseMF/scripts-final-MF/previ-sais/function_read.py:26: FutureWarning: elementwise comparison failed; returning scalar instead, but in the future will perform elementwise comparison\n",
      "  print(lon_bnds != \"all\", lon_bnds)\n",
      "/home/prodhommec/analyseMF/scripts-final-MF/previ-sais/function_read.py:27: FutureWarning: elementwise comparison failed; returning scalar instead, but in the future will perform elementwise comparison\n",
      "  if lon_bnds != \"all\":\n",
      "/home/prodhommec/analyseMF/scripts-final-MF/previ-sais/function_read.py:26: FutureWarning: elementwise comparison failed; returning scalar instead, but in the future will perform elementwise comparison\n",
      "  print(lon_bnds != \"all\", lon_bnds)\n",
      "/home/prodhommec/analyseMF/scripts-final-MF/previ-sais/function_read.py:27: FutureWarning: elementwise comparison failed; returning scalar instead, but in the future will perform elementwise comparison\n",
      "  if lon_bnds != \"all\":\n"
     ]
    },
    {
     "name": "stdout",
     "output_type": "stream",
     "text": [
      "all\n",
      "True [-20  -1]\n",
      "3\n",
      "I am here\n",
      "1\n",
      "(6, 6, 20)\n",
      "all\n",
      "True [-20  -1]\n",
      "3\n",
      "I am here\n",
      "1\n",
      "(6, 6, 20)\n"
     ]
    },
    {
     "name": "stderr",
     "output_type": "stream",
     "text": [
      "/home/prodhommec/analyseMF/scripts-final-MF/previ-sais/function_read.py:26: FutureWarning: elementwise comparison failed; returning scalar instead, but in the future will perform elementwise comparison\n",
      "  print(lon_bnds != \"all\", lon_bnds)\n",
      "/home/prodhommec/analyseMF/scripts-final-MF/previ-sais/function_read.py:27: FutureWarning: elementwise comparison failed; returning scalar instead, but in the future will perform elementwise comparison\n",
      "  if lon_bnds != \"all\":\n",
      "/home/prodhommec/analyseMF/scripts-final-MF/previ-sais/function_read.py:26: FutureWarning: elementwise comparison failed; returning scalar instead, but in the future will perform elementwise comparison\n",
      "  print(lon_bnds != \"all\", lon_bnds)\n",
      "/home/prodhommec/analyseMF/scripts-final-MF/previ-sais/function_read.py:27: FutureWarning: elementwise comparison failed; returning scalar instead, but in the future will perform elementwise comparison\n",
      "  if lon_bnds != \"all\":\n"
     ]
    },
    {
     "name": "stdout",
     "output_type": "stream",
     "text": [
      "all\n",
      "True [-20  -1]\n",
      "3\n",
      "I am here\n",
      "1\n",
      "(6, 6, 20)\n",
      "all\n",
      "True [-20  -1]\n",
      "3\n",
      "I am here\n",
      "1\n",
      "(6, 6, 20)\n"
     ]
    },
    {
     "name": "stderr",
     "output_type": "stream",
     "text": [
      "/home/prodhommec/analyseMF/scripts-final-MF/previ-sais/function_read.py:26: FutureWarning: elementwise comparison failed; returning scalar instead, but in the future will perform elementwise comparison\n",
      "  print(lon_bnds != \"all\", lon_bnds)\n",
      "/home/prodhommec/analyseMF/scripts-final-MF/previ-sais/function_read.py:27: FutureWarning: elementwise comparison failed; returning scalar instead, but in the future will perform elementwise comparison\n",
      "  if lon_bnds != \"all\":\n",
      "/home/prodhommec/analyseMF/scripts-final-MF/previ-sais/function_read.py:26: FutureWarning: elementwise comparison failed; returning scalar instead, but in the future will perform elementwise comparison\n",
      "  print(lon_bnds != \"all\", lon_bnds)\n",
      "/home/prodhommec/analyseMF/scripts-final-MF/previ-sais/function_read.py:27: FutureWarning: elementwise comparison failed; returning scalar instead, but in the future will perform elementwise comparison\n",
      "  if lon_bnds != \"all\":\n"
     ]
    },
    {
     "name": "stdout",
     "output_type": "stream",
     "text": [
      "all\n",
      "True [-20  -1]\n",
      "3\n",
      "I am here\n",
      "1\n",
      "(6, 6, 20)\n",
      "all\n",
      "True [-20  -1]\n",
      "3\n",
      "I am here\n",
      "1\n",
      "(6, 6, 20)\n"
     ]
    },
    {
     "name": "stderr",
     "output_type": "stream",
     "text": [
      "/home/prodhommec/analyseMF/scripts-final-MF/previ-sais/function_read.py:26: FutureWarning: elementwise comparison failed; returning scalar instead, but in the future will perform elementwise comparison\n",
      "  print(lon_bnds != \"all\", lon_bnds)\n",
      "/home/prodhommec/analyseMF/scripts-final-MF/previ-sais/function_read.py:27: FutureWarning: elementwise comparison failed; returning scalar instead, but in the future will perform elementwise comparison\n",
      "  if lon_bnds != \"all\":\n",
      "/home/prodhommec/analyseMF/scripts-final-MF/previ-sais/function_read.py:26: FutureWarning: elementwise comparison failed; returning scalar instead, but in the future will perform elementwise comparison\n",
      "  print(lon_bnds != \"all\", lon_bnds)\n",
      "/home/prodhommec/analyseMF/scripts-final-MF/previ-sais/function_read.py:27: FutureWarning: elementwise comparison failed; returning scalar instead, but in the future will perform elementwise comparison\n",
      "  if lon_bnds != \"all\":\n"
     ]
    },
    {
     "name": "stdout",
     "output_type": "stream",
     "text": [
      "all\n",
      "True [-20  -1]\n",
      "3\n",
      "I am here\n",
      "1\n",
      "(6, 6, 20)\n",
      "all\n",
      "True [-20  -1]\n",
      "3\n",
      "I am here\n",
      "1\n",
      "(6, 6, 20)\n"
     ]
    },
    {
     "name": "stderr",
     "output_type": "stream",
     "text": [
      "/home/prodhommec/analyseMF/scripts-final-MF/previ-sais/function_read.py:26: FutureWarning: elementwise comparison failed; returning scalar instead, but in the future will perform elementwise comparison\n",
      "  print(lon_bnds != \"all\", lon_bnds)\n",
      "/home/prodhommec/analyseMF/scripts-final-MF/previ-sais/function_read.py:27: FutureWarning: elementwise comparison failed; returning scalar instead, but in the future will perform elementwise comparison\n",
      "  if lon_bnds != \"all\":\n",
      "/home/prodhommec/analyseMF/scripts-final-MF/previ-sais/function_read.py:26: FutureWarning: elementwise comparison failed; returning scalar instead, but in the future will perform elementwise comparison\n",
      "  print(lon_bnds != \"all\", lon_bnds)\n",
      "/home/prodhommec/analyseMF/scripts-final-MF/previ-sais/function_read.py:27: FutureWarning: elementwise comparison failed; returning scalar instead, but in the future will perform elementwise comparison\n",
      "  if lon_bnds != \"all\":\n"
     ]
    },
    {
     "name": "stdout",
     "output_type": "stream",
     "text": [
      "all\n",
      "True [-20  -1]\n",
      "3\n",
      "I am here\n",
      "1\n",
      "(6, 6, 20)\n",
      "all\n",
      "True [-20  -1]\n",
      "3\n",
      "I am here\n",
      "1\n",
      "(6, 6, 20)\n"
     ]
    },
    {
     "name": "stderr",
     "output_type": "stream",
     "text": [
      "/home/prodhommec/analyseMF/scripts-final-MF/previ-sais/function_read.py:26: FutureWarning: elementwise comparison failed; returning scalar instead, but in the future will perform elementwise comparison\n",
      "  print(lon_bnds != \"all\", lon_bnds)\n",
      "/home/prodhommec/analyseMF/scripts-final-MF/previ-sais/function_read.py:27: FutureWarning: elementwise comparison failed; returning scalar instead, but in the future will perform elementwise comparison\n",
      "  if lon_bnds != \"all\":\n",
      "/home/prodhommec/analyseMF/scripts-final-MF/previ-sais/function_read.py:26: FutureWarning: elementwise comparison failed; returning scalar instead, but in the future will perform elementwise comparison\n",
      "  print(lon_bnds != \"all\", lon_bnds)\n",
      "/home/prodhommec/analyseMF/scripts-final-MF/previ-sais/function_read.py:27: FutureWarning: elementwise comparison failed; returning scalar instead, but in the future will perform elementwise comparison\n",
      "  if lon_bnds != \"all\":\n"
     ]
    },
    {
     "name": "stdout",
     "output_type": "stream",
     "text": [
      "all\n",
      "True [-20  -1]\n",
      "3\n",
      "I am here\n",
      "1\n",
      "(6, 6, 20)\n",
      "all\n",
      "True [-20  -1]\n",
      "3\n",
      "I am here\n",
      "1\n",
      "(6, 6, 20)\n"
     ]
    },
    {
     "name": "stderr",
     "output_type": "stream",
     "text": [
      "/home/prodhommec/analyseMF/scripts-final-MF/previ-sais/function_read.py:26: FutureWarning: elementwise comparison failed; returning scalar instead, but in the future will perform elementwise comparison\n",
      "  print(lon_bnds != \"all\", lon_bnds)\n",
      "/home/prodhommec/analyseMF/scripts-final-MF/previ-sais/function_read.py:27: FutureWarning: elementwise comparison failed; returning scalar instead, but in the future will perform elementwise comparison\n",
      "  if lon_bnds != \"all\":\n",
      "/home/prodhommec/analyseMF/scripts-final-MF/previ-sais/function_read.py:26: FutureWarning: elementwise comparison failed; returning scalar instead, but in the future will perform elementwise comparison\n",
      "  print(lon_bnds != \"all\", lon_bnds)\n",
      "/home/prodhommec/analyseMF/scripts-final-MF/previ-sais/function_read.py:27: FutureWarning: elementwise comparison failed; returning scalar instead, but in the future will perform elementwise comparison\n",
      "  if lon_bnds != \"all\":\n"
     ]
    },
    {
     "name": "stdout",
     "output_type": "stream",
     "text": [
      "all\n",
      "True [-20  -1]\n",
      "3\n",
      "I am here\n",
      "1\n",
      "(6, 6, 20)\n",
      "all\n",
      "True [-20  -1]\n",
      "3\n",
      "I am here\n",
      "1\n",
      "(6, 6, 20)\n"
     ]
    },
    {
     "name": "stderr",
     "output_type": "stream",
     "text": [
      "/home/prodhommec/analyseMF/scripts-final-MF/previ-sais/function_read.py:26: FutureWarning: elementwise comparison failed; returning scalar instead, but in the future will perform elementwise comparison\n",
      "  print(lon_bnds != \"all\", lon_bnds)\n",
      "/home/prodhommec/analyseMF/scripts-final-MF/previ-sais/function_read.py:27: FutureWarning: elementwise comparison failed; returning scalar instead, but in the future will perform elementwise comparison\n",
      "  if lon_bnds != \"all\":\n",
      "/home/prodhommec/analyseMF/scripts-final-MF/previ-sais/function_read.py:26: FutureWarning: elementwise comparison failed; returning scalar instead, but in the future will perform elementwise comparison\n",
      "  print(lon_bnds != \"all\", lon_bnds)\n",
      "/home/prodhommec/analyseMF/scripts-final-MF/previ-sais/function_read.py:27: FutureWarning: elementwise comparison failed; returning scalar instead, but in the future will perform elementwise comparison\n",
      "  if lon_bnds != \"all\":\n"
     ]
    },
    {
     "name": "stdout",
     "output_type": "stream",
     "text": [
      "all\n",
      "True [-20  -1]\n",
      "3\n",
      "I am here\n",
      "1\n",
      "(6, 6, 20)\n",
      "all\n",
      "True [-20  -1]\n",
      "3\n",
      "I am here\n",
      "1\n",
      "(6, 6, 20)\n"
     ]
    },
    {
     "name": "stderr",
     "output_type": "stream",
     "text": [
      "/home/prodhommec/analyseMF/scripts-final-MF/previ-sais/function_read.py:26: FutureWarning: elementwise comparison failed; returning scalar instead, but in the future will perform elementwise comparison\n",
      "  print(lon_bnds != \"all\", lon_bnds)\n",
      "/home/prodhommec/analyseMF/scripts-final-MF/previ-sais/function_read.py:27: FutureWarning: elementwise comparison failed; returning scalar instead, but in the future will perform elementwise comparison\n",
      "  if lon_bnds != \"all\":\n",
      "/home/prodhommec/analyseMF/scripts-final-MF/previ-sais/function_read.py:26: FutureWarning: elementwise comparison failed; returning scalar instead, but in the future will perform elementwise comparison\n",
      "  print(lon_bnds != \"all\", lon_bnds)\n",
      "/home/prodhommec/analyseMF/scripts-final-MF/previ-sais/function_read.py:27: FutureWarning: elementwise comparison failed; returning scalar instead, but in the future will perform elementwise comparison\n",
      "  if lon_bnds != \"all\":\n"
     ]
    },
    {
     "name": "stdout",
     "output_type": "stream",
     "text": [
      "all\n",
      "True [-20  -1]\n",
      "3\n",
      "I am here\n",
      "1\n",
      "(6, 6, 20)\n",
      "all\n",
      "True [-20  -1]\n",
      "3\n",
      "I am here\n",
      "1\n",
      "(6, 6, 20)\n"
     ]
    },
    {
     "name": "stderr",
     "output_type": "stream",
     "text": [
      "/home/prodhommec/analyseMF/scripts-final-MF/previ-sais/function_read.py:26: FutureWarning: elementwise comparison failed; returning scalar instead, but in the future will perform elementwise comparison\n",
      "  print(lon_bnds != \"all\", lon_bnds)\n",
      "/home/prodhommec/analyseMF/scripts-final-MF/previ-sais/function_read.py:27: FutureWarning: elementwise comparison failed; returning scalar instead, but in the future will perform elementwise comparison\n",
      "  if lon_bnds != \"all\":\n",
      "/home/prodhommec/analyseMF/scripts-final-MF/previ-sais/function_read.py:26: FutureWarning: elementwise comparison failed; returning scalar instead, but in the future will perform elementwise comparison\n",
      "  print(lon_bnds != \"all\", lon_bnds)\n",
      "/home/prodhommec/analyseMF/scripts-final-MF/previ-sais/function_read.py:27: FutureWarning: elementwise comparison failed; returning scalar instead, but in the future will perform elementwise comparison\n",
      "  if lon_bnds != \"all\":\n"
     ]
    },
    {
     "name": "stdout",
     "output_type": "stream",
     "text": [
      "all\n",
      "True [-20  -1]\n",
      "3\n",
      "I am here\n",
      "1\n",
      "(6, 6, 20)\n",
      "all\n",
      "True [-20  -1]\n",
      "3\n",
      "I am here\n",
      "1\n",
      "(6, 6, 20)\n"
     ]
    },
    {
     "name": "stderr",
     "output_type": "stream",
     "text": [
      "/home/prodhommec/analyseMF/scripts-final-MF/previ-sais/function_read.py:26: FutureWarning: elementwise comparison failed; returning scalar instead, but in the future will perform elementwise comparison\n",
      "  print(lon_bnds != \"all\", lon_bnds)\n",
      "/home/prodhommec/analyseMF/scripts-final-MF/previ-sais/function_read.py:27: FutureWarning: elementwise comparison failed; returning scalar instead, but in the future will perform elementwise comparison\n",
      "  if lon_bnds != \"all\":\n",
      "/home/prodhommec/analyseMF/scripts-final-MF/previ-sais/function_read.py:26: FutureWarning: elementwise comparison failed; returning scalar instead, but in the future will perform elementwise comparison\n",
      "  print(lon_bnds != \"all\", lon_bnds)\n",
      "/home/prodhommec/analyseMF/scripts-final-MF/previ-sais/function_read.py:27: FutureWarning: elementwise comparison failed; returning scalar instead, but in the future will perform elementwise comparison\n",
      "  if lon_bnds != \"all\":\n"
     ]
    },
    {
     "name": "stdout",
     "output_type": "stream",
     "text": [
      "all\n",
      "True [-20  -1]\n",
      "3\n",
      "I am here\n",
      "1\n",
      "(6, 6, 20)\n",
      "all\n",
      "True [-20  -1]\n",
      "3\n",
      "I am here\n",
      "1\n",
      "(6, 6, 20)\n"
     ]
    },
    {
     "name": "stderr",
     "output_type": "stream",
     "text": [
      "/home/prodhommec/analyseMF/scripts-final-MF/previ-sais/function_read.py:26: FutureWarning: elementwise comparison failed; returning scalar instead, but in the future will perform elementwise comparison\n",
      "  print(lon_bnds != \"all\", lon_bnds)\n",
      "/home/prodhommec/analyseMF/scripts-final-MF/previ-sais/function_read.py:27: FutureWarning: elementwise comparison failed; returning scalar instead, but in the future will perform elementwise comparison\n",
      "  if lon_bnds != \"all\":\n",
      "/home/prodhommec/analyseMF/scripts-final-MF/previ-sais/function_read.py:26: FutureWarning: elementwise comparison failed; returning scalar instead, but in the future will perform elementwise comparison\n",
      "  print(lon_bnds != \"all\", lon_bnds)\n",
      "/home/prodhommec/analyseMF/scripts-final-MF/previ-sais/function_read.py:27: FutureWarning: elementwise comparison failed; returning scalar instead, but in the future will perform elementwise comparison\n",
      "  if lon_bnds != \"all\":\n"
     ]
    },
    {
     "name": "stdout",
     "output_type": "stream",
     "text": [
      "all\n",
      "True [-20  -1]\n",
      "3\n",
      "I am here\n",
      "1\n",
      "(6, 6, 20)\n",
      "all\n",
      "True [-20  -1]\n",
      "3\n",
      "I am here\n",
      "1\n",
      "(6, 6, 20)\n"
     ]
    },
    {
     "name": "stderr",
     "output_type": "stream",
     "text": [
      "/home/prodhommec/analyseMF/scripts-final-MF/previ-sais/function_read.py:26: FutureWarning: elementwise comparison failed; returning scalar instead, but in the future will perform elementwise comparison\n",
      "  print(lon_bnds != \"all\", lon_bnds)\n",
      "/home/prodhommec/analyseMF/scripts-final-MF/previ-sais/function_read.py:27: FutureWarning: elementwise comparison failed; returning scalar instead, but in the future will perform elementwise comparison\n",
      "  if lon_bnds != \"all\":\n",
      "/home/prodhommec/analyseMF/scripts-final-MF/previ-sais/function_read.py:26: FutureWarning: elementwise comparison failed; returning scalar instead, but in the future will perform elementwise comparison\n",
      "  print(lon_bnds != \"all\", lon_bnds)\n",
      "/home/prodhommec/analyseMF/scripts-final-MF/previ-sais/function_read.py:27: FutureWarning: elementwise comparison failed; returning scalar instead, but in the future will perform elementwise comparison\n",
      "  if lon_bnds != \"all\":\n"
     ]
    },
    {
     "name": "stdout",
     "output_type": "stream",
     "text": [
      "all\n",
      "True [-20  -1]\n",
      "3\n",
      "I am here\n",
      "1\n",
      "(6, 6, 20)\n",
      "all\n",
      "True [-20  -1]\n",
      "3\n",
      "I am here\n",
      "1\n",
      "(6, 6, 20)\n"
     ]
    },
    {
     "name": "stderr",
     "output_type": "stream",
     "text": [
      "/home/prodhommec/analyseMF/scripts-final-MF/previ-sais/function_read.py:26: FutureWarning: elementwise comparison failed; returning scalar instead, but in the future will perform elementwise comparison\n",
      "  print(lon_bnds != \"all\", lon_bnds)\n",
      "/home/prodhommec/analyseMF/scripts-final-MF/previ-sais/function_read.py:27: FutureWarning: elementwise comparison failed; returning scalar instead, but in the future will perform elementwise comparison\n",
      "  if lon_bnds != \"all\":\n",
      "/home/prodhommec/analyseMF/scripts-final-MF/previ-sais/function_read.py:26: FutureWarning: elementwise comparison failed; returning scalar instead, but in the future will perform elementwise comparison\n",
      "  print(lon_bnds != \"all\", lon_bnds)\n",
      "/home/prodhommec/analyseMF/scripts-final-MF/previ-sais/function_read.py:27: FutureWarning: elementwise comparison failed; returning scalar instead, but in the future will perform elementwise comparison\n",
      "  if lon_bnds != \"all\":\n"
     ]
    },
    {
     "name": "stdout",
     "output_type": "stream",
     "text": [
      "all\n",
      "True [-20  -1]\n",
      "3\n",
      "I am here\n",
      "1\n",
      "(6, 6, 20)\n",
      "all\n",
      "True [-20  -1]\n",
      "3\n",
      "I am here\n",
      "1\n",
      "(6, 6, 20)\n"
     ]
    },
    {
     "name": "stderr",
     "output_type": "stream",
     "text": [
      "/home/prodhommec/analyseMF/scripts-final-MF/previ-sais/function_read.py:26: FutureWarning: elementwise comparison failed; returning scalar instead, but in the future will perform elementwise comparison\n",
      "  print(lon_bnds != \"all\", lon_bnds)\n",
      "/home/prodhommec/analyseMF/scripts-final-MF/previ-sais/function_read.py:27: FutureWarning: elementwise comparison failed; returning scalar instead, but in the future will perform elementwise comparison\n",
      "  if lon_bnds != \"all\":\n",
      "/home/prodhommec/analyseMF/scripts-final-MF/previ-sais/function_read.py:26: FutureWarning: elementwise comparison failed; returning scalar instead, but in the future will perform elementwise comparison\n",
      "  print(lon_bnds != \"all\", lon_bnds)\n",
      "/home/prodhommec/analyseMF/scripts-final-MF/previ-sais/function_read.py:27: FutureWarning: elementwise comparison failed; returning scalar instead, but in the future will perform elementwise comparison\n",
      "  if lon_bnds != \"all\":\n"
     ]
    },
    {
     "name": "stdout",
     "output_type": "stream",
     "text": [
      "all\n",
      "True [-20  -1]\n",
      "3\n",
      "I am here\n",
      "1\n",
      "(6, 6, 20)\n",
      "all\n",
      "True [-20  -1]\n",
      "3\n",
      "I am here\n",
      "1\n",
      "(6, 6, 20)\n"
     ]
    },
    {
     "name": "stderr",
     "output_type": "stream",
     "text": [
      "/home/prodhommec/analyseMF/scripts-final-MF/previ-sais/function_read.py:26: FutureWarning: elementwise comparison failed; returning scalar instead, but in the future will perform elementwise comparison\n",
      "  print(lon_bnds != \"all\", lon_bnds)\n",
      "/home/prodhommec/analyseMF/scripts-final-MF/previ-sais/function_read.py:27: FutureWarning: elementwise comparison failed; returning scalar instead, but in the future will perform elementwise comparison\n",
      "  if lon_bnds != \"all\":\n",
      "/home/prodhommec/analyseMF/scripts-final-MF/previ-sais/function_read.py:26: FutureWarning: elementwise comparison failed; returning scalar instead, but in the future will perform elementwise comparison\n",
      "  print(lon_bnds != \"all\", lon_bnds)\n",
      "/home/prodhommec/analyseMF/scripts-final-MF/previ-sais/function_read.py:27: FutureWarning: elementwise comparison failed; returning scalar instead, but in the future will perform elementwise comparison\n",
      "  if lon_bnds != \"all\":\n"
     ]
    },
    {
     "name": "stdout",
     "output_type": "stream",
     "text": [
      "all\n",
      "True [-20  -1]\n",
      "3\n",
      "I am here\n",
      "1\n",
      "(6, 6, 20)\n",
      "all\n",
      "True [-20  -1]\n",
      "3\n",
      "I am here\n",
      "1\n",
      "(6, 6, 20)\n"
     ]
    },
    {
     "name": "stderr",
     "output_type": "stream",
     "text": [
      "/home/prodhommec/analyseMF/scripts-final-MF/previ-sais/function_read.py:26: FutureWarning: elementwise comparison failed; returning scalar instead, but in the future will perform elementwise comparison\n",
      "  print(lon_bnds != \"all\", lon_bnds)\n",
      "/home/prodhommec/analyseMF/scripts-final-MF/previ-sais/function_read.py:27: FutureWarning: elementwise comparison failed; returning scalar instead, but in the future will perform elementwise comparison\n",
      "  if lon_bnds != \"all\":\n",
      "/home/prodhommec/analyseMF/scripts-final-MF/previ-sais/function_read.py:26: FutureWarning: elementwise comparison failed; returning scalar instead, but in the future will perform elementwise comparison\n",
      "  print(lon_bnds != \"all\", lon_bnds)\n",
      "/home/prodhommec/analyseMF/scripts-final-MF/previ-sais/function_read.py:27: FutureWarning: elementwise comparison failed; returning scalar instead, but in the future will perform elementwise comparison\n",
      "  if lon_bnds != \"all\":\n"
     ]
    },
    {
     "name": "stdout",
     "output_type": "stream",
     "text": [
      "all\n",
      "True [-20  -1]\n",
      "3\n",
      "I am here\n",
      "1\n",
      "(6, 6, 20)\n",
      "all\n",
      "True [-20  -1]\n",
      "3\n",
      "I am here\n",
      "1\n",
      "(6, 6, 20)\n"
     ]
    },
    {
     "name": "stderr",
     "output_type": "stream",
     "text": [
      "/home/prodhommec/analyseMF/scripts-final-MF/previ-sais/function_read.py:26: FutureWarning: elementwise comparison failed; returning scalar instead, but in the future will perform elementwise comparison\n",
      "  print(lon_bnds != \"all\", lon_bnds)\n",
      "/home/prodhommec/analyseMF/scripts-final-MF/previ-sais/function_read.py:27: FutureWarning: elementwise comparison failed; returning scalar instead, but in the future will perform elementwise comparison\n",
      "  if lon_bnds != \"all\":\n",
      "/home/prodhommec/analyseMF/scripts-final-MF/previ-sais/function_read.py:26: FutureWarning: elementwise comparison failed; returning scalar instead, but in the future will perform elementwise comparison\n",
      "  print(lon_bnds != \"all\", lon_bnds)\n",
      "/home/prodhommec/analyseMF/scripts-final-MF/previ-sais/function_read.py:27: FutureWarning: elementwise comparison failed; returning scalar instead, but in the future will perform elementwise comparison\n",
      "  if lon_bnds != \"all\":\n"
     ]
    },
    {
     "name": "stdout",
     "output_type": "stream",
     "text": [
      "all\n",
      "True [-20  -1]\n",
      "3\n",
      "I am here\n",
      "1\n",
      "(6, 6, 20)\n",
      "all\n",
      "True [-20  -1]\n",
      "3\n",
      "I am here\n",
      "1\n",
      "(6, 6, 20)\n"
     ]
    },
    {
     "name": "stderr",
     "output_type": "stream",
     "text": [
      "/home/prodhommec/analyseMF/scripts-final-MF/previ-sais/function_read.py:26: FutureWarning: elementwise comparison failed; returning scalar instead, but in the future will perform elementwise comparison\n",
      "  print(lon_bnds != \"all\", lon_bnds)\n",
      "/home/prodhommec/analyseMF/scripts-final-MF/previ-sais/function_read.py:27: FutureWarning: elementwise comparison failed; returning scalar instead, but in the future will perform elementwise comparison\n",
      "  if lon_bnds != \"all\":\n",
      "/home/prodhommec/analyseMF/scripts-final-MF/previ-sais/function_read.py:26: FutureWarning: elementwise comparison failed; returning scalar instead, but in the future will perform elementwise comparison\n",
      "  print(lon_bnds != \"all\", lon_bnds)\n",
      "/home/prodhommec/analyseMF/scripts-final-MF/previ-sais/function_read.py:27: FutureWarning: elementwise comparison failed; returning scalar instead, but in the future will perform elementwise comparison\n",
      "  if lon_bnds != \"all\":\n"
     ]
    },
    {
     "name": "stdout",
     "output_type": "stream",
     "text": [
      "all\n",
      "True [-20  -1]\n",
      "3\n",
      "I am here\n",
      "1\n",
      "(6, 6, 20)\n",
      "all\n",
      "True [-20  -1]\n",
      "3\n",
      "I am here\n",
      "1\n",
      "(6, 6, 20)\n"
     ]
    },
    {
     "name": "stderr",
     "output_type": "stream",
     "text": [
      "/home/prodhommec/analyseMF/scripts-final-MF/previ-sais/function_read.py:26: FutureWarning: elementwise comparison failed; returning scalar instead, but in the future will perform elementwise comparison\n",
      "  print(lon_bnds != \"all\", lon_bnds)\n",
      "/home/prodhommec/analyseMF/scripts-final-MF/previ-sais/function_read.py:27: FutureWarning: elementwise comparison failed; returning scalar instead, but in the future will perform elementwise comparison\n",
      "  if lon_bnds != \"all\":\n",
      "/home/prodhommec/analyseMF/scripts-final-MF/previ-sais/function_read.py:26: FutureWarning: elementwise comparison failed; returning scalar instead, but in the future will perform elementwise comparison\n",
      "  print(lon_bnds != \"all\", lon_bnds)\n",
      "/home/prodhommec/analyseMF/scripts-final-MF/previ-sais/function_read.py:27: FutureWarning: elementwise comparison failed; returning scalar instead, but in the future will perform elementwise comparison\n",
      "  if lon_bnds != \"all\":\n"
     ]
    },
    {
     "name": "stdout",
     "output_type": "stream",
     "text": [
      "all\n",
      "True [-20  -1]\n",
      "3\n",
      "I am here\n",
      "1\n",
      "(6, 6, 20)\n",
      "all\n",
      "True [-20  -1]\n",
      "3\n",
      "I am here\n",
      "1\n",
      "(6, 6, 20)\n"
     ]
    },
    {
     "name": "stderr",
     "output_type": "stream",
     "text": [
      "/home/prodhommec/analyseMF/scripts-final-MF/previ-sais/function_read.py:26: FutureWarning: elementwise comparison failed; returning scalar instead, but in the future will perform elementwise comparison\n",
      "  print(lon_bnds != \"all\", lon_bnds)\n",
      "/home/prodhommec/analyseMF/scripts-final-MF/previ-sais/function_read.py:27: FutureWarning: elementwise comparison failed; returning scalar instead, but in the future will perform elementwise comparison\n",
      "  if lon_bnds != \"all\":\n",
      "/home/prodhommec/analyseMF/scripts-final-MF/previ-sais/function_read.py:26: FutureWarning: elementwise comparison failed; returning scalar instead, but in the future will perform elementwise comparison\n",
      "  print(lon_bnds != \"all\", lon_bnds)\n",
      "/home/prodhommec/analyseMF/scripts-final-MF/previ-sais/function_read.py:27: FutureWarning: elementwise comparison failed; returning scalar instead, but in the future will perform elementwise comparison\n",
      "  if lon_bnds != \"all\":\n"
     ]
    },
    {
     "name": "stdout",
     "output_type": "stream",
     "text": [
      "all\n",
      "True [-20  -1]\n",
      "3\n",
      "I am here\n",
      "1\n",
      "(6, 6, 20)\n",
      "all\n",
      "True [-20  -1]\n",
      "3\n",
      "I am here\n",
      "1\n",
      "(6, 6, 20)\n"
     ]
    },
    {
     "name": "stderr",
     "output_type": "stream",
     "text": [
      "/home/prodhommec/analyseMF/scripts-final-MF/previ-sais/function_read.py:26: FutureWarning: elementwise comparison failed; returning scalar instead, but in the future will perform elementwise comparison\n",
      "  print(lon_bnds != \"all\", lon_bnds)\n",
      "/home/prodhommec/analyseMF/scripts-final-MF/previ-sais/function_read.py:27: FutureWarning: elementwise comparison failed; returning scalar instead, but in the future will perform elementwise comparison\n",
      "  if lon_bnds != \"all\":\n",
      "/home/prodhommec/analyseMF/scripts-final-MF/previ-sais/function_read.py:26: FutureWarning: elementwise comparison failed; returning scalar instead, but in the future will perform elementwise comparison\n",
      "  print(lon_bnds != \"all\", lon_bnds)\n",
      "/home/prodhommec/analyseMF/scripts-final-MF/previ-sais/function_read.py:27: FutureWarning: elementwise comparison failed; returning scalar instead, but in the future will perform elementwise comparison\n",
      "  if lon_bnds != \"all\":\n"
     ]
    },
    {
     "name": "stdout",
     "output_type": "stream",
     "text": [
      "all\n",
      "True [-20  -1]\n",
      "3\n",
      "I am here\n",
      "1\n",
      "(6, 6, 20)\n",
      "all\n",
      "True [-20  -1]\n",
      "3\n",
      "I am here\n",
      "1\n",
      "(6, 6, 20)\n"
     ]
    },
    {
     "name": "stderr",
     "output_type": "stream",
     "text": [
      "/home/prodhommec/analyseMF/scripts-final-MF/previ-sais/function_read.py:26: FutureWarning: elementwise comparison failed; returning scalar instead, but in the future will perform elementwise comparison\n",
      "  print(lon_bnds != \"all\", lon_bnds)\n",
      "/home/prodhommec/analyseMF/scripts-final-MF/previ-sais/function_read.py:27: FutureWarning: elementwise comparison failed; returning scalar instead, but in the future will perform elementwise comparison\n",
      "  if lon_bnds != \"all\":\n",
      "/home/prodhommec/analyseMF/scripts-final-MF/previ-sais/function_read.py:26: FutureWarning: elementwise comparison failed; returning scalar instead, but in the future will perform elementwise comparison\n",
      "  print(lon_bnds != \"all\", lon_bnds)\n",
      "/home/prodhommec/analyseMF/scripts-final-MF/previ-sais/function_read.py:27: FutureWarning: elementwise comparison failed; returning scalar instead, but in the future will perform elementwise comparison\n",
      "  if lon_bnds != \"all\":\n"
     ]
    },
    {
     "name": "stdout",
     "output_type": "stream",
     "text": [
      "all\n",
      "True [-20  -1]\n",
      "3\n",
      "I am here\n",
      "1\n",
      "(6, 6, 20)\n",
      "all\n",
      "True [-20  -1]\n",
      "3\n",
      "I am here\n",
      "1\n",
      "(6, 6, 20)\n"
     ]
    },
    {
     "name": "stderr",
     "output_type": "stream",
     "text": [
      "/home/prodhommec/analyseMF/scripts-final-MF/previ-sais/function_read.py:26: FutureWarning: elementwise comparison failed; returning scalar instead, but in the future will perform elementwise comparison\n",
      "  print(lon_bnds != \"all\", lon_bnds)\n",
      "/home/prodhommec/analyseMF/scripts-final-MF/previ-sais/function_read.py:27: FutureWarning: elementwise comparison failed; returning scalar instead, but in the future will perform elementwise comparison\n",
      "  if lon_bnds != \"all\":\n",
      "/home/prodhommec/analyseMF/scripts-final-MF/previ-sais/function_read.py:26: FutureWarning: elementwise comparison failed; returning scalar instead, but in the future will perform elementwise comparison\n",
      "  print(lon_bnds != \"all\", lon_bnds)\n",
      "/home/prodhommec/analyseMF/scripts-final-MF/previ-sais/function_read.py:27: FutureWarning: elementwise comparison failed; returning scalar instead, but in the future will perform elementwise comparison\n",
      "  if lon_bnds != \"all\":\n"
     ]
    },
    {
     "name": "stdout",
     "output_type": "stream",
     "text": [
      "all\n",
      "True [-20  -1]\n",
      "3\n",
      "I am here\n",
      "1\n",
      "(6, 6, 20)\n",
      "all\n",
      "True [-20  -1]\n",
      "3\n",
      "I am here\n",
      "1\n",
      "(6, 6, 20)\n"
     ]
    },
    {
     "name": "stderr",
     "output_type": "stream",
     "text": [
      "/home/prodhommec/analyseMF/scripts-final-MF/previ-sais/function_read.py:26: FutureWarning: elementwise comparison failed; returning scalar instead, but in the future will perform elementwise comparison\n",
      "  print(lon_bnds != \"all\", lon_bnds)\n",
      "/home/prodhommec/analyseMF/scripts-final-MF/previ-sais/function_read.py:27: FutureWarning: elementwise comparison failed; returning scalar instead, but in the future will perform elementwise comparison\n",
      "  if lon_bnds != \"all\":\n",
      "/home/prodhommec/analyseMF/scripts-final-MF/previ-sais/function_read.py:26: FutureWarning: elementwise comparison failed; returning scalar instead, but in the future will perform elementwise comparison\n",
      "  print(lon_bnds != \"all\", lon_bnds)\n",
      "/home/prodhommec/analyseMF/scripts-final-MF/previ-sais/function_read.py:27: FutureWarning: elementwise comparison failed; returning scalar instead, but in the future will perform elementwise comparison\n",
      "  if lon_bnds != \"all\":\n"
     ]
    },
    {
     "name": "stdout",
     "output_type": "stream",
     "text": [
      "all\n",
      "True [-20  -1]\n",
      "3\n",
      "I am here\n",
      "1\n",
      "(6, 6, 20)\n",
      "all\n",
      "True [-20  -1]\n",
      "3\n",
      "I am here\n",
      "1\n",
      "(6, 6, 20)\n"
     ]
    },
    {
     "name": "stderr",
     "output_type": "stream",
     "text": [
      "/home/prodhommec/analyseMF/scripts-final-MF/previ-sais/function_read.py:26: FutureWarning: elementwise comparison failed; returning scalar instead, but in the future will perform elementwise comparison\n",
      "  print(lon_bnds != \"all\", lon_bnds)\n",
      "/home/prodhommec/analyseMF/scripts-final-MF/previ-sais/function_read.py:27: FutureWarning: elementwise comparison failed; returning scalar instead, but in the future will perform elementwise comparison\n",
      "  if lon_bnds != \"all\":\n",
      "/home/prodhommec/analyseMF/scripts-final-MF/previ-sais/function_read.py:26: FutureWarning: elementwise comparison failed; returning scalar instead, but in the future will perform elementwise comparison\n",
      "  print(lon_bnds != \"all\", lon_bnds)\n",
      "/home/prodhommec/analyseMF/scripts-final-MF/previ-sais/function_read.py:27: FutureWarning: elementwise comparison failed; returning scalar instead, but in the future will perform elementwise comparison\n",
      "  if lon_bnds != \"all\":\n"
     ]
    },
    {
     "name": "stdout",
     "output_type": "stream",
     "text": [
      "all\n",
      "True [-20  -1]\n",
      "3\n",
      "I am here\n",
      "1\n",
      "(6, 6, 20)\n",
      "all\n",
      "True [-20  -1]\n",
      "3\n",
      "I am here\n",
      "1\n",
      "(6, 6, 20)\n"
     ]
    },
    {
     "name": "stderr",
     "output_type": "stream",
     "text": [
      "/home/prodhommec/analyseMF/scripts-final-MF/previ-sais/function_read.py:26: FutureWarning: elementwise comparison failed; returning scalar instead, but in the future will perform elementwise comparison\n",
      "  print(lon_bnds != \"all\", lon_bnds)\n",
      "/home/prodhommec/analyseMF/scripts-final-MF/previ-sais/function_read.py:27: FutureWarning: elementwise comparison failed; returning scalar instead, but in the future will perform elementwise comparison\n",
      "  if lon_bnds != \"all\":\n",
      "/home/prodhommec/analyseMF/scripts-final-MF/previ-sais/function_read.py:26: FutureWarning: elementwise comparison failed; returning scalar instead, but in the future will perform elementwise comparison\n",
      "  print(lon_bnds != \"all\", lon_bnds)\n",
      "/home/prodhommec/analyseMF/scripts-final-MF/previ-sais/function_read.py:27: FutureWarning: elementwise comparison failed; returning scalar instead, but in the future will perform elementwise comparison\n",
      "  if lon_bnds != \"all\":\n"
     ]
    },
    {
     "name": "stdout",
     "output_type": "stream",
     "text": [
      "all\n",
      "True [-20  -1]\n",
      "3\n",
      "I am here\n",
      "1\n",
      "(6, 6, 20)\n",
      "all\n",
      "True [-20  -1]\n",
      "3\n",
      "I am here\n",
      "1\n",
      "(6, 6, 20)\n"
     ]
    },
    {
     "name": "stderr",
     "output_type": "stream",
     "text": [
      "/home/prodhommec/analyseMF/scripts-final-MF/previ-sais/function_read.py:26: FutureWarning: elementwise comparison failed; returning scalar instead, but in the future will perform elementwise comparison\n",
      "  print(lon_bnds != \"all\", lon_bnds)\n",
      "/home/prodhommec/analyseMF/scripts-final-MF/previ-sais/function_read.py:27: FutureWarning: elementwise comparison failed; returning scalar instead, but in the future will perform elementwise comparison\n",
      "  if lon_bnds != \"all\":\n",
      "/home/prodhommec/analyseMF/scripts-final-MF/previ-sais/function_read.py:26: FutureWarning: elementwise comparison failed; returning scalar instead, but in the future will perform elementwise comparison\n",
      "  print(lon_bnds != \"all\", lon_bnds)\n",
      "/home/prodhommec/analyseMF/scripts-final-MF/previ-sais/function_read.py:27: FutureWarning: elementwise comparison failed; returning scalar instead, but in the future will perform elementwise comparison\n",
      "  if lon_bnds != \"all\":\n"
     ]
    },
    {
     "name": "stdout",
     "output_type": "stream",
     "text": [
      "all\n",
      "True [-20  -1]\n",
      "3\n",
      "I am here\n",
      "1\n",
      "(6, 6, 20)\n",
      "all\n",
      "True [-20  -1]\n",
      "3\n",
      "I am here\n",
      "1\n",
      "(6, 6, 20)\n"
     ]
    },
    {
     "name": "stderr",
     "output_type": "stream",
     "text": [
      "/home/prodhommec/analyseMF/scripts-final-MF/previ-sais/function_read.py:26: FutureWarning: elementwise comparison failed; returning scalar instead, but in the future will perform elementwise comparison\n",
      "  print(lon_bnds != \"all\", lon_bnds)\n",
      "/home/prodhommec/analyseMF/scripts-final-MF/previ-sais/function_read.py:27: FutureWarning: elementwise comparison failed; returning scalar instead, but in the future will perform elementwise comparison\n",
      "  if lon_bnds != \"all\":\n",
      "/home/prodhommec/analyseMF/scripts-final-MF/previ-sais/function_read.py:26: FutureWarning: elementwise comparison failed; returning scalar instead, but in the future will perform elementwise comparison\n",
      "  print(lon_bnds != \"all\", lon_bnds)\n",
      "/home/prodhommec/analyseMF/scripts-final-MF/previ-sais/function_read.py:27: FutureWarning: elementwise comparison failed; returning scalar instead, but in the future will perform elementwise comparison\n",
      "  if lon_bnds != \"all\":\n"
     ]
    },
    {
     "name": "stdout",
     "output_type": "stream",
     "text": [
      "all\n",
      "True [-20  -1]\n",
      "3\n",
      "I am here\n",
      "1\n",
      "(6, 6, 20)\n",
      "all\n",
      "True [-20  -1]\n",
      "3\n",
      "I am here\n",
      "1\n",
      "(6, 6, 20)\n"
     ]
    },
    {
     "name": "stderr",
     "output_type": "stream",
     "text": [
      "/home/prodhommec/analyseMF/scripts-final-MF/previ-sais/function_read.py:26: FutureWarning: elementwise comparison failed; returning scalar instead, but in the future will perform elementwise comparison\n",
      "  print(lon_bnds != \"all\", lon_bnds)\n",
      "/home/prodhommec/analyseMF/scripts-final-MF/previ-sais/function_read.py:27: FutureWarning: elementwise comparison failed; returning scalar instead, but in the future will perform elementwise comparison\n",
      "  if lon_bnds != \"all\":\n",
      "/home/prodhommec/analyseMF/scripts-final-MF/previ-sais/function_read.py:26: FutureWarning: elementwise comparison failed; returning scalar instead, but in the future will perform elementwise comparison\n",
      "  print(lon_bnds != \"all\", lon_bnds)\n",
      "/home/prodhommec/analyseMF/scripts-final-MF/previ-sais/function_read.py:27: FutureWarning: elementwise comparison failed; returning scalar instead, but in the future will perform elementwise comparison\n",
      "  if lon_bnds != \"all\":\n"
     ]
    },
    {
     "name": "stdout",
     "output_type": "stream",
     "text": [
      "all\n",
      "True [-20  -1]\n",
      "3\n",
      "I am here\n",
      "1\n",
      "(6, 6, 20)\n",
      "all\n",
      "True [-20  -1]\n",
      "3\n",
      "I am here\n",
      "1\n",
      "(6, 6, 20)\n"
     ]
    },
    {
     "name": "stderr",
     "output_type": "stream",
     "text": [
      "/home/prodhommec/analyseMF/scripts-final-MF/previ-sais/function_read.py:26: FutureWarning: elementwise comparison failed; returning scalar instead, but in the future will perform elementwise comparison\n",
      "  print(lon_bnds != \"all\", lon_bnds)\n",
      "/home/prodhommec/analyseMF/scripts-final-MF/previ-sais/function_read.py:27: FutureWarning: elementwise comparison failed; returning scalar instead, but in the future will perform elementwise comparison\n",
      "  if lon_bnds != \"all\":\n",
      "/home/prodhommec/analyseMF/scripts-final-MF/previ-sais/function_read.py:26: FutureWarning: elementwise comparison failed; returning scalar instead, but in the future will perform elementwise comparison\n",
      "  print(lon_bnds != \"all\", lon_bnds)\n",
      "/home/prodhommec/analyseMF/scripts-final-MF/previ-sais/function_read.py:27: FutureWarning: elementwise comparison failed; returning scalar instead, but in the future will perform elementwise comparison\n",
      "  if lon_bnds != \"all\":\n"
     ]
    },
    {
     "name": "stdout",
     "output_type": "stream",
     "text": [
      "all\n",
      "True [-20  -1]\n",
      "3\n",
      "I am here\n",
      "1\n",
      "(6, 6, 20)\n",
      "all\n",
      "True [-20  -1]\n",
      "3\n",
      "I am here\n",
      "1\n",
      "(6, 6, 20)\n"
     ]
    },
    {
     "name": "stderr",
     "output_type": "stream",
     "text": [
      "/home/prodhommec/analyseMF/scripts-final-MF/previ-sais/function_read.py:26: FutureWarning: elementwise comparison failed; returning scalar instead, but in the future will perform elementwise comparison\n",
      "  print(lon_bnds != \"all\", lon_bnds)\n",
      "/home/prodhommec/analyseMF/scripts-final-MF/previ-sais/function_read.py:27: FutureWarning: elementwise comparison failed; returning scalar instead, but in the future will perform elementwise comparison\n",
      "  if lon_bnds != \"all\":\n",
      "/home/prodhommec/analyseMF/scripts-final-MF/previ-sais/function_read.py:26: FutureWarning: elementwise comparison failed; returning scalar instead, but in the future will perform elementwise comparison\n",
      "  print(lon_bnds != \"all\", lon_bnds)\n",
      "/home/prodhommec/analyseMF/scripts-final-MF/previ-sais/function_read.py:27: FutureWarning: elementwise comparison failed; returning scalar instead, but in the future will perform elementwise comparison\n",
      "  if lon_bnds != \"all\":\n"
     ]
    },
    {
     "name": "stdout",
     "output_type": "stream",
     "text": [
      "all\n",
      "True [-20  -1]\n",
      "3\n",
      "I am here\n",
      "1\n",
      "(6, 6, 20)\n",
      "all\n",
      "True [-20  -1]\n",
      "3\n",
      "I am here\n",
      "1\n",
      "(6, 6, 20)\n"
     ]
    },
    {
     "name": "stderr",
     "output_type": "stream",
     "text": [
      "/home/prodhommec/analyseMF/scripts-final-MF/previ-sais/function_read.py:26: FutureWarning: elementwise comparison failed; returning scalar instead, but in the future will perform elementwise comparison\n",
      "  print(lon_bnds != \"all\", lon_bnds)\n",
      "/home/prodhommec/analyseMF/scripts-final-MF/previ-sais/function_read.py:27: FutureWarning: elementwise comparison failed; returning scalar instead, but in the future will perform elementwise comparison\n",
      "  if lon_bnds != \"all\":\n",
      "/home/prodhommec/analyseMF/scripts-final-MF/previ-sais/function_read.py:26: FutureWarning: elementwise comparison failed; returning scalar instead, but in the future will perform elementwise comparison\n",
      "  print(lon_bnds != \"all\", lon_bnds)\n",
      "/home/prodhommec/analyseMF/scripts-final-MF/previ-sais/function_read.py:27: FutureWarning: elementwise comparison failed; returning scalar instead, but in the future will perform elementwise comparison\n",
      "  if lon_bnds != \"all\":\n"
     ]
    },
    {
     "name": "stdout",
     "output_type": "stream",
     "text": [
      "all\n",
      "True [-20  -1]\n",
      "3\n",
      "I am here\n",
      "1\n",
      "(6, 6, 20)\n",
      "all\n",
      "True [-20  -1]\n",
      "3\n",
      "I am here\n",
      "1\n",
      "(6, 6, 20)\n"
     ]
    },
    {
     "name": "stderr",
     "output_type": "stream",
     "text": [
      "/home/prodhommec/analyseMF/scripts-final-MF/previ-sais/function_read.py:26: FutureWarning: elementwise comparison failed; returning scalar instead, but in the future will perform elementwise comparison\n",
      "  print(lon_bnds != \"all\", lon_bnds)\n",
      "/home/prodhommec/analyseMF/scripts-final-MF/previ-sais/function_read.py:27: FutureWarning: elementwise comparison failed; returning scalar instead, but in the future will perform elementwise comparison\n",
      "  if lon_bnds != \"all\":\n",
      "/home/prodhommec/analyseMF/scripts-final-MF/previ-sais/function_read.py:26: FutureWarning: elementwise comparison failed; returning scalar instead, but in the future will perform elementwise comparison\n",
      "  print(lon_bnds != \"all\", lon_bnds)\n",
      "/home/prodhommec/analyseMF/scripts-final-MF/previ-sais/function_read.py:27: FutureWarning: elementwise comparison failed; returning scalar instead, but in the future will perform elementwise comparison\n",
      "  if lon_bnds != \"all\":\n"
     ]
    },
    {
     "name": "stdout",
     "output_type": "stream",
     "text": [
      "all\n",
      "True [-20  -1]\n",
      "3\n",
      "I am here\n",
      "1\n",
      "(6, 6, 20)\n",
      "all\n",
      "True [-20  -1]\n",
      "3\n",
      "I am here\n",
      "1\n",
      "(6, 6, 20)\n"
     ]
    },
    {
     "name": "stderr",
     "output_type": "stream",
     "text": [
      "/home/prodhommec/analyseMF/scripts-final-MF/previ-sais/function_read.py:26: FutureWarning: elementwise comparison failed; returning scalar instead, but in the future will perform elementwise comparison\n",
      "  print(lon_bnds != \"all\", lon_bnds)\n",
      "/home/prodhommec/analyseMF/scripts-final-MF/previ-sais/function_read.py:27: FutureWarning: elementwise comparison failed; returning scalar instead, but in the future will perform elementwise comparison\n",
      "  if lon_bnds != \"all\":\n",
      "/home/prodhommec/analyseMF/scripts-final-MF/previ-sais/function_read.py:26: FutureWarning: elementwise comparison failed; returning scalar instead, but in the future will perform elementwise comparison\n",
      "  print(lon_bnds != \"all\", lon_bnds)\n",
      "/home/prodhommec/analyseMF/scripts-final-MF/previ-sais/function_read.py:27: FutureWarning: elementwise comparison failed; returning scalar instead, but in the future will perform elementwise comparison\n",
      "  if lon_bnds != \"all\":\n"
     ]
    }
   ],
   "source": [
    "# list to be converted in array to store the data\n",
    "varMM=[]\n",
    "# list to store the missing members\n",
    "# additional comment: in the test simulation I was investigating a few members where missing; I replace them\n",
    "# by the members 5 this should be remove when the dataset will be complete\n",
    "missing=[]\n",
    "#loop over members\n",
    "for imemb in range(1,nmemb+1):\n",
    "    moddate=[]\n",
    "    for s in sdatelst:\n",
    "        #f=glob(\"/cnrm/pastel/USERS/prodhommec/NO_SAVE/dcppA-hindcast/*r%ii2p1f2/\"%imemb+varname+\"*gn_\"+s.strftime(\"%Y%m\")+\"*04.nc\")\n",
    "        f=glob(prefixe+\"/cnrm/pastel/USERS/prodhommec/NO_SAVE/dcppA-hindcast/*r%ii2p1f2/\"%imemb+varname+\"_Omon**\"+s.strftime(\"%Y%m\")+\"*\")\n",
    "        # as said before if the member is missing use the member 5 (to be removed with a complete dataset)\n",
    "        if len(f)==0:\n",
    "            f=glob(prefixe+\"/cnrm/pastel/USERS/prodhommec/NO_SAVE/dcppA-hindcast/*r%ii2p1f2/\"%(5)+varname+\"_Omon*\"+s.strftime(\"%Y%m\")+\"*\")\n",
    "            missing.append((s,imemb))\n",
    "        f=f[0] \n",
    "        #extract level in cas of 3D files\n",
    "        if level!=\"all\":\n",
    "            f=cdo.selvar(varname, input=f)\n",
    "            f=cdo.sellevidx(level, input=f)\n",
    "            f=cdo.vertmean(input=f)\n",
    "        #    print(f)\n",
    "        #interpolation to 1x1 degree grid \n",
    "        f=cdo.remapbil(\"r360x180\", input=f)\n",
    "        varf=netCDF4.Dataset(f)\n",
    "        #extract array from fonction read (the fonction would need adaptation to work directly on the NEMO grid)\n",
    "        mod, latobs, lonobs  = extract_array(varf, varname, nmon, lon_bnds, lat_bnds, level=\"all\")\n",
    "        #mask land\n",
    "        mod=np.ma.array(mod, mask=mod>1e10)\n",
    "        #average over the region (from function read)\n",
    "        mod = area_av(mod, 1, 2, latobs, lonobs)\n",
    "        moddate.append(mod)\n",
    "        \n",
    "    varMM.append(np.ma.array(moddate))\n",
    "    \n",
    "varMM=np.ma.array(varMM)*scale"
   ]
  },
  {
   "cell_type": "code",
   "execution_count": 11,
   "metadata": {},
   "outputs": [
    {
     "name": "stdout",
     "output_type": "stream",
     "text": [
      "/home/prodhommec/cnrm/pastel/DATA/sys8/series/ts/HE/PASTEL_H1998E001*6hourly_ts_1998*\n"
     ]
    }
   ],
   "source": [
    "print(prefixe+\"/cnrm/pastel/DATA/sys8/series/ts/HE/PASTEL_H\"+s.strftime(\"%Y\")+membstr+\"*6hourly_ts_\"+s.strftime(\"%Y\")+\"*\")"
   ]
  },
  {
   "cell_type": "code",
   "execution_count": 12,
   "metadata": {},
   "outputs": [
    {
     "name": "stdout",
     "output_type": "stream",
     "text": [
      "E001\n",
      "all\n",
      "True [-20  -1]\n",
      "3\n",
      "I am here\n",
      "1\n",
      "(6, 6, 20)\n"
     ]
    },
    {
     "name": "stderr",
     "output_type": "stream",
     "text": [
      "/home/prodhommec/analyseMF/scripts-final-MF/previ-sais/function_read.py:26: FutureWarning: elementwise comparison failed; returning scalar instead, but in the future will perform elementwise comparison\n",
      "  print(lon_bnds != \"all\", lon_bnds)\n",
      "/home/prodhommec/analyseMF/scripts-final-MF/previ-sais/function_read.py:27: FutureWarning: elementwise comparison failed; returning scalar instead, but in the future will perform elementwise comparison\n",
      "  if lon_bnds != \"all\":\n"
     ]
    },
    {
     "name": "stdout",
     "output_type": "stream",
     "text": [
      "all\n",
      "True [-20  -1]\n",
      "3\n",
      "I am here\n",
      "1\n",
      "(6, 6, 20)\n"
     ]
    },
    {
     "name": "stderr",
     "output_type": "stream",
     "text": [
      "/home/prodhommec/analyseMF/scripts-final-MF/previ-sais/function_read.py:26: FutureWarning: elementwise comparison failed; returning scalar instead, but in the future will perform elementwise comparison\n",
      "  print(lon_bnds != \"all\", lon_bnds)\n",
      "/home/prodhommec/analyseMF/scripts-final-MF/previ-sais/function_read.py:27: FutureWarning: elementwise comparison failed; returning scalar instead, but in the future will perform elementwise comparison\n",
      "  if lon_bnds != \"all\":\n"
     ]
    },
    {
     "name": "stdout",
     "output_type": "stream",
     "text": [
      "all\n",
      "True [-20  -1]\n",
      "3\n",
      "I am here\n",
      "1\n",
      "(6, 6, 20)\n"
     ]
    },
    {
     "name": "stderr",
     "output_type": "stream",
     "text": [
      "/home/prodhommec/analyseMF/scripts-final-MF/previ-sais/function_read.py:26: FutureWarning: elementwise comparison failed; returning scalar instead, but in the future will perform elementwise comparison\n",
      "  print(lon_bnds != \"all\", lon_bnds)\n",
      "/home/prodhommec/analyseMF/scripts-final-MF/previ-sais/function_read.py:27: FutureWarning: elementwise comparison failed; returning scalar instead, but in the future will perform elementwise comparison\n",
      "  if lon_bnds != \"all\":\n"
     ]
    },
    {
     "name": "stdout",
     "output_type": "stream",
     "text": [
      "all\n",
      "True [-20  -1]\n",
      "3\n",
      "I am here\n",
      "1\n",
      "(6, 6, 20)\n"
     ]
    },
    {
     "name": "stderr",
     "output_type": "stream",
     "text": [
      "/home/prodhommec/analyseMF/scripts-final-MF/previ-sais/function_read.py:26: FutureWarning: elementwise comparison failed; returning scalar instead, but in the future will perform elementwise comparison\n",
      "  print(lon_bnds != \"all\", lon_bnds)\n",
      "/home/prodhommec/analyseMF/scripts-final-MF/previ-sais/function_read.py:27: FutureWarning: elementwise comparison failed; returning scalar instead, but in the future will perform elementwise comparison\n",
      "  if lon_bnds != \"all\":\n"
     ]
    },
    {
     "name": "stdout",
     "output_type": "stream",
     "text": [
      "all\n",
      "True [-20  -1]\n",
      "3\n",
      "I am here\n",
      "1\n",
      "(6, 6, 20)\n"
     ]
    },
    {
     "name": "stderr",
     "output_type": "stream",
     "text": [
      "/home/prodhommec/analyseMF/scripts-final-MF/previ-sais/function_read.py:26: FutureWarning: elementwise comparison failed; returning scalar instead, but in the future will perform elementwise comparison\n",
      "  print(lon_bnds != \"all\", lon_bnds)\n",
      "/home/prodhommec/analyseMF/scripts-final-MF/previ-sais/function_read.py:27: FutureWarning: elementwise comparison failed; returning scalar instead, but in the future will perform elementwise comparison\n",
      "  if lon_bnds != \"all\":\n"
     ]
    },
    {
     "name": "stdout",
     "output_type": "stream",
     "text": [
      "all\n",
      "True [-20  -1]\n",
      "3\n",
      "I am here\n",
      "1\n",
      "(6, 6, 20)\n"
     ]
    },
    {
     "name": "stderr",
     "output_type": "stream",
     "text": [
      "/home/prodhommec/analyseMF/scripts-final-MF/previ-sais/function_read.py:26: FutureWarning: elementwise comparison failed; returning scalar instead, but in the future will perform elementwise comparison\n",
      "  print(lon_bnds != \"all\", lon_bnds)\n",
      "/home/prodhommec/analyseMF/scripts-final-MF/previ-sais/function_read.py:27: FutureWarning: elementwise comparison failed; returning scalar instead, but in the future will perform elementwise comparison\n",
      "  if lon_bnds != \"all\":\n"
     ]
    },
    {
     "name": "stdout",
     "output_type": "stream",
     "text": [
      "all\n",
      "True [-20  -1]\n",
      "3\n",
      "I am here\n",
      "1\n",
      "(6, 6, 20)\n"
     ]
    },
    {
     "name": "stderr",
     "output_type": "stream",
     "text": [
      "/home/prodhommec/analyseMF/scripts-final-MF/previ-sais/function_read.py:26: FutureWarning: elementwise comparison failed; returning scalar instead, but in the future will perform elementwise comparison\n",
      "  print(lon_bnds != \"all\", lon_bnds)\n",
      "/home/prodhommec/analyseMF/scripts-final-MF/previ-sais/function_read.py:27: FutureWarning: elementwise comparison failed; returning scalar instead, but in the future will perform elementwise comparison\n",
      "  if lon_bnds != \"all\":\n"
     ]
    },
    {
     "name": "stdout",
     "output_type": "stream",
     "text": [
      "all\n",
      "True [-20  -1]\n",
      "3\n",
      "I am here\n",
      "1\n",
      "(6, 6, 20)\n"
     ]
    },
    {
     "name": "stderr",
     "output_type": "stream",
     "text": [
      "/home/prodhommec/analyseMF/scripts-final-MF/previ-sais/function_read.py:26: FutureWarning: elementwise comparison failed; returning scalar instead, but in the future will perform elementwise comparison\n",
      "  print(lon_bnds != \"all\", lon_bnds)\n",
      "/home/prodhommec/analyseMF/scripts-final-MF/previ-sais/function_read.py:27: FutureWarning: elementwise comparison failed; returning scalar instead, but in the future will perform elementwise comparison\n",
      "  if lon_bnds != \"all\":\n"
     ]
    },
    {
     "name": "stdout",
     "output_type": "stream",
     "text": [
      "all\n",
      "True [-20  -1]\n",
      "3\n",
      "I am here\n",
      "1\n",
      "(6, 6, 20)\n"
     ]
    },
    {
     "name": "stderr",
     "output_type": "stream",
     "text": [
      "/home/prodhommec/analyseMF/scripts-final-MF/previ-sais/function_read.py:26: FutureWarning: elementwise comparison failed; returning scalar instead, but in the future will perform elementwise comparison\n",
      "  print(lon_bnds != \"all\", lon_bnds)\n",
      "/home/prodhommec/analyseMF/scripts-final-MF/previ-sais/function_read.py:27: FutureWarning: elementwise comparison failed; returning scalar instead, but in the future will perform elementwise comparison\n",
      "  if lon_bnds != \"all\":\n"
     ]
    },
    {
     "name": "stdout",
     "output_type": "stream",
     "text": [
      "all\n",
      "True [-20  -1]\n",
      "3\n",
      "I am here\n",
      "1\n",
      "(6, 6, 20)\n"
     ]
    },
    {
     "name": "stderr",
     "output_type": "stream",
     "text": [
      "/home/prodhommec/analyseMF/scripts-final-MF/previ-sais/function_read.py:26: FutureWarning: elementwise comparison failed; returning scalar instead, but in the future will perform elementwise comparison\n",
      "  print(lon_bnds != \"all\", lon_bnds)\n",
      "/home/prodhommec/analyseMF/scripts-final-MF/previ-sais/function_read.py:27: FutureWarning: elementwise comparison failed; returning scalar instead, but in the future will perform elementwise comparison\n",
      "  if lon_bnds != \"all\":\n"
     ]
    },
    {
     "name": "stdout",
     "output_type": "stream",
     "text": [
      "all\n",
      "True [-20  -1]\n",
      "3\n",
      "I am here\n",
      "1\n",
      "(6, 6, 20)\n"
     ]
    },
    {
     "name": "stderr",
     "output_type": "stream",
     "text": [
      "/home/prodhommec/analyseMF/scripts-final-MF/previ-sais/function_read.py:26: FutureWarning: elementwise comparison failed; returning scalar instead, but in the future will perform elementwise comparison\n",
      "  print(lon_bnds != \"all\", lon_bnds)\n",
      "/home/prodhommec/analyseMF/scripts-final-MF/previ-sais/function_read.py:27: FutureWarning: elementwise comparison failed; returning scalar instead, but in the future will perform elementwise comparison\n",
      "  if lon_bnds != \"all\":\n"
     ]
    },
    {
     "name": "stdout",
     "output_type": "stream",
     "text": [
      "all\n",
      "True [-20  -1]\n",
      "3\n",
      "I am here\n",
      "1\n",
      "(6, 6, 20)\n"
     ]
    },
    {
     "name": "stderr",
     "output_type": "stream",
     "text": [
      "/home/prodhommec/analyseMF/scripts-final-MF/previ-sais/function_read.py:26: FutureWarning: elementwise comparison failed; returning scalar instead, but in the future will perform elementwise comparison\n",
      "  print(lon_bnds != \"all\", lon_bnds)\n",
      "/home/prodhommec/analyseMF/scripts-final-MF/previ-sais/function_read.py:27: FutureWarning: elementwise comparison failed; returning scalar instead, but in the future will perform elementwise comparison\n",
      "  if lon_bnds != \"all\":\n"
     ]
    },
    {
     "name": "stdout",
     "output_type": "stream",
     "text": [
      "all\n",
      "True [-20  -1]\n",
      "3\n",
      "I am here\n",
      "1\n",
      "(6, 6, 20)\n"
     ]
    },
    {
     "name": "stderr",
     "output_type": "stream",
     "text": [
      "/home/prodhommec/analyseMF/scripts-final-MF/previ-sais/function_read.py:26: FutureWarning: elementwise comparison failed; returning scalar instead, but in the future will perform elementwise comparison\n",
      "  print(lon_bnds != \"all\", lon_bnds)\n",
      "/home/prodhommec/analyseMF/scripts-final-MF/previ-sais/function_read.py:27: FutureWarning: elementwise comparison failed; returning scalar instead, but in the future will perform elementwise comparison\n",
      "  if lon_bnds != \"all\":\n"
     ]
    },
    {
     "name": "stdout",
     "output_type": "stream",
     "text": [
      "all\n",
      "True [-20  -1]\n",
      "3\n",
      "I am here\n",
      "1\n",
      "(6, 6, 20)\n"
     ]
    },
    {
     "name": "stderr",
     "output_type": "stream",
     "text": [
      "/home/prodhommec/analyseMF/scripts-final-MF/previ-sais/function_read.py:26: FutureWarning: elementwise comparison failed; returning scalar instead, but in the future will perform elementwise comparison\n",
      "  print(lon_bnds != \"all\", lon_bnds)\n",
      "/home/prodhommec/analyseMF/scripts-final-MF/previ-sais/function_read.py:27: FutureWarning: elementwise comparison failed; returning scalar instead, but in the future will perform elementwise comparison\n",
      "  if lon_bnds != \"all\":\n"
     ]
    },
    {
     "name": "stdout",
     "output_type": "stream",
     "text": [
      "all\n",
      "True [-20  -1]\n",
      "3\n",
      "I am here\n",
      "1\n",
      "(6, 6, 20)\n"
     ]
    },
    {
     "name": "stderr",
     "output_type": "stream",
     "text": [
      "/home/prodhommec/analyseMF/scripts-final-MF/previ-sais/function_read.py:26: FutureWarning: elementwise comparison failed; returning scalar instead, but in the future will perform elementwise comparison\n",
      "  print(lon_bnds != \"all\", lon_bnds)\n",
      "/home/prodhommec/analyseMF/scripts-final-MF/previ-sais/function_read.py:27: FutureWarning: elementwise comparison failed; returning scalar instead, but in the future will perform elementwise comparison\n",
      "  if lon_bnds != \"all\":\n"
     ]
    },
    {
     "name": "stdout",
     "output_type": "stream",
     "text": [
      "all\n",
      "True [-20  -1]\n",
      "3\n",
      "I am here\n",
      "1\n",
      "(6, 6, 20)\n"
     ]
    },
    {
     "name": "stderr",
     "output_type": "stream",
     "text": [
      "/home/prodhommec/analyseMF/scripts-final-MF/previ-sais/function_read.py:26: FutureWarning: elementwise comparison failed; returning scalar instead, but in the future will perform elementwise comparison\n",
      "  print(lon_bnds != \"all\", lon_bnds)\n",
      "/home/prodhommec/analyseMF/scripts-final-MF/previ-sais/function_read.py:27: FutureWarning: elementwise comparison failed; returning scalar instead, but in the future will perform elementwise comparison\n",
      "  if lon_bnds != \"all\":\n"
     ]
    },
    {
     "name": "stdout",
     "output_type": "stream",
     "text": [
      "all\n",
      "True [-20  -1]\n",
      "3\n",
      "I am here\n",
      "1\n",
      "(6, 6, 20)\n",
      "E002\n"
     ]
    },
    {
     "name": "stderr",
     "output_type": "stream",
     "text": [
      "/home/prodhommec/analyseMF/scripts-final-MF/previ-sais/function_read.py:26: FutureWarning: elementwise comparison failed; returning scalar instead, but in the future will perform elementwise comparison\n",
      "  print(lon_bnds != \"all\", lon_bnds)\n",
      "/home/prodhommec/analyseMF/scripts-final-MF/previ-sais/function_read.py:27: FutureWarning: elementwise comparison failed; returning scalar instead, but in the future will perform elementwise comparison\n",
      "  if lon_bnds != \"all\":\n"
     ]
    },
    {
     "name": "stdout",
     "output_type": "stream",
     "text": [
      "all\n",
      "True [-20  -1]\n",
      "3\n",
      "I am here\n",
      "1\n",
      "(6, 6, 20)\n"
     ]
    },
    {
     "name": "stderr",
     "output_type": "stream",
     "text": [
      "/home/prodhommec/analyseMF/scripts-final-MF/previ-sais/function_read.py:26: FutureWarning: elementwise comparison failed; returning scalar instead, but in the future will perform elementwise comparison\n",
      "  print(lon_bnds != \"all\", lon_bnds)\n",
      "/home/prodhommec/analyseMF/scripts-final-MF/previ-sais/function_read.py:27: FutureWarning: elementwise comparison failed; returning scalar instead, but in the future will perform elementwise comparison\n",
      "  if lon_bnds != \"all\":\n"
     ]
    },
    {
     "name": "stdout",
     "output_type": "stream",
     "text": [
      "all\n",
      "True [-20  -1]\n",
      "3\n",
      "I am here\n",
      "1\n",
      "(6, 6, 20)\n"
     ]
    },
    {
     "name": "stderr",
     "output_type": "stream",
     "text": [
      "/home/prodhommec/analyseMF/scripts-final-MF/previ-sais/function_read.py:26: FutureWarning: elementwise comparison failed; returning scalar instead, but in the future will perform elementwise comparison\n",
      "  print(lon_bnds != \"all\", lon_bnds)\n",
      "/home/prodhommec/analyseMF/scripts-final-MF/previ-sais/function_read.py:27: FutureWarning: elementwise comparison failed; returning scalar instead, but in the future will perform elementwise comparison\n",
      "  if lon_bnds != \"all\":\n"
     ]
    },
    {
     "name": "stdout",
     "output_type": "stream",
     "text": [
      "all\n",
      "True [-20  -1]\n",
      "3\n",
      "I am here\n",
      "1\n",
      "(6, 6, 20)\n"
     ]
    },
    {
     "name": "stderr",
     "output_type": "stream",
     "text": [
      "/home/prodhommec/analyseMF/scripts-final-MF/previ-sais/function_read.py:26: FutureWarning: elementwise comparison failed; returning scalar instead, but in the future will perform elementwise comparison\n",
      "  print(lon_bnds != \"all\", lon_bnds)\n",
      "/home/prodhommec/analyseMF/scripts-final-MF/previ-sais/function_read.py:27: FutureWarning: elementwise comparison failed; returning scalar instead, but in the future will perform elementwise comparison\n",
      "  if lon_bnds != \"all\":\n"
     ]
    },
    {
     "name": "stdout",
     "output_type": "stream",
     "text": [
      "all\n",
      "True [-20  -1]\n",
      "3\n",
      "I am here\n",
      "1\n",
      "(6, 6, 20)\n"
     ]
    },
    {
     "name": "stderr",
     "output_type": "stream",
     "text": [
      "/home/prodhommec/analyseMF/scripts-final-MF/previ-sais/function_read.py:26: FutureWarning: elementwise comparison failed; returning scalar instead, but in the future will perform elementwise comparison\n",
      "  print(lon_bnds != \"all\", lon_bnds)\n",
      "/home/prodhommec/analyseMF/scripts-final-MF/previ-sais/function_read.py:27: FutureWarning: elementwise comparison failed; returning scalar instead, but in the future will perform elementwise comparison\n",
      "  if lon_bnds != \"all\":\n"
     ]
    },
    {
     "name": "stdout",
     "output_type": "stream",
     "text": [
      "all\n",
      "True [-20  -1]\n",
      "3\n",
      "I am here\n",
      "1\n",
      "(6, 6, 20)\n"
     ]
    },
    {
     "name": "stderr",
     "output_type": "stream",
     "text": [
      "/home/prodhommec/analyseMF/scripts-final-MF/previ-sais/function_read.py:26: FutureWarning: elementwise comparison failed; returning scalar instead, but in the future will perform elementwise comparison\n",
      "  print(lon_bnds != \"all\", lon_bnds)\n",
      "/home/prodhommec/analyseMF/scripts-final-MF/previ-sais/function_read.py:27: FutureWarning: elementwise comparison failed; returning scalar instead, but in the future will perform elementwise comparison\n",
      "  if lon_bnds != \"all\":\n"
     ]
    },
    {
     "name": "stdout",
     "output_type": "stream",
     "text": [
      "all\n",
      "True [-20  -1]\n",
      "3\n",
      "I am here\n",
      "1\n",
      "(6, 6, 20)\n"
     ]
    },
    {
     "name": "stderr",
     "output_type": "stream",
     "text": [
      "/home/prodhommec/analyseMF/scripts-final-MF/previ-sais/function_read.py:26: FutureWarning: elementwise comparison failed; returning scalar instead, but in the future will perform elementwise comparison\n",
      "  print(lon_bnds != \"all\", lon_bnds)\n",
      "/home/prodhommec/analyseMF/scripts-final-MF/previ-sais/function_read.py:27: FutureWarning: elementwise comparison failed; returning scalar instead, but in the future will perform elementwise comparison\n",
      "  if lon_bnds != \"all\":\n"
     ]
    },
    {
     "name": "stdout",
     "output_type": "stream",
     "text": [
      "all\n",
      "True [-20  -1]\n",
      "3\n",
      "I am here\n",
      "1\n",
      "(6, 6, 20)\n"
     ]
    },
    {
     "name": "stderr",
     "output_type": "stream",
     "text": [
      "/home/prodhommec/analyseMF/scripts-final-MF/previ-sais/function_read.py:26: FutureWarning: elementwise comparison failed; returning scalar instead, but in the future will perform elementwise comparison\n",
      "  print(lon_bnds != \"all\", lon_bnds)\n",
      "/home/prodhommec/analyseMF/scripts-final-MF/previ-sais/function_read.py:27: FutureWarning: elementwise comparison failed; returning scalar instead, but in the future will perform elementwise comparison\n",
      "  if lon_bnds != \"all\":\n"
     ]
    },
    {
     "name": "stdout",
     "output_type": "stream",
     "text": [
      "all\n",
      "True [-20  -1]\n",
      "3\n",
      "I am here\n",
      "1\n",
      "(6, 6, 20)\n"
     ]
    },
    {
     "name": "stderr",
     "output_type": "stream",
     "text": [
      "/home/prodhommec/analyseMF/scripts-final-MF/previ-sais/function_read.py:26: FutureWarning: elementwise comparison failed; returning scalar instead, but in the future will perform elementwise comparison\n",
      "  print(lon_bnds != \"all\", lon_bnds)\n",
      "/home/prodhommec/analyseMF/scripts-final-MF/previ-sais/function_read.py:27: FutureWarning: elementwise comparison failed; returning scalar instead, but in the future will perform elementwise comparison\n",
      "  if lon_bnds != \"all\":\n"
     ]
    },
    {
     "name": "stdout",
     "output_type": "stream",
     "text": [
      "all\n",
      "True [-20  -1]\n",
      "3\n",
      "I am here\n",
      "1\n",
      "(6, 6, 20)\n"
     ]
    },
    {
     "name": "stderr",
     "output_type": "stream",
     "text": [
      "/home/prodhommec/analyseMF/scripts-final-MF/previ-sais/function_read.py:26: FutureWarning: elementwise comparison failed; returning scalar instead, but in the future will perform elementwise comparison\n",
      "  print(lon_bnds != \"all\", lon_bnds)\n",
      "/home/prodhommec/analyseMF/scripts-final-MF/previ-sais/function_read.py:27: FutureWarning: elementwise comparison failed; returning scalar instead, but in the future will perform elementwise comparison\n",
      "  if lon_bnds != \"all\":\n"
     ]
    },
    {
     "name": "stdout",
     "output_type": "stream",
     "text": [
      "all\n",
      "True [-20  -1]\n",
      "3\n",
      "I am here\n",
      "1\n",
      "(6, 6, 20)\n"
     ]
    },
    {
     "name": "stderr",
     "output_type": "stream",
     "text": [
      "/home/prodhommec/analyseMF/scripts-final-MF/previ-sais/function_read.py:26: FutureWarning: elementwise comparison failed; returning scalar instead, but in the future will perform elementwise comparison\n",
      "  print(lon_bnds != \"all\", lon_bnds)\n",
      "/home/prodhommec/analyseMF/scripts-final-MF/previ-sais/function_read.py:27: FutureWarning: elementwise comparison failed; returning scalar instead, but in the future will perform elementwise comparison\n",
      "  if lon_bnds != \"all\":\n"
     ]
    },
    {
     "name": "stdout",
     "output_type": "stream",
     "text": [
      "all\n",
      "True [-20  -1]\n",
      "3\n",
      "I am here\n",
      "1\n",
      "(6, 6, 20)\n"
     ]
    },
    {
     "name": "stderr",
     "output_type": "stream",
     "text": [
      "/home/prodhommec/analyseMF/scripts-final-MF/previ-sais/function_read.py:26: FutureWarning: elementwise comparison failed; returning scalar instead, but in the future will perform elementwise comparison\n",
      "  print(lon_bnds != \"all\", lon_bnds)\n",
      "/home/prodhommec/analyseMF/scripts-final-MF/previ-sais/function_read.py:27: FutureWarning: elementwise comparison failed; returning scalar instead, but in the future will perform elementwise comparison\n",
      "  if lon_bnds != \"all\":\n"
     ]
    },
    {
     "name": "stdout",
     "output_type": "stream",
     "text": [
      "all\n",
      "True [-20  -1]\n",
      "3\n",
      "I am here\n",
      "1\n",
      "(6, 6, 20)\n"
     ]
    },
    {
     "name": "stderr",
     "output_type": "stream",
     "text": [
      "/home/prodhommec/analyseMF/scripts-final-MF/previ-sais/function_read.py:26: FutureWarning: elementwise comparison failed; returning scalar instead, but in the future will perform elementwise comparison\n",
      "  print(lon_bnds != \"all\", lon_bnds)\n",
      "/home/prodhommec/analyseMF/scripts-final-MF/previ-sais/function_read.py:27: FutureWarning: elementwise comparison failed; returning scalar instead, but in the future will perform elementwise comparison\n",
      "  if lon_bnds != \"all\":\n"
     ]
    },
    {
     "name": "stdout",
     "output_type": "stream",
     "text": [
      "all\n",
      "True [-20  -1]\n",
      "3\n",
      "I am here\n",
      "1\n",
      "(6, 6, 20)\n"
     ]
    },
    {
     "name": "stderr",
     "output_type": "stream",
     "text": [
      "/home/prodhommec/analyseMF/scripts-final-MF/previ-sais/function_read.py:26: FutureWarning: elementwise comparison failed; returning scalar instead, but in the future will perform elementwise comparison\n",
      "  print(lon_bnds != \"all\", lon_bnds)\n",
      "/home/prodhommec/analyseMF/scripts-final-MF/previ-sais/function_read.py:27: FutureWarning: elementwise comparison failed; returning scalar instead, but in the future will perform elementwise comparison\n",
      "  if lon_bnds != \"all\":\n"
     ]
    },
    {
     "name": "stdout",
     "output_type": "stream",
     "text": [
      "all\n",
      "True [-20  -1]\n",
      "3\n",
      "I am here\n",
      "1\n",
      "(6, 6, 20)\n"
     ]
    },
    {
     "name": "stderr",
     "output_type": "stream",
     "text": [
      "/home/prodhommec/analyseMF/scripts-final-MF/previ-sais/function_read.py:26: FutureWarning: elementwise comparison failed; returning scalar instead, but in the future will perform elementwise comparison\n",
      "  print(lon_bnds != \"all\", lon_bnds)\n",
      "/home/prodhommec/analyseMF/scripts-final-MF/previ-sais/function_read.py:27: FutureWarning: elementwise comparison failed; returning scalar instead, but in the future will perform elementwise comparison\n",
      "  if lon_bnds != \"all\":\n"
     ]
    },
    {
     "name": "stdout",
     "output_type": "stream",
     "text": [
      "all\n",
      "True [-20  -1]\n",
      "3\n",
      "I am here\n",
      "1\n",
      "(6, 6, 20)\n"
     ]
    },
    {
     "name": "stderr",
     "output_type": "stream",
     "text": [
      "/home/prodhommec/analyseMF/scripts-final-MF/previ-sais/function_read.py:26: FutureWarning: elementwise comparison failed; returning scalar instead, but in the future will perform elementwise comparison\n",
      "  print(lon_bnds != \"all\", lon_bnds)\n",
      "/home/prodhommec/analyseMF/scripts-final-MF/previ-sais/function_read.py:27: FutureWarning: elementwise comparison failed; returning scalar instead, but in the future will perform elementwise comparison\n",
      "  if lon_bnds != \"all\":\n"
     ]
    },
    {
     "name": "stdout",
     "output_type": "stream",
     "text": [
      "all\n",
      "True [-20  -1]\n",
      "3\n",
      "I am here\n",
      "1\n",
      "(6, 6, 20)\n"
     ]
    },
    {
     "name": "stderr",
     "output_type": "stream",
     "text": [
      "/home/prodhommec/analyseMF/scripts-final-MF/previ-sais/function_read.py:26: FutureWarning: elementwise comparison failed; returning scalar instead, but in the future will perform elementwise comparison\n",
      "  print(lon_bnds != \"all\", lon_bnds)\n",
      "/home/prodhommec/analyseMF/scripts-final-MF/previ-sais/function_read.py:27: FutureWarning: elementwise comparison failed; returning scalar instead, but in the future will perform elementwise comparison\n",
      "  if lon_bnds != \"all\":\n"
     ]
    },
    {
     "name": "stdout",
     "output_type": "stream",
     "text": [
      "all\n",
      "True [-20  -1]\n",
      "3\n",
      "I am here\n",
      "1\n",
      "(6, 6, 20)\n",
      "E003\n"
     ]
    },
    {
     "name": "stderr",
     "output_type": "stream",
     "text": [
      "/home/prodhommec/analyseMF/scripts-final-MF/previ-sais/function_read.py:26: FutureWarning: elementwise comparison failed; returning scalar instead, but in the future will perform elementwise comparison\n",
      "  print(lon_bnds != \"all\", lon_bnds)\n",
      "/home/prodhommec/analyseMF/scripts-final-MF/previ-sais/function_read.py:27: FutureWarning: elementwise comparison failed; returning scalar instead, but in the future will perform elementwise comparison\n",
      "  if lon_bnds != \"all\":\n"
     ]
    },
    {
     "name": "stdout",
     "output_type": "stream",
     "text": [
      "all\n",
      "True [-20  -1]\n",
      "3\n",
      "I am here\n",
      "1\n",
      "(6, 6, 20)\n"
     ]
    },
    {
     "name": "stderr",
     "output_type": "stream",
     "text": [
      "/home/prodhommec/analyseMF/scripts-final-MF/previ-sais/function_read.py:26: FutureWarning: elementwise comparison failed; returning scalar instead, but in the future will perform elementwise comparison\n",
      "  print(lon_bnds != \"all\", lon_bnds)\n",
      "/home/prodhommec/analyseMF/scripts-final-MF/previ-sais/function_read.py:27: FutureWarning: elementwise comparison failed; returning scalar instead, but in the future will perform elementwise comparison\n",
      "  if lon_bnds != \"all\":\n"
     ]
    },
    {
     "name": "stdout",
     "output_type": "stream",
     "text": [
      "all\n",
      "True [-20  -1]\n",
      "3\n",
      "I am here\n",
      "1\n",
      "(6, 6, 20)\n"
     ]
    },
    {
     "name": "stderr",
     "output_type": "stream",
     "text": [
      "/home/prodhommec/analyseMF/scripts-final-MF/previ-sais/function_read.py:26: FutureWarning: elementwise comparison failed; returning scalar instead, but in the future will perform elementwise comparison\n",
      "  print(lon_bnds != \"all\", lon_bnds)\n",
      "/home/prodhommec/analyseMF/scripts-final-MF/previ-sais/function_read.py:27: FutureWarning: elementwise comparison failed; returning scalar instead, but in the future will perform elementwise comparison\n",
      "  if lon_bnds != \"all\":\n"
     ]
    },
    {
     "name": "stdout",
     "output_type": "stream",
     "text": [
      "all\n",
      "True [-20  -1]\n",
      "3\n",
      "I am here\n",
      "1\n",
      "(6, 6, 20)\n"
     ]
    },
    {
     "name": "stderr",
     "output_type": "stream",
     "text": [
      "/home/prodhommec/analyseMF/scripts-final-MF/previ-sais/function_read.py:26: FutureWarning: elementwise comparison failed; returning scalar instead, but in the future will perform elementwise comparison\n",
      "  print(lon_bnds != \"all\", lon_bnds)\n",
      "/home/prodhommec/analyseMF/scripts-final-MF/previ-sais/function_read.py:27: FutureWarning: elementwise comparison failed; returning scalar instead, but in the future will perform elementwise comparison\n",
      "  if lon_bnds != \"all\":\n"
     ]
    },
    {
     "name": "stdout",
     "output_type": "stream",
     "text": [
      "all\n",
      "True [-20  -1]\n",
      "3\n",
      "I am here\n",
      "1\n",
      "(6, 6, 20)\n"
     ]
    },
    {
     "name": "stderr",
     "output_type": "stream",
     "text": [
      "/home/prodhommec/analyseMF/scripts-final-MF/previ-sais/function_read.py:26: FutureWarning: elementwise comparison failed; returning scalar instead, but in the future will perform elementwise comparison\n",
      "  print(lon_bnds != \"all\", lon_bnds)\n",
      "/home/prodhommec/analyseMF/scripts-final-MF/previ-sais/function_read.py:27: FutureWarning: elementwise comparison failed; returning scalar instead, but in the future will perform elementwise comparison\n",
      "  if lon_bnds != \"all\":\n"
     ]
    },
    {
     "name": "stdout",
     "output_type": "stream",
     "text": [
      "all\n",
      "True [-20  -1]\n",
      "3\n",
      "I am here\n",
      "1\n",
      "(6, 6, 20)\n"
     ]
    },
    {
     "name": "stderr",
     "output_type": "stream",
     "text": [
      "/home/prodhommec/analyseMF/scripts-final-MF/previ-sais/function_read.py:26: FutureWarning: elementwise comparison failed; returning scalar instead, but in the future will perform elementwise comparison\n",
      "  print(lon_bnds != \"all\", lon_bnds)\n",
      "/home/prodhommec/analyseMF/scripts-final-MF/previ-sais/function_read.py:27: FutureWarning: elementwise comparison failed; returning scalar instead, but in the future will perform elementwise comparison\n",
      "  if lon_bnds != \"all\":\n"
     ]
    },
    {
     "name": "stdout",
     "output_type": "stream",
     "text": [
      "all\n",
      "True [-20  -1]\n",
      "3\n",
      "I am here\n",
      "1\n",
      "(6, 6, 20)\n"
     ]
    },
    {
     "name": "stderr",
     "output_type": "stream",
     "text": [
      "/home/prodhommec/analyseMF/scripts-final-MF/previ-sais/function_read.py:26: FutureWarning: elementwise comparison failed; returning scalar instead, but in the future will perform elementwise comparison\n",
      "  print(lon_bnds != \"all\", lon_bnds)\n",
      "/home/prodhommec/analyseMF/scripts-final-MF/previ-sais/function_read.py:27: FutureWarning: elementwise comparison failed; returning scalar instead, but in the future will perform elementwise comparison\n",
      "  if lon_bnds != \"all\":\n"
     ]
    },
    {
     "name": "stdout",
     "output_type": "stream",
     "text": [
      "all\n",
      "True [-20  -1]\n",
      "3\n",
      "I am here\n",
      "1\n",
      "(6, 6, 20)\n"
     ]
    },
    {
     "name": "stderr",
     "output_type": "stream",
     "text": [
      "/home/prodhommec/analyseMF/scripts-final-MF/previ-sais/function_read.py:26: FutureWarning: elementwise comparison failed; returning scalar instead, but in the future will perform elementwise comparison\n",
      "  print(lon_bnds != \"all\", lon_bnds)\n",
      "/home/prodhommec/analyseMF/scripts-final-MF/previ-sais/function_read.py:27: FutureWarning: elementwise comparison failed; returning scalar instead, but in the future will perform elementwise comparison\n",
      "  if lon_bnds != \"all\":\n"
     ]
    },
    {
     "name": "stdout",
     "output_type": "stream",
     "text": [
      "all\n",
      "True [-20  -1]\n",
      "3\n",
      "I am here\n",
      "1\n",
      "(6, 6, 20)\n"
     ]
    },
    {
     "name": "stderr",
     "output_type": "stream",
     "text": [
      "/home/prodhommec/analyseMF/scripts-final-MF/previ-sais/function_read.py:26: FutureWarning: elementwise comparison failed; returning scalar instead, but in the future will perform elementwise comparison\n",
      "  print(lon_bnds != \"all\", lon_bnds)\n",
      "/home/prodhommec/analyseMF/scripts-final-MF/previ-sais/function_read.py:27: FutureWarning: elementwise comparison failed; returning scalar instead, but in the future will perform elementwise comparison\n",
      "  if lon_bnds != \"all\":\n"
     ]
    },
    {
     "name": "stdout",
     "output_type": "stream",
     "text": [
      "all\n",
      "True [-20  -1]\n",
      "3\n",
      "I am here\n",
      "1\n",
      "(6, 6, 20)\n"
     ]
    },
    {
     "name": "stderr",
     "output_type": "stream",
     "text": [
      "/home/prodhommec/analyseMF/scripts-final-MF/previ-sais/function_read.py:26: FutureWarning: elementwise comparison failed; returning scalar instead, but in the future will perform elementwise comparison\n",
      "  print(lon_bnds != \"all\", lon_bnds)\n",
      "/home/prodhommec/analyseMF/scripts-final-MF/previ-sais/function_read.py:27: FutureWarning: elementwise comparison failed; returning scalar instead, but in the future will perform elementwise comparison\n",
      "  if lon_bnds != \"all\":\n"
     ]
    },
    {
     "name": "stdout",
     "output_type": "stream",
     "text": [
      "all\n",
      "True [-20  -1]\n",
      "3\n",
      "I am here\n",
      "1\n",
      "(6, 6, 20)\n"
     ]
    },
    {
     "name": "stderr",
     "output_type": "stream",
     "text": [
      "/home/prodhommec/analyseMF/scripts-final-MF/previ-sais/function_read.py:26: FutureWarning: elementwise comparison failed; returning scalar instead, but in the future will perform elementwise comparison\n",
      "  print(lon_bnds != \"all\", lon_bnds)\n",
      "/home/prodhommec/analyseMF/scripts-final-MF/previ-sais/function_read.py:27: FutureWarning: elementwise comparison failed; returning scalar instead, but in the future will perform elementwise comparison\n",
      "  if lon_bnds != \"all\":\n"
     ]
    },
    {
     "name": "stdout",
     "output_type": "stream",
     "text": [
      "all\n",
      "True [-20  -1]\n",
      "3\n",
      "I am here\n",
      "1\n",
      "(6, 6, 20)\n"
     ]
    },
    {
     "name": "stderr",
     "output_type": "stream",
     "text": [
      "/home/prodhommec/analyseMF/scripts-final-MF/previ-sais/function_read.py:26: FutureWarning: elementwise comparison failed; returning scalar instead, but in the future will perform elementwise comparison\n",
      "  print(lon_bnds != \"all\", lon_bnds)\n",
      "/home/prodhommec/analyseMF/scripts-final-MF/previ-sais/function_read.py:27: FutureWarning: elementwise comparison failed; returning scalar instead, but in the future will perform elementwise comparison\n",
      "  if lon_bnds != \"all\":\n"
     ]
    },
    {
     "name": "stdout",
     "output_type": "stream",
     "text": [
      "all\n",
      "True [-20  -1]\n",
      "3\n",
      "I am here\n",
      "1\n",
      "(6, 6, 20)\n"
     ]
    },
    {
     "name": "stderr",
     "output_type": "stream",
     "text": [
      "/home/prodhommec/analyseMF/scripts-final-MF/previ-sais/function_read.py:26: FutureWarning: elementwise comparison failed; returning scalar instead, but in the future will perform elementwise comparison\n",
      "  print(lon_bnds != \"all\", lon_bnds)\n",
      "/home/prodhommec/analyseMF/scripts-final-MF/previ-sais/function_read.py:27: FutureWarning: elementwise comparison failed; returning scalar instead, but in the future will perform elementwise comparison\n",
      "  if lon_bnds != \"all\":\n"
     ]
    },
    {
     "name": "stdout",
     "output_type": "stream",
     "text": [
      "all\n",
      "True [-20  -1]\n",
      "3\n",
      "I am here\n",
      "1\n",
      "(6, 6, 20)\n"
     ]
    },
    {
     "name": "stderr",
     "output_type": "stream",
     "text": [
      "/home/prodhommec/analyseMF/scripts-final-MF/previ-sais/function_read.py:26: FutureWarning: elementwise comparison failed; returning scalar instead, but in the future will perform elementwise comparison\n",
      "  print(lon_bnds != \"all\", lon_bnds)\n",
      "/home/prodhommec/analyseMF/scripts-final-MF/previ-sais/function_read.py:27: FutureWarning: elementwise comparison failed; returning scalar instead, but in the future will perform elementwise comparison\n",
      "  if lon_bnds != \"all\":\n"
     ]
    },
    {
     "name": "stdout",
     "output_type": "stream",
     "text": [
      "all\n",
      "True [-20  -1]\n",
      "3\n",
      "I am here\n",
      "1\n",
      "(6, 6, 20)\n"
     ]
    },
    {
     "name": "stderr",
     "output_type": "stream",
     "text": [
      "/home/prodhommec/analyseMF/scripts-final-MF/previ-sais/function_read.py:26: FutureWarning: elementwise comparison failed; returning scalar instead, but in the future will perform elementwise comparison\n",
      "  print(lon_bnds != \"all\", lon_bnds)\n",
      "/home/prodhommec/analyseMF/scripts-final-MF/previ-sais/function_read.py:27: FutureWarning: elementwise comparison failed; returning scalar instead, but in the future will perform elementwise comparison\n",
      "  if lon_bnds != \"all\":\n"
     ]
    },
    {
     "name": "stdout",
     "output_type": "stream",
     "text": [
      "all\n",
      "True [-20  -1]\n",
      "3\n",
      "I am here\n",
      "1\n",
      "(6, 6, 20)\n"
     ]
    },
    {
     "name": "stderr",
     "output_type": "stream",
     "text": [
      "/home/prodhommec/analyseMF/scripts-final-MF/previ-sais/function_read.py:26: FutureWarning: elementwise comparison failed; returning scalar instead, but in the future will perform elementwise comparison\n",
      "  print(lon_bnds != \"all\", lon_bnds)\n",
      "/home/prodhommec/analyseMF/scripts-final-MF/previ-sais/function_read.py:27: FutureWarning: elementwise comparison failed; returning scalar instead, but in the future will perform elementwise comparison\n",
      "  if lon_bnds != \"all\":\n"
     ]
    },
    {
     "name": "stdout",
     "output_type": "stream",
     "text": [
      "all\n",
      "True [-20  -1]\n",
      "3\n",
      "I am here\n",
      "1\n",
      "(6, 6, 20)\n"
     ]
    },
    {
     "name": "stderr",
     "output_type": "stream",
     "text": [
      "/home/prodhommec/analyseMF/scripts-final-MF/previ-sais/function_read.py:26: FutureWarning: elementwise comparison failed; returning scalar instead, but in the future will perform elementwise comparison\n",
      "  print(lon_bnds != \"all\", lon_bnds)\n",
      "/home/prodhommec/analyseMF/scripts-final-MF/previ-sais/function_read.py:27: FutureWarning: elementwise comparison failed; returning scalar instead, but in the future will perform elementwise comparison\n",
      "  if lon_bnds != \"all\":\n"
     ]
    },
    {
     "name": "stdout",
     "output_type": "stream",
     "text": [
      "all\n",
      "True [-20  -1]\n",
      "3\n",
      "I am here\n",
      "1\n",
      "(6, 6, 20)\n",
      "E004\n"
     ]
    },
    {
     "name": "stderr",
     "output_type": "stream",
     "text": [
      "/home/prodhommec/analyseMF/scripts-final-MF/previ-sais/function_read.py:26: FutureWarning: elementwise comparison failed; returning scalar instead, but in the future will perform elementwise comparison\n",
      "  print(lon_bnds != \"all\", lon_bnds)\n",
      "/home/prodhommec/analyseMF/scripts-final-MF/previ-sais/function_read.py:27: FutureWarning: elementwise comparison failed; returning scalar instead, but in the future will perform elementwise comparison\n",
      "  if lon_bnds != \"all\":\n"
     ]
    },
    {
     "name": "stdout",
     "output_type": "stream",
     "text": [
      "all\n",
      "True [-20  -1]\n",
      "3\n",
      "I am here\n",
      "1\n",
      "(6, 6, 20)\n"
     ]
    },
    {
     "name": "stderr",
     "output_type": "stream",
     "text": [
      "/home/prodhommec/analyseMF/scripts-final-MF/previ-sais/function_read.py:26: FutureWarning: elementwise comparison failed; returning scalar instead, but in the future will perform elementwise comparison\n",
      "  print(lon_bnds != \"all\", lon_bnds)\n",
      "/home/prodhommec/analyseMF/scripts-final-MF/previ-sais/function_read.py:27: FutureWarning: elementwise comparison failed; returning scalar instead, but in the future will perform elementwise comparison\n",
      "  if lon_bnds != \"all\":\n"
     ]
    },
    {
     "name": "stdout",
     "output_type": "stream",
     "text": [
      "all\n",
      "True [-20  -1]\n",
      "3\n",
      "I am here\n",
      "1\n",
      "(6, 6, 20)\n"
     ]
    },
    {
     "name": "stderr",
     "output_type": "stream",
     "text": [
      "/home/prodhommec/analyseMF/scripts-final-MF/previ-sais/function_read.py:26: FutureWarning: elementwise comparison failed; returning scalar instead, but in the future will perform elementwise comparison\n",
      "  print(lon_bnds != \"all\", lon_bnds)\n",
      "/home/prodhommec/analyseMF/scripts-final-MF/previ-sais/function_read.py:27: FutureWarning: elementwise comparison failed; returning scalar instead, but in the future will perform elementwise comparison\n",
      "  if lon_bnds != \"all\":\n"
     ]
    },
    {
     "name": "stdout",
     "output_type": "stream",
     "text": [
      "all\n",
      "True [-20  -1]\n",
      "3\n",
      "I am here\n",
      "1\n",
      "(6, 6, 20)\n"
     ]
    },
    {
     "name": "stderr",
     "output_type": "stream",
     "text": [
      "/home/prodhommec/analyseMF/scripts-final-MF/previ-sais/function_read.py:26: FutureWarning: elementwise comparison failed; returning scalar instead, but in the future will perform elementwise comparison\n",
      "  print(lon_bnds != \"all\", lon_bnds)\n",
      "/home/prodhommec/analyseMF/scripts-final-MF/previ-sais/function_read.py:27: FutureWarning: elementwise comparison failed; returning scalar instead, but in the future will perform elementwise comparison\n",
      "  if lon_bnds != \"all\":\n"
     ]
    },
    {
     "name": "stdout",
     "output_type": "stream",
     "text": [
      "all\n",
      "True [-20  -1]\n",
      "3\n",
      "I am here\n",
      "1\n",
      "(6, 6, 20)\n"
     ]
    },
    {
     "name": "stderr",
     "output_type": "stream",
     "text": [
      "/home/prodhommec/analyseMF/scripts-final-MF/previ-sais/function_read.py:26: FutureWarning: elementwise comparison failed; returning scalar instead, but in the future will perform elementwise comparison\n",
      "  print(lon_bnds != \"all\", lon_bnds)\n",
      "/home/prodhommec/analyseMF/scripts-final-MF/previ-sais/function_read.py:27: FutureWarning: elementwise comparison failed; returning scalar instead, but in the future will perform elementwise comparison\n",
      "  if lon_bnds != \"all\":\n"
     ]
    },
    {
     "name": "stdout",
     "output_type": "stream",
     "text": [
      "all\n",
      "True [-20  -1]\n",
      "3\n",
      "I am here\n",
      "1\n",
      "(6, 6, 20)\n"
     ]
    },
    {
     "name": "stderr",
     "output_type": "stream",
     "text": [
      "/home/prodhommec/analyseMF/scripts-final-MF/previ-sais/function_read.py:26: FutureWarning: elementwise comparison failed; returning scalar instead, but in the future will perform elementwise comparison\n",
      "  print(lon_bnds != \"all\", lon_bnds)\n",
      "/home/prodhommec/analyseMF/scripts-final-MF/previ-sais/function_read.py:27: FutureWarning: elementwise comparison failed; returning scalar instead, but in the future will perform elementwise comparison\n",
      "  if lon_bnds != \"all\":\n"
     ]
    },
    {
     "name": "stdout",
     "output_type": "stream",
     "text": [
      "all\n",
      "True [-20  -1]\n",
      "3\n",
      "I am here\n",
      "1\n",
      "(6, 6, 20)\n"
     ]
    },
    {
     "name": "stderr",
     "output_type": "stream",
     "text": [
      "/home/prodhommec/analyseMF/scripts-final-MF/previ-sais/function_read.py:26: FutureWarning: elementwise comparison failed; returning scalar instead, but in the future will perform elementwise comparison\n",
      "  print(lon_bnds != \"all\", lon_bnds)\n",
      "/home/prodhommec/analyseMF/scripts-final-MF/previ-sais/function_read.py:27: FutureWarning: elementwise comparison failed; returning scalar instead, but in the future will perform elementwise comparison\n",
      "  if lon_bnds != \"all\":\n"
     ]
    },
    {
     "name": "stdout",
     "output_type": "stream",
     "text": [
      "all\n",
      "True [-20  -1]\n",
      "3\n",
      "I am here\n",
      "1\n",
      "(6, 6, 20)\n"
     ]
    },
    {
     "name": "stderr",
     "output_type": "stream",
     "text": [
      "/home/prodhommec/analyseMF/scripts-final-MF/previ-sais/function_read.py:26: FutureWarning: elementwise comparison failed; returning scalar instead, but in the future will perform elementwise comparison\n",
      "  print(lon_bnds != \"all\", lon_bnds)\n",
      "/home/prodhommec/analyseMF/scripts-final-MF/previ-sais/function_read.py:27: FutureWarning: elementwise comparison failed; returning scalar instead, but in the future will perform elementwise comparison\n",
      "  if lon_bnds != \"all\":\n"
     ]
    },
    {
     "name": "stdout",
     "output_type": "stream",
     "text": [
      "all\n",
      "True [-20  -1]\n",
      "3\n",
      "I am here\n",
      "1\n",
      "(6, 6, 20)\n"
     ]
    },
    {
     "name": "stderr",
     "output_type": "stream",
     "text": [
      "/home/prodhommec/analyseMF/scripts-final-MF/previ-sais/function_read.py:26: FutureWarning: elementwise comparison failed; returning scalar instead, but in the future will perform elementwise comparison\n",
      "  print(lon_bnds != \"all\", lon_bnds)\n",
      "/home/prodhommec/analyseMF/scripts-final-MF/previ-sais/function_read.py:27: FutureWarning: elementwise comparison failed; returning scalar instead, but in the future will perform elementwise comparison\n",
      "  if lon_bnds != \"all\":\n"
     ]
    },
    {
     "name": "stdout",
     "output_type": "stream",
     "text": [
      "all\n",
      "True [-20  -1]\n",
      "3\n",
      "I am here\n",
      "1\n",
      "(6, 6, 20)\n"
     ]
    },
    {
     "name": "stderr",
     "output_type": "stream",
     "text": [
      "/home/prodhommec/analyseMF/scripts-final-MF/previ-sais/function_read.py:26: FutureWarning: elementwise comparison failed; returning scalar instead, but in the future will perform elementwise comparison\n",
      "  print(lon_bnds != \"all\", lon_bnds)\n",
      "/home/prodhommec/analyseMF/scripts-final-MF/previ-sais/function_read.py:27: FutureWarning: elementwise comparison failed; returning scalar instead, but in the future will perform elementwise comparison\n",
      "  if lon_bnds != \"all\":\n"
     ]
    },
    {
     "name": "stdout",
     "output_type": "stream",
     "text": [
      "all\n",
      "True [-20  -1]\n",
      "3\n",
      "I am here\n",
      "1\n",
      "(6, 6, 20)\n"
     ]
    },
    {
     "name": "stderr",
     "output_type": "stream",
     "text": [
      "/home/prodhommec/analyseMF/scripts-final-MF/previ-sais/function_read.py:26: FutureWarning: elementwise comparison failed; returning scalar instead, but in the future will perform elementwise comparison\n",
      "  print(lon_bnds != \"all\", lon_bnds)\n",
      "/home/prodhommec/analyseMF/scripts-final-MF/previ-sais/function_read.py:27: FutureWarning: elementwise comparison failed; returning scalar instead, but in the future will perform elementwise comparison\n",
      "  if lon_bnds != \"all\":\n"
     ]
    },
    {
     "name": "stdout",
     "output_type": "stream",
     "text": [
      "all\n",
      "True [-20  -1]\n",
      "3\n",
      "I am here\n",
      "1\n",
      "(6, 6, 20)\n"
     ]
    },
    {
     "name": "stderr",
     "output_type": "stream",
     "text": [
      "/home/prodhommec/analyseMF/scripts-final-MF/previ-sais/function_read.py:26: FutureWarning: elementwise comparison failed; returning scalar instead, but in the future will perform elementwise comparison\n",
      "  print(lon_bnds != \"all\", lon_bnds)\n",
      "/home/prodhommec/analyseMF/scripts-final-MF/previ-sais/function_read.py:27: FutureWarning: elementwise comparison failed; returning scalar instead, but in the future will perform elementwise comparison\n",
      "  if lon_bnds != \"all\":\n"
     ]
    },
    {
     "name": "stdout",
     "output_type": "stream",
     "text": [
      "all\n",
      "True [-20  -1]\n",
      "3\n",
      "I am here\n",
      "1\n",
      "(6, 6, 20)\n"
     ]
    },
    {
     "name": "stderr",
     "output_type": "stream",
     "text": [
      "/home/prodhommec/analyseMF/scripts-final-MF/previ-sais/function_read.py:26: FutureWarning: elementwise comparison failed; returning scalar instead, but in the future will perform elementwise comparison\n",
      "  print(lon_bnds != \"all\", lon_bnds)\n",
      "/home/prodhommec/analyseMF/scripts-final-MF/previ-sais/function_read.py:27: FutureWarning: elementwise comparison failed; returning scalar instead, but in the future will perform elementwise comparison\n",
      "  if lon_bnds != \"all\":\n"
     ]
    },
    {
     "name": "stdout",
     "output_type": "stream",
     "text": [
      "all\n",
      "True [-20  -1]\n",
      "3\n",
      "I am here\n",
      "1\n",
      "(6, 6, 20)\n"
     ]
    },
    {
     "name": "stderr",
     "output_type": "stream",
     "text": [
      "/home/prodhommec/analyseMF/scripts-final-MF/previ-sais/function_read.py:26: FutureWarning: elementwise comparison failed; returning scalar instead, but in the future will perform elementwise comparison\n",
      "  print(lon_bnds != \"all\", lon_bnds)\n",
      "/home/prodhommec/analyseMF/scripts-final-MF/previ-sais/function_read.py:27: FutureWarning: elementwise comparison failed; returning scalar instead, but in the future will perform elementwise comparison\n",
      "  if lon_bnds != \"all\":\n"
     ]
    },
    {
     "name": "stdout",
     "output_type": "stream",
     "text": [
      "all\n",
      "True [-20  -1]\n",
      "3\n",
      "I am here\n",
      "1\n",
      "(6, 6, 20)\n"
     ]
    },
    {
     "name": "stderr",
     "output_type": "stream",
     "text": [
      "/home/prodhommec/analyseMF/scripts-final-MF/previ-sais/function_read.py:26: FutureWarning: elementwise comparison failed; returning scalar instead, but in the future will perform elementwise comparison\n",
      "  print(lon_bnds != \"all\", lon_bnds)\n",
      "/home/prodhommec/analyseMF/scripts-final-MF/previ-sais/function_read.py:27: FutureWarning: elementwise comparison failed; returning scalar instead, but in the future will perform elementwise comparison\n",
      "  if lon_bnds != \"all\":\n"
     ]
    },
    {
     "name": "stdout",
     "output_type": "stream",
     "text": [
      "all\n",
      "True [-20  -1]\n",
      "3\n",
      "I am here\n",
      "1\n",
      "(6, 6, 20)\n"
     ]
    },
    {
     "name": "stderr",
     "output_type": "stream",
     "text": [
      "/home/prodhommec/analyseMF/scripts-final-MF/previ-sais/function_read.py:26: FutureWarning: elementwise comparison failed; returning scalar instead, but in the future will perform elementwise comparison\n",
      "  print(lon_bnds != \"all\", lon_bnds)\n",
      "/home/prodhommec/analyseMF/scripts-final-MF/previ-sais/function_read.py:27: FutureWarning: elementwise comparison failed; returning scalar instead, but in the future will perform elementwise comparison\n",
      "  if lon_bnds != \"all\":\n"
     ]
    },
    {
     "name": "stdout",
     "output_type": "stream",
     "text": [
      "all\n",
      "True [-20  -1]\n",
      "3\n",
      "I am here\n",
      "1\n",
      "(6, 6, 20)\n"
     ]
    },
    {
     "name": "stderr",
     "output_type": "stream",
     "text": [
      "/home/prodhommec/analyseMF/scripts-final-MF/previ-sais/function_read.py:26: FutureWarning: elementwise comparison failed; returning scalar instead, but in the future will perform elementwise comparison\n",
      "  print(lon_bnds != \"all\", lon_bnds)\n",
      "/home/prodhommec/analyseMF/scripts-final-MF/previ-sais/function_read.py:27: FutureWarning: elementwise comparison failed; returning scalar instead, but in the future will perform elementwise comparison\n",
      "  if lon_bnds != \"all\":\n"
     ]
    },
    {
     "name": "stdout",
     "output_type": "stream",
     "text": [
      "all\n",
      "True [-20  -1]\n",
      "3\n",
      "I am here\n",
      "1\n",
      "(6, 6, 20)\n",
      "E005\n"
     ]
    },
    {
     "name": "stderr",
     "output_type": "stream",
     "text": [
      "/home/prodhommec/analyseMF/scripts-final-MF/previ-sais/function_read.py:26: FutureWarning: elementwise comparison failed; returning scalar instead, but in the future will perform elementwise comparison\n",
      "  print(lon_bnds != \"all\", lon_bnds)\n",
      "/home/prodhommec/analyseMF/scripts-final-MF/previ-sais/function_read.py:27: FutureWarning: elementwise comparison failed; returning scalar instead, but in the future will perform elementwise comparison\n",
      "  if lon_bnds != \"all\":\n"
     ]
    },
    {
     "name": "stdout",
     "output_type": "stream",
     "text": [
      "all\n",
      "True [-20  -1]\n",
      "3\n",
      "I am here\n",
      "1\n",
      "(6, 6, 20)\n"
     ]
    },
    {
     "name": "stderr",
     "output_type": "stream",
     "text": [
      "/home/prodhommec/analyseMF/scripts-final-MF/previ-sais/function_read.py:26: FutureWarning: elementwise comparison failed; returning scalar instead, but in the future will perform elementwise comparison\n",
      "  print(lon_bnds != \"all\", lon_bnds)\n",
      "/home/prodhommec/analyseMF/scripts-final-MF/previ-sais/function_read.py:27: FutureWarning: elementwise comparison failed; returning scalar instead, but in the future will perform elementwise comparison\n",
      "  if lon_bnds != \"all\":\n"
     ]
    },
    {
     "name": "stdout",
     "output_type": "stream",
     "text": [
      "all\n",
      "True [-20  -1]\n",
      "3\n",
      "I am here\n",
      "1\n",
      "(6, 6, 20)\n"
     ]
    },
    {
     "name": "stderr",
     "output_type": "stream",
     "text": [
      "/home/prodhommec/analyseMF/scripts-final-MF/previ-sais/function_read.py:26: FutureWarning: elementwise comparison failed; returning scalar instead, but in the future will perform elementwise comparison\n",
      "  print(lon_bnds != \"all\", lon_bnds)\n",
      "/home/prodhommec/analyseMF/scripts-final-MF/previ-sais/function_read.py:27: FutureWarning: elementwise comparison failed; returning scalar instead, but in the future will perform elementwise comparison\n",
      "  if lon_bnds != \"all\":\n"
     ]
    },
    {
     "name": "stdout",
     "output_type": "stream",
     "text": [
      "all\n",
      "True [-20  -1]\n",
      "3\n",
      "I am here\n",
      "1\n",
      "(6, 6, 20)\n"
     ]
    },
    {
     "name": "stderr",
     "output_type": "stream",
     "text": [
      "/home/prodhommec/analyseMF/scripts-final-MF/previ-sais/function_read.py:26: FutureWarning: elementwise comparison failed; returning scalar instead, but in the future will perform elementwise comparison\n",
      "  print(lon_bnds != \"all\", lon_bnds)\n",
      "/home/prodhommec/analyseMF/scripts-final-MF/previ-sais/function_read.py:27: FutureWarning: elementwise comparison failed; returning scalar instead, but in the future will perform elementwise comparison\n",
      "  if lon_bnds != \"all\":\n"
     ]
    },
    {
     "name": "stdout",
     "output_type": "stream",
     "text": [
      "all\n",
      "True [-20  -1]\n",
      "3\n",
      "I am here\n",
      "1\n",
      "(6, 6, 20)\n"
     ]
    },
    {
     "name": "stderr",
     "output_type": "stream",
     "text": [
      "/home/prodhommec/analyseMF/scripts-final-MF/previ-sais/function_read.py:26: FutureWarning: elementwise comparison failed; returning scalar instead, but in the future will perform elementwise comparison\n",
      "  print(lon_bnds != \"all\", lon_bnds)\n",
      "/home/prodhommec/analyseMF/scripts-final-MF/previ-sais/function_read.py:27: FutureWarning: elementwise comparison failed; returning scalar instead, but in the future will perform elementwise comparison\n",
      "  if lon_bnds != \"all\":\n"
     ]
    },
    {
     "name": "stdout",
     "output_type": "stream",
     "text": [
      "all\n",
      "True [-20  -1]\n",
      "3\n",
      "I am here\n",
      "1\n",
      "(6, 6, 20)\n"
     ]
    },
    {
     "name": "stderr",
     "output_type": "stream",
     "text": [
      "/home/prodhommec/analyseMF/scripts-final-MF/previ-sais/function_read.py:26: FutureWarning: elementwise comparison failed; returning scalar instead, but in the future will perform elementwise comparison\n",
      "  print(lon_bnds != \"all\", lon_bnds)\n",
      "/home/prodhommec/analyseMF/scripts-final-MF/previ-sais/function_read.py:27: FutureWarning: elementwise comparison failed; returning scalar instead, but in the future will perform elementwise comparison\n",
      "  if lon_bnds != \"all\":\n"
     ]
    },
    {
     "name": "stdout",
     "output_type": "stream",
     "text": [
      "all\n",
      "True [-20  -1]\n",
      "3\n",
      "I am here\n",
      "1\n",
      "(6, 6, 20)\n"
     ]
    },
    {
     "name": "stderr",
     "output_type": "stream",
     "text": [
      "/home/prodhommec/analyseMF/scripts-final-MF/previ-sais/function_read.py:26: FutureWarning: elementwise comparison failed; returning scalar instead, but in the future will perform elementwise comparison\n",
      "  print(lon_bnds != \"all\", lon_bnds)\n",
      "/home/prodhommec/analyseMF/scripts-final-MF/previ-sais/function_read.py:27: FutureWarning: elementwise comparison failed; returning scalar instead, but in the future will perform elementwise comparison\n",
      "  if lon_bnds != \"all\":\n"
     ]
    },
    {
     "name": "stdout",
     "output_type": "stream",
     "text": [
      "all\n",
      "True [-20  -1]\n",
      "3\n",
      "I am here\n",
      "1\n",
      "(6, 6, 20)\n"
     ]
    },
    {
     "name": "stderr",
     "output_type": "stream",
     "text": [
      "/home/prodhommec/analyseMF/scripts-final-MF/previ-sais/function_read.py:26: FutureWarning: elementwise comparison failed; returning scalar instead, but in the future will perform elementwise comparison\n",
      "  print(lon_bnds != \"all\", lon_bnds)\n",
      "/home/prodhommec/analyseMF/scripts-final-MF/previ-sais/function_read.py:27: FutureWarning: elementwise comparison failed; returning scalar instead, but in the future will perform elementwise comparison\n",
      "  if lon_bnds != \"all\":\n"
     ]
    },
    {
     "name": "stdout",
     "output_type": "stream",
     "text": [
      "all\n",
      "True [-20  -1]\n",
      "3\n",
      "I am here\n",
      "1\n",
      "(6, 6, 20)\n"
     ]
    },
    {
     "name": "stderr",
     "output_type": "stream",
     "text": [
      "/home/prodhommec/analyseMF/scripts-final-MF/previ-sais/function_read.py:26: FutureWarning: elementwise comparison failed; returning scalar instead, but in the future will perform elementwise comparison\n",
      "  print(lon_bnds != \"all\", lon_bnds)\n",
      "/home/prodhommec/analyseMF/scripts-final-MF/previ-sais/function_read.py:27: FutureWarning: elementwise comparison failed; returning scalar instead, but in the future will perform elementwise comparison\n",
      "  if lon_bnds != \"all\":\n"
     ]
    },
    {
     "name": "stdout",
     "output_type": "stream",
     "text": [
      "all\n",
      "True [-20  -1]\n",
      "3\n",
      "I am here\n",
      "1\n",
      "(6, 6, 20)\n"
     ]
    },
    {
     "name": "stderr",
     "output_type": "stream",
     "text": [
      "/home/prodhommec/analyseMF/scripts-final-MF/previ-sais/function_read.py:26: FutureWarning: elementwise comparison failed; returning scalar instead, but in the future will perform elementwise comparison\n",
      "  print(lon_bnds != \"all\", lon_bnds)\n",
      "/home/prodhommec/analyseMF/scripts-final-MF/previ-sais/function_read.py:27: FutureWarning: elementwise comparison failed; returning scalar instead, but in the future will perform elementwise comparison\n",
      "  if lon_bnds != \"all\":\n"
     ]
    },
    {
     "name": "stdout",
     "output_type": "stream",
     "text": [
      "all\n",
      "True [-20  -1]\n",
      "3\n",
      "I am here\n",
      "1\n",
      "(6, 6, 20)\n"
     ]
    },
    {
     "name": "stderr",
     "output_type": "stream",
     "text": [
      "/home/prodhommec/analyseMF/scripts-final-MF/previ-sais/function_read.py:26: FutureWarning: elementwise comparison failed; returning scalar instead, but in the future will perform elementwise comparison\n",
      "  print(lon_bnds != \"all\", lon_bnds)\n",
      "/home/prodhommec/analyseMF/scripts-final-MF/previ-sais/function_read.py:27: FutureWarning: elementwise comparison failed; returning scalar instead, but in the future will perform elementwise comparison\n",
      "  if lon_bnds != \"all\":\n"
     ]
    },
    {
     "name": "stdout",
     "output_type": "stream",
     "text": [
      "all\n",
      "True [-20  -1]\n",
      "3\n",
      "I am here\n",
      "1\n",
      "(6, 6, 20)\n"
     ]
    },
    {
     "name": "stderr",
     "output_type": "stream",
     "text": [
      "/home/prodhommec/analyseMF/scripts-final-MF/previ-sais/function_read.py:26: FutureWarning: elementwise comparison failed; returning scalar instead, but in the future will perform elementwise comparison\n",
      "  print(lon_bnds != \"all\", lon_bnds)\n",
      "/home/prodhommec/analyseMF/scripts-final-MF/previ-sais/function_read.py:27: FutureWarning: elementwise comparison failed; returning scalar instead, but in the future will perform elementwise comparison\n",
      "  if lon_bnds != \"all\":\n"
     ]
    },
    {
     "name": "stdout",
     "output_type": "stream",
     "text": [
      "all\n",
      "True [-20  -1]\n",
      "3\n",
      "I am here\n",
      "1\n",
      "(6, 6, 20)\n"
     ]
    },
    {
     "name": "stderr",
     "output_type": "stream",
     "text": [
      "/home/prodhommec/analyseMF/scripts-final-MF/previ-sais/function_read.py:26: FutureWarning: elementwise comparison failed; returning scalar instead, but in the future will perform elementwise comparison\n",
      "  print(lon_bnds != \"all\", lon_bnds)\n",
      "/home/prodhommec/analyseMF/scripts-final-MF/previ-sais/function_read.py:27: FutureWarning: elementwise comparison failed; returning scalar instead, but in the future will perform elementwise comparison\n",
      "  if lon_bnds != \"all\":\n"
     ]
    },
    {
     "name": "stdout",
     "output_type": "stream",
     "text": [
      "all\n",
      "True [-20  -1]\n",
      "3\n",
      "I am here\n",
      "1\n",
      "(6, 6, 20)\n"
     ]
    },
    {
     "name": "stderr",
     "output_type": "stream",
     "text": [
      "/home/prodhommec/analyseMF/scripts-final-MF/previ-sais/function_read.py:26: FutureWarning: elementwise comparison failed; returning scalar instead, but in the future will perform elementwise comparison\n",
      "  print(lon_bnds != \"all\", lon_bnds)\n",
      "/home/prodhommec/analyseMF/scripts-final-MF/previ-sais/function_read.py:27: FutureWarning: elementwise comparison failed; returning scalar instead, but in the future will perform elementwise comparison\n",
      "  if lon_bnds != \"all\":\n"
     ]
    },
    {
     "name": "stdout",
     "output_type": "stream",
     "text": [
      "all\n",
      "True [-20  -1]\n",
      "3\n",
      "I am here\n",
      "1\n",
      "(6, 6, 20)\n"
     ]
    },
    {
     "name": "stderr",
     "output_type": "stream",
     "text": [
      "/home/prodhommec/analyseMF/scripts-final-MF/previ-sais/function_read.py:26: FutureWarning: elementwise comparison failed; returning scalar instead, but in the future will perform elementwise comparison\n",
      "  print(lon_bnds != \"all\", lon_bnds)\n",
      "/home/prodhommec/analyseMF/scripts-final-MF/previ-sais/function_read.py:27: FutureWarning: elementwise comparison failed; returning scalar instead, but in the future will perform elementwise comparison\n",
      "  if lon_bnds != \"all\":\n"
     ]
    },
    {
     "name": "stdout",
     "output_type": "stream",
     "text": [
      "all\n",
      "True [-20  -1]\n",
      "3\n",
      "I am here\n",
      "1\n",
      "(6, 6, 20)\n"
     ]
    },
    {
     "name": "stderr",
     "output_type": "stream",
     "text": [
      "/home/prodhommec/analyseMF/scripts-final-MF/previ-sais/function_read.py:26: FutureWarning: elementwise comparison failed; returning scalar instead, but in the future will perform elementwise comparison\n",
      "  print(lon_bnds != \"all\", lon_bnds)\n",
      "/home/prodhommec/analyseMF/scripts-final-MF/previ-sais/function_read.py:27: FutureWarning: elementwise comparison failed; returning scalar instead, but in the future will perform elementwise comparison\n",
      "  if lon_bnds != \"all\":\n"
     ]
    },
    {
     "name": "stdout",
     "output_type": "stream",
     "text": [
      "all\n",
      "True [-20  -1]\n",
      "3\n",
      "I am here\n",
      "1\n",
      "(6, 6, 20)\n"
     ]
    },
    {
     "name": "stderr",
     "output_type": "stream",
     "text": [
      "/home/prodhommec/analyseMF/scripts-final-MF/previ-sais/function_read.py:26: FutureWarning: elementwise comparison failed; returning scalar instead, but in the future will perform elementwise comparison\n",
      "  print(lon_bnds != \"all\", lon_bnds)\n",
      "/home/prodhommec/analyseMF/scripts-final-MF/previ-sais/function_read.py:27: FutureWarning: elementwise comparison failed; returning scalar instead, but in the future will perform elementwise comparison\n",
      "  if lon_bnds != \"all\":\n"
     ]
    },
    {
     "name": "stdout",
     "output_type": "stream",
     "text": [
      "all\n",
      "True [-20  -1]\n",
      "3\n",
      "I am here\n",
      "1\n",
      "(6, 6, 20)\n",
      "E006\n"
     ]
    },
    {
     "name": "stderr",
     "output_type": "stream",
     "text": [
      "/home/prodhommec/analyseMF/scripts-final-MF/previ-sais/function_read.py:26: FutureWarning: elementwise comparison failed; returning scalar instead, but in the future will perform elementwise comparison\n",
      "  print(lon_bnds != \"all\", lon_bnds)\n",
      "/home/prodhommec/analyseMF/scripts-final-MF/previ-sais/function_read.py:27: FutureWarning: elementwise comparison failed; returning scalar instead, but in the future will perform elementwise comparison\n",
      "  if lon_bnds != \"all\":\n"
     ]
    },
    {
     "name": "stdout",
     "output_type": "stream",
     "text": [
      "all\n",
      "True [-20  -1]\n",
      "3\n",
      "I am here\n",
      "1\n",
      "(6, 6, 20)\n"
     ]
    },
    {
     "name": "stderr",
     "output_type": "stream",
     "text": [
      "/home/prodhommec/analyseMF/scripts-final-MF/previ-sais/function_read.py:26: FutureWarning: elementwise comparison failed; returning scalar instead, but in the future will perform elementwise comparison\n",
      "  print(lon_bnds != \"all\", lon_bnds)\n",
      "/home/prodhommec/analyseMF/scripts-final-MF/previ-sais/function_read.py:27: FutureWarning: elementwise comparison failed; returning scalar instead, but in the future will perform elementwise comparison\n",
      "  if lon_bnds != \"all\":\n"
     ]
    },
    {
     "name": "stdout",
     "output_type": "stream",
     "text": [
      "all\n",
      "True [-20  -1]\n",
      "3\n",
      "I am here\n",
      "1\n",
      "(6, 6, 20)\n"
     ]
    },
    {
     "name": "stderr",
     "output_type": "stream",
     "text": [
      "/home/prodhommec/analyseMF/scripts-final-MF/previ-sais/function_read.py:26: FutureWarning: elementwise comparison failed; returning scalar instead, but in the future will perform elementwise comparison\n",
      "  print(lon_bnds != \"all\", lon_bnds)\n",
      "/home/prodhommec/analyseMF/scripts-final-MF/previ-sais/function_read.py:27: FutureWarning: elementwise comparison failed; returning scalar instead, but in the future will perform elementwise comparison\n",
      "  if lon_bnds != \"all\":\n"
     ]
    },
    {
     "name": "stdout",
     "output_type": "stream",
     "text": [
      "all\n",
      "True [-20  -1]\n",
      "3\n",
      "I am here\n",
      "1\n",
      "(6, 6, 20)\n"
     ]
    },
    {
     "name": "stderr",
     "output_type": "stream",
     "text": [
      "/home/prodhommec/analyseMF/scripts-final-MF/previ-sais/function_read.py:26: FutureWarning: elementwise comparison failed; returning scalar instead, but in the future will perform elementwise comparison\n",
      "  print(lon_bnds != \"all\", lon_bnds)\n",
      "/home/prodhommec/analyseMF/scripts-final-MF/previ-sais/function_read.py:27: FutureWarning: elementwise comparison failed; returning scalar instead, but in the future will perform elementwise comparison\n",
      "  if lon_bnds != \"all\":\n"
     ]
    },
    {
     "name": "stdout",
     "output_type": "stream",
     "text": [
      "all\n",
      "True [-20  -1]\n",
      "3\n",
      "I am here\n",
      "1\n",
      "(6, 6, 20)\n"
     ]
    },
    {
     "name": "stderr",
     "output_type": "stream",
     "text": [
      "/home/prodhommec/analyseMF/scripts-final-MF/previ-sais/function_read.py:26: FutureWarning: elementwise comparison failed; returning scalar instead, but in the future will perform elementwise comparison\n",
      "  print(lon_bnds != \"all\", lon_bnds)\n",
      "/home/prodhommec/analyseMF/scripts-final-MF/previ-sais/function_read.py:27: FutureWarning: elementwise comparison failed; returning scalar instead, but in the future will perform elementwise comparison\n",
      "  if lon_bnds != \"all\":\n"
     ]
    },
    {
     "name": "stdout",
     "output_type": "stream",
     "text": [
      "all\n",
      "True [-20  -1]\n",
      "3\n",
      "I am here\n",
      "1\n",
      "(6, 6, 20)\n"
     ]
    },
    {
     "name": "stderr",
     "output_type": "stream",
     "text": [
      "/home/prodhommec/analyseMF/scripts-final-MF/previ-sais/function_read.py:26: FutureWarning: elementwise comparison failed; returning scalar instead, but in the future will perform elementwise comparison\n",
      "  print(lon_bnds != \"all\", lon_bnds)\n",
      "/home/prodhommec/analyseMF/scripts-final-MF/previ-sais/function_read.py:27: FutureWarning: elementwise comparison failed; returning scalar instead, but in the future will perform elementwise comparison\n",
      "  if lon_bnds != \"all\":\n"
     ]
    },
    {
     "name": "stdout",
     "output_type": "stream",
     "text": [
      "all\n",
      "True [-20  -1]\n",
      "3\n",
      "I am here\n",
      "1\n",
      "(6, 6, 20)\n"
     ]
    },
    {
     "name": "stderr",
     "output_type": "stream",
     "text": [
      "/home/prodhommec/analyseMF/scripts-final-MF/previ-sais/function_read.py:26: FutureWarning: elementwise comparison failed; returning scalar instead, but in the future will perform elementwise comparison\n",
      "  print(lon_bnds != \"all\", lon_bnds)\n",
      "/home/prodhommec/analyseMF/scripts-final-MF/previ-sais/function_read.py:27: FutureWarning: elementwise comparison failed; returning scalar instead, but in the future will perform elementwise comparison\n",
      "  if lon_bnds != \"all\":\n"
     ]
    },
    {
     "name": "stdout",
     "output_type": "stream",
     "text": [
      "all\n",
      "True [-20  -1]\n",
      "3\n",
      "I am here\n",
      "1\n",
      "(6, 6, 20)\n"
     ]
    },
    {
     "name": "stderr",
     "output_type": "stream",
     "text": [
      "/home/prodhommec/analyseMF/scripts-final-MF/previ-sais/function_read.py:26: FutureWarning: elementwise comparison failed; returning scalar instead, but in the future will perform elementwise comparison\n",
      "  print(lon_bnds != \"all\", lon_bnds)\n",
      "/home/prodhommec/analyseMF/scripts-final-MF/previ-sais/function_read.py:27: FutureWarning: elementwise comparison failed; returning scalar instead, but in the future will perform elementwise comparison\n",
      "  if lon_bnds != \"all\":\n"
     ]
    },
    {
     "name": "stdout",
     "output_type": "stream",
     "text": [
      "all\n",
      "True [-20  -1]\n",
      "3\n",
      "I am here\n",
      "1\n",
      "(6, 6, 20)\n"
     ]
    },
    {
     "name": "stderr",
     "output_type": "stream",
     "text": [
      "/home/prodhommec/analyseMF/scripts-final-MF/previ-sais/function_read.py:26: FutureWarning: elementwise comparison failed; returning scalar instead, but in the future will perform elementwise comparison\n",
      "  print(lon_bnds != \"all\", lon_bnds)\n",
      "/home/prodhommec/analyseMF/scripts-final-MF/previ-sais/function_read.py:27: FutureWarning: elementwise comparison failed; returning scalar instead, but in the future will perform elementwise comparison\n",
      "  if lon_bnds != \"all\":\n"
     ]
    },
    {
     "name": "stdout",
     "output_type": "stream",
     "text": [
      "all\n",
      "True [-20  -1]\n",
      "3\n",
      "I am here\n",
      "1\n",
      "(6, 6, 20)\n"
     ]
    },
    {
     "name": "stderr",
     "output_type": "stream",
     "text": [
      "/home/prodhommec/analyseMF/scripts-final-MF/previ-sais/function_read.py:26: FutureWarning: elementwise comparison failed; returning scalar instead, but in the future will perform elementwise comparison\n",
      "  print(lon_bnds != \"all\", lon_bnds)\n",
      "/home/prodhommec/analyseMF/scripts-final-MF/previ-sais/function_read.py:27: FutureWarning: elementwise comparison failed; returning scalar instead, but in the future will perform elementwise comparison\n",
      "  if lon_bnds != \"all\":\n"
     ]
    },
    {
     "name": "stdout",
     "output_type": "stream",
     "text": [
      "all\n",
      "True [-20  -1]\n",
      "3\n",
      "I am here\n",
      "1\n",
      "(6, 6, 20)\n"
     ]
    },
    {
     "name": "stderr",
     "output_type": "stream",
     "text": [
      "/home/prodhommec/analyseMF/scripts-final-MF/previ-sais/function_read.py:26: FutureWarning: elementwise comparison failed; returning scalar instead, but in the future will perform elementwise comparison\n",
      "  print(lon_bnds != \"all\", lon_bnds)\n",
      "/home/prodhommec/analyseMF/scripts-final-MF/previ-sais/function_read.py:27: FutureWarning: elementwise comparison failed; returning scalar instead, but in the future will perform elementwise comparison\n",
      "  if lon_bnds != \"all\":\n"
     ]
    },
    {
     "name": "stdout",
     "output_type": "stream",
     "text": [
      "all\n",
      "True [-20  -1]\n",
      "3\n",
      "I am here\n",
      "1\n",
      "(6, 6, 20)\n"
     ]
    },
    {
     "name": "stderr",
     "output_type": "stream",
     "text": [
      "/home/prodhommec/analyseMF/scripts-final-MF/previ-sais/function_read.py:26: FutureWarning: elementwise comparison failed; returning scalar instead, but in the future will perform elementwise comparison\n",
      "  print(lon_bnds != \"all\", lon_bnds)\n",
      "/home/prodhommec/analyseMF/scripts-final-MF/previ-sais/function_read.py:27: FutureWarning: elementwise comparison failed; returning scalar instead, but in the future will perform elementwise comparison\n",
      "  if lon_bnds != \"all\":\n"
     ]
    },
    {
     "name": "stdout",
     "output_type": "stream",
     "text": [
      "all\n",
      "True [-20  -1]\n",
      "3\n",
      "I am here\n",
      "1\n",
      "(6, 6, 20)\n"
     ]
    },
    {
     "name": "stderr",
     "output_type": "stream",
     "text": [
      "/home/prodhommec/analyseMF/scripts-final-MF/previ-sais/function_read.py:26: FutureWarning: elementwise comparison failed; returning scalar instead, but in the future will perform elementwise comparison\n",
      "  print(lon_bnds != \"all\", lon_bnds)\n",
      "/home/prodhommec/analyseMF/scripts-final-MF/previ-sais/function_read.py:27: FutureWarning: elementwise comparison failed; returning scalar instead, but in the future will perform elementwise comparison\n",
      "  if lon_bnds != \"all\":\n"
     ]
    },
    {
     "name": "stdout",
     "output_type": "stream",
     "text": [
      "all\n",
      "True [-20  -1]\n",
      "3\n",
      "I am here\n",
      "1\n",
      "(6, 6, 20)\n"
     ]
    },
    {
     "name": "stderr",
     "output_type": "stream",
     "text": [
      "/home/prodhommec/analyseMF/scripts-final-MF/previ-sais/function_read.py:26: FutureWarning: elementwise comparison failed; returning scalar instead, but in the future will perform elementwise comparison\n",
      "  print(lon_bnds != \"all\", lon_bnds)\n",
      "/home/prodhommec/analyseMF/scripts-final-MF/previ-sais/function_read.py:27: FutureWarning: elementwise comparison failed; returning scalar instead, but in the future will perform elementwise comparison\n",
      "  if lon_bnds != \"all\":\n"
     ]
    },
    {
     "name": "stdout",
     "output_type": "stream",
     "text": [
      "all\n",
      "True [-20  -1]\n",
      "3\n",
      "I am here\n",
      "1\n",
      "(6, 6, 20)\n"
     ]
    },
    {
     "name": "stderr",
     "output_type": "stream",
     "text": [
      "/home/prodhommec/analyseMF/scripts-final-MF/previ-sais/function_read.py:26: FutureWarning: elementwise comparison failed; returning scalar instead, but in the future will perform elementwise comparison\n",
      "  print(lon_bnds != \"all\", lon_bnds)\n",
      "/home/prodhommec/analyseMF/scripts-final-MF/previ-sais/function_read.py:27: FutureWarning: elementwise comparison failed; returning scalar instead, but in the future will perform elementwise comparison\n",
      "  if lon_bnds != \"all\":\n"
     ]
    },
    {
     "name": "stdout",
     "output_type": "stream",
     "text": [
      "all\n",
      "True [-20  -1]\n",
      "3\n",
      "I am here\n",
      "1\n",
      "(6, 6, 20)\n"
     ]
    },
    {
     "name": "stderr",
     "output_type": "stream",
     "text": [
      "/home/prodhommec/analyseMF/scripts-final-MF/previ-sais/function_read.py:26: FutureWarning: elementwise comparison failed; returning scalar instead, but in the future will perform elementwise comparison\n",
      "  print(lon_bnds != \"all\", lon_bnds)\n",
      "/home/prodhommec/analyseMF/scripts-final-MF/previ-sais/function_read.py:27: FutureWarning: elementwise comparison failed; returning scalar instead, but in the future will perform elementwise comparison\n",
      "  if lon_bnds != \"all\":\n"
     ]
    },
    {
     "name": "stdout",
     "output_type": "stream",
     "text": [
      "all\n",
      "True [-20  -1]\n",
      "3\n",
      "I am here\n",
      "1\n",
      "(6, 6, 20)\n"
     ]
    },
    {
     "name": "stderr",
     "output_type": "stream",
     "text": [
      "/home/prodhommec/analyseMF/scripts-final-MF/previ-sais/function_read.py:26: FutureWarning: elementwise comparison failed; returning scalar instead, but in the future will perform elementwise comparison\n",
      "  print(lon_bnds != \"all\", lon_bnds)\n",
      "/home/prodhommec/analyseMF/scripts-final-MF/previ-sais/function_read.py:27: FutureWarning: elementwise comparison failed; returning scalar instead, but in the future will perform elementwise comparison\n",
      "  if lon_bnds != \"all\":\n"
     ]
    },
    {
     "name": "stdout",
     "output_type": "stream",
     "text": [
      "all\n",
      "True [-20  -1]\n",
      "3\n",
      "I am here\n",
      "1\n",
      "(6, 6, 20)\n",
      "E007\n"
     ]
    },
    {
     "name": "stderr",
     "output_type": "stream",
     "text": [
      "/home/prodhommec/analyseMF/scripts-final-MF/previ-sais/function_read.py:26: FutureWarning: elementwise comparison failed; returning scalar instead, but in the future will perform elementwise comparison\n",
      "  print(lon_bnds != \"all\", lon_bnds)\n",
      "/home/prodhommec/analyseMF/scripts-final-MF/previ-sais/function_read.py:27: FutureWarning: elementwise comparison failed; returning scalar instead, but in the future will perform elementwise comparison\n",
      "  if lon_bnds != \"all\":\n"
     ]
    },
    {
     "name": "stdout",
     "output_type": "stream",
     "text": [
      "all\n",
      "True [-20  -1]\n",
      "3\n",
      "I am here\n",
      "1\n",
      "(6, 6, 20)\n"
     ]
    },
    {
     "name": "stderr",
     "output_type": "stream",
     "text": [
      "/home/prodhommec/analyseMF/scripts-final-MF/previ-sais/function_read.py:26: FutureWarning: elementwise comparison failed; returning scalar instead, but in the future will perform elementwise comparison\n",
      "  print(lon_bnds != \"all\", lon_bnds)\n",
      "/home/prodhommec/analyseMF/scripts-final-MF/previ-sais/function_read.py:27: FutureWarning: elementwise comparison failed; returning scalar instead, but in the future will perform elementwise comparison\n",
      "  if lon_bnds != \"all\":\n"
     ]
    },
    {
     "name": "stdout",
     "output_type": "stream",
     "text": [
      "all\n",
      "True [-20  -1]\n",
      "3\n",
      "I am here\n",
      "1\n",
      "(6, 6, 20)\n"
     ]
    },
    {
     "name": "stderr",
     "output_type": "stream",
     "text": [
      "/home/prodhommec/analyseMF/scripts-final-MF/previ-sais/function_read.py:26: FutureWarning: elementwise comparison failed; returning scalar instead, but in the future will perform elementwise comparison\n",
      "  print(lon_bnds != \"all\", lon_bnds)\n",
      "/home/prodhommec/analyseMF/scripts-final-MF/previ-sais/function_read.py:27: FutureWarning: elementwise comparison failed; returning scalar instead, but in the future will perform elementwise comparison\n",
      "  if lon_bnds != \"all\":\n"
     ]
    },
    {
     "name": "stdout",
     "output_type": "stream",
     "text": [
      "all\n",
      "True [-20  -1]\n",
      "3\n",
      "I am here\n",
      "1\n",
      "(6, 6, 20)\n"
     ]
    },
    {
     "name": "stderr",
     "output_type": "stream",
     "text": [
      "/home/prodhommec/analyseMF/scripts-final-MF/previ-sais/function_read.py:26: FutureWarning: elementwise comparison failed; returning scalar instead, but in the future will perform elementwise comparison\n",
      "  print(lon_bnds != \"all\", lon_bnds)\n",
      "/home/prodhommec/analyseMF/scripts-final-MF/previ-sais/function_read.py:27: FutureWarning: elementwise comparison failed; returning scalar instead, but in the future will perform elementwise comparison\n",
      "  if lon_bnds != \"all\":\n"
     ]
    },
    {
     "name": "stdout",
     "output_type": "stream",
     "text": [
      "all\n",
      "True [-20  -1]\n",
      "3\n",
      "I am here\n",
      "1\n",
      "(6, 6, 20)\n"
     ]
    },
    {
     "name": "stderr",
     "output_type": "stream",
     "text": [
      "/home/prodhommec/analyseMF/scripts-final-MF/previ-sais/function_read.py:26: FutureWarning: elementwise comparison failed; returning scalar instead, but in the future will perform elementwise comparison\n",
      "  print(lon_bnds != \"all\", lon_bnds)\n",
      "/home/prodhommec/analyseMF/scripts-final-MF/previ-sais/function_read.py:27: FutureWarning: elementwise comparison failed; returning scalar instead, but in the future will perform elementwise comparison\n",
      "  if lon_bnds != \"all\":\n"
     ]
    },
    {
     "name": "stdout",
     "output_type": "stream",
     "text": [
      "all\n",
      "True [-20  -1]\n",
      "3\n",
      "I am here\n",
      "1\n",
      "(6, 6, 20)\n"
     ]
    },
    {
     "name": "stderr",
     "output_type": "stream",
     "text": [
      "/home/prodhommec/analyseMF/scripts-final-MF/previ-sais/function_read.py:26: FutureWarning: elementwise comparison failed; returning scalar instead, but in the future will perform elementwise comparison\n",
      "  print(lon_bnds != \"all\", lon_bnds)\n",
      "/home/prodhommec/analyseMF/scripts-final-MF/previ-sais/function_read.py:27: FutureWarning: elementwise comparison failed; returning scalar instead, but in the future will perform elementwise comparison\n",
      "  if lon_bnds != \"all\":\n"
     ]
    },
    {
     "name": "stdout",
     "output_type": "stream",
     "text": [
      "all\n",
      "True [-20  -1]\n",
      "3\n",
      "I am here\n",
      "1\n",
      "(6, 6, 20)\n"
     ]
    },
    {
     "name": "stderr",
     "output_type": "stream",
     "text": [
      "/home/prodhommec/analyseMF/scripts-final-MF/previ-sais/function_read.py:26: FutureWarning: elementwise comparison failed; returning scalar instead, but in the future will perform elementwise comparison\n",
      "  print(lon_bnds != \"all\", lon_bnds)\n",
      "/home/prodhommec/analyseMF/scripts-final-MF/previ-sais/function_read.py:27: FutureWarning: elementwise comparison failed; returning scalar instead, but in the future will perform elementwise comparison\n",
      "  if lon_bnds != \"all\":\n"
     ]
    },
    {
     "name": "stdout",
     "output_type": "stream",
     "text": [
      "all\n",
      "True [-20  -1]\n",
      "3\n",
      "I am here\n",
      "1\n",
      "(6, 6, 20)\n"
     ]
    },
    {
     "name": "stderr",
     "output_type": "stream",
     "text": [
      "/home/prodhommec/analyseMF/scripts-final-MF/previ-sais/function_read.py:26: FutureWarning: elementwise comparison failed; returning scalar instead, but in the future will perform elementwise comparison\n",
      "  print(lon_bnds != \"all\", lon_bnds)\n",
      "/home/prodhommec/analyseMF/scripts-final-MF/previ-sais/function_read.py:27: FutureWarning: elementwise comparison failed; returning scalar instead, but in the future will perform elementwise comparison\n",
      "  if lon_bnds != \"all\":\n"
     ]
    },
    {
     "name": "stdout",
     "output_type": "stream",
     "text": [
      "all\n",
      "True [-20  -1]\n",
      "3\n",
      "I am here\n",
      "1\n",
      "(6, 6, 20)\n"
     ]
    },
    {
     "name": "stderr",
     "output_type": "stream",
     "text": [
      "/home/prodhommec/analyseMF/scripts-final-MF/previ-sais/function_read.py:26: FutureWarning: elementwise comparison failed; returning scalar instead, but in the future will perform elementwise comparison\n",
      "  print(lon_bnds != \"all\", lon_bnds)\n",
      "/home/prodhommec/analyseMF/scripts-final-MF/previ-sais/function_read.py:27: FutureWarning: elementwise comparison failed; returning scalar instead, but in the future will perform elementwise comparison\n",
      "  if lon_bnds != \"all\":\n"
     ]
    },
    {
     "name": "stdout",
     "output_type": "stream",
     "text": [
      "all\n",
      "True [-20  -1]\n",
      "3\n",
      "I am here\n",
      "1\n",
      "(6, 6, 20)\n"
     ]
    },
    {
     "name": "stderr",
     "output_type": "stream",
     "text": [
      "/home/prodhommec/analyseMF/scripts-final-MF/previ-sais/function_read.py:26: FutureWarning: elementwise comparison failed; returning scalar instead, but in the future will perform elementwise comparison\n",
      "  print(lon_bnds != \"all\", lon_bnds)\n",
      "/home/prodhommec/analyseMF/scripts-final-MF/previ-sais/function_read.py:27: FutureWarning: elementwise comparison failed; returning scalar instead, but in the future will perform elementwise comparison\n",
      "  if lon_bnds != \"all\":\n"
     ]
    },
    {
     "name": "stdout",
     "output_type": "stream",
     "text": [
      "all\n",
      "True [-20  -1]\n",
      "3\n",
      "I am here\n",
      "1\n",
      "(6, 6, 20)\n"
     ]
    },
    {
     "name": "stderr",
     "output_type": "stream",
     "text": [
      "/home/prodhommec/analyseMF/scripts-final-MF/previ-sais/function_read.py:26: FutureWarning: elementwise comparison failed; returning scalar instead, but in the future will perform elementwise comparison\n",
      "  print(lon_bnds != \"all\", lon_bnds)\n",
      "/home/prodhommec/analyseMF/scripts-final-MF/previ-sais/function_read.py:27: FutureWarning: elementwise comparison failed; returning scalar instead, but in the future will perform elementwise comparison\n",
      "  if lon_bnds != \"all\":\n"
     ]
    },
    {
     "name": "stdout",
     "output_type": "stream",
     "text": [
      "all\n",
      "True [-20  -1]\n",
      "3\n",
      "I am here\n",
      "1\n",
      "(6, 6, 20)\n"
     ]
    },
    {
     "name": "stderr",
     "output_type": "stream",
     "text": [
      "/home/prodhommec/analyseMF/scripts-final-MF/previ-sais/function_read.py:26: FutureWarning: elementwise comparison failed; returning scalar instead, but in the future will perform elementwise comparison\n",
      "  print(lon_bnds != \"all\", lon_bnds)\n",
      "/home/prodhommec/analyseMF/scripts-final-MF/previ-sais/function_read.py:27: FutureWarning: elementwise comparison failed; returning scalar instead, but in the future will perform elementwise comparison\n",
      "  if lon_bnds != \"all\":\n"
     ]
    },
    {
     "name": "stdout",
     "output_type": "stream",
     "text": [
      "all\n",
      "True [-20  -1]\n",
      "3\n",
      "I am here\n",
      "1\n",
      "(6, 6, 20)\n"
     ]
    },
    {
     "name": "stderr",
     "output_type": "stream",
     "text": [
      "/home/prodhommec/analyseMF/scripts-final-MF/previ-sais/function_read.py:26: FutureWarning: elementwise comparison failed; returning scalar instead, but in the future will perform elementwise comparison\n",
      "  print(lon_bnds != \"all\", lon_bnds)\n",
      "/home/prodhommec/analyseMF/scripts-final-MF/previ-sais/function_read.py:27: FutureWarning: elementwise comparison failed; returning scalar instead, but in the future will perform elementwise comparison\n",
      "  if lon_bnds != \"all\":\n"
     ]
    },
    {
     "name": "stdout",
     "output_type": "stream",
     "text": [
      "all\n",
      "True [-20  -1]\n",
      "3\n",
      "I am here\n",
      "1\n",
      "(6, 6, 20)\n"
     ]
    },
    {
     "name": "stderr",
     "output_type": "stream",
     "text": [
      "/home/prodhommec/analyseMF/scripts-final-MF/previ-sais/function_read.py:26: FutureWarning: elementwise comparison failed; returning scalar instead, but in the future will perform elementwise comparison\n",
      "  print(lon_bnds != \"all\", lon_bnds)\n",
      "/home/prodhommec/analyseMF/scripts-final-MF/previ-sais/function_read.py:27: FutureWarning: elementwise comparison failed; returning scalar instead, but in the future will perform elementwise comparison\n",
      "  if lon_bnds != \"all\":\n"
     ]
    },
    {
     "name": "stdout",
     "output_type": "stream",
     "text": [
      "all\n",
      "True [-20  -1]\n",
      "3\n",
      "I am here\n",
      "1\n",
      "(6, 6, 20)\n"
     ]
    },
    {
     "name": "stderr",
     "output_type": "stream",
     "text": [
      "/home/prodhommec/analyseMF/scripts-final-MF/previ-sais/function_read.py:26: FutureWarning: elementwise comparison failed; returning scalar instead, but in the future will perform elementwise comparison\n",
      "  print(lon_bnds != \"all\", lon_bnds)\n",
      "/home/prodhommec/analyseMF/scripts-final-MF/previ-sais/function_read.py:27: FutureWarning: elementwise comparison failed; returning scalar instead, but in the future will perform elementwise comparison\n",
      "  if lon_bnds != \"all\":\n"
     ]
    },
    {
     "name": "stdout",
     "output_type": "stream",
     "text": [
      "all\n",
      "True [-20  -1]\n",
      "3\n",
      "I am here\n",
      "1\n",
      "(6, 6, 20)\n"
     ]
    },
    {
     "name": "stderr",
     "output_type": "stream",
     "text": [
      "/home/prodhommec/analyseMF/scripts-final-MF/previ-sais/function_read.py:26: FutureWarning: elementwise comparison failed; returning scalar instead, but in the future will perform elementwise comparison\n",
      "  print(lon_bnds != \"all\", lon_bnds)\n",
      "/home/prodhommec/analyseMF/scripts-final-MF/previ-sais/function_read.py:27: FutureWarning: elementwise comparison failed; returning scalar instead, but in the future will perform elementwise comparison\n",
      "  if lon_bnds != \"all\":\n"
     ]
    },
    {
     "name": "stdout",
     "output_type": "stream",
     "text": [
      "all\n",
      "True [-20  -1]\n",
      "3\n",
      "I am here\n",
      "1\n",
      "(6, 6, 20)\n"
     ]
    },
    {
     "name": "stderr",
     "output_type": "stream",
     "text": [
      "/home/prodhommec/analyseMF/scripts-final-MF/previ-sais/function_read.py:26: FutureWarning: elementwise comparison failed; returning scalar instead, but in the future will perform elementwise comparison\n",
      "  print(lon_bnds != \"all\", lon_bnds)\n",
      "/home/prodhommec/analyseMF/scripts-final-MF/previ-sais/function_read.py:27: FutureWarning: elementwise comparison failed; returning scalar instead, but in the future will perform elementwise comparison\n",
      "  if lon_bnds != \"all\":\n"
     ]
    },
    {
     "name": "stdout",
     "output_type": "stream",
     "text": [
      "all\n",
      "True [-20  -1]\n",
      "3\n",
      "I am here\n",
      "1\n",
      "(6, 6, 20)\n",
      "E008\n"
     ]
    },
    {
     "name": "stderr",
     "output_type": "stream",
     "text": [
      "/home/prodhommec/analyseMF/scripts-final-MF/previ-sais/function_read.py:26: FutureWarning: elementwise comparison failed; returning scalar instead, but in the future will perform elementwise comparison\n",
      "  print(lon_bnds != \"all\", lon_bnds)\n",
      "/home/prodhommec/analyseMF/scripts-final-MF/previ-sais/function_read.py:27: FutureWarning: elementwise comparison failed; returning scalar instead, but in the future will perform elementwise comparison\n",
      "  if lon_bnds != \"all\":\n"
     ]
    },
    {
     "name": "stdout",
     "output_type": "stream",
     "text": [
      "all\n",
      "True [-20  -1]\n",
      "3\n",
      "I am here\n",
      "1\n",
      "(6, 6, 20)\n"
     ]
    },
    {
     "name": "stderr",
     "output_type": "stream",
     "text": [
      "/home/prodhommec/analyseMF/scripts-final-MF/previ-sais/function_read.py:26: FutureWarning: elementwise comparison failed; returning scalar instead, but in the future will perform elementwise comparison\n",
      "  print(lon_bnds != \"all\", lon_bnds)\n",
      "/home/prodhommec/analyseMF/scripts-final-MF/previ-sais/function_read.py:27: FutureWarning: elementwise comparison failed; returning scalar instead, but in the future will perform elementwise comparison\n",
      "  if lon_bnds != \"all\":\n"
     ]
    },
    {
     "name": "stdout",
     "output_type": "stream",
     "text": [
      "all\n",
      "True [-20  -1]\n",
      "3\n",
      "I am here\n",
      "1\n",
      "(6, 6, 20)\n"
     ]
    },
    {
     "name": "stderr",
     "output_type": "stream",
     "text": [
      "/home/prodhommec/analyseMF/scripts-final-MF/previ-sais/function_read.py:26: FutureWarning: elementwise comparison failed; returning scalar instead, but in the future will perform elementwise comparison\n",
      "  print(lon_bnds != \"all\", lon_bnds)\n",
      "/home/prodhommec/analyseMF/scripts-final-MF/previ-sais/function_read.py:27: FutureWarning: elementwise comparison failed; returning scalar instead, but in the future will perform elementwise comparison\n",
      "  if lon_bnds != \"all\":\n"
     ]
    },
    {
     "name": "stdout",
     "output_type": "stream",
     "text": [
      "all\n",
      "True [-20  -1]\n",
      "3\n",
      "I am here\n",
      "1\n",
      "(6, 6, 20)\n"
     ]
    },
    {
     "name": "stderr",
     "output_type": "stream",
     "text": [
      "/home/prodhommec/analyseMF/scripts-final-MF/previ-sais/function_read.py:26: FutureWarning: elementwise comparison failed; returning scalar instead, but in the future will perform elementwise comparison\n",
      "  print(lon_bnds != \"all\", lon_bnds)\n",
      "/home/prodhommec/analyseMF/scripts-final-MF/previ-sais/function_read.py:27: FutureWarning: elementwise comparison failed; returning scalar instead, but in the future will perform elementwise comparison\n",
      "  if lon_bnds != \"all\":\n"
     ]
    },
    {
     "name": "stdout",
     "output_type": "stream",
     "text": [
      "all\n",
      "True [-20  -1]\n",
      "3\n",
      "I am here\n",
      "1\n",
      "(6, 6, 20)\n"
     ]
    },
    {
     "name": "stderr",
     "output_type": "stream",
     "text": [
      "/home/prodhommec/analyseMF/scripts-final-MF/previ-sais/function_read.py:26: FutureWarning: elementwise comparison failed; returning scalar instead, but in the future will perform elementwise comparison\n",
      "  print(lon_bnds != \"all\", lon_bnds)\n",
      "/home/prodhommec/analyseMF/scripts-final-MF/previ-sais/function_read.py:27: FutureWarning: elementwise comparison failed; returning scalar instead, but in the future will perform elementwise comparison\n",
      "  if lon_bnds != \"all\":\n"
     ]
    },
    {
     "name": "stdout",
     "output_type": "stream",
     "text": [
      "all\n",
      "True [-20  -1]\n",
      "3\n",
      "I am here\n",
      "1\n",
      "(6, 6, 20)\n"
     ]
    },
    {
     "name": "stderr",
     "output_type": "stream",
     "text": [
      "/home/prodhommec/analyseMF/scripts-final-MF/previ-sais/function_read.py:26: FutureWarning: elementwise comparison failed; returning scalar instead, but in the future will perform elementwise comparison\n",
      "  print(lon_bnds != \"all\", lon_bnds)\n",
      "/home/prodhommec/analyseMF/scripts-final-MF/previ-sais/function_read.py:27: FutureWarning: elementwise comparison failed; returning scalar instead, but in the future will perform elementwise comparison\n",
      "  if lon_bnds != \"all\":\n"
     ]
    },
    {
     "name": "stdout",
     "output_type": "stream",
     "text": [
      "all\n",
      "True [-20  -1]\n",
      "3\n",
      "I am here\n",
      "1\n",
      "(6, 6, 20)\n"
     ]
    },
    {
     "name": "stderr",
     "output_type": "stream",
     "text": [
      "/home/prodhommec/analyseMF/scripts-final-MF/previ-sais/function_read.py:26: FutureWarning: elementwise comparison failed; returning scalar instead, but in the future will perform elementwise comparison\n",
      "  print(lon_bnds != \"all\", lon_bnds)\n",
      "/home/prodhommec/analyseMF/scripts-final-MF/previ-sais/function_read.py:27: FutureWarning: elementwise comparison failed; returning scalar instead, but in the future will perform elementwise comparison\n",
      "  if lon_bnds != \"all\":\n"
     ]
    },
    {
     "name": "stdout",
     "output_type": "stream",
     "text": [
      "all\n",
      "True [-20  -1]\n",
      "3\n",
      "I am here\n",
      "1\n",
      "(6, 6, 20)\n"
     ]
    },
    {
     "name": "stderr",
     "output_type": "stream",
     "text": [
      "/home/prodhommec/analyseMF/scripts-final-MF/previ-sais/function_read.py:26: FutureWarning: elementwise comparison failed; returning scalar instead, but in the future will perform elementwise comparison\n",
      "  print(lon_bnds != \"all\", lon_bnds)\n",
      "/home/prodhommec/analyseMF/scripts-final-MF/previ-sais/function_read.py:27: FutureWarning: elementwise comparison failed; returning scalar instead, but in the future will perform elementwise comparison\n",
      "  if lon_bnds != \"all\":\n"
     ]
    },
    {
     "name": "stdout",
     "output_type": "stream",
     "text": [
      "all\n",
      "True [-20  -1]\n",
      "3\n",
      "I am here\n",
      "1\n",
      "(6, 6, 20)\n"
     ]
    },
    {
     "name": "stderr",
     "output_type": "stream",
     "text": [
      "/home/prodhommec/analyseMF/scripts-final-MF/previ-sais/function_read.py:26: FutureWarning: elementwise comparison failed; returning scalar instead, but in the future will perform elementwise comparison\n",
      "  print(lon_bnds != \"all\", lon_bnds)\n",
      "/home/prodhommec/analyseMF/scripts-final-MF/previ-sais/function_read.py:27: FutureWarning: elementwise comparison failed; returning scalar instead, but in the future will perform elementwise comparison\n",
      "  if lon_bnds != \"all\":\n"
     ]
    },
    {
     "name": "stdout",
     "output_type": "stream",
     "text": [
      "all\n",
      "True [-20  -1]\n",
      "3\n",
      "I am here\n",
      "1\n",
      "(6, 6, 20)\n"
     ]
    },
    {
     "name": "stderr",
     "output_type": "stream",
     "text": [
      "/home/prodhommec/analyseMF/scripts-final-MF/previ-sais/function_read.py:26: FutureWarning: elementwise comparison failed; returning scalar instead, but in the future will perform elementwise comparison\n",
      "  print(lon_bnds != \"all\", lon_bnds)\n",
      "/home/prodhommec/analyseMF/scripts-final-MF/previ-sais/function_read.py:27: FutureWarning: elementwise comparison failed; returning scalar instead, but in the future will perform elementwise comparison\n",
      "  if lon_bnds != \"all\":\n"
     ]
    },
    {
     "name": "stdout",
     "output_type": "stream",
     "text": [
      "all\n",
      "True [-20  -1]\n",
      "3\n",
      "I am here\n",
      "1\n",
      "(6, 6, 20)\n"
     ]
    },
    {
     "name": "stderr",
     "output_type": "stream",
     "text": [
      "/home/prodhommec/analyseMF/scripts-final-MF/previ-sais/function_read.py:26: FutureWarning: elementwise comparison failed; returning scalar instead, but in the future will perform elementwise comparison\n",
      "  print(lon_bnds != \"all\", lon_bnds)\n",
      "/home/prodhommec/analyseMF/scripts-final-MF/previ-sais/function_read.py:27: FutureWarning: elementwise comparison failed; returning scalar instead, but in the future will perform elementwise comparison\n",
      "  if lon_bnds != \"all\":\n"
     ]
    },
    {
     "name": "stdout",
     "output_type": "stream",
     "text": [
      "all\n",
      "True [-20  -1]\n",
      "3\n",
      "I am here\n",
      "1\n",
      "(6, 6, 20)\n"
     ]
    },
    {
     "name": "stderr",
     "output_type": "stream",
     "text": [
      "/home/prodhommec/analyseMF/scripts-final-MF/previ-sais/function_read.py:26: FutureWarning: elementwise comparison failed; returning scalar instead, but in the future will perform elementwise comparison\n",
      "  print(lon_bnds != \"all\", lon_bnds)\n",
      "/home/prodhommec/analyseMF/scripts-final-MF/previ-sais/function_read.py:27: FutureWarning: elementwise comparison failed; returning scalar instead, but in the future will perform elementwise comparison\n",
      "  if lon_bnds != \"all\":\n"
     ]
    },
    {
     "name": "stdout",
     "output_type": "stream",
     "text": [
      "all\n",
      "True [-20  -1]\n",
      "3\n",
      "I am here\n",
      "1\n",
      "(6, 6, 20)\n"
     ]
    },
    {
     "name": "stderr",
     "output_type": "stream",
     "text": [
      "/home/prodhommec/analyseMF/scripts-final-MF/previ-sais/function_read.py:26: FutureWarning: elementwise comparison failed; returning scalar instead, but in the future will perform elementwise comparison\n",
      "  print(lon_bnds != \"all\", lon_bnds)\n",
      "/home/prodhommec/analyseMF/scripts-final-MF/previ-sais/function_read.py:27: FutureWarning: elementwise comparison failed; returning scalar instead, but in the future will perform elementwise comparison\n",
      "  if lon_bnds != \"all\":\n"
     ]
    },
    {
     "name": "stdout",
     "output_type": "stream",
     "text": [
      "all\n",
      "True [-20  -1]\n",
      "3\n",
      "I am here\n",
      "1\n",
      "(6, 6, 20)\n"
     ]
    },
    {
     "name": "stderr",
     "output_type": "stream",
     "text": [
      "/home/prodhommec/analyseMF/scripts-final-MF/previ-sais/function_read.py:26: FutureWarning: elementwise comparison failed; returning scalar instead, but in the future will perform elementwise comparison\n",
      "  print(lon_bnds != \"all\", lon_bnds)\n",
      "/home/prodhommec/analyseMF/scripts-final-MF/previ-sais/function_read.py:27: FutureWarning: elementwise comparison failed; returning scalar instead, but in the future will perform elementwise comparison\n",
      "  if lon_bnds != \"all\":\n"
     ]
    },
    {
     "name": "stdout",
     "output_type": "stream",
     "text": [
      "all\n",
      "True [-20  -1]\n",
      "3\n",
      "I am here\n",
      "1\n",
      "(6, 6, 20)\n"
     ]
    },
    {
     "name": "stderr",
     "output_type": "stream",
     "text": [
      "/home/prodhommec/analyseMF/scripts-final-MF/previ-sais/function_read.py:26: FutureWarning: elementwise comparison failed; returning scalar instead, but in the future will perform elementwise comparison\n",
      "  print(lon_bnds != \"all\", lon_bnds)\n",
      "/home/prodhommec/analyseMF/scripts-final-MF/previ-sais/function_read.py:27: FutureWarning: elementwise comparison failed; returning scalar instead, but in the future will perform elementwise comparison\n",
      "  if lon_bnds != \"all\":\n"
     ]
    },
    {
     "name": "stdout",
     "output_type": "stream",
     "text": [
      "all\n",
      "True [-20  -1]\n",
      "3\n",
      "I am here\n",
      "1\n",
      "(6, 6, 20)\n"
     ]
    },
    {
     "name": "stderr",
     "output_type": "stream",
     "text": [
      "/home/prodhommec/analyseMF/scripts-final-MF/previ-sais/function_read.py:26: FutureWarning: elementwise comparison failed; returning scalar instead, but in the future will perform elementwise comparison\n",
      "  print(lon_bnds != \"all\", lon_bnds)\n",
      "/home/prodhommec/analyseMF/scripts-final-MF/previ-sais/function_read.py:27: FutureWarning: elementwise comparison failed; returning scalar instead, but in the future will perform elementwise comparison\n",
      "  if lon_bnds != \"all\":\n"
     ]
    },
    {
     "name": "stdout",
     "output_type": "stream",
     "text": [
      "all\n",
      "True [-20  -1]\n",
      "3\n",
      "I am here\n",
      "1\n",
      "(6, 6, 20)\n"
     ]
    },
    {
     "name": "stderr",
     "output_type": "stream",
     "text": [
      "/home/prodhommec/analyseMF/scripts-final-MF/previ-sais/function_read.py:26: FutureWarning: elementwise comparison failed; returning scalar instead, but in the future will perform elementwise comparison\n",
      "  print(lon_bnds != \"all\", lon_bnds)\n",
      "/home/prodhommec/analyseMF/scripts-final-MF/previ-sais/function_read.py:27: FutureWarning: elementwise comparison failed; returning scalar instead, but in the future will perform elementwise comparison\n",
      "  if lon_bnds != \"all\":\n"
     ]
    },
    {
     "name": "stdout",
     "output_type": "stream",
     "text": [
      "all\n",
      "True [-20  -1]\n",
      "3\n",
      "I am here\n",
      "1\n",
      "(6, 6, 20)\n",
      "E009\n"
     ]
    },
    {
     "name": "stderr",
     "output_type": "stream",
     "text": [
      "/home/prodhommec/analyseMF/scripts-final-MF/previ-sais/function_read.py:26: FutureWarning: elementwise comparison failed; returning scalar instead, but in the future will perform elementwise comparison\n",
      "  print(lon_bnds != \"all\", lon_bnds)\n",
      "/home/prodhommec/analyseMF/scripts-final-MF/previ-sais/function_read.py:27: FutureWarning: elementwise comparison failed; returning scalar instead, but in the future will perform elementwise comparison\n",
      "  if lon_bnds != \"all\":\n"
     ]
    },
    {
     "name": "stdout",
     "output_type": "stream",
     "text": [
      "all\n",
      "True [-20  -1]\n",
      "3\n",
      "I am here\n",
      "1\n",
      "(6, 6, 20)\n"
     ]
    },
    {
     "name": "stderr",
     "output_type": "stream",
     "text": [
      "/home/prodhommec/analyseMF/scripts-final-MF/previ-sais/function_read.py:26: FutureWarning: elementwise comparison failed; returning scalar instead, but in the future will perform elementwise comparison\n",
      "  print(lon_bnds != \"all\", lon_bnds)\n",
      "/home/prodhommec/analyseMF/scripts-final-MF/previ-sais/function_read.py:27: FutureWarning: elementwise comparison failed; returning scalar instead, but in the future will perform elementwise comparison\n",
      "  if lon_bnds != \"all\":\n"
     ]
    },
    {
     "name": "stdout",
     "output_type": "stream",
     "text": [
      "all\n",
      "True [-20  -1]\n",
      "3\n",
      "I am here\n",
      "1\n",
      "(6, 6, 20)\n"
     ]
    },
    {
     "name": "stderr",
     "output_type": "stream",
     "text": [
      "/home/prodhommec/analyseMF/scripts-final-MF/previ-sais/function_read.py:26: FutureWarning: elementwise comparison failed; returning scalar instead, but in the future will perform elementwise comparison\n",
      "  print(lon_bnds != \"all\", lon_bnds)\n",
      "/home/prodhommec/analyseMF/scripts-final-MF/previ-sais/function_read.py:27: FutureWarning: elementwise comparison failed; returning scalar instead, but in the future will perform elementwise comparison\n",
      "  if lon_bnds != \"all\":\n"
     ]
    },
    {
     "name": "stdout",
     "output_type": "stream",
     "text": [
      "all\n",
      "True [-20  -1]\n",
      "3\n",
      "I am here\n",
      "1\n",
      "(6, 6, 20)\n"
     ]
    },
    {
     "name": "stderr",
     "output_type": "stream",
     "text": [
      "/home/prodhommec/analyseMF/scripts-final-MF/previ-sais/function_read.py:26: FutureWarning: elementwise comparison failed; returning scalar instead, but in the future will perform elementwise comparison\n",
      "  print(lon_bnds != \"all\", lon_bnds)\n",
      "/home/prodhommec/analyseMF/scripts-final-MF/previ-sais/function_read.py:27: FutureWarning: elementwise comparison failed; returning scalar instead, but in the future will perform elementwise comparison\n",
      "  if lon_bnds != \"all\":\n"
     ]
    },
    {
     "name": "stdout",
     "output_type": "stream",
     "text": [
      "all\n",
      "True [-20  -1]\n",
      "3\n",
      "I am here\n",
      "1\n",
      "(6, 6, 20)\n"
     ]
    },
    {
     "name": "stderr",
     "output_type": "stream",
     "text": [
      "/home/prodhommec/analyseMF/scripts-final-MF/previ-sais/function_read.py:26: FutureWarning: elementwise comparison failed; returning scalar instead, but in the future will perform elementwise comparison\n",
      "  print(lon_bnds != \"all\", lon_bnds)\n",
      "/home/prodhommec/analyseMF/scripts-final-MF/previ-sais/function_read.py:27: FutureWarning: elementwise comparison failed; returning scalar instead, but in the future will perform elementwise comparison\n",
      "  if lon_bnds != \"all\":\n"
     ]
    },
    {
     "name": "stdout",
     "output_type": "stream",
     "text": [
      "all\n",
      "True [-20  -1]\n",
      "3\n",
      "I am here\n",
      "1\n",
      "(6, 6, 20)\n"
     ]
    },
    {
     "name": "stderr",
     "output_type": "stream",
     "text": [
      "/home/prodhommec/analyseMF/scripts-final-MF/previ-sais/function_read.py:26: FutureWarning: elementwise comparison failed; returning scalar instead, but in the future will perform elementwise comparison\n",
      "  print(lon_bnds != \"all\", lon_bnds)\n",
      "/home/prodhommec/analyseMF/scripts-final-MF/previ-sais/function_read.py:27: FutureWarning: elementwise comparison failed; returning scalar instead, but in the future will perform elementwise comparison\n",
      "  if lon_bnds != \"all\":\n"
     ]
    },
    {
     "name": "stdout",
     "output_type": "stream",
     "text": [
      "all\n",
      "True [-20  -1]\n",
      "3\n",
      "I am here\n",
      "1\n",
      "(6, 6, 20)\n"
     ]
    },
    {
     "name": "stderr",
     "output_type": "stream",
     "text": [
      "/home/prodhommec/analyseMF/scripts-final-MF/previ-sais/function_read.py:26: FutureWarning: elementwise comparison failed; returning scalar instead, but in the future will perform elementwise comparison\n",
      "  print(lon_bnds != \"all\", lon_bnds)\n",
      "/home/prodhommec/analyseMF/scripts-final-MF/previ-sais/function_read.py:27: FutureWarning: elementwise comparison failed; returning scalar instead, but in the future will perform elementwise comparison\n",
      "  if lon_bnds != \"all\":\n"
     ]
    },
    {
     "name": "stdout",
     "output_type": "stream",
     "text": [
      "all\n",
      "True [-20  -1]\n",
      "3\n",
      "I am here\n",
      "1\n",
      "(6, 6, 20)\n"
     ]
    },
    {
     "name": "stderr",
     "output_type": "stream",
     "text": [
      "/home/prodhommec/analyseMF/scripts-final-MF/previ-sais/function_read.py:26: FutureWarning: elementwise comparison failed; returning scalar instead, but in the future will perform elementwise comparison\n",
      "  print(lon_bnds != \"all\", lon_bnds)\n",
      "/home/prodhommec/analyseMF/scripts-final-MF/previ-sais/function_read.py:27: FutureWarning: elementwise comparison failed; returning scalar instead, but in the future will perform elementwise comparison\n",
      "  if lon_bnds != \"all\":\n"
     ]
    },
    {
     "name": "stdout",
     "output_type": "stream",
     "text": [
      "all\n",
      "True [-20  -1]\n",
      "3\n",
      "I am here\n",
      "1\n",
      "(6, 6, 20)\n"
     ]
    },
    {
     "name": "stderr",
     "output_type": "stream",
     "text": [
      "/home/prodhommec/analyseMF/scripts-final-MF/previ-sais/function_read.py:26: FutureWarning: elementwise comparison failed; returning scalar instead, but in the future will perform elementwise comparison\n",
      "  print(lon_bnds != \"all\", lon_bnds)\n",
      "/home/prodhommec/analyseMF/scripts-final-MF/previ-sais/function_read.py:27: FutureWarning: elementwise comparison failed; returning scalar instead, but in the future will perform elementwise comparison\n",
      "  if lon_bnds != \"all\":\n"
     ]
    },
    {
     "name": "stdout",
     "output_type": "stream",
     "text": [
      "all\n",
      "True [-20  -1]\n",
      "3\n",
      "I am here\n",
      "1\n",
      "(6, 6, 20)\n"
     ]
    },
    {
     "name": "stderr",
     "output_type": "stream",
     "text": [
      "/home/prodhommec/analyseMF/scripts-final-MF/previ-sais/function_read.py:26: FutureWarning: elementwise comparison failed; returning scalar instead, but in the future will perform elementwise comparison\n",
      "  print(lon_bnds != \"all\", lon_bnds)\n",
      "/home/prodhommec/analyseMF/scripts-final-MF/previ-sais/function_read.py:27: FutureWarning: elementwise comparison failed; returning scalar instead, but in the future will perform elementwise comparison\n",
      "  if lon_bnds != \"all\":\n"
     ]
    },
    {
     "name": "stdout",
     "output_type": "stream",
     "text": [
      "all\n",
      "True [-20  -1]\n",
      "3\n",
      "I am here\n",
      "1\n",
      "(6, 6, 20)\n"
     ]
    },
    {
     "name": "stderr",
     "output_type": "stream",
     "text": [
      "/home/prodhommec/analyseMF/scripts-final-MF/previ-sais/function_read.py:26: FutureWarning: elementwise comparison failed; returning scalar instead, but in the future will perform elementwise comparison\n",
      "  print(lon_bnds != \"all\", lon_bnds)\n",
      "/home/prodhommec/analyseMF/scripts-final-MF/previ-sais/function_read.py:27: FutureWarning: elementwise comparison failed; returning scalar instead, but in the future will perform elementwise comparison\n",
      "  if lon_bnds != \"all\":\n"
     ]
    },
    {
     "name": "stdout",
     "output_type": "stream",
     "text": [
      "all\n",
      "True [-20  -1]\n",
      "3\n",
      "I am here\n",
      "1\n",
      "(6, 6, 20)\n"
     ]
    },
    {
     "name": "stderr",
     "output_type": "stream",
     "text": [
      "/home/prodhommec/analyseMF/scripts-final-MF/previ-sais/function_read.py:26: FutureWarning: elementwise comparison failed; returning scalar instead, but in the future will perform elementwise comparison\n",
      "  print(lon_bnds != \"all\", lon_bnds)\n",
      "/home/prodhommec/analyseMF/scripts-final-MF/previ-sais/function_read.py:27: FutureWarning: elementwise comparison failed; returning scalar instead, but in the future will perform elementwise comparison\n",
      "  if lon_bnds != \"all\":\n"
     ]
    },
    {
     "name": "stdout",
     "output_type": "stream",
     "text": [
      "all\n",
      "True [-20  -1]\n",
      "3\n",
      "I am here\n",
      "1\n",
      "(6, 6, 20)\n"
     ]
    },
    {
     "name": "stderr",
     "output_type": "stream",
     "text": [
      "/home/prodhommec/analyseMF/scripts-final-MF/previ-sais/function_read.py:26: FutureWarning: elementwise comparison failed; returning scalar instead, but in the future will perform elementwise comparison\n",
      "  print(lon_bnds != \"all\", lon_bnds)\n",
      "/home/prodhommec/analyseMF/scripts-final-MF/previ-sais/function_read.py:27: FutureWarning: elementwise comparison failed; returning scalar instead, but in the future will perform elementwise comparison\n",
      "  if lon_bnds != \"all\":\n"
     ]
    },
    {
     "name": "stdout",
     "output_type": "stream",
     "text": [
      "all\n",
      "True [-20  -1]\n",
      "3\n",
      "I am here\n",
      "1\n",
      "(6, 6, 20)\n"
     ]
    },
    {
     "name": "stderr",
     "output_type": "stream",
     "text": [
      "/home/prodhommec/analyseMF/scripts-final-MF/previ-sais/function_read.py:26: FutureWarning: elementwise comparison failed; returning scalar instead, but in the future will perform elementwise comparison\n",
      "  print(lon_bnds != \"all\", lon_bnds)\n",
      "/home/prodhommec/analyseMF/scripts-final-MF/previ-sais/function_read.py:27: FutureWarning: elementwise comparison failed; returning scalar instead, but in the future will perform elementwise comparison\n",
      "  if lon_bnds != \"all\":\n"
     ]
    },
    {
     "name": "stdout",
     "output_type": "stream",
     "text": [
      "all\n",
      "True [-20  -1]\n",
      "3\n",
      "I am here\n",
      "1\n",
      "(6, 6, 20)\n"
     ]
    },
    {
     "name": "stderr",
     "output_type": "stream",
     "text": [
      "/home/prodhommec/analyseMF/scripts-final-MF/previ-sais/function_read.py:26: FutureWarning: elementwise comparison failed; returning scalar instead, but in the future will perform elementwise comparison\n",
      "  print(lon_bnds != \"all\", lon_bnds)\n",
      "/home/prodhommec/analyseMF/scripts-final-MF/previ-sais/function_read.py:27: FutureWarning: elementwise comparison failed; returning scalar instead, but in the future will perform elementwise comparison\n",
      "  if lon_bnds != \"all\":\n"
     ]
    },
    {
     "name": "stdout",
     "output_type": "stream",
     "text": [
      "all\n",
      "True [-20  -1]\n",
      "3\n",
      "I am here\n",
      "1\n",
      "(6, 6, 20)\n"
     ]
    },
    {
     "name": "stderr",
     "output_type": "stream",
     "text": [
      "/home/prodhommec/analyseMF/scripts-final-MF/previ-sais/function_read.py:26: FutureWarning: elementwise comparison failed; returning scalar instead, but in the future will perform elementwise comparison\n",
      "  print(lon_bnds != \"all\", lon_bnds)\n",
      "/home/prodhommec/analyseMF/scripts-final-MF/previ-sais/function_read.py:27: FutureWarning: elementwise comparison failed; returning scalar instead, but in the future will perform elementwise comparison\n",
      "  if lon_bnds != \"all\":\n"
     ]
    },
    {
     "name": "stdout",
     "output_type": "stream",
     "text": [
      "all\n",
      "True [-20  -1]\n",
      "3\n",
      "I am here\n",
      "1\n",
      "(6, 6, 20)\n"
     ]
    },
    {
     "name": "stderr",
     "output_type": "stream",
     "text": [
      "/home/prodhommec/analyseMF/scripts-final-MF/previ-sais/function_read.py:26: FutureWarning: elementwise comparison failed; returning scalar instead, but in the future will perform elementwise comparison\n",
      "  print(lon_bnds != \"all\", lon_bnds)\n",
      "/home/prodhommec/analyseMF/scripts-final-MF/previ-sais/function_read.py:27: FutureWarning: elementwise comparison failed; returning scalar instead, but in the future will perform elementwise comparison\n",
      "  if lon_bnds != \"all\":\n"
     ]
    },
    {
     "name": "stdout",
     "output_type": "stream",
     "text": [
      "all\n",
      "True [-20  -1]\n",
      "3\n",
      "I am here\n",
      "1\n",
      "(6, 6, 20)\n",
      "E010\n"
     ]
    },
    {
     "name": "stderr",
     "output_type": "stream",
     "text": [
      "/home/prodhommec/analyseMF/scripts-final-MF/previ-sais/function_read.py:26: FutureWarning: elementwise comparison failed; returning scalar instead, but in the future will perform elementwise comparison\n",
      "  print(lon_bnds != \"all\", lon_bnds)\n",
      "/home/prodhommec/analyseMF/scripts-final-MF/previ-sais/function_read.py:27: FutureWarning: elementwise comparison failed; returning scalar instead, but in the future will perform elementwise comparison\n",
      "  if lon_bnds != \"all\":\n"
     ]
    },
    {
     "name": "stdout",
     "output_type": "stream",
     "text": [
      "all\n",
      "True [-20  -1]\n",
      "3\n",
      "I am here\n",
      "1\n",
      "(6, 6, 20)\n"
     ]
    },
    {
     "name": "stderr",
     "output_type": "stream",
     "text": [
      "/home/prodhommec/analyseMF/scripts-final-MF/previ-sais/function_read.py:26: FutureWarning: elementwise comparison failed; returning scalar instead, but in the future will perform elementwise comparison\n",
      "  print(lon_bnds != \"all\", lon_bnds)\n",
      "/home/prodhommec/analyseMF/scripts-final-MF/previ-sais/function_read.py:27: FutureWarning: elementwise comparison failed; returning scalar instead, but in the future will perform elementwise comparison\n",
      "  if lon_bnds != \"all\":\n"
     ]
    },
    {
     "name": "stdout",
     "output_type": "stream",
     "text": [
      "all\n",
      "True [-20  -1]\n",
      "3\n",
      "I am here\n",
      "1\n",
      "(6, 6, 20)\n"
     ]
    },
    {
     "name": "stderr",
     "output_type": "stream",
     "text": [
      "/home/prodhommec/analyseMF/scripts-final-MF/previ-sais/function_read.py:26: FutureWarning: elementwise comparison failed; returning scalar instead, but in the future will perform elementwise comparison\n",
      "  print(lon_bnds != \"all\", lon_bnds)\n",
      "/home/prodhommec/analyseMF/scripts-final-MF/previ-sais/function_read.py:27: FutureWarning: elementwise comparison failed; returning scalar instead, but in the future will perform elementwise comparison\n",
      "  if lon_bnds != \"all\":\n"
     ]
    },
    {
     "name": "stdout",
     "output_type": "stream",
     "text": [
      "all\n",
      "True [-20  -1]\n",
      "3\n",
      "I am here\n",
      "1\n",
      "(6, 6, 20)\n"
     ]
    },
    {
     "name": "stderr",
     "output_type": "stream",
     "text": [
      "/home/prodhommec/analyseMF/scripts-final-MF/previ-sais/function_read.py:26: FutureWarning: elementwise comparison failed; returning scalar instead, but in the future will perform elementwise comparison\n",
      "  print(lon_bnds != \"all\", lon_bnds)\n",
      "/home/prodhommec/analyseMF/scripts-final-MF/previ-sais/function_read.py:27: FutureWarning: elementwise comparison failed; returning scalar instead, but in the future will perform elementwise comparison\n",
      "  if lon_bnds != \"all\":\n"
     ]
    },
    {
     "name": "stdout",
     "output_type": "stream",
     "text": [
      "all\n",
      "True [-20  -1]\n",
      "3\n",
      "I am here\n",
      "1\n",
      "(6, 6, 20)\n"
     ]
    },
    {
     "name": "stderr",
     "output_type": "stream",
     "text": [
      "/home/prodhommec/analyseMF/scripts-final-MF/previ-sais/function_read.py:26: FutureWarning: elementwise comparison failed; returning scalar instead, but in the future will perform elementwise comparison\n",
      "  print(lon_bnds != \"all\", lon_bnds)\n",
      "/home/prodhommec/analyseMF/scripts-final-MF/previ-sais/function_read.py:27: FutureWarning: elementwise comparison failed; returning scalar instead, but in the future will perform elementwise comparison\n",
      "  if lon_bnds != \"all\":\n"
     ]
    },
    {
     "name": "stdout",
     "output_type": "stream",
     "text": [
      "all\n",
      "True [-20  -1]\n",
      "3\n",
      "I am here\n",
      "1\n",
      "(6, 6, 20)\n"
     ]
    },
    {
     "name": "stderr",
     "output_type": "stream",
     "text": [
      "/home/prodhommec/analyseMF/scripts-final-MF/previ-sais/function_read.py:26: FutureWarning: elementwise comparison failed; returning scalar instead, but in the future will perform elementwise comparison\n",
      "  print(lon_bnds != \"all\", lon_bnds)\n",
      "/home/prodhommec/analyseMF/scripts-final-MF/previ-sais/function_read.py:27: FutureWarning: elementwise comparison failed; returning scalar instead, but in the future will perform elementwise comparison\n",
      "  if lon_bnds != \"all\":\n"
     ]
    },
    {
     "name": "stdout",
     "output_type": "stream",
     "text": [
      "all\n",
      "True [-20  -1]\n",
      "3\n",
      "I am here\n",
      "1\n",
      "(6, 6, 20)\n"
     ]
    },
    {
     "name": "stderr",
     "output_type": "stream",
     "text": [
      "/home/prodhommec/analyseMF/scripts-final-MF/previ-sais/function_read.py:26: FutureWarning: elementwise comparison failed; returning scalar instead, but in the future will perform elementwise comparison\n",
      "  print(lon_bnds != \"all\", lon_bnds)\n",
      "/home/prodhommec/analyseMF/scripts-final-MF/previ-sais/function_read.py:27: FutureWarning: elementwise comparison failed; returning scalar instead, but in the future will perform elementwise comparison\n",
      "  if lon_bnds != \"all\":\n"
     ]
    },
    {
     "name": "stdout",
     "output_type": "stream",
     "text": [
      "all\n",
      "True [-20  -1]\n",
      "3\n",
      "I am here\n",
      "1\n",
      "(6, 6, 20)\n"
     ]
    },
    {
     "name": "stderr",
     "output_type": "stream",
     "text": [
      "/home/prodhommec/analyseMF/scripts-final-MF/previ-sais/function_read.py:26: FutureWarning: elementwise comparison failed; returning scalar instead, but in the future will perform elementwise comparison\n",
      "  print(lon_bnds != \"all\", lon_bnds)\n",
      "/home/prodhommec/analyseMF/scripts-final-MF/previ-sais/function_read.py:27: FutureWarning: elementwise comparison failed; returning scalar instead, but in the future will perform elementwise comparison\n",
      "  if lon_bnds != \"all\":\n"
     ]
    },
    {
     "name": "stdout",
     "output_type": "stream",
     "text": [
      "all\n",
      "True [-20  -1]\n",
      "3\n",
      "I am here\n",
      "1\n",
      "(6, 6, 20)\n"
     ]
    },
    {
     "name": "stderr",
     "output_type": "stream",
     "text": [
      "/home/prodhommec/analyseMF/scripts-final-MF/previ-sais/function_read.py:26: FutureWarning: elementwise comparison failed; returning scalar instead, but in the future will perform elementwise comparison\n",
      "  print(lon_bnds != \"all\", lon_bnds)\n",
      "/home/prodhommec/analyseMF/scripts-final-MF/previ-sais/function_read.py:27: FutureWarning: elementwise comparison failed; returning scalar instead, but in the future will perform elementwise comparison\n",
      "  if lon_bnds != \"all\":\n"
     ]
    },
    {
     "name": "stdout",
     "output_type": "stream",
     "text": [
      "all\n",
      "True [-20  -1]\n",
      "3\n",
      "I am here\n",
      "1\n",
      "(6, 6, 20)\n"
     ]
    },
    {
     "name": "stderr",
     "output_type": "stream",
     "text": [
      "/home/prodhommec/analyseMF/scripts-final-MF/previ-sais/function_read.py:26: FutureWarning: elementwise comparison failed; returning scalar instead, but in the future will perform elementwise comparison\n",
      "  print(lon_bnds != \"all\", lon_bnds)\n",
      "/home/prodhommec/analyseMF/scripts-final-MF/previ-sais/function_read.py:27: FutureWarning: elementwise comparison failed; returning scalar instead, but in the future will perform elementwise comparison\n",
      "  if lon_bnds != \"all\":\n"
     ]
    },
    {
     "name": "stdout",
     "output_type": "stream",
     "text": [
      "all\n",
      "True [-20  -1]\n",
      "3\n",
      "I am here\n",
      "1\n",
      "(6, 6, 20)\n"
     ]
    },
    {
     "name": "stderr",
     "output_type": "stream",
     "text": [
      "/home/prodhommec/analyseMF/scripts-final-MF/previ-sais/function_read.py:26: FutureWarning: elementwise comparison failed; returning scalar instead, but in the future will perform elementwise comparison\n",
      "  print(lon_bnds != \"all\", lon_bnds)\n",
      "/home/prodhommec/analyseMF/scripts-final-MF/previ-sais/function_read.py:27: FutureWarning: elementwise comparison failed; returning scalar instead, but in the future will perform elementwise comparison\n",
      "  if lon_bnds != \"all\":\n"
     ]
    },
    {
     "name": "stdout",
     "output_type": "stream",
     "text": [
      "all\n",
      "True [-20  -1]\n",
      "3\n",
      "I am here\n",
      "1\n",
      "(6, 6, 20)\n"
     ]
    },
    {
     "name": "stderr",
     "output_type": "stream",
     "text": [
      "/home/prodhommec/analyseMF/scripts-final-MF/previ-sais/function_read.py:26: FutureWarning: elementwise comparison failed; returning scalar instead, but in the future will perform elementwise comparison\n",
      "  print(lon_bnds != \"all\", lon_bnds)\n",
      "/home/prodhommec/analyseMF/scripts-final-MF/previ-sais/function_read.py:27: FutureWarning: elementwise comparison failed; returning scalar instead, but in the future will perform elementwise comparison\n",
      "  if lon_bnds != \"all\":\n"
     ]
    },
    {
     "name": "stdout",
     "output_type": "stream",
     "text": [
      "all\n",
      "True [-20  -1]\n",
      "3\n",
      "I am here\n",
      "1\n",
      "(6, 6, 20)\n"
     ]
    },
    {
     "name": "stderr",
     "output_type": "stream",
     "text": [
      "/home/prodhommec/analyseMF/scripts-final-MF/previ-sais/function_read.py:26: FutureWarning: elementwise comparison failed; returning scalar instead, but in the future will perform elementwise comparison\n",
      "  print(lon_bnds != \"all\", lon_bnds)\n",
      "/home/prodhommec/analyseMF/scripts-final-MF/previ-sais/function_read.py:27: FutureWarning: elementwise comparison failed; returning scalar instead, but in the future will perform elementwise comparison\n",
      "  if lon_bnds != \"all\":\n"
     ]
    },
    {
     "name": "stdout",
     "output_type": "stream",
     "text": [
      "all\n",
      "True [-20  -1]\n",
      "3\n",
      "I am here\n",
      "1\n",
      "(6, 6, 20)\n"
     ]
    },
    {
     "name": "stderr",
     "output_type": "stream",
     "text": [
      "/home/prodhommec/analyseMF/scripts-final-MF/previ-sais/function_read.py:26: FutureWarning: elementwise comparison failed; returning scalar instead, but in the future will perform elementwise comparison\n",
      "  print(lon_bnds != \"all\", lon_bnds)\n",
      "/home/prodhommec/analyseMF/scripts-final-MF/previ-sais/function_read.py:27: FutureWarning: elementwise comparison failed; returning scalar instead, but in the future will perform elementwise comparison\n",
      "  if lon_bnds != \"all\":\n"
     ]
    },
    {
     "name": "stdout",
     "output_type": "stream",
     "text": [
      "all\n",
      "True [-20  -1]\n",
      "3\n",
      "I am here\n",
      "1\n",
      "(6, 6, 20)\n"
     ]
    },
    {
     "name": "stderr",
     "output_type": "stream",
     "text": [
      "/home/prodhommec/analyseMF/scripts-final-MF/previ-sais/function_read.py:26: FutureWarning: elementwise comparison failed; returning scalar instead, but in the future will perform elementwise comparison\n",
      "  print(lon_bnds != \"all\", lon_bnds)\n",
      "/home/prodhommec/analyseMF/scripts-final-MF/previ-sais/function_read.py:27: FutureWarning: elementwise comparison failed; returning scalar instead, but in the future will perform elementwise comparison\n",
      "  if lon_bnds != \"all\":\n"
     ]
    },
    {
     "name": "stdout",
     "output_type": "stream",
     "text": [
      "all\n",
      "True [-20  -1]\n",
      "3\n",
      "I am here\n",
      "1\n",
      "(6, 6, 20)\n"
     ]
    },
    {
     "name": "stderr",
     "output_type": "stream",
     "text": [
      "/home/prodhommec/analyseMF/scripts-final-MF/previ-sais/function_read.py:26: FutureWarning: elementwise comparison failed; returning scalar instead, but in the future will perform elementwise comparison\n",
      "  print(lon_bnds != \"all\", lon_bnds)\n",
      "/home/prodhommec/analyseMF/scripts-final-MF/previ-sais/function_read.py:27: FutureWarning: elementwise comparison failed; returning scalar instead, but in the future will perform elementwise comparison\n",
      "  if lon_bnds != \"all\":\n"
     ]
    },
    {
     "name": "stdout",
     "output_type": "stream",
     "text": [
      "all\n",
      "True [-20  -1]\n",
      "3\n",
      "I am here\n",
      "1\n",
      "(6, 6, 20)\n"
     ]
    },
    {
     "name": "stderr",
     "output_type": "stream",
     "text": [
      "/home/prodhommec/analyseMF/scripts-final-MF/previ-sais/function_read.py:26: FutureWarning: elementwise comparison failed; returning scalar instead, but in the future will perform elementwise comparison\n",
      "  print(lon_bnds != \"all\", lon_bnds)\n",
      "/home/prodhommec/analyseMF/scripts-final-MF/previ-sais/function_read.py:27: FutureWarning: elementwise comparison failed; returning scalar instead, but in the future will perform elementwise comparison\n",
      "  if lon_bnds != \"all\":\n"
     ]
    },
    {
     "name": "stdout",
     "output_type": "stream",
     "text": [
      "all\n",
      "True [-20  -1]\n",
      "3\n",
      "I am here\n",
      "1\n",
      "(6, 6, 20)\n"
     ]
    },
    {
     "name": "stderr",
     "output_type": "stream",
     "text": [
      "/home/prodhommec/analyseMF/scripts-final-MF/previ-sais/function_read.py:26: FutureWarning: elementwise comparison failed; returning scalar instead, but in the future will perform elementwise comparison\n",
      "  print(lon_bnds != \"all\", lon_bnds)\n",
      "/home/prodhommec/analyseMF/scripts-final-MF/previ-sais/function_read.py:27: FutureWarning: elementwise comparison failed; returning scalar instead, but in the future will perform elementwise comparison\n",
      "  if lon_bnds != \"all\":\n"
     ]
    }
   ],
   "source": [
    "# list to be converted in array to store the data\n",
    "varMMS7=[]\n",
    "for imemb in range(1,nmemb+1):\n",
    "    membstr=\"E%03d\"%imemb\n",
    "    print(membstr)\n",
    "    moddate=[]\n",
    "    for s in sdatelst:\n",
    "        #hindcasts from system 8 HE: May startdate HK: November\n",
    "        f=glob(\"/home/prodhommec/cnrm/pastel/USERS/prodhommec/NO_SAVE/sys8/series/ts/HE/PASTEL_H\"+s.strftime(\"%Y\")+membstr+\"*6hourly_ts_\"+s.strftime(\"%Y\")+\"*\")\n",
    "        #f=glob(\"/cnrm/pastel/DATA/sys8/series/ts/HE/PASTEL_H\"+s.strftime(\"%Y\")+membstr+\"*6hourly_ts_\"+s.strftime(\"%Y\")+\"*\")\n",
    " \n",
    "        #remove lasts days of April (present due to the lagged initialisation stategy)\n",
    "        #to gain time the monthly data could be stored somewhere\n",
    "        f=cdo.monmean(input=\"-selmon,5,6,7,8,9,10 \"+f[0])\n",
    "        f=cdo.remapbil(\"r360x180\", input=f)\n",
    "        varf=netCDF4.Dataset(f)\n",
    "\n",
    "        #extract array from fonction read \n",
    "        mod, latobs, lonobs  = extract_array(varf, \"ts\", nmon, lon_bnds, lat_bnds, level=\"all\")\n",
    "        mod = area_av(mod, 1, 2, latobs, lonobs)\n",
    "        moddate.append(mod)\n",
    "        \n",
    "    varMMS7.append(np.array(moddate))\n",
    "    \n",
    "varMMS7=np.array(varMMS7)"
   ]
  },
  {
   "cell_type": "markdown",
   "metadata": {},
   "source": [
    "### Read files: observations"
   ]
  },
  {
   "cell_type": "code",
   "execution_count": 15,
   "metadata": {},
   "outputs": [
    {
     "name": "stdout",
     "output_type": "stream",
     "text": [
      "all\n",
      "True [-20  -1]\n",
      "4\n",
      "I am here\n",
      "1\n",
      "(1944, 1, 6, 20)\n"
     ]
    },
    {
     "name": "stderr",
     "output_type": "stream",
     "text": [
      "/home/prodhommec/analyseMF/scripts-final-MF/previ-sais/function_read.py:26: FutureWarning: elementwise comparison failed; returning scalar instead, but in the future will perform elementwise comparison\n",
      "  print(lon_bnds != \"all\", lon_bnds)\n",
      "/home/prodhommec/analyseMF/scripts-final-MF/previ-sais/function_read.py:27: FutureWarning: elementwise comparison failed; returning scalar instead, but in the future will perform elementwise comparison\n",
      "  if lon_bnds != \"all\":\n"
     ]
    }
   ],
   "source": [
    "fileobs = prefixe+\"/cnrm/pastel/USERS/prodhommec/NO_SAVE/obs/ersst-v4_185401-201612.nc\"\n",
    "fileobs=cdo.remapbil(\"r360x180\", input=fileobs)\n",
    "varfobs=netCDF4.Dataset(fileobs)\n",
    "#varfobs.variables\n",
    "obs, latobs, lonobs  = extract_array(varfobs, \"sst\", (yearlst[-1]-1854+2)*12, lon_bnds, lat_bnds, level=\"all\")\n",
    "\n",
    "obs = area_av(obs[((yearlst[0]-1854)*12):,0,:,:], 1, 2, latobs, lonobs)"
   ]
  },
  {
   "cell_type": "markdown",
   "metadata": {},
   "source": [
    "### Analysis"
   ]
  },
  {
   "cell_type": "code",
   "execution_count": 16,
   "metadata": {},
   "outputs": [],
   "source": [
    "# transform obervation to have data organized following (nyear, 12, nlon, nlat)\n",
    "indexobsresh = obs.reshape((year2-year1+2),12)\n",
    "\n",
    "\n",
    "#compute climatologies\n",
    "climmod=np.mean(varMM, axis=(0,1))\n",
    "climobs = np.mean(indexobsresh, axis = 0)\n",
    "clims7 = np.mean(varMMS7, axis = (0,1))\n",
    "\n",
    "#compute anomalies \n",
    "#additional note: This should be done in cross-validation for this preliminary analysis it's not done\n",
    "# you can use the fonction from forecast_veri\n",
    "anomS7 = varMMS7-extend_table(clims7, [1, (year2-year1+1)])\n",
    "anom = varMM-extend_table(climmod, [1, (year2-year1+1)])\n",
    "anomobs = np.ndarray.flatten(indexobsresh - climobs)\n"
   ]
  },
  {
   "cell_type": "code",
   "execution_count": 17,
   "metadata": {},
   "outputs": [],
   "source": [
    "obsreorghind=obs[(monstart-1):((monstart-1)+(nyear)*12)].reshape(nyear, 12)\n",
    "corr=[]\n",
    "for imon in range(nmon):\n",
    "    corr.append(scipy.stats.pearsonr(np.mean(anom, axis=0)[:,imon], obsreorghind[:,imon]))\n",
    "corr=np.array(corr)"
   ]
  },
  {
   "cell_type": "code",
   "execution_count": 18,
   "metadata": {},
   "outputs": [],
   "source": [
    "corrS7=[]\n",
    "for imon in range(nmon):\n",
    "    corrS7.append(scipy.stats.pearsonr(np.mean(anomS7, axis=0)[:,imon], obsreorghind[:,imon]))\n",
    "corrS7=np.array(corrS7)"
   ]
  },
  {
   "cell_type": "markdown",
   "metadata": {},
   "source": [
    "### Plots"
   ]
  },
  {
   "cell_type": "code",
   "execution_count": 21,
   "metadata": {},
   "outputs": [
    {
     "data": {
      "text/plain": [
       "<matplotlib.legend.Legend at 0x7f14f4f4ae50>"
      ]
     },
     "execution_count": 21,
     "metadata": {},
     "output_type": "execute_result"
    },
    {
     "data": {
      "image/png": "[encoded data removed]",
      "text/plain": [
       "<Figure size 720x720 with 4 Axes>"
      ]
     },
     "metadata": {
      "needs_background": "light"
     },
     "output_type": "display_data"
    }
   ],
   "source": [
    "nline=4\n",
    "ncol=1\n",
    "\n",
    "fig, ax = plt.subplots(ncols=ncol, nrows=nline, \n",
    "                        figsize=(10, 10))\n",
    "\n",
    "plt.tight_layout(pad=3)\n",
    "\n",
    "obssdatelst=[]\n",
    "for year in np.arange(year1,year2+2):\n",
    "    for mon in range(1, 13):\n",
    "        obssdatelst.append(date(year=year, month=mon, day=1))\n",
    "\n",
    "        \n",
    "        \n",
    "        \n",
    "obssdatelst=[]\n",
    "for year in np.arange(year1,year2+2):\n",
    "    for mon in range(1, 13):\n",
    "        obssdatelst.append(date(year=year, month=mon, day=1))\n",
    "\n",
    "ax[0].plot(obssdatelst, obs, color=\"black\")\n",
    "\n",
    "\n",
    "for isdates in range(len(sdatelst)):\n",
    "    modsdatelst=[]\n",
    "    for imon in range(nmon):\n",
    "        modsdatelst.append(sdatelst[isdates]+relativedelta(months=+imon))\n",
    "    \n",
    "    ax[0].plot(modsdatelst, np.ndarray.flatten(varMMS7[0,isdates,:]), color=\"darkgreen\")\n",
    "    ax[0].plot(modsdatelst, np.ndarray.flatten(varMM[0,isdates,:]), color=\"darkorange\")\n",
    "        \n",
    "        \n",
    "for isdates in range(len(sdatelst)):\n",
    "    modsdatelst=[]\n",
    "    for imon in range(nmon):\n",
    "        modsdatelst.append(sdatelst[isdates]+relativedelta(months=+imon))\n",
    "\n",
    "    for imemb in range(nmemb):\n",
    "        ax[0].plot(modsdatelst, np.ndarray.flatten(varMM[imemb,isdates,:]), color=\"darkorange\")\n",
    "ax[0].set_title(\"raw SST \"+regname)\n",
    "    \n",
    "for isdates in range(len(sdatelst)):\n",
    "    modsdatelst=[]\n",
    "    for imon in range(nmon):\n",
    "        modsdatelst.append(sdatelst[isdates]+relativedelta(months=+imon))\n",
    "    #plt.plot(modsdatelsts7, np.ndarray.flatten(indexSYS7[isdates*12:isdates*12+6]), color=\"green\")    \n",
    "    for imemb in range(nmemb):\n",
    "        ax[0].plot(modsdatelst, np.ndarray.flatten(varMMS7[imemb,isdates,:]), color=\"darkgreen\")\n",
    "        \n",
    "\n",
    "ax[0].legend([\"ERSST\", \"dcppA-assim_r4i1p1f2\", \"S8\", \"dccpA-hindcast_May\"])\n",
    "\n",
    "        \n",
    "ax[1].plot(obssdatelst, anomobs, color=\"black\")\n",
    "#ax[1].plot(obssdatelst[:(year2-year1+1)*12], anomfor, color=\"blue\")\n",
    "\n",
    "for isdates in range(len(sdatelst)):\n",
    "    modsdatelst=[]\n",
    "    for imon in range(nmon):\n",
    "        modsdatelst.append(sdatelst[isdates]+relativedelta(months=+imon))\n",
    "    \n",
    "    for imemb in range(nmemb):\n",
    "        ax[1].plot(modsdatelst, np.ndarray.flatten(anom[imemb,isdates,:]), color=\"darkorange\")\n",
    "ax[1].set_title(\"anom SST\"+regname)\n",
    "\n",
    "    \n",
    "for isdates in range(len(sdatelst)):\n",
    "    modsdatelst=[]\n",
    "    for imon in range(nmon):\n",
    "        modsdatelst.append(sdatelst[isdates]+relativedelta(months=+imon))\n",
    "    \n",
    "    \n",
    "    for imemb in range(nmemb):\n",
    "        ax[1].plot(modsdatelst, np.ndarray.flatten(anomS7[imemb,isdates,:]), color=\"darkgreen\")\n",
    "\n",
    "        \n",
    "\n",
    "        \n",
    "\n",
    "ax[2].plot([s.strftime(\"%b\") for s in modsdatelst], climobs[monstart:(monstart+nmon)], color=\"black\")\n",
    "#ax[2].plot([s.strftime(\"%b\") for s in modsdatelst], climfor[monstart:(monstart+nmon)], color=\"blue\")\n",
    "ax[2].plot([s.strftime(\"%b\") for s in modsdatelst], clims7, color=\"darkgreen\")\n",
    "ax[2].plot([s.strftime(\"%b\") for s in modsdatelst], climmod, color=\"darkorange\")\n",
    "\n",
    "ax[2].set_title(\"Clim \"+regname)\n",
    "\n",
    "ax[2].legend([\"ERSST\", \"dcppA-assim_r4i1p1f2\", \"S8\", \"dccpA-hindcast_May\"])\n",
    "        \n",
    "        \n",
    "\n",
    "ax[3].plot([s.strftime(\"%b\") for s in modsdatelst], corr[:,0], color=\"darkorange\")\n",
    "for imon in range(nmon):\n",
    "    if corr[imon,1]<0.05:\n",
    "        ax[3].scatter(modsdatelst[imon].strftime(\"%b\"), corr[imon,0], marker=\"*\", color=\"darkorange\")\n",
    "\n",
    "\n",
    "\n",
    "ax[3].plot([s.strftime(\"%b\") for s in modsdatelst], corrS7[:,0], color=\"darkgreen\")\n",
    "for imon in range(nmon):\n",
    "    if corrS7[imon,1]<0.05:\n",
    "        ax[3].scatter(modsdatelst[imon].strftime(\"%b\"), corrS7[imon,0], marker=\"*\", color=\"darkgreen\")\n",
    "ax[3].set_title(\"Corr \"+regname)\n",
    "\n",
    "ax[3].legend([ \"dccpA-hindcast_May\", \"S8\"])\n",
    "\n"
   ]
  }
 ],
 "metadata": {
  "kernelspec": {
   "display_name": "Python 3",
   "language": "python",
   "name": "python3"
  },
  "language_info": {
   "codemirror_mode": {
    "name": "ipython",
    "version": 3
   },
   "file_extension": ".py",
   "mimetype": "text/x-python",
   "name": "python",
   "nbconvert_exporter": "python",
   "pygments_lexer": "ipython3",
   "version": "3.7.6"
  }
 },
 "nbformat": 4,
 "nbformat_minor": 2
}
