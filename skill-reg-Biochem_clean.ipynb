{
 "cells": [
  {
   "cell_type": "markdown",
   "metadata": {},
   "source": [
    "script to compare the hindcasts (May) at seasonal scale (6months) with the \"home reanalysis\" (dcppA-assim) and satelital obervations for variables averaged in a given region (raw timeserie, anomalies, climatology and correlation).  Might need some adaptation for november startdate."
   ]
  },
  {
   "cell_type": "markdown",
   "metadata": {},
   "source": [
    "### Input parameters and libraries"
   ]
  },
  {
   "cell_type": "code",
   "execution_count": 20,
   "metadata": {},
   "outputs": [],
   "source": [
    "#import matplotlib\n",
    "#matplotlib.use('Agg') # to run on aneto (not very useful for this script)\n",
    "from function_read import * # some auxiliary functions that I wrote to read the file\n",
    "from forecast_veri import * # some auxiliary functions for forecast verification\n",
    "#other libraries\n",
    "from mpl_toolkits.basemap import Basemap\n",
    "import matplotlib.pyplot as plt\n",
    "import scipy.stats\n",
    "import cartopy as cart\n",
    "import cartopy.crs as ccrs\n",
    "from function_read import *\n",
    "from mpl_toolkits.axisartist.axislines import Subplot \n",
    "import sys\n",
    "\n",
    "# name of the experience\n",
    "exp=\"dcppA-hindcast\"\n",
    "\n",
    "#period to analyse\n",
    "year1=1998\n",
    "year2=2013\n",
    "#number of months of the hindcast to read\n",
    "nmon=6\n",
    "#number of members\n",
    "nmemb=10\n",
    "#starting month of the hindcast (may:5 or November:11)\n",
    "monstart=5\n",
    "\n",
    "#variable to analyse (should work for all surface variables, extra check might be needed for 3D variables)\n",
    "varname=\"chlos\"\n",
    "level=\"all\"\n",
    "\n",
    "#region definition\n",
    "#regname=\"global\"\n",
    "#lat_bnds = [-90,90]\n",
    "#lon_bnds = [-180,179]\n",
    "\n",
    "#regname=\"Atl3\"\n",
    "#lat_bnds = [-3,3]\n",
    "#lon_bnds = [-20,-1]\n",
    "\n",
    "#regname=\"TropPac\"\n",
    "#lat_bnds = [-30,30]\n",
    "#lon_bnds = [360-200,360-120]\n",
    "\n",
    "#regname=\"NorthAtl\"\n",
    "#lat_bnds = [40,70]\n",
    "#lon_bnds = [360-70,-1]\n",
    "\n",
    "regname=\"TropAtl\"\n",
    "lat_bnds = [-30,30]\n",
    "lon_bnds = [360-70,20]\n",
    "\n",
    "scaledict = {\"tos\":1, \"bigthetao\":1,\"chlos\":1e3, \"o2\":1e3, \"no3os\":1e3, \"intpp\":12*1000*3600*24 }\n",
    "scale=scaledict.get(varname)"
   ]
  },
  {
   "cell_type": "code",
   "execution_count": 21,
   "metadata": {},
   "outputs": [],
   "source": [
    "#compute dates from year1 and year2\n",
    "nyear=year2-year1+1\n",
    "yearlst=np.arange(year1, year2+1)\n",
    "sdatelst=[]\n",
    "for year in yearlst:\n",
    "    sdatelst.append(date(year=year, month=monstart, day=1))"
   ]
  },
  {
   "cell_type": "markdown",
   "metadata": {},
   "source": [
    "### Read files: hindcasts"
   ]
  },
  {
   "cell_type": "code",
   "execution_count": 22,
   "metadata": {},
   "outputs": [
    {
     "name": "stdout",
     "output_type": "stream",
     "text": [
      "all\n",
      "True [290  20]\n",
      "3\n",
      "(6, 60, 91)\n",
      "all\n",
      "True [290  20]\n",
      "3\n",
      "(6, 60, 91)\n"
     ]
    },
    {
     "name": "stderr",
     "output_type": "stream",
     "text": [
      "/home/prodhommec/analyseMF/scripts-final-MF/previ-sais/function_read.py:26: FutureWarning: elementwise comparison failed; returning scalar instead, but in the future will perform elementwise comparison\n",
      "  print(lon_bnds != \"all\", lon_bnds)\n",
      "/home/prodhommec/analyseMF/scripts-final-MF/previ-sais/function_read.py:27: FutureWarning: elementwise comparison failed; returning scalar instead, but in the future will perform elementwise comparison\n",
      "  if lon_bnds != \"all\":\n",
      "/home/prodhommec/analyseMF/scripts-final-MF/previ-sais/function_read.py:26: FutureWarning: elementwise comparison failed; returning scalar instead, but in the future will perform elementwise comparison\n",
      "  print(lon_bnds != \"all\", lon_bnds)\n",
      "/home/prodhommec/analyseMF/scripts-final-MF/previ-sais/function_read.py:27: FutureWarning: elementwise comparison failed; returning scalar instead, but in the future will perform elementwise comparison\n",
      "  if lon_bnds != \"all\":\n"
     ]
    },
    {
     "name": "stdout",
     "output_type": "stream",
     "text": [
      "all\n",
      "True [290  20]\n",
      "3\n",
      "(6, 60, 91)\n",
      "all\n",
      "True [290  20]\n",
      "3\n",
      "(6, 60, 91)\n"
     ]
    },
    {
     "name": "stderr",
     "output_type": "stream",
     "text": [
      "/home/prodhommec/analyseMF/scripts-final-MF/previ-sais/function_read.py:26: FutureWarning: elementwise comparison failed; returning scalar instead, but in the future will perform elementwise comparison\n",
      "  print(lon_bnds != \"all\", lon_bnds)\n",
      "/home/prodhommec/analyseMF/scripts-final-MF/previ-sais/function_read.py:27: FutureWarning: elementwise comparison failed; returning scalar instead, but in the future will perform elementwise comparison\n",
      "  if lon_bnds != \"all\":\n",
      "/home/prodhommec/analyseMF/scripts-final-MF/previ-sais/function_read.py:26: FutureWarning: elementwise comparison failed; returning scalar instead, but in the future will perform elementwise comparison\n",
      "  print(lon_bnds != \"all\", lon_bnds)\n",
      "/home/prodhommec/analyseMF/scripts-final-MF/previ-sais/function_read.py:27: FutureWarning: elementwise comparison failed; returning scalar instead, but in the future will perform elementwise comparison\n",
      "  if lon_bnds != \"all\":\n"
     ]
    },
    {
     "name": "stdout",
     "output_type": "stream",
     "text": [
      "all\n",
      "True [290  20]\n",
      "3\n",
      "(6, 60, 91)\n",
      "all\n",
      "True [290  20]\n",
      "3\n",
      "(6, 60, 91)\n"
     ]
    },
    {
     "name": "stderr",
     "output_type": "stream",
     "text": [
      "/home/prodhommec/analyseMF/scripts-final-MF/previ-sais/function_read.py:26: FutureWarning: elementwise comparison failed; returning scalar instead, but in the future will perform elementwise comparison\n",
      "  print(lon_bnds != \"all\", lon_bnds)\n",
      "/home/prodhommec/analyseMF/scripts-final-MF/previ-sais/function_read.py:27: FutureWarning: elementwise comparison failed; returning scalar instead, but in the future will perform elementwise comparison\n",
      "  if lon_bnds != \"all\":\n",
      "/home/prodhommec/analyseMF/scripts-final-MF/previ-sais/function_read.py:26: FutureWarning: elementwise comparison failed; returning scalar instead, but in the future will perform elementwise comparison\n",
      "  print(lon_bnds != \"all\", lon_bnds)\n",
      "/home/prodhommec/analyseMF/scripts-final-MF/previ-sais/function_read.py:27: FutureWarning: elementwise comparison failed; returning scalar instead, but in the future will perform elementwise comparison\n",
      "  if lon_bnds != \"all\":\n"
     ]
    },
    {
     "name": "stdout",
     "output_type": "stream",
     "text": [
      "all\n",
      "True [290  20]\n",
      "3\n",
      "(6, 60, 91)\n",
      "all\n",
      "True [290  20]\n",
      "3\n",
      "(6, 60, 91)\n"
     ]
    },
    {
     "name": "stderr",
     "output_type": "stream",
     "text": [
      "/home/prodhommec/analyseMF/scripts-final-MF/previ-sais/function_read.py:26: FutureWarning: elementwise comparison failed; returning scalar instead, but in the future will perform elementwise comparison\n",
      "  print(lon_bnds != \"all\", lon_bnds)\n",
      "/home/prodhommec/analyseMF/scripts-final-MF/previ-sais/function_read.py:27: FutureWarning: elementwise comparison failed; returning scalar instead, but in the future will perform elementwise comparison\n",
      "  if lon_bnds != \"all\":\n",
      "/home/prodhommec/analyseMF/scripts-final-MF/previ-sais/function_read.py:26: FutureWarning: elementwise comparison failed; returning scalar instead, but in the future will perform elementwise comparison\n",
      "  print(lon_bnds != \"all\", lon_bnds)\n",
      "/home/prodhommec/analyseMF/scripts-final-MF/previ-sais/function_read.py:27: FutureWarning: elementwise comparison failed; returning scalar instead, but in the future will perform elementwise comparison\n",
      "  if lon_bnds != \"all\":\n"
     ]
    },
    {
     "name": "stdout",
     "output_type": "stream",
     "text": [
      "all\n",
      "True [290  20]\n",
      "3\n",
      "(6, 60, 91)\n",
      "all\n",
      "True [290  20]\n",
      "3\n",
      "(6, 60, 91)\n"
     ]
    },
    {
     "name": "stderr",
     "output_type": "stream",
     "text": [
      "/home/prodhommec/analyseMF/scripts-final-MF/previ-sais/function_read.py:26: FutureWarning: elementwise comparison failed; returning scalar instead, but in the future will perform elementwise comparison\n",
      "  print(lon_bnds != \"all\", lon_bnds)\n",
      "/home/prodhommec/analyseMF/scripts-final-MF/previ-sais/function_read.py:27: FutureWarning: elementwise comparison failed; returning scalar instead, but in the future will perform elementwise comparison\n",
      "  if lon_bnds != \"all\":\n",
      "/home/prodhommec/analyseMF/scripts-final-MF/previ-sais/function_read.py:26: FutureWarning: elementwise comparison failed; returning scalar instead, but in the future will perform elementwise comparison\n",
      "  print(lon_bnds != \"all\", lon_bnds)\n",
      "/home/prodhommec/analyseMF/scripts-final-MF/previ-sais/function_read.py:27: FutureWarning: elementwise comparison failed; returning scalar instead, but in the future will perform elementwise comparison\n",
      "  if lon_bnds != \"all\":\n"
     ]
    },
    {
     "name": "stdout",
     "output_type": "stream",
     "text": [
      "all\n",
      "True [290  20]\n",
      "3\n",
      "(6, 60, 91)\n",
      "all\n",
      "True [290  20]\n",
      "3\n",
      "(6, 60, 91)\n"
     ]
    },
    {
     "name": "stderr",
     "output_type": "stream",
     "text": [
      "/home/prodhommec/analyseMF/scripts-final-MF/previ-sais/function_read.py:26: FutureWarning: elementwise comparison failed; returning scalar instead, but in the future will perform elementwise comparison\n",
      "  print(lon_bnds != \"all\", lon_bnds)\n",
      "/home/prodhommec/analyseMF/scripts-final-MF/previ-sais/function_read.py:27: FutureWarning: elementwise comparison failed; returning scalar instead, but in the future will perform elementwise comparison\n",
      "  if lon_bnds != \"all\":\n",
      "/home/prodhommec/analyseMF/scripts-final-MF/previ-sais/function_read.py:26: FutureWarning: elementwise comparison failed; returning scalar instead, but in the future will perform elementwise comparison\n",
      "  print(lon_bnds != \"all\", lon_bnds)\n",
      "/home/prodhommec/analyseMF/scripts-final-MF/previ-sais/function_read.py:27: FutureWarning: elementwise comparison failed; returning scalar instead, but in the future will perform elementwise comparison\n",
      "  if lon_bnds != \"all\":\n"
     ]
    },
    {
     "name": "stdout",
     "output_type": "stream",
     "text": [
      "all\n",
      "True [290  20]\n",
      "3\n",
      "(6, 60, 91)\n",
      "all\n",
      "True [290  20]\n",
      "3\n",
      "(6, 60, 91)\n"
     ]
    },
    {
     "name": "stderr",
     "output_type": "stream",
     "text": [
      "/home/prodhommec/analyseMF/scripts-final-MF/previ-sais/function_read.py:26: FutureWarning: elementwise comparison failed; returning scalar instead, but in the future will perform elementwise comparison\n",
      "  print(lon_bnds != \"all\", lon_bnds)\n",
      "/home/prodhommec/analyseMF/scripts-final-MF/previ-sais/function_read.py:27: FutureWarning: elementwise comparison failed; returning scalar instead, but in the future will perform elementwise comparison\n",
      "  if lon_bnds != \"all\":\n",
      "/home/prodhommec/analyseMF/scripts-final-MF/previ-sais/function_read.py:26: FutureWarning: elementwise comparison failed; returning scalar instead, but in the future will perform elementwise comparison\n",
      "  print(lon_bnds != \"all\", lon_bnds)\n",
      "/home/prodhommec/analyseMF/scripts-final-MF/previ-sais/function_read.py:27: FutureWarning: elementwise comparison failed; returning scalar instead, but in the future will perform elementwise comparison\n",
      "  if lon_bnds != \"all\":\n"
     ]
    },
    {
     "name": "stdout",
     "output_type": "stream",
     "text": [
      "all\n",
      "True [290  20]\n",
      "3\n",
      "(6, 60, 91)\n",
      "all\n",
      "True [290  20]\n",
      "3\n",
      "(6, 60, 91)\n"
     ]
    },
    {
     "name": "stderr",
     "output_type": "stream",
     "text": [
      "/home/prodhommec/analyseMF/scripts-final-MF/previ-sais/function_read.py:26: FutureWarning: elementwise comparison failed; returning scalar instead, but in the future will perform elementwise comparison\n",
      "  print(lon_bnds != \"all\", lon_bnds)\n",
      "/home/prodhommec/analyseMF/scripts-final-MF/previ-sais/function_read.py:27: FutureWarning: elementwise comparison failed; returning scalar instead, but in the future will perform elementwise comparison\n",
      "  if lon_bnds != \"all\":\n",
      "/home/prodhommec/analyseMF/scripts-final-MF/previ-sais/function_read.py:26: FutureWarning: elementwise comparison failed; returning scalar instead, but in the future will perform elementwise comparison\n",
      "  print(lon_bnds != \"all\", lon_bnds)\n",
      "/home/prodhommec/analyseMF/scripts-final-MF/previ-sais/function_read.py:27: FutureWarning: elementwise comparison failed; returning scalar instead, but in the future will perform elementwise comparison\n",
      "  if lon_bnds != \"all\":\n"
     ]
    },
    {
     "name": "stdout",
     "output_type": "stream",
     "text": [
      "all\n",
      "True [290  20]\n",
      "3\n",
      "(6, 60, 91)\n",
      "all\n",
      "True [290  20]\n",
      "3\n",
      "(6, 60, 91)\n"
     ]
    },
    {
     "name": "stderr",
     "output_type": "stream",
     "text": [
      "/home/prodhommec/analyseMF/scripts-final-MF/previ-sais/function_read.py:26: FutureWarning: elementwise comparison failed; returning scalar instead, but in the future will perform elementwise comparison\n",
      "  print(lon_bnds != \"all\", lon_bnds)\n",
      "/home/prodhommec/analyseMF/scripts-final-MF/previ-sais/function_read.py:27: FutureWarning: elementwise comparison failed; returning scalar instead, but in the future will perform elementwise comparison\n",
      "  if lon_bnds != \"all\":\n",
      "/home/prodhommec/analyseMF/scripts-final-MF/previ-sais/function_read.py:26: FutureWarning: elementwise comparison failed; returning scalar instead, but in the future will perform elementwise comparison\n",
      "  print(lon_bnds != \"all\", lon_bnds)\n",
      "/home/prodhommec/analyseMF/scripts-final-MF/previ-sais/function_read.py:27: FutureWarning: elementwise comparison failed; returning scalar instead, but in the future will perform elementwise comparison\n",
      "  if lon_bnds != \"all\":\n"
     ]
    },
    {
     "name": "stdout",
     "output_type": "stream",
     "text": [
      "all\n",
      "True [290  20]\n",
      "3\n",
      "(6, 60, 91)\n",
      "all\n",
      "True [290  20]\n",
      "3\n",
      "(6, 60, 91)\n"
     ]
    },
    {
     "name": "stderr",
     "output_type": "stream",
     "text": [
      "/home/prodhommec/analyseMF/scripts-final-MF/previ-sais/function_read.py:26: FutureWarning: elementwise comparison failed; returning scalar instead, but in the future will perform elementwise comparison\n",
      "  print(lon_bnds != \"all\", lon_bnds)\n",
      "/home/prodhommec/analyseMF/scripts-final-MF/previ-sais/function_read.py:27: FutureWarning: elementwise comparison failed; returning scalar instead, but in the future will perform elementwise comparison\n",
      "  if lon_bnds != \"all\":\n",
      "/home/prodhommec/analyseMF/scripts-final-MF/previ-sais/function_read.py:26: FutureWarning: elementwise comparison failed; returning scalar instead, but in the future will perform elementwise comparison\n",
      "  print(lon_bnds != \"all\", lon_bnds)\n",
      "/home/prodhommec/analyseMF/scripts-final-MF/previ-sais/function_read.py:27: FutureWarning: elementwise comparison failed; returning scalar instead, but in the future will perform elementwise comparison\n",
      "  if lon_bnds != \"all\":\n"
     ]
    },
    {
     "name": "stdout",
     "output_type": "stream",
     "text": [
      "all\n",
      "True [290  20]\n",
      "3\n",
      "(6, 60, 91)\n",
      "all\n",
      "True [290  20]\n",
      "3\n",
      "(6, 60, 91)\n"
     ]
    },
    {
     "name": "stderr",
     "output_type": "stream",
     "text": [
      "/home/prodhommec/analyseMF/scripts-final-MF/previ-sais/function_read.py:26: FutureWarning: elementwise comparison failed; returning scalar instead, but in the future will perform elementwise comparison\n",
      "  print(lon_bnds != \"all\", lon_bnds)\n",
      "/home/prodhommec/analyseMF/scripts-final-MF/previ-sais/function_read.py:27: FutureWarning: elementwise comparison failed; returning scalar instead, but in the future will perform elementwise comparison\n",
      "  if lon_bnds != \"all\":\n",
      "/home/prodhommec/analyseMF/scripts-final-MF/previ-sais/function_read.py:26: FutureWarning: elementwise comparison failed; returning scalar instead, but in the future will perform elementwise comparison\n",
      "  print(lon_bnds != \"all\", lon_bnds)\n",
      "/home/prodhommec/analyseMF/scripts-final-MF/previ-sais/function_read.py:27: FutureWarning: elementwise comparison failed; returning scalar instead, but in the future will perform elementwise comparison\n",
      "  if lon_bnds != \"all\":\n"
     ]
    },
    {
     "name": "stdout",
     "output_type": "stream",
     "text": [
      "all\n",
      "True [290  20]\n",
      "3\n",
      "(6, 60, 91)\n",
      "all\n",
      "True [290  20]\n",
      "3\n",
      "(6, 60, 91)\n"
     ]
    },
    {
     "name": "stderr",
     "output_type": "stream",
     "text": [
      "/home/prodhommec/analyseMF/scripts-final-MF/previ-sais/function_read.py:26: FutureWarning: elementwise comparison failed; returning scalar instead, but in the future will perform elementwise comparison\n",
      "  print(lon_bnds != \"all\", lon_bnds)\n",
      "/home/prodhommec/analyseMF/scripts-final-MF/previ-sais/function_read.py:27: FutureWarning: elementwise comparison failed; returning scalar instead, but in the future will perform elementwise comparison\n",
      "  if lon_bnds != \"all\":\n",
      "/home/prodhommec/analyseMF/scripts-final-MF/previ-sais/function_read.py:26: FutureWarning: elementwise comparison failed; returning scalar instead, but in the future will perform elementwise comparison\n",
      "  print(lon_bnds != \"all\", lon_bnds)\n",
      "/home/prodhommec/analyseMF/scripts-final-MF/previ-sais/function_read.py:27: FutureWarning: elementwise comparison failed; returning scalar instead, but in the future will perform elementwise comparison\n",
      "  if lon_bnds != \"all\":\n"
     ]
    },
    {
     "name": "stdout",
     "output_type": "stream",
     "text": [
      "all\n",
      "True [290  20]\n",
      "3\n",
      "(6, 60, 91)\n",
      "all\n",
      "True [290  20]\n",
      "3\n",
      "(6, 60, 91)\n"
     ]
    },
    {
     "name": "stderr",
     "output_type": "stream",
     "text": [
      "/home/prodhommec/analyseMF/scripts-final-MF/previ-sais/function_read.py:26: FutureWarning: elementwise comparison failed; returning scalar instead, but in the future will perform elementwise comparison\n",
      "  print(lon_bnds != \"all\", lon_bnds)\n",
      "/home/prodhommec/analyseMF/scripts-final-MF/previ-sais/function_read.py:27: FutureWarning: elementwise comparison failed; returning scalar instead, but in the future will perform elementwise comparison\n",
      "  if lon_bnds != \"all\":\n",
      "/home/prodhommec/analyseMF/scripts-final-MF/previ-sais/function_read.py:26: FutureWarning: elementwise comparison failed; returning scalar instead, but in the future will perform elementwise comparison\n",
      "  print(lon_bnds != \"all\", lon_bnds)\n",
      "/home/prodhommec/analyseMF/scripts-final-MF/previ-sais/function_read.py:27: FutureWarning: elementwise comparison failed; returning scalar instead, but in the future will perform elementwise comparison\n",
      "  if lon_bnds != \"all\":\n"
     ]
    },
    {
     "name": "stdout",
     "output_type": "stream",
     "text": [
      "all\n",
      "True [290  20]\n",
      "3\n",
      "(6, 60, 91)\n",
      "all\n",
      "True [290  20]\n",
      "3\n",
      "(6, 60, 91)\n"
     ]
    },
    {
     "name": "stderr",
     "output_type": "stream",
     "text": [
      "/home/prodhommec/analyseMF/scripts-final-MF/previ-sais/function_read.py:26: FutureWarning: elementwise comparison failed; returning scalar instead, but in the future will perform elementwise comparison\n",
      "  print(lon_bnds != \"all\", lon_bnds)\n",
      "/home/prodhommec/analyseMF/scripts-final-MF/previ-sais/function_read.py:27: FutureWarning: elementwise comparison failed; returning scalar instead, but in the future will perform elementwise comparison\n",
      "  if lon_bnds != \"all\":\n",
      "/home/prodhommec/analyseMF/scripts-final-MF/previ-sais/function_read.py:26: FutureWarning: elementwise comparison failed; returning scalar instead, but in the future will perform elementwise comparison\n",
      "  print(lon_bnds != \"all\", lon_bnds)\n",
      "/home/prodhommec/analyseMF/scripts-final-MF/previ-sais/function_read.py:27: FutureWarning: elementwise comparison failed; returning scalar instead, but in the future will perform elementwise comparison\n",
      "  if lon_bnds != \"all\":\n"
     ]
    },
    {
     "name": "stdout",
     "output_type": "stream",
     "text": [
      "all\n",
      "True [290  20]\n",
      "3\n",
      "(6, 60, 91)\n",
      "all\n",
      "True [290  20]\n",
      "3\n",
      "(6, 60, 91)\n"
     ]
    },
    {
     "name": "stderr",
     "output_type": "stream",
     "text": [
      "/home/prodhommec/analyseMF/scripts-final-MF/previ-sais/function_read.py:26: FutureWarning: elementwise comparison failed; returning scalar instead, but in the future will perform elementwise comparison\n",
      "  print(lon_bnds != \"all\", lon_bnds)\n",
      "/home/prodhommec/analyseMF/scripts-final-MF/previ-sais/function_read.py:27: FutureWarning: elementwise comparison failed; returning scalar instead, but in the future will perform elementwise comparison\n",
      "  if lon_bnds != \"all\":\n",
      "/home/prodhommec/analyseMF/scripts-final-MF/previ-sais/function_read.py:26: FutureWarning: elementwise comparison failed; returning scalar instead, but in the future will perform elementwise comparison\n",
      "  print(lon_bnds != \"all\", lon_bnds)\n",
      "/home/prodhommec/analyseMF/scripts-final-MF/previ-sais/function_read.py:27: FutureWarning: elementwise comparison failed; returning scalar instead, but in the future will perform elementwise comparison\n",
      "  if lon_bnds != \"all\":\n"
     ]
    },
    {
     "name": "stdout",
     "output_type": "stream",
     "text": [
      "all\n",
      "True [290  20]\n",
      "3\n",
      "(6, 60, 91)\n",
      "all\n",
      "True [290  20]\n",
      "3\n",
      "(6, 60, 91)\n"
     ]
    },
    {
     "name": "stderr",
     "output_type": "stream",
     "text": [
      "/home/prodhommec/analyseMF/scripts-final-MF/previ-sais/function_read.py:26: FutureWarning: elementwise comparison failed; returning scalar instead, but in the future will perform elementwise comparison\n",
      "  print(lon_bnds != \"all\", lon_bnds)\n",
      "/home/prodhommec/analyseMF/scripts-final-MF/previ-sais/function_read.py:27: FutureWarning: elementwise comparison failed; returning scalar instead, but in the future will perform elementwise comparison\n",
      "  if lon_bnds != \"all\":\n",
      "/home/prodhommec/analyseMF/scripts-final-MF/previ-sais/function_read.py:26: FutureWarning: elementwise comparison failed; returning scalar instead, but in the future will perform elementwise comparison\n",
      "  print(lon_bnds != \"all\", lon_bnds)\n",
      "/home/prodhommec/analyseMF/scripts-final-MF/previ-sais/function_read.py:27: FutureWarning: elementwise comparison failed; returning scalar instead, but in the future will perform elementwise comparison\n",
      "  if lon_bnds != \"all\":\n"
     ]
    },
    {
     "name": "stdout",
     "output_type": "stream",
     "text": [
      "all\n",
      "True [290  20]\n",
      "3\n",
      "(6, 60, 91)\n",
      "all\n",
      "True [290  20]\n",
      "3\n",
      "(6, 60, 91)\n"
     ]
    },
    {
     "name": "stderr",
     "output_type": "stream",
     "text": [
      "/home/prodhommec/analyseMF/scripts-final-MF/previ-sais/function_read.py:26: FutureWarning: elementwise comparison failed; returning scalar instead, but in the future will perform elementwise comparison\n",
      "  print(lon_bnds != \"all\", lon_bnds)\n",
      "/home/prodhommec/analyseMF/scripts-final-MF/previ-sais/function_read.py:27: FutureWarning: elementwise comparison failed; returning scalar instead, but in the future will perform elementwise comparison\n",
      "  if lon_bnds != \"all\":\n",
      "/home/prodhommec/analyseMF/scripts-final-MF/previ-sais/function_read.py:26: FutureWarning: elementwise comparison failed; returning scalar instead, but in the future will perform elementwise comparison\n",
      "  print(lon_bnds != \"all\", lon_bnds)\n",
      "/home/prodhommec/analyseMF/scripts-final-MF/previ-sais/function_read.py:27: FutureWarning: elementwise comparison failed; returning scalar instead, but in the future will perform elementwise comparison\n",
      "  if lon_bnds != \"all\":\n"
     ]
    },
    {
     "name": "stdout",
     "output_type": "stream",
     "text": [
      "all\n",
      "True [290  20]\n",
      "3\n",
      "(6, 60, 91)\n",
      "all\n",
      "True [290  20]\n",
      "3\n",
      "(6, 60, 91)\n"
     ]
    },
    {
     "name": "stderr",
     "output_type": "stream",
     "text": [
      "/home/prodhommec/analyseMF/scripts-final-MF/previ-sais/function_read.py:26: FutureWarning: elementwise comparison failed; returning scalar instead, but in the future will perform elementwise comparison\n",
      "  print(lon_bnds != \"all\", lon_bnds)\n",
      "/home/prodhommec/analyseMF/scripts-final-MF/previ-sais/function_read.py:27: FutureWarning: elementwise comparison failed; returning scalar instead, but in the future will perform elementwise comparison\n",
      "  if lon_bnds != \"all\":\n",
      "/home/prodhommec/analyseMF/scripts-final-MF/previ-sais/function_read.py:26: FutureWarning: elementwise comparison failed; returning scalar instead, but in the future will perform elementwise comparison\n",
      "  print(lon_bnds != \"all\", lon_bnds)\n",
      "/home/prodhommec/analyseMF/scripts-final-MF/previ-sais/function_read.py:27: FutureWarning: elementwise comparison failed; returning scalar instead, but in the future will perform elementwise comparison\n",
      "  if lon_bnds != \"all\":\n"
     ]
    },
    {
     "name": "stdout",
     "output_type": "stream",
     "text": [
      "all\n",
      "True [290  20]\n",
      "3\n",
      "(6, 60, 91)\n",
      "all\n",
      "True [290  20]\n",
      "3\n",
      "(6, 60, 91)\n"
     ]
    },
    {
     "name": "stderr",
     "output_type": "stream",
     "text": [
      "/home/prodhommec/analyseMF/scripts-final-MF/previ-sais/function_read.py:26: FutureWarning: elementwise comparison failed; returning scalar instead, but in the future will perform elementwise comparison\n",
      "  print(lon_bnds != \"all\", lon_bnds)\n",
      "/home/prodhommec/analyseMF/scripts-final-MF/previ-sais/function_read.py:27: FutureWarning: elementwise comparison failed; returning scalar instead, but in the future will perform elementwise comparison\n",
      "  if lon_bnds != \"all\":\n",
      "/home/prodhommec/analyseMF/scripts-final-MF/previ-sais/function_read.py:26: FutureWarning: elementwise comparison failed; returning scalar instead, but in the future will perform elementwise comparison\n",
      "  print(lon_bnds != \"all\", lon_bnds)\n",
      "/home/prodhommec/analyseMF/scripts-final-MF/previ-sais/function_read.py:27: FutureWarning: elementwise comparison failed; returning scalar instead, but in the future will perform elementwise comparison\n",
      "  if lon_bnds != \"all\":\n"
     ]
    },
    {
     "name": "stdout",
     "output_type": "stream",
     "text": [
      "all\n",
      "True [290  20]\n",
      "3\n",
      "(6, 60, 91)\n",
      "all\n",
      "True [290  20]\n",
      "3\n",
      "(6, 60, 91)\n"
     ]
    },
    {
     "name": "stderr",
     "output_type": "stream",
     "text": [
      "/home/prodhommec/analyseMF/scripts-final-MF/previ-sais/function_read.py:26: FutureWarning: elementwise comparison failed; returning scalar instead, but in the future will perform elementwise comparison\n",
      "  print(lon_bnds != \"all\", lon_bnds)\n",
      "/home/prodhommec/analyseMF/scripts-final-MF/previ-sais/function_read.py:27: FutureWarning: elementwise comparison failed; returning scalar instead, but in the future will perform elementwise comparison\n",
      "  if lon_bnds != \"all\":\n",
      "/home/prodhommec/analyseMF/scripts-final-MF/previ-sais/function_read.py:26: FutureWarning: elementwise comparison failed; returning scalar instead, but in the future will perform elementwise comparison\n",
      "  print(lon_bnds != \"all\", lon_bnds)\n",
      "/home/prodhommec/analyseMF/scripts-final-MF/previ-sais/function_read.py:27: FutureWarning: elementwise comparison failed; returning scalar instead, but in the future will perform elementwise comparison\n",
      "  if lon_bnds != \"all\":\n"
     ]
    },
    {
     "name": "stdout",
     "output_type": "stream",
     "text": [
      "all\n",
      "True [290  20]\n",
      "3\n",
      "(6, 60, 91)\n",
      "all\n",
      "True [290  20]\n",
      "3\n",
      "(6, 60, 91)\n"
     ]
    },
    {
     "name": "stderr",
     "output_type": "stream",
     "text": [
      "/home/prodhommec/analyseMF/scripts-final-MF/previ-sais/function_read.py:26: FutureWarning: elementwise comparison failed; returning scalar instead, but in the future will perform elementwise comparison\n",
      "  print(lon_bnds != \"all\", lon_bnds)\n",
      "/home/prodhommec/analyseMF/scripts-final-MF/previ-sais/function_read.py:27: FutureWarning: elementwise comparison failed; returning scalar instead, but in the future will perform elementwise comparison\n",
      "  if lon_bnds != \"all\":\n",
      "/home/prodhommec/analyseMF/scripts-final-MF/previ-sais/function_read.py:26: FutureWarning: elementwise comparison failed; returning scalar instead, but in the future will perform elementwise comparison\n",
      "  print(lon_bnds != \"all\", lon_bnds)\n",
      "/home/prodhommec/analyseMF/scripts-final-MF/previ-sais/function_read.py:27: FutureWarning: elementwise comparison failed; returning scalar instead, but in the future will perform elementwise comparison\n",
      "  if lon_bnds != \"all\":\n"
     ]
    },
    {
     "name": "stdout",
     "output_type": "stream",
     "text": [
      "all\n",
      "True [290  20]\n",
      "3\n",
      "(6, 60, 91)\n",
      "all\n",
      "True [290  20]\n",
      "3\n",
      "(6, 60, 91)\n"
     ]
    },
    {
     "name": "stderr",
     "output_type": "stream",
     "text": [
      "/home/prodhommec/analyseMF/scripts-final-MF/previ-sais/function_read.py:26: FutureWarning: elementwise comparison failed; returning scalar instead, but in the future will perform elementwise comparison\n",
      "  print(lon_bnds != \"all\", lon_bnds)\n",
      "/home/prodhommec/analyseMF/scripts-final-MF/previ-sais/function_read.py:27: FutureWarning: elementwise comparison failed; returning scalar instead, but in the future will perform elementwise comparison\n",
      "  if lon_bnds != \"all\":\n",
      "/home/prodhommec/analyseMF/scripts-final-MF/previ-sais/function_read.py:26: FutureWarning: elementwise comparison failed; returning scalar instead, but in the future will perform elementwise comparison\n",
      "  print(lon_bnds != \"all\", lon_bnds)\n",
      "/home/prodhommec/analyseMF/scripts-final-MF/previ-sais/function_read.py:27: FutureWarning: elementwise comparison failed; returning scalar instead, but in the future will perform elementwise comparison\n",
      "  if lon_bnds != \"all\":\n"
     ]
    },
    {
     "name": "stdout",
     "output_type": "stream",
     "text": [
      "all\n",
      "True [290  20]\n",
      "3\n",
      "(6, 60, 91)\n",
      "all\n",
      "True [290  20]\n",
      "3\n",
      "(6, 60, 91)\n"
     ]
    },
    {
     "name": "stderr",
     "output_type": "stream",
     "text": [
      "/home/prodhommec/analyseMF/scripts-final-MF/previ-sais/function_read.py:26: FutureWarning: elementwise comparison failed; returning scalar instead, but in the future will perform elementwise comparison\n",
      "  print(lon_bnds != \"all\", lon_bnds)\n",
      "/home/prodhommec/analyseMF/scripts-final-MF/previ-sais/function_read.py:27: FutureWarning: elementwise comparison failed; returning scalar instead, but in the future will perform elementwise comparison\n",
      "  if lon_bnds != \"all\":\n",
      "/home/prodhommec/analyseMF/scripts-final-MF/previ-sais/function_read.py:26: FutureWarning: elementwise comparison failed; returning scalar instead, but in the future will perform elementwise comparison\n",
      "  print(lon_bnds != \"all\", lon_bnds)\n",
      "/home/prodhommec/analyseMF/scripts-final-MF/previ-sais/function_read.py:27: FutureWarning: elementwise comparison failed; returning scalar instead, but in the future will perform elementwise comparison\n",
      "  if lon_bnds != \"all\":\n"
     ]
    },
    {
     "name": "stdout",
     "output_type": "stream",
     "text": [
      "all\n",
      "True [290  20]\n",
      "3\n",
      "(6, 60, 91)\n",
      "all\n",
      "True [290  20]\n",
      "3\n",
      "(6, 60, 91)\n"
     ]
    },
    {
     "name": "stderr",
     "output_type": "stream",
     "text": [
      "/home/prodhommec/analyseMF/scripts-final-MF/previ-sais/function_read.py:26: FutureWarning: elementwise comparison failed; returning scalar instead, but in the future will perform elementwise comparison\n",
      "  print(lon_bnds != \"all\", lon_bnds)\n",
      "/home/prodhommec/analyseMF/scripts-final-MF/previ-sais/function_read.py:27: FutureWarning: elementwise comparison failed; returning scalar instead, but in the future will perform elementwise comparison\n",
      "  if lon_bnds != \"all\":\n",
      "/home/prodhommec/analyseMF/scripts-final-MF/previ-sais/function_read.py:26: FutureWarning: elementwise comparison failed; returning scalar instead, but in the future will perform elementwise comparison\n",
      "  print(lon_bnds != \"all\", lon_bnds)\n",
      "/home/prodhommec/analyseMF/scripts-final-MF/previ-sais/function_read.py:27: FutureWarning: elementwise comparison failed; returning scalar instead, but in the future will perform elementwise comparison\n",
      "  if lon_bnds != \"all\":\n"
     ]
    },
    {
     "name": "stdout",
     "output_type": "stream",
     "text": [
      "all\n",
      "True [290  20]\n",
      "3\n",
      "(6, 60, 91)\n",
      "all\n",
      "True [290  20]\n",
      "3\n",
      "(6, 60, 91)\n"
     ]
    },
    {
     "name": "stderr",
     "output_type": "stream",
     "text": [
      "/home/prodhommec/analyseMF/scripts-final-MF/previ-sais/function_read.py:26: FutureWarning: elementwise comparison failed; returning scalar instead, but in the future will perform elementwise comparison\n",
      "  print(lon_bnds != \"all\", lon_bnds)\n",
      "/home/prodhommec/analyseMF/scripts-final-MF/previ-sais/function_read.py:27: FutureWarning: elementwise comparison failed; returning scalar instead, but in the future will perform elementwise comparison\n",
      "  if lon_bnds != \"all\":\n",
      "/home/prodhommec/analyseMF/scripts-final-MF/previ-sais/function_read.py:26: FutureWarning: elementwise comparison failed; returning scalar instead, but in the future will perform elementwise comparison\n",
      "  print(lon_bnds != \"all\", lon_bnds)\n",
      "/home/prodhommec/analyseMF/scripts-final-MF/previ-sais/function_read.py:27: FutureWarning: elementwise comparison failed; returning scalar instead, but in the future will perform elementwise comparison\n",
      "  if lon_bnds != \"all\":\n"
     ]
    },
    {
     "name": "stdout",
     "output_type": "stream",
     "text": [
      "all\n",
      "True [290  20]\n",
      "3\n",
      "(6, 60, 91)\n",
      "all\n",
      "True [290  20]\n",
      "3\n",
      "(6, 60, 91)\n"
     ]
    },
    {
     "name": "stderr",
     "output_type": "stream",
     "text": [
      "/home/prodhommec/analyseMF/scripts-final-MF/previ-sais/function_read.py:26: FutureWarning: elementwise comparison failed; returning scalar instead, but in the future will perform elementwise comparison\n",
      "  print(lon_bnds != \"all\", lon_bnds)\n",
      "/home/prodhommec/analyseMF/scripts-final-MF/previ-sais/function_read.py:27: FutureWarning: elementwise comparison failed; returning scalar instead, but in the future will perform elementwise comparison\n",
      "  if lon_bnds != \"all\":\n",
      "/home/prodhommec/analyseMF/scripts-final-MF/previ-sais/function_read.py:26: FutureWarning: elementwise comparison failed; returning scalar instead, but in the future will perform elementwise comparison\n",
      "  print(lon_bnds != \"all\", lon_bnds)\n",
      "/home/prodhommec/analyseMF/scripts-final-MF/previ-sais/function_read.py:27: FutureWarning: elementwise comparison failed; returning scalar instead, but in the future will perform elementwise comparison\n",
      "  if lon_bnds != \"all\":\n"
     ]
    },
    {
     "name": "stdout",
     "output_type": "stream",
     "text": [
      "all\n",
      "True [290  20]\n",
      "3\n",
      "(6, 60, 91)\n",
      "all\n",
      "True [290  20]\n",
      "3\n",
      "(6, 60, 91)\n"
     ]
    },
    {
     "name": "stderr",
     "output_type": "stream",
     "text": [
      "/home/prodhommec/analyseMF/scripts-final-MF/previ-sais/function_read.py:26: FutureWarning: elementwise comparison failed; returning scalar instead, but in the future will perform elementwise comparison\n",
      "  print(lon_bnds != \"all\", lon_bnds)\n",
      "/home/prodhommec/analyseMF/scripts-final-MF/previ-sais/function_read.py:27: FutureWarning: elementwise comparison failed; returning scalar instead, but in the future will perform elementwise comparison\n",
      "  if lon_bnds != \"all\":\n",
      "/home/prodhommec/analyseMF/scripts-final-MF/previ-sais/function_read.py:26: FutureWarning: elementwise comparison failed; returning scalar instead, but in the future will perform elementwise comparison\n",
      "  print(lon_bnds != \"all\", lon_bnds)\n",
      "/home/prodhommec/analyseMF/scripts-final-MF/previ-sais/function_read.py:27: FutureWarning: elementwise comparison failed; returning scalar instead, but in the future will perform elementwise comparison\n",
      "  if lon_bnds != \"all\":\n"
     ]
    },
    {
     "name": "stdout",
     "output_type": "stream",
     "text": [
      "all\n",
      "True [290  20]\n",
      "3\n",
      "(6, 60, 91)\n",
      "all\n",
      "True [290  20]\n",
      "3\n",
      "(6, 60, 91)\n"
     ]
    },
    {
     "name": "stderr",
     "output_type": "stream",
     "text": [
      "/home/prodhommec/analyseMF/scripts-final-MF/previ-sais/function_read.py:26: FutureWarning: elementwise comparison failed; returning scalar instead, but in the future will perform elementwise comparison\n",
      "  print(lon_bnds != \"all\", lon_bnds)\n",
      "/home/prodhommec/analyseMF/scripts-final-MF/previ-sais/function_read.py:27: FutureWarning: elementwise comparison failed; returning scalar instead, but in the future will perform elementwise comparison\n",
      "  if lon_bnds != \"all\":\n",
      "/home/prodhommec/analyseMF/scripts-final-MF/previ-sais/function_read.py:26: FutureWarning: elementwise comparison failed; returning scalar instead, but in the future will perform elementwise comparison\n",
      "  print(lon_bnds != \"all\", lon_bnds)\n",
      "/home/prodhommec/analyseMF/scripts-final-MF/previ-sais/function_read.py:27: FutureWarning: elementwise comparison failed; returning scalar instead, but in the future will perform elementwise comparison\n",
      "  if lon_bnds != \"all\":\n"
     ]
    },
    {
     "name": "stdout",
     "output_type": "stream",
     "text": [
      "all\n",
      "True [290  20]\n",
      "3\n",
      "(6, 60, 91)\n",
      "all\n",
      "True [290  20]\n",
      "3\n",
      "(6, 60, 91)\n"
     ]
    },
    {
     "name": "stderr",
     "output_type": "stream",
     "text": [
      "/home/prodhommec/analyseMF/scripts-final-MF/previ-sais/function_read.py:26: FutureWarning: elementwise comparison failed; returning scalar instead, but in the future will perform elementwise comparison\n",
      "  print(lon_bnds != \"all\", lon_bnds)\n",
      "/home/prodhommec/analyseMF/scripts-final-MF/previ-sais/function_read.py:27: FutureWarning: elementwise comparison failed; returning scalar instead, but in the future will perform elementwise comparison\n",
      "  if lon_bnds != \"all\":\n",
      "/home/prodhommec/analyseMF/scripts-final-MF/previ-sais/function_read.py:26: FutureWarning: elementwise comparison failed; returning scalar instead, but in the future will perform elementwise comparison\n",
      "  print(lon_bnds != \"all\", lon_bnds)\n",
      "/home/prodhommec/analyseMF/scripts-final-MF/previ-sais/function_read.py:27: FutureWarning: elementwise comparison failed; returning scalar instead, but in the future will perform elementwise comparison\n",
      "  if lon_bnds != \"all\":\n"
     ]
    },
    {
     "name": "stdout",
     "output_type": "stream",
     "text": [
      "all\n",
      "True [290  20]\n",
      "3\n",
      "(6, 60, 91)\n",
      "all\n",
      "True [290  20]\n",
      "3\n",
      "(6, 60, 91)\n"
     ]
    },
    {
     "name": "stderr",
     "output_type": "stream",
     "text": [
      "/home/prodhommec/analyseMF/scripts-final-MF/previ-sais/function_read.py:26: FutureWarning: elementwise comparison failed; returning scalar instead, but in the future will perform elementwise comparison\n",
      "  print(lon_bnds != \"all\", lon_bnds)\n",
      "/home/prodhommec/analyseMF/scripts-final-MF/previ-sais/function_read.py:27: FutureWarning: elementwise comparison failed; returning scalar instead, but in the future will perform elementwise comparison\n",
      "  if lon_bnds != \"all\":\n",
      "/home/prodhommec/analyseMF/scripts-final-MF/previ-sais/function_read.py:26: FutureWarning: elementwise comparison failed; returning scalar instead, but in the future will perform elementwise comparison\n",
      "  print(lon_bnds != \"all\", lon_bnds)\n",
      "/home/prodhommec/analyseMF/scripts-final-MF/previ-sais/function_read.py:27: FutureWarning: elementwise comparison failed; returning scalar instead, but in the future will perform elementwise comparison\n",
      "  if lon_bnds != \"all\":\n"
     ]
    },
    {
     "name": "stdout",
     "output_type": "stream",
     "text": [
      "all\n",
      "True [290  20]\n",
      "3\n",
      "(6, 60, 91)\n",
      "all\n",
      "True [290  20]\n",
      "3\n",
      "(6, 60, 91)\n"
     ]
    },
    {
     "name": "stderr",
     "output_type": "stream",
     "text": [
      "/home/prodhommec/analyseMF/scripts-final-MF/previ-sais/function_read.py:26: FutureWarning: elementwise comparison failed; returning scalar instead, but in the future will perform elementwise comparison\n",
      "  print(lon_bnds != \"all\", lon_bnds)\n",
      "/home/prodhommec/analyseMF/scripts-final-MF/previ-sais/function_read.py:27: FutureWarning: elementwise comparison failed; returning scalar instead, but in the future will perform elementwise comparison\n",
      "  if lon_bnds != \"all\":\n",
      "/home/prodhommec/analyseMF/scripts-final-MF/previ-sais/function_read.py:26: FutureWarning: elementwise comparison failed; returning scalar instead, but in the future will perform elementwise comparison\n",
      "  print(lon_bnds != \"all\", lon_bnds)\n",
      "/home/prodhommec/analyseMF/scripts-final-MF/previ-sais/function_read.py:27: FutureWarning: elementwise comparison failed; returning scalar instead, but in the future will perform elementwise comparison\n",
      "  if lon_bnds != \"all\":\n"
     ]
    },
    {
     "name": "stdout",
     "output_type": "stream",
     "text": [
      "all\n",
      "True [290  20]\n",
      "3\n",
      "(6, 60, 91)\n",
      "all\n",
      "True [290  20]\n",
      "3\n",
      "(6, 60, 91)\n"
     ]
    },
    {
     "name": "stderr",
     "output_type": "stream",
     "text": [
      "/home/prodhommec/analyseMF/scripts-final-MF/previ-sais/function_read.py:26: FutureWarning: elementwise comparison failed; returning scalar instead, but in the future will perform elementwise comparison\n",
      "  print(lon_bnds != \"all\", lon_bnds)\n",
      "/home/prodhommec/analyseMF/scripts-final-MF/previ-sais/function_read.py:27: FutureWarning: elementwise comparison failed; returning scalar instead, but in the future will perform elementwise comparison\n",
      "  if lon_bnds != \"all\":\n",
      "/home/prodhommec/analyseMF/scripts-final-MF/previ-sais/function_read.py:26: FutureWarning: elementwise comparison failed; returning scalar instead, but in the future will perform elementwise comparison\n",
      "  print(lon_bnds != \"all\", lon_bnds)\n",
      "/home/prodhommec/analyseMF/scripts-final-MF/previ-sais/function_read.py:27: FutureWarning: elementwise comparison failed; returning scalar instead, but in the future will perform elementwise comparison\n",
      "  if lon_bnds != \"all\":\n"
     ]
    },
    {
     "name": "stdout",
     "output_type": "stream",
     "text": [
      "all\n",
      "True [290  20]\n",
      "3\n",
      "(6, 60, 91)\n",
      "all\n",
      "True [290  20]\n",
      "3\n",
      "(6, 60, 91)\n"
     ]
    },
    {
     "name": "stderr",
     "output_type": "stream",
     "text": [
      "/home/prodhommec/analyseMF/scripts-final-MF/previ-sais/function_read.py:26: FutureWarning: elementwise comparison failed; returning scalar instead, but in the future will perform elementwise comparison\n",
      "  print(lon_bnds != \"all\", lon_bnds)\n",
      "/home/prodhommec/analyseMF/scripts-final-MF/previ-sais/function_read.py:27: FutureWarning: elementwise comparison failed; returning scalar instead, but in the future will perform elementwise comparison\n",
      "  if lon_bnds != \"all\":\n",
      "/home/prodhommec/analyseMF/scripts-final-MF/previ-sais/function_read.py:26: FutureWarning: elementwise comparison failed; returning scalar instead, but in the future will perform elementwise comparison\n",
      "  print(lon_bnds != \"all\", lon_bnds)\n",
      "/home/prodhommec/analyseMF/scripts-final-MF/previ-sais/function_read.py:27: FutureWarning: elementwise comparison failed; returning scalar instead, but in the future will perform elementwise comparison\n",
      "  if lon_bnds != \"all\":\n"
     ]
    },
    {
     "name": "stdout",
     "output_type": "stream",
     "text": [
      "all\n",
      "True [290  20]\n",
      "3\n",
      "(6, 60, 91)\n",
      "all\n",
      "True [290  20]\n",
      "3\n",
      "(6, 60, 91)\n"
     ]
    },
    {
     "name": "stderr",
     "output_type": "stream",
     "text": [
      "/home/prodhommec/analyseMF/scripts-final-MF/previ-sais/function_read.py:26: FutureWarning: elementwise comparison failed; returning scalar instead, but in the future will perform elementwise comparison\n",
      "  print(lon_bnds != \"all\", lon_bnds)\n",
      "/home/prodhommec/analyseMF/scripts-final-MF/previ-sais/function_read.py:27: FutureWarning: elementwise comparison failed; returning scalar instead, but in the future will perform elementwise comparison\n",
      "  if lon_bnds != \"all\":\n",
      "/home/prodhommec/analyseMF/scripts-final-MF/previ-sais/function_read.py:26: FutureWarning: elementwise comparison failed; returning scalar instead, but in the future will perform elementwise comparison\n",
      "  print(lon_bnds != \"all\", lon_bnds)\n",
      "/home/prodhommec/analyseMF/scripts-final-MF/previ-sais/function_read.py:27: FutureWarning: elementwise comparison failed; returning scalar instead, but in the future will perform elementwise comparison\n",
      "  if lon_bnds != \"all\":\n"
     ]
    },
    {
     "name": "stdout",
     "output_type": "stream",
     "text": [
      "all\n",
      "True [290  20]\n",
      "3\n",
      "(6, 60, 91)\n",
      "all\n",
      "True [290  20]\n",
      "3\n",
      "(6, 60, 91)\n"
     ]
    },
    {
     "name": "stderr",
     "output_type": "stream",
     "text": [
      "/home/prodhommec/analyseMF/scripts-final-MF/previ-sais/function_read.py:26: FutureWarning: elementwise comparison failed; returning scalar instead, but in the future will perform elementwise comparison\n",
      "  print(lon_bnds != \"all\", lon_bnds)\n",
      "/home/prodhommec/analyseMF/scripts-final-MF/previ-sais/function_read.py:27: FutureWarning: elementwise comparison failed; returning scalar instead, but in the future will perform elementwise comparison\n",
      "  if lon_bnds != \"all\":\n",
      "/home/prodhommec/analyseMF/scripts-final-MF/previ-sais/function_read.py:26: FutureWarning: elementwise comparison failed; returning scalar instead, but in the future will perform elementwise comparison\n",
      "  print(lon_bnds != \"all\", lon_bnds)\n",
      "/home/prodhommec/analyseMF/scripts-final-MF/previ-sais/function_read.py:27: FutureWarning: elementwise comparison failed; returning scalar instead, but in the future will perform elementwise comparison\n",
      "  if lon_bnds != \"all\":\n"
     ]
    },
    {
     "name": "stdout",
     "output_type": "stream",
     "text": [
      "all\n",
      "True [290  20]\n",
      "3\n",
      "(6, 60, 91)\n",
      "all\n",
      "True [290  20]\n",
      "3\n",
      "(6, 60, 91)\n"
     ]
    },
    {
     "name": "stderr",
     "output_type": "stream",
     "text": [
      "/home/prodhommec/analyseMF/scripts-final-MF/previ-sais/function_read.py:26: FutureWarning: elementwise comparison failed; returning scalar instead, but in the future will perform elementwise comparison\n",
      "  print(lon_bnds != \"all\", lon_bnds)\n",
      "/home/prodhommec/analyseMF/scripts-final-MF/previ-sais/function_read.py:27: FutureWarning: elementwise comparison failed; returning scalar instead, but in the future will perform elementwise comparison\n",
      "  if lon_bnds != \"all\":\n",
      "/home/prodhommec/analyseMF/scripts-final-MF/previ-sais/function_read.py:26: FutureWarning: elementwise comparison failed; returning scalar instead, but in the future will perform elementwise comparison\n",
      "  print(lon_bnds != \"all\", lon_bnds)\n",
      "/home/prodhommec/analyseMF/scripts-final-MF/previ-sais/function_read.py:27: FutureWarning: elementwise comparison failed; returning scalar instead, but in the future will perform elementwise comparison\n",
      "  if lon_bnds != \"all\":\n"
     ]
    },
    {
     "name": "stdout",
     "output_type": "stream",
     "text": [
      "all\n",
      "True [290  20]\n",
      "3\n",
      "(6, 60, 91)\n",
      "all\n",
      "True [290  20]\n",
      "3\n",
      "(6, 60, 91)\n"
     ]
    },
    {
     "name": "stderr",
     "output_type": "stream",
     "text": [
      "/home/prodhommec/analyseMF/scripts-final-MF/previ-sais/function_read.py:26: FutureWarning: elementwise comparison failed; returning scalar instead, but in the future will perform elementwise comparison\n",
      "  print(lon_bnds != \"all\", lon_bnds)\n",
      "/home/prodhommec/analyseMF/scripts-final-MF/previ-sais/function_read.py:27: FutureWarning: elementwise comparison failed; returning scalar instead, but in the future will perform elementwise comparison\n",
      "  if lon_bnds != \"all\":\n",
      "/home/prodhommec/analyseMF/scripts-final-MF/previ-sais/function_read.py:26: FutureWarning: elementwise comparison failed; returning scalar instead, but in the future will perform elementwise comparison\n",
      "  print(lon_bnds != \"all\", lon_bnds)\n",
      "/home/prodhommec/analyseMF/scripts-final-MF/previ-sais/function_read.py:27: FutureWarning: elementwise comparison failed; returning scalar instead, but in the future will perform elementwise comparison\n",
      "  if lon_bnds != \"all\":\n"
     ]
    },
    {
     "name": "stdout",
     "output_type": "stream",
     "text": [
      "all\n",
      "True [290  20]\n",
      "3\n",
      "(6, 60, 91)\n",
      "all\n",
      "True [290  20]\n",
      "3\n",
      "(6, 60, 91)\n"
     ]
    },
    {
     "name": "stderr",
     "output_type": "stream",
     "text": [
      "/home/prodhommec/analyseMF/scripts-final-MF/previ-sais/function_read.py:26: FutureWarning: elementwise comparison failed; returning scalar instead, but in the future will perform elementwise comparison\n",
      "  print(lon_bnds != \"all\", lon_bnds)\n",
      "/home/prodhommec/analyseMF/scripts-final-MF/previ-sais/function_read.py:27: FutureWarning: elementwise comparison failed; returning scalar instead, but in the future will perform elementwise comparison\n",
      "  if lon_bnds != \"all\":\n",
      "/home/prodhommec/analyseMF/scripts-final-MF/previ-sais/function_read.py:26: FutureWarning: elementwise comparison failed; returning scalar instead, but in the future will perform elementwise comparison\n",
      "  print(lon_bnds != \"all\", lon_bnds)\n",
      "/home/prodhommec/analyseMF/scripts-final-MF/previ-sais/function_read.py:27: FutureWarning: elementwise comparison failed; returning scalar instead, but in the future will perform elementwise comparison\n",
      "  if lon_bnds != \"all\":\n"
     ]
    },
    {
     "name": "stdout",
     "output_type": "stream",
     "text": [
      "all\n",
      "True [290  20]\n",
      "3\n",
      "(6, 60, 91)\n",
      "all\n",
      "True [290  20]\n",
      "3\n",
      "(6, 60, 91)\n"
     ]
    },
    {
     "name": "stderr",
     "output_type": "stream",
     "text": [
      "/home/prodhommec/analyseMF/scripts-final-MF/previ-sais/function_read.py:26: FutureWarning: elementwise comparison failed; returning scalar instead, but in the future will perform elementwise comparison\n",
      "  print(lon_bnds != \"all\", lon_bnds)\n",
      "/home/prodhommec/analyseMF/scripts-final-MF/previ-sais/function_read.py:27: FutureWarning: elementwise comparison failed; returning scalar instead, but in the future will perform elementwise comparison\n",
      "  if lon_bnds != \"all\":\n",
      "/home/prodhommec/analyseMF/scripts-final-MF/previ-sais/function_read.py:26: FutureWarning: elementwise comparison failed; returning scalar instead, but in the future will perform elementwise comparison\n",
      "  print(lon_bnds != \"all\", lon_bnds)\n",
      "/home/prodhommec/analyseMF/scripts-final-MF/previ-sais/function_read.py:27: FutureWarning: elementwise comparison failed; returning scalar instead, but in the future will perform elementwise comparison\n",
      "  if lon_bnds != \"all\":\n"
     ]
    },
    {
     "name": "stdout",
     "output_type": "stream",
     "text": [
      "all\n",
      "True [290  20]\n",
      "3\n",
      "(6, 60, 91)\n",
      "all\n",
      "True [290  20]\n",
      "3\n",
      "(6, 60, 91)\n"
     ]
    },
    {
     "name": "stderr",
     "output_type": "stream",
     "text": [
      "/home/prodhommec/analyseMF/scripts-final-MF/previ-sais/function_read.py:26: FutureWarning: elementwise comparison failed; returning scalar instead, but in the future will perform elementwise comparison\n",
      "  print(lon_bnds != \"all\", lon_bnds)\n",
      "/home/prodhommec/analyseMF/scripts-final-MF/previ-sais/function_read.py:27: FutureWarning: elementwise comparison failed; returning scalar instead, but in the future will perform elementwise comparison\n",
      "  if lon_bnds != \"all\":\n",
      "/home/prodhommec/analyseMF/scripts-final-MF/previ-sais/function_read.py:26: FutureWarning: elementwise comparison failed; returning scalar instead, but in the future will perform elementwise comparison\n",
      "  print(lon_bnds != \"all\", lon_bnds)\n",
      "/home/prodhommec/analyseMF/scripts-final-MF/previ-sais/function_read.py:27: FutureWarning: elementwise comparison failed; returning scalar instead, but in the future will perform elementwise comparison\n",
      "  if lon_bnds != \"all\":\n"
     ]
    },
    {
     "name": "stdout",
     "output_type": "stream",
     "text": [
      "all\n",
      "True [290  20]\n",
      "3\n",
      "(6, 60, 91)\n",
      "all\n",
      "True [290  20]\n",
      "3\n",
      "(6, 60, 91)\n"
     ]
    },
    {
     "name": "stderr",
     "output_type": "stream",
     "text": [
      "/home/prodhommec/analyseMF/scripts-final-MF/previ-sais/function_read.py:26: FutureWarning: elementwise comparison failed; returning scalar instead, but in the future will perform elementwise comparison\n",
      "  print(lon_bnds != \"all\", lon_bnds)\n",
      "/home/prodhommec/analyseMF/scripts-final-MF/previ-sais/function_read.py:27: FutureWarning: elementwise comparison failed; returning scalar instead, but in the future will perform elementwise comparison\n",
      "  if lon_bnds != \"all\":\n",
      "/home/prodhommec/analyseMF/scripts-final-MF/previ-sais/function_read.py:26: FutureWarning: elementwise comparison failed; returning scalar instead, but in the future will perform elementwise comparison\n",
      "  print(lon_bnds != \"all\", lon_bnds)\n",
      "/home/prodhommec/analyseMF/scripts-final-MF/previ-sais/function_read.py:27: FutureWarning: elementwise comparison failed; returning scalar instead, but in the future will perform elementwise comparison\n",
      "  if lon_bnds != \"all\":\n"
     ]
    },
    {
     "name": "stdout",
     "output_type": "stream",
     "text": [
      "all\n",
      "True [290  20]\n",
      "3\n",
      "(6, 60, 91)\n",
      "all\n",
      "True [290  20]\n",
      "3\n",
      "(6, 60, 91)\n"
     ]
    },
    {
     "name": "stderr",
     "output_type": "stream",
     "text": [
      "/home/prodhommec/analyseMF/scripts-final-MF/previ-sais/function_read.py:26: FutureWarning: elementwise comparison failed; returning scalar instead, but in the future will perform elementwise comparison\n",
      "  print(lon_bnds != \"all\", lon_bnds)\n",
      "/home/prodhommec/analyseMF/scripts-final-MF/previ-sais/function_read.py:27: FutureWarning: elementwise comparison failed; returning scalar instead, but in the future will perform elementwise comparison\n",
      "  if lon_bnds != \"all\":\n",
      "/home/prodhommec/analyseMF/scripts-final-MF/previ-sais/function_read.py:26: FutureWarning: elementwise comparison failed; returning scalar instead, but in the future will perform elementwise comparison\n",
      "  print(lon_bnds != \"all\", lon_bnds)\n",
      "/home/prodhommec/analyseMF/scripts-final-MF/previ-sais/function_read.py:27: FutureWarning: elementwise comparison failed; returning scalar instead, but in the future will perform elementwise comparison\n",
      "  if lon_bnds != \"all\":\n"
     ]
    },
    {
     "name": "stdout",
     "output_type": "stream",
     "text": [
      "all\n",
      "True [290  20]\n",
      "3\n",
      "(6, 60, 91)\n",
      "all\n",
      "True [290  20]\n",
      "3\n",
      "(6, 60, 91)\n"
     ]
    },
    {
     "name": "stderr",
     "output_type": "stream",
     "text": [
      "/home/prodhommec/analyseMF/scripts-final-MF/previ-sais/function_read.py:26: FutureWarning: elementwise comparison failed; returning scalar instead, but in the future will perform elementwise comparison\n",
      "  print(lon_bnds != \"all\", lon_bnds)\n",
      "/home/prodhommec/analyseMF/scripts-final-MF/previ-sais/function_read.py:27: FutureWarning: elementwise comparison failed; returning scalar instead, but in the future will perform elementwise comparison\n",
      "  if lon_bnds != \"all\":\n",
      "/home/prodhommec/analyseMF/scripts-final-MF/previ-sais/function_read.py:26: FutureWarning: elementwise comparison failed; returning scalar instead, but in the future will perform elementwise comparison\n",
      "  print(lon_bnds != \"all\", lon_bnds)\n",
      "/home/prodhommec/analyseMF/scripts-final-MF/previ-sais/function_read.py:27: FutureWarning: elementwise comparison failed; returning scalar instead, but in the future will perform elementwise comparison\n",
      "  if lon_bnds != \"all\":\n"
     ]
    },
    {
     "name": "stdout",
     "output_type": "stream",
     "text": [
      "all\n",
      "True [290  20]\n",
      "3\n",
      "(6, 60, 91)\n",
      "all\n",
      "True [290  20]\n",
      "3\n",
      "(6, 60, 91)\n"
     ]
    },
    {
     "name": "stderr",
     "output_type": "stream",
     "text": [
      "/home/prodhommec/analyseMF/scripts-final-MF/previ-sais/function_read.py:26: FutureWarning: elementwise comparison failed; returning scalar instead, but in the future will perform elementwise comparison\n",
      "  print(lon_bnds != \"all\", lon_bnds)\n",
      "/home/prodhommec/analyseMF/scripts-final-MF/previ-sais/function_read.py:27: FutureWarning: elementwise comparison failed; returning scalar instead, but in the future will perform elementwise comparison\n",
      "  if lon_bnds != \"all\":\n",
      "/home/prodhommec/analyseMF/scripts-final-MF/previ-sais/function_read.py:26: FutureWarning: elementwise comparison failed; returning scalar instead, but in the future will perform elementwise comparison\n",
      "  print(lon_bnds != \"all\", lon_bnds)\n",
      "/home/prodhommec/analyseMF/scripts-final-MF/previ-sais/function_read.py:27: FutureWarning: elementwise comparison failed; returning scalar instead, but in the future will perform elementwise comparison\n",
      "  if lon_bnds != \"all\":\n"
     ]
    },
    {
     "name": "stdout",
     "output_type": "stream",
     "text": [
      "all\n",
      "True [290  20]\n",
      "3\n",
      "(6, 60, 91)\n",
      "all\n",
      "True [290  20]\n",
      "3\n",
      "(6, 60, 91)\n"
     ]
    },
    {
     "name": "stderr",
     "output_type": "stream",
     "text": [
      "/home/prodhommec/analyseMF/scripts-final-MF/previ-sais/function_read.py:26: FutureWarning: elementwise comparison failed; returning scalar instead, but in the future will perform elementwise comparison\n",
      "  print(lon_bnds != \"all\", lon_bnds)\n",
      "/home/prodhommec/analyseMF/scripts-final-MF/previ-sais/function_read.py:27: FutureWarning: elementwise comparison failed; returning scalar instead, but in the future will perform elementwise comparison\n",
      "  if lon_bnds != \"all\":\n",
      "/home/prodhommec/analyseMF/scripts-final-MF/previ-sais/function_read.py:26: FutureWarning: elementwise comparison failed; returning scalar instead, but in the future will perform elementwise comparison\n",
      "  print(lon_bnds != \"all\", lon_bnds)\n",
      "/home/prodhommec/analyseMF/scripts-final-MF/previ-sais/function_read.py:27: FutureWarning: elementwise comparison failed; returning scalar instead, but in the future will perform elementwise comparison\n",
      "  if lon_bnds != \"all\":\n"
     ]
    },
    {
     "name": "stdout",
     "output_type": "stream",
     "text": [
      "all\n",
      "True [290  20]\n",
      "3\n",
      "(6, 60, 91)\n",
      "all\n",
      "True [290  20]\n",
      "3\n",
      "(6, 60, 91)\n"
     ]
    },
    {
     "name": "stderr",
     "output_type": "stream",
     "text": [
      "/home/prodhommec/analyseMF/scripts-final-MF/previ-sais/function_read.py:26: FutureWarning: elementwise comparison failed; returning scalar instead, but in the future will perform elementwise comparison\n",
      "  print(lon_bnds != \"all\", lon_bnds)\n",
      "/home/prodhommec/analyseMF/scripts-final-MF/previ-sais/function_read.py:27: FutureWarning: elementwise comparison failed; returning scalar instead, but in the future will perform elementwise comparison\n",
      "  if lon_bnds != \"all\":\n",
      "/home/prodhommec/analyseMF/scripts-final-MF/previ-sais/function_read.py:26: FutureWarning: elementwise comparison failed; returning scalar instead, but in the future will perform elementwise comparison\n",
      "  print(lon_bnds != \"all\", lon_bnds)\n",
      "/home/prodhommec/analyseMF/scripts-final-MF/previ-sais/function_read.py:27: FutureWarning: elementwise comparison failed; returning scalar instead, but in the future will perform elementwise comparison\n",
      "  if lon_bnds != \"all\":\n"
     ]
    },
    {
     "name": "stdout",
     "output_type": "stream",
     "text": [
      "all\n",
      "True [290  20]\n",
      "3\n",
      "(6, 60, 91)\n",
      "all\n",
      "True [290  20]\n",
      "3\n",
      "(6, 60, 91)\n"
     ]
    },
    {
     "name": "stderr",
     "output_type": "stream",
     "text": [
      "/home/prodhommec/analyseMF/scripts-final-MF/previ-sais/function_read.py:26: FutureWarning: elementwise comparison failed; returning scalar instead, but in the future will perform elementwise comparison\n",
      "  print(lon_bnds != \"all\", lon_bnds)\n",
      "/home/prodhommec/analyseMF/scripts-final-MF/previ-sais/function_read.py:27: FutureWarning: elementwise comparison failed; returning scalar instead, but in the future will perform elementwise comparison\n",
      "  if lon_bnds != \"all\":\n",
      "/home/prodhommec/analyseMF/scripts-final-MF/previ-sais/function_read.py:26: FutureWarning: elementwise comparison failed; returning scalar instead, but in the future will perform elementwise comparison\n",
      "  print(lon_bnds != \"all\", lon_bnds)\n",
      "/home/prodhommec/analyseMF/scripts-final-MF/previ-sais/function_read.py:27: FutureWarning: elementwise comparison failed; returning scalar instead, but in the future will perform elementwise comparison\n",
      "  if lon_bnds != \"all\":\n"
     ]
    },
    {
     "name": "stdout",
     "output_type": "stream",
     "text": [
      "all\n",
      "True [290  20]\n",
      "3\n",
      "(6, 60, 91)\n",
      "all\n",
      "True [290  20]\n",
      "3\n",
      "(6, 60, 91)\n"
     ]
    },
    {
     "name": "stderr",
     "output_type": "stream",
     "text": [
      "/home/prodhommec/analyseMF/scripts-final-MF/previ-sais/function_read.py:26: FutureWarning: elementwise comparison failed; returning scalar instead, but in the future will perform elementwise comparison\n",
      "  print(lon_bnds != \"all\", lon_bnds)\n",
      "/home/prodhommec/analyseMF/scripts-final-MF/previ-sais/function_read.py:27: FutureWarning: elementwise comparison failed; returning scalar instead, but in the future will perform elementwise comparison\n",
      "  if lon_bnds != \"all\":\n",
      "/home/prodhommec/analyseMF/scripts-final-MF/previ-sais/function_read.py:26: FutureWarning: elementwise comparison failed; returning scalar instead, but in the future will perform elementwise comparison\n",
      "  print(lon_bnds != \"all\", lon_bnds)\n",
      "/home/prodhommec/analyseMF/scripts-final-MF/previ-sais/function_read.py:27: FutureWarning: elementwise comparison failed; returning scalar instead, but in the future will perform elementwise comparison\n",
      "  if lon_bnds != \"all\":\n"
     ]
    },
    {
     "name": "stdout",
     "output_type": "stream",
     "text": [
      "all\n",
      "True [290  20]\n",
      "3\n",
      "(6, 60, 91)\n",
      "all\n",
      "True [290  20]\n",
      "3\n",
      "(6, 60, 91)\n"
     ]
    },
    {
     "name": "stderr",
     "output_type": "stream",
     "text": [
      "/home/prodhommec/analyseMF/scripts-final-MF/previ-sais/function_read.py:26: FutureWarning: elementwise comparison failed; returning scalar instead, but in the future will perform elementwise comparison\n",
      "  print(lon_bnds != \"all\", lon_bnds)\n",
      "/home/prodhommec/analyseMF/scripts-final-MF/previ-sais/function_read.py:27: FutureWarning: elementwise comparison failed; returning scalar instead, but in the future will perform elementwise comparison\n",
      "  if lon_bnds != \"all\":\n",
      "/home/prodhommec/analyseMF/scripts-final-MF/previ-sais/function_read.py:26: FutureWarning: elementwise comparison failed; returning scalar instead, but in the future will perform elementwise comparison\n",
      "  print(lon_bnds != \"all\", lon_bnds)\n",
      "/home/prodhommec/analyseMF/scripts-final-MF/previ-sais/function_read.py:27: FutureWarning: elementwise comparison failed; returning scalar instead, but in the future will perform elementwise comparison\n",
      "  if lon_bnds != \"all\":\n"
     ]
    },
    {
     "name": "stdout",
     "output_type": "stream",
     "text": [
      "all\n",
      "True [290  20]\n",
      "3\n",
      "(6, 60, 91)\n",
      "all\n",
      "True [290  20]\n",
      "3\n",
      "(6, 60, 91)\n"
     ]
    },
    {
     "name": "stderr",
     "output_type": "stream",
     "text": [
      "/home/prodhommec/analyseMF/scripts-final-MF/previ-sais/function_read.py:26: FutureWarning: elementwise comparison failed; returning scalar instead, but in the future will perform elementwise comparison\n",
      "  print(lon_bnds != \"all\", lon_bnds)\n",
      "/home/prodhommec/analyseMF/scripts-final-MF/previ-sais/function_read.py:27: FutureWarning: elementwise comparison failed; returning scalar instead, but in the future will perform elementwise comparison\n",
      "  if lon_bnds != \"all\":\n",
      "/home/prodhommec/analyseMF/scripts-final-MF/previ-sais/function_read.py:26: FutureWarning: elementwise comparison failed; returning scalar instead, but in the future will perform elementwise comparison\n",
      "  print(lon_bnds != \"all\", lon_bnds)\n",
      "/home/prodhommec/analyseMF/scripts-final-MF/previ-sais/function_read.py:27: FutureWarning: elementwise comparison failed; returning scalar instead, but in the future will perform elementwise comparison\n",
      "  if lon_bnds != \"all\":\n"
     ]
    },
    {
     "name": "stdout",
     "output_type": "stream",
     "text": [
      "all\n",
      "True [290  20]\n",
      "3\n",
      "(6, 60, 91)\n",
      "all\n",
      "True [290  20]\n",
      "3\n",
      "(6, 60, 91)\n"
     ]
    },
    {
     "name": "stderr",
     "output_type": "stream",
     "text": [
      "/home/prodhommec/analyseMF/scripts-final-MF/previ-sais/function_read.py:26: FutureWarning: elementwise comparison failed; returning scalar instead, but in the future will perform elementwise comparison\n",
      "  print(lon_bnds != \"all\", lon_bnds)\n",
      "/home/prodhommec/analyseMF/scripts-final-MF/previ-sais/function_read.py:27: FutureWarning: elementwise comparison failed; returning scalar instead, but in the future will perform elementwise comparison\n",
      "  if lon_bnds != \"all\":\n",
      "/home/prodhommec/analyseMF/scripts-final-MF/previ-sais/function_read.py:26: FutureWarning: elementwise comparison failed; returning scalar instead, but in the future will perform elementwise comparison\n",
      "  print(lon_bnds != \"all\", lon_bnds)\n",
      "/home/prodhommec/analyseMF/scripts-final-MF/previ-sais/function_read.py:27: FutureWarning: elementwise comparison failed; returning scalar instead, but in the future will perform elementwise comparison\n",
      "  if lon_bnds != \"all\":\n"
     ]
    },
    {
     "name": "stdout",
     "output_type": "stream",
     "text": [
      "all\n",
      "True [290  20]\n",
      "3\n",
      "(6, 60, 91)\n",
      "all\n",
      "True [290  20]\n",
      "3\n",
      "(6, 60, 91)\n"
     ]
    },
    {
     "name": "stderr",
     "output_type": "stream",
     "text": [
      "/home/prodhommec/analyseMF/scripts-final-MF/previ-sais/function_read.py:26: FutureWarning: elementwise comparison failed; returning scalar instead, but in the future will perform elementwise comparison\n",
      "  print(lon_bnds != \"all\", lon_bnds)\n",
      "/home/prodhommec/analyseMF/scripts-final-MF/previ-sais/function_read.py:27: FutureWarning: elementwise comparison failed; returning scalar instead, but in the future will perform elementwise comparison\n",
      "  if lon_bnds != \"all\":\n",
      "/home/prodhommec/analyseMF/scripts-final-MF/previ-sais/function_read.py:26: FutureWarning: elementwise comparison failed; returning scalar instead, but in the future will perform elementwise comparison\n",
      "  print(lon_bnds != \"all\", lon_bnds)\n",
      "/home/prodhommec/analyseMF/scripts-final-MF/previ-sais/function_read.py:27: FutureWarning: elementwise comparison failed; returning scalar instead, but in the future will perform elementwise comparison\n",
      "  if lon_bnds != \"all\":\n"
     ]
    },
    {
     "name": "stdout",
     "output_type": "stream",
     "text": [
      "all\n",
      "True [290  20]\n",
      "3\n",
      "(6, 60, 91)\n",
      "all\n",
      "True [290  20]\n",
      "3\n",
      "(6, 60, 91)\n"
     ]
    },
    {
     "name": "stderr",
     "output_type": "stream",
     "text": [
      "/home/prodhommec/analyseMF/scripts-final-MF/previ-sais/function_read.py:26: FutureWarning: elementwise comparison failed; returning scalar instead, but in the future will perform elementwise comparison\n",
      "  print(lon_bnds != \"all\", lon_bnds)\n",
      "/home/prodhommec/analyseMF/scripts-final-MF/previ-sais/function_read.py:27: FutureWarning: elementwise comparison failed; returning scalar instead, but in the future will perform elementwise comparison\n",
      "  if lon_bnds != \"all\":\n",
      "/home/prodhommec/analyseMF/scripts-final-MF/previ-sais/function_read.py:26: FutureWarning: elementwise comparison failed; returning scalar instead, but in the future will perform elementwise comparison\n",
      "  print(lon_bnds != \"all\", lon_bnds)\n",
      "/home/prodhommec/analyseMF/scripts-final-MF/previ-sais/function_read.py:27: FutureWarning: elementwise comparison failed; returning scalar instead, but in the future will perform elementwise comparison\n",
      "  if lon_bnds != \"all\":\n"
     ]
    },
    {
     "name": "stdout",
     "output_type": "stream",
     "text": [
      "all\n",
      "True [290  20]\n",
      "3\n",
      "(6, 60, 91)\n",
      "all\n",
      "True [290  20]\n",
      "3\n",
      "(6, 60, 91)\n"
     ]
    },
    {
     "name": "stderr",
     "output_type": "stream",
     "text": [
      "/home/prodhommec/analyseMF/scripts-final-MF/previ-sais/function_read.py:26: FutureWarning: elementwise comparison failed; returning scalar instead, but in the future will perform elementwise comparison\n",
      "  print(lon_bnds != \"all\", lon_bnds)\n",
      "/home/prodhommec/analyseMF/scripts-final-MF/previ-sais/function_read.py:27: FutureWarning: elementwise comparison failed; returning scalar instead, but in the future will perform elementwise comparison\n",
      "  if lon_bnds != \"all\":\n",
      "/home/prodhommec/analyseMF/scripts-final-MF/previ-sais/function_read.py:26: FutureWarning: elementwise comparison failed; returning scalar instead, but in the future will perform elementwise comparison\n",
      "  print(lon_bnds != \"all\", lon_bnds)\n",
      "/home/prodhommec/analyseMF/scripts-final-MF/previ-sais/function_read.py:27: FutureWarning: elementwise comparison failed; returning scalar instead, but in the future will perform elementwise comparison\n",
      "  if lon_bnds != \"all\":\n"
     ]
    },
    {
     "name": "stdout",
     "output_type": "stream",
     "text": [
      "all\n",
      "True [290  20]\n",
      "3\n",
      "(6, 60, 91)\n",
      "all\n",
      "True [290  20]\n",
      "3\n",
      "(6, 60, 91)\n"
     ]
    },
    {
     "name": "stderr",
     "output_type": "stream",
     "text": [
      "/home/prodhommec/analyseMF/scripts-final-MF/previ-sais/function_read.py:26: FutureWarning: elementwise comparison failed; returning scalar instead, but in the future will perform elementwise comparison\n",
      "  print(lon_bnds != \"all\", lon_bnds)\n",
      "/home/prodhommec/analyseMF/scripts-final-MF/previ-sais/function_read.py:27: FutureWarning: elementwise comparison failed; returning scalar instead, but in the future will perform elementwise comparison\n",
      "  if lon_bnds != \"all\":\n",
      "/home/prodhommec/analyseMF/scripts-final-MF/previ-sais/function_read.py:26: FutureWarning: elementwise comparison failed; returning scalar instead, but in the future will perform elementwise comparison\n",
      "  print(lon_bnds != \"all\", lon_bnds)\n",
      "/home/prodhommec/analyseMF/scripts-final-MF/previ-sais/function_read.py:27: FutureWarning: elementwise comparison failed; returning scalar instead, but in the future will perform elementwise comparison\n",
      "  if lon_bnds != \"all\":\n"
     ]
    },
    {
     "name": "stdout",
     "output_type": "stream",
     "text": [
      "all\n",
      "True [290  20]\n",
      "3\n",
      "(6, 60, 91)\n",
      "all\n",
      "True [290  20]\n",
      "3\n",
      "(6, 60, 91)\n"
     ]
    },
    {
     "name": "stderr",
     "output_type": "stream",
     "text": [
      "/home/prodhommec/analyseMF/scripts-final-MF/previ-sais/function_read.py:26: FutureWarning: elementwise comparison failed; returning scalar instead, but in the future will perform elementwise comparison\n",
      "  print(lon_bnds != \"all\", lon_bnds)\n",
      "/home/prodhommec/analyseMF/scripts-final-MF/previ-sais/function_read.py:27: FutureWarning: elementwise comparison failed; returning scalar instead, but in the future will perform elementwise comparison\n",
      "  if lon_bnds != \"all\":\n",
      "/home/prodhommec/analyseMF/scripts-final-MF/previ-sais/function_read.py:26: FutureWarning: elementwise comparison failed; returning scalar instead, but in the future will perform elementwise comparison\n",
      "  print(lon_bnds != \"all\", lon_bnds)\n",
      "/home/prodhommec/analyseMF/scripts-final-MF/previ-sais/function_read.py:27: FutureWarning: elementwise comparison failed; returning scalar instead, but in the future will perform elementwise comparison\n",
      "  if lon_bnds != \"all\":\n"
     ]
    },
    {
     "name": "stdout",
     "output_type": "stream",
     "text": [
      "all\n",
      "True [290  20]\n",
      "3\n",
      "(6, 60, 91)\n",
      "all\n",
      "True [290  20]\n",
      "3\n",
      "(6, 60, 91)\n"
     ]
    },
    {
     "name": "stderr",
     "output_type": "stream",
     "text": [
      "/home/prodhommec/analyseMF/scripts-final-MF/previ-sais/function_read.py:26: FutureWarning: elementwise comparison failed; returning scalar instead, but in the future will perform elementwise comparison\n",
      "  print(lon_bnds != \"all\", lon_bnds)\n",
      "/home/prodhommec/analyseMF/scripts-final-MF/previ-sais/function_read.py:27: FutureWarning: elementwise comparison failed; returning scalar instead, but in the future will perform elementwise comparison\n",
      "  if lon_bnds != \"all\":\n",
      "/home/prodhommec/analyseMF/scripts-final-MF/previ-sais/function_read.py:26: FutureWarning: elementwise comparison failed; returning scalar instead, but in the future will perform elementwise comparison\n",
      "  print(lon_bnds != \"all\", lon_bnds)\n",
      "/home/prodhommec/analyseMF/scripts-final-MF/previ-sais/function_read.py:27: FutureWarning: elementwise comparison failed; returning scalar instead, but in the future will perform elementwise comparison\n",
      "  if lon_bnds != \"all\":\n"
     ]
    },
    {
     "name": "stdout",
     "output_type": "stream",
     "text": [
      "all\n",
      "True [290  20]\n",
      "3\n",
      "(6, 60, 91)\n",
      "all\n",
      "True [290  20]\n",
      "3\n",
      "(6, 60, 91)\n"
     ]
    },
    {
     "name": "stderr",
     "output_type": "stream",
     "text": [
      "/home/prodhommec/analyseMF/scripts-final-MF/previ-sais/function_read.py:26: FutureWarning: elementwise comparison failed; returning scalar instead, but in the future will perform elementwise comparison\n",
      "  print(lon_bnds != \"all\", lon_bnds)\n",
      "/home/prodhommec/analyseMF/scripts-final-MF/previ-sais/function_read.py:27: FutureWarning: elementwise comparison failed; returning scalar instead, but in the future will perform elementwise comparison\n",
      "  if lon_bnds != \"all\":\n",
      "/home/prodhommec/analyseMF/scripts-final-MF/previ-sais/function_read.py:26: FutureWarning: elementwise comparison failed; returning scalar instead, but in the future will perform elementwise comparison\n",
      "  print(lon_bnds != \"all\", lon_bnds)\n",
      "/home/prodhommec/analyseMF/scripts-final-MF/previ-sais/function_read.py:27: FutureWarning: elementwise comparison failed; returning scalar instead, but in the future will perform elementwise comparison\n",
      "  if lon_bnds != \"all\":\n"
     ]
    },
    {
     "name": "stdout",
     "output_type": "stream",
     "text": [
      "all\n",
      "True [290  20]\n",
      "3\n",
      "(6, 60, 91)\n",
      "all\n",
      "True [290  20]\n",
      "3\n",
      "(6, 60, 91)\n"
     ]
    },
    {
     "name": "stderr",
     "output_type": "stream",
     "text": [
      "/home/prodhommec/analyseMF/scripts-final-MF/previ-sais/function_read.py:26: FutureWarning: elementwise comparison failed; returning scalar instead, but in the future will perform elementwise comparison\n",
      "  print(lon_bnds != \"all\", lon_bnds)\n",
      "/home/prodhommec/analyseMF/scripts-final-MF/previ-sais/function_read.py:27: FutureWarning: elementwise comparison failed; returning scalar instead, but in the future will perform elementwise comparison\n",
      "  if lon_bnds != \"all\":\n",
      "/home/prodhommec/analyseMF/scripts-final-MF/previ-sais/function_read.py:26: FutureWarning: elementwise comparison failed; returning scalar instead, but in the future will perform elementwise comparison\n",
      "  print(lon_bnds != \"all\", lon_bnds)\n",
      "/home/prodhommec/analyseMF/scripts-final-MF/previ-sais/function_read.py:27: FutureWarning: elementwise comparison failed; returning scalar instead, but in the future will perform elementwise comparison\n",
      "  if lon_bnds != \"all\":\n"
     ]
    },
    {
     "name": "stdout",
     "output_type": "stream",
     "text": [
      "all\n",
      "True [290  20]\n",
      "3\n",
      "(6, 60, 91)\n",
      "all\n",
      "True [290  20]\n",
      "3\n",
      "(6, 60, 91)\n"
     ]
    },
    {
     "name": "stderr",
     "output_type": "stream",
     "text": [
      "/home/prodhommec/analyseMF/scripts-final-MF/previ-sais/function_read.py:26: FutureWarning: elementwise comparison failed; returning scalar instead, but in the future will perform elementwise comparison\n",
      "  print(lon_bnds != \"all\", lon_bnds)\n",
      "/home/prodhommec/analyseMF/scripts-final-MF/previ-sais/function_read.py:27: FutureWarning: elementwise comparison failed; returning scalar instead, but in the future will perform elementwise comparison\n",
      "  if lon_bnds != \"all\":\n",
      "/home/prodhommec/analyseMF/scripts-final-MF/previ-sais/function_read.py:26: FutureWarning: elementwise comparison failed; returning scalar instead, but in the future will perform elementwise comparison\n",
      "  print(lon_bnds != \"all\", lon_bnds)\n",
      "/home/prodhommec/analyseMF/scripts-final-MF/previ-sais/function_read.py:27: FutureWarning: elementwise comparison failed; returning scalar instead, but in the future will perform elementwise comparison\n",
      "  if lon_bnds != \"all\":\n"
     ]
    },
    {
     "name": "stdout",
     "output_type": "stream",
     "text": [
      "all\n",
      "True [290  20]\n",
      "3\n",
      "(6, 60, 91)\n",
      "all\n",
      "True [290  20]\n",
      "3\n",
      "(6, 60, 91)\n"
     ]
    },
    {
     "name": "stderr",
     "output_type": "stream",
     "text": [
      "/home/prodhommec/analyseMF/scripts-final-MF/previ-sais/function_read.py:26: FutureWarning: elementwise comparison failed; returning scalar instead, but in the future will perform elementwise comparison\n",
      "  print(lon_bnds != \"all\", lon_bnds)\n",
      "/home/prodhommec/analyseMF/scripts-final-MF/previ-sais/function_read.py:27: FutureWarning: elementwise comparison failed; returning scalar instead, but in the future will perform elementwise comparison\n",
      "  if lon_bnds != \"all\":\n",
      "/home/prodhommec/analyseMF/scripts-final-MF/previ-sais/function_read.py:26: FutureWarning: elementwise comparison failed; returning scalar instead, but in the future will perform elementwise comparison\n",
      "  print(lon_bnds != \"all\", lon_bnds)\n",
      "/home/prodhommec/analyseMF/scripts-final-MF/previ-sais/function_read.py:27: FutureWarning: elementwise comparison failed; returning scalar instead, but in the future will perform elementwise comparison\n",
      "  if lon_bnds != \"all\":\n"
     ]
    },
    {
     "name": "stdout",
     "output_type": "stream",
     "text": [
      "all\n",
      "True [290  20]\n",
      "3\n",
      "(6, 60, 91)\n",
      "all\n",
      "True [290  20]\n",
      "3\n",
      "(6, 60, 91)\n"
     ]
    },
    {
     "name": "stderr",
     "output_type": "stream",
     "text": [
      "/home/prodhommec/analyseMF/scripts-final-MF/previ-sais/function_read.py:26: FutureWarning: elementwise comparison failed; returning scalar instead, but in the future will perform elementwise comparison\n",
      "  print(lon_bnds != \"all\", lon_bnds)\n",
      "/home/prodhommec/analyseMF/scripts-final-MF/previ-sais/function_read.py:27: FutureWarning: elementwise comparison failed; returning scalar instead, but in the future will perform elementwise comparison\n",
      "  if lon_bnds != \"all\":\n",
      "/home/prodhommec/analyseMF/scripts-final-MF/previ-sais/function_read.py:26: FutureWarning: elementwise comparison failed; returning scalar instead, but in the future will perform elementwise comparison\n",
      "  print(lon_bnds != \"all\", lon_bnds)\n",
      "/home/prodhommec/analyseMF/scripts-final-MF/previ-sais/function_read.py:27: FutureWarning: elementwise comparison failed; returning scalar instead, but in the future will perform elementwise comparison\n",
      "  if lon_bnds != \"all\":\n"
     ]
    },
    {
     "name": "stdout",
     "output_type": "stream",
     "text": [
      "all\n",
      "True [290  20]\n",
      "3\n",
      "(6, 60, 91)\n",
      "all\n",
      "True [290  20]\n",
      "3\n",
      "(6, 60, 91)\n"
     ]
    },
    {
     "name": "stderr",
     "output_type": "stream",
     "text": [
      "/home/prodhommec/analyseMF/scripts-final-MF/previ-sais/function_read.py:26: FutureWarning: elementwise comparison failed; returning scalar instead, but in the future will perform elementwise comparison\n",
      "  print(lon_bnds != \"all\", lon_bnds)\n",
      "/home/prodhommec/analyseMF/scripts-final-MF/previ-sais/function_read.py:27: FutureWarning: elementwise comparison failed; returning scalar instead, but in the future will perform elementwise comparison\n",
      "  if lon_bnds != \"all\":\n",
      "/home/prodhommec/analyseMF/scripts-final-MF/previ-sais/function_read.py:26: FutureWarning: elementwise comparison failed; returning scalar instead, but in the future will perform elementwise comparison\n",
      "  print(lon_bnds != \"all\", lon_bnds)\n",
      "/home/prodhommec/analyseMF/scripts-final-MF/previ-sais/function_read.py:27: FutureWarning: elementwise comparison failed; returning scalar instead, but in the future will perform elementwise comparison\n",
      "  if lon_bnds != \"all\":\n"
     ]
    },
    {
     "name": "stdout",
     "output_type": "stream",
     "text": [
      "all\n",
      "True [290  20]\n",
      "3\n",
      "(6, 60, 91)\n",
      "all\n",
      "True [290  20]\n",
      "3\n",
      "(6, 60, 91)\n"
     ]
    },
    {
     "name": "stderr",
     "output_type": "stream",
     "text": [
      "/home/prodhommec/analyseMF/scripts-final-MF/previ-sais/function_read.py:26: FutureWarning: elementwise comparison failed; returning scalar instead, but in the future will perform elementwise comparison\n",
      "  print(lon_bnds != \"all\", lon_bnds)\n",
      "/home/prodhommec/analyseMF/scripts-final-MF/previ-sais/function_read.py:27: FutureWarning: elementwise comparison failed; returning scalar instead, but in the future will perform elementwise comparison\n",
      "  if lon_bnds != \"all\":\n",
      "/home/prodhommec/analyseMF/scripts-final-MF/previ-sais/function_read.py:26: FutureWarning: elementwise comparison failed; returning scalar instead, but in the future will perform elementwise comparison\n",
      "  print(lon_bnds != \"all\", lon_bnds)\n",
      "/home/prodhommec/analyseMF/scripts-final-MF/previ-sais/function_read.py:27: FutureWarning: elementwise comparison failed; returning scalar instead, but in the future will perform elementwise comparison\n",
      "  if lon_bnds != \"all\":\n"
     ]
    },
    {
     "name": "stdout",
     "output_type": "stream",
     "text": [
      "all\n",
      "True [290  20]\n",
      "3\n",
      "(6, 60, 91)\n",
      "all\n",
      "True [290  20]\n",
      "3\n",
      "(6, 60, 91)\n"
     ]
    },
    {
     "name": "stderr",
     "output_type": "stream",
     "text": [
      "/home/prodhommec/analyseMF/scripts-final-MF/previ-sais/function_read.py:26: FutureWarning: elementwise comparison failed; returning scalar instead, but in the future will perform elementwise comparison\n",
      "  print(lon_bnds != \"all\", lon_bnds)\n",
      "/home/prodhommec/analyseMF/scripts-final-MF/previ-sais/function_read.py:27: FutureWarning: elementwise comparison failed; returning scalar instead, but in the future will perform elementwise comparison\n",
      "  if lon_bnds != \"all\":\n",
      "/home/prodhommec/analyseMF/scripts-final-MF/previ-sais/function_read.py:26: FutureWarning: elementwise comparison failed; returning scalar instead, but in the future will perform elementwise comparison\n",
      "  print(lon_bnds != \"all\", lon_bnds)\n",
      "/home/prodhommec/analyseMF/scripts-final-MF/previ-sais/function_read.py:27: FutureWarning: elementwise comparison failed; returning scalar instead, but in the future will perform elementwise comparison\n",
      "  if lon_bnds != \"all\":\n"
     ]
    },
    {
     "name": "stdout",
     "output_type": "stream",
     "text": [
      "all\n",
      "True [290  20]\n",
      "3\n",
      "(6, 60, 91)\n",
      "all\n",
      "True [290  20]\n",
      "3\n",
      "(6, 60, 91)\n"
     ]
    },
    {
     "name": "stderr",
     "output_type": "stream",
     "text": [
      "/home/prodhommec/analyseMF/scripts-final-MF/previ-sais/function_read.py:26: FutureWarning: elementwise comparison failed; returning scalar instead, but in the future will perform elementwise comparison\n",
      "  print(lon_bnds != \"all\", lon_bnds)\n",
      "/home/prodhommec/analyseMF/scripts-final-MF/previ-sais/function_read.py:27: FutureWarning: elementwise comparison failed; returning scalar instead, but in the future will perform elementwise comparison\n",
      "  if lon_bnds != \"all\":\n",
      "/home/prodhommec/analyseMF/scripts-final-MF/previ-sais/function_read.py:26: FutureWarning: elementwise comparison failed; returning scalar instead, but in the future will perform elementwise comparison\n",
      "  print(lon_bnds != \"all\", lon_bnds)\n",
      "/home/prodhommec/analyseMF/scripts-final-MF/previ-sais/function_read.py:27: FutureWarning: elementwise comparison failed; returning scalar instead, but in the future will perform elementwise comparison\n",
      "  if lon_bnds != \"all\":\n"
     ]
    },
    {
     "name": "stdout",
     "output_type": "stream",
     "text": [
      "all\n",
      "True [290  20]\n",
      "3\n",
      "(6, 60, 91)\n",
      "all\n",
      "True [290  20]\n",
      "3\n",
      "(6, 60, 91)\n"
     ]
    },
    {
     "name": "stderr",
     "output_type": "stream",
     "text": [
      "/home/prodhommec/analyseMF/scripts-final-MF/previ-sais/function_read.py:26: FutureWarning: elementwise comparison failed; returning scalar instead, but in the future will perform elementwise comparison\n",
      "  print(lon_bnds != \"all\", lon_bnds)\n",
      "/home/prodhommec/analyseMF/scripts-final-MF/previ-sais/function_read.py:27: FutureWarning: elementwise comparison failed; returning scalar instead, but in the future will perform elementwise comparison\n",
      "  if lon_bnds != \"all\":\n",
      "/home/prodhommec/analyseMF/scripts-final-MF/previ-sais/function_read.py:26: FutureWarning: elementwise comparison failed; returning scalar instead, but in the future will perform elementwise comparison\n",
      "  print(lon_bnds != \"all\", lon_bnds)\n",
      "/home/prodhommec/analyseMF/scripts-final-MF/previ-sais/function_read.py:27: FutureWarning: elementwise comparison failed; returning scalar instead, but in the future will perform elementwise comparison\n",
      "  if lon_bnds != \"all\":\n"
     ]
    },
    {
     "name": "stdout",
     "output_type": "stream",
     "text": [
      "all\n",
      "True [290  20]\n",
      "3\n",
      "(6, 60, 91)\n",
      "all\n",
      "True [290  20]\n",
      "3\n",
      "(6, 60, 91)\n"
     ]
    },
    {
     "name": "stderr",
     "output_type": "stream",
     "text": [
      "/home/prodhommec/analyseMF/scripts-final-MF/previ-sais/function_read.py:26: FutureWarning: elementwise comparison failed; returning scalar instead, but in the future will perform elementwise comparison\n",
      "  print(lon_bnds != \"all\", lon_bnds)\n",
      "/home/prodhommec/analyseMF/scripts-final-MF/previ-sais/function_read.py:27: FutureWarning: elementwise comparison failed; returning scalar instead, but in the future will perform elementwise comparison\n",
      "  if lon_bnds != \"all\":\n",
      "/home/prodhommec/analyseMF/scripts-final-MF/previ-sais/function_read.py:26: FutureWarning: elementwise comparison failed; returning scalar instead, but in the future will perform elementwise comparison\n",
      "  print(lon_bnds != \"all\", lon_bnds)\n",
      "/home/prodhommec/analyseMF/scripts-final-MF/previ-sais/function_read.py:27: FutureWarning: elementwise comparison failed; returning scalar instead, but in the future will perform elementwise comparison\n",
      "  if lon_bnds != \"all\":\n"
     ]
    },
    {
     "name": "stdout",
     "output_type": "stream",
     "text": [
      "all\n",
      "True [290  20]\n",
      "3\n",
      "(6, 60, 91)\n",
      "all\n",
      "True [290  20]\n",
      "3\n",
      "(6, 60, 91)\n"
     ]
    },
    {
     "name": "stderr",
     "output_type": "stream",
     "text": [
      "/home/prodhommec/analyseMF/scripts-final-MF/previ-sais/function_read.py:26: FutureWarning: elementwise comparison failed; returning scalar instead, but in the future will perform elementwise comparison\n",
      "  print(lon_bnds != \"all\", lon_bnds)\n",
      "/home/prodhommec/analyseMF/scripts-final-MF/previ-sais/function_read.py:27: FutureWarning: elementwise comparison failed; returning scalar instead, but in the future will perform elementwise comparison\n",
      "  if lon_bnds != \"all\":\n",
      "/home/prodhommec/analyseMF/scripts-final-MF/previ-sais/function_read.py:26: FutureWarning: elementwise comparison failed; returning scalar instead, but in the future will perform elementwise comparison\n",
      "  print(lon_bnds != \"all\", lon_bnds)\n",
      "/home/prodhommec/analyseMF/scripts-final-MF/previ-sais/function_read.py:27: FutureWarning: elementwise comparison failed; returning scalar instead, but in the future will perform elementwise comparison\n",
      "  if lon_bnds != \"all\":\n"
     ]
    },
    {
     "name": "stdout",
     "output_type": "stream",
     "text": [
      "all\n",
      "True [290  20]\n",
      "3\n",
      "(6, 60, 91)\n",
      "all\n",
      "True [290  20]\n",
      "3\n",
      "(6, 60, 91)\n"
     ]
    },
    {
     "name": "stderr",
     "output_type": "stream",
     "text": [
      "/home/prodhommec/analyseMF/scripts-final-MF/previ-sais/function_read.py:26: FutureWarning: elementwise comparison failed; returning scalar instead, but in the future will perform elementwise comparison\n",
      "  print(lon_bnds != \"all\", lon_bnds)\n",
      "/home/prodhommec/analyseMF/scripts-final-MF/previ-sais/function_read.py:27: FutureWarning: elementwise comparison failed; returning scalar instead, but in the future will perform elementwise comparison\n",
      "  if lon_bnds != \"all\":\n",
      "/home/prodhommec/analyseMF/scripts-final-MF/previ-sais/function_read.py:26: FutureWarning: elementwise comparison failed; returning scalar instead, but in the future will perform elementwise comparison\n",
      "  print(lon_bnds != \"all\", lon_bnds)\n",
      "/home/prodhommec/analyseMF/scripts-final-MF/previ-sais/function_read.py:27: FutureWarning: elementwise comparison failed; returning scalar instead, but in the future will perform elementwise comparison\n",
      "  if lon_bnds != \"all\":\n"
     ]
    },
    {
     "name": "stdout",
     "output_type": "stream",
     "text": [
      "all\n",
      "True [290  20]\n",
      "3\n",
      "(6, 60, 91)\n",
      "all\n",
      "True [290  20]\n",
      "3\n",
      "(6, 60, 91)\n"
     ]
    },
    {
     "name": "stderr",
     "output_type": "stream",
     "text": [
      "/home/prodhommec/analyseMF/scripts-final-MF/previ-sais/function_read.py:26: FutureWarning: elementwise comparison failed; returning scalar instead, but in the future will perform elementwise comparison\n",
      "  print(lon_bnds != \"all\", lon_bnds)\n",
      "/home/prodhommec/analyseMF/scripts-final-MF/previ-sais/function_read.py:27: FutureWarning: elementwise comparison failed; returning scalar instead, but in the future will perform elementwise comparison\n",
      "  if lon_bnds != \"all\":\n",
      "/home/prodhommec/analyseMF/scripts-final-MF/previ-sais/function_read.py:26: FutureWarning: elementwise comparison failed; returning scalar instead, but in the future will perform elementwise comparison\n",
      "  print(lon_bnds != \"all\", lon_bnds)\n",
      "/home/prodhommec/analyseMF/scripts-final-MF/previ-sais/function_read.py:27: FutureWarning: elementwise comparison failed; returning scalar instead, but in the future will perform elementwise comparison\n",
      "  if lon_bnds != \"all\":\n"
     ]
    },
    {
     "name": "stdout",
     "output_type": "stream",
     "text": [
      "all\n",
      "True [290  20]\n",
      "3\n",
      "(6, 60, 91)\n",
      "all\n",
      "True [290  20]\n",
      "3\n",
      "(6, 60, 91)\n"
     ]
    },
    {
     "name": "stderr",
     "output_type": "stream",
     "text": [
      "/home/prodhommec/analyseMF/scripts-final-MF/previ-sais/function_read.py:26: FutureWarning: elementwise comparison failed; returning scalar instead, but in the future will perform elementwise comparison\n",
      "  print(lon_bnds != \"all\", lon_bnds)\n",
      "/home/prodhommec/analyseMF/scripts-final-MF/previ-sais/function_read.py:27: FutureWarning: elementwise comparison failed; returning scalar instead, but in the future will perform elementwise comparison\n",
      "  if lon_bnds != \"all\":\n",
      "/home/prodhommec/analyseMF/scripts-final-MF/previ-sais/function_read.py:26: FutureWarning: elementwise comparison failed; returning scalar instead, but in the future will perform elementwise comparison\n",
      "  print(lon_bnds != \"all\", lon_bnds)\n",
      "/home/prodhommec/analyseMF/scripts-final-MF/previ-sais/function_read.py:27: FutureWarning: elementwise comparison failed; returning scalar instead, but in the future will perform elementwise comparison\n",
      "  if lon_bnds != \"all\":\n"
     ]
    },
    {
     "name": "stdout",
     "output_type": "stream",
     "text": [
      "all\n",
      "True [290  20]\n",
      "3\n",
      "(6, 60, 91)\n",
      "all\n",
      "True [290  20]\n",
      "3\n",
      "(6, 60, 91)\n"
     ]
    },
    {
     "name": "stderr",
     "output_type": "stream",
     "text": [
      "/home/prodhommec/analyseMF/scripts-final-MF/previ-sais/function_read.py:26: FutureWarning: elementwise comparison failed; returning scalar instead, but in the future will perform elementwise comparison\n",
      "  print(lon_bnds != \"all\", lon_bnds)\n",
      "/home/prodhommec/analyseMF/scripts-final-MF/previ-sais/function_read.py:27: FutureWarning: elementwise comparison failed; returning scalar instead, but in the future will perform elementwise comparison\n",
      "  if lon_bnds != \"all\":\n",
      "/home/prodhommec/analyseMF/scripts-final-MF/previ-sais/function_read.py:26: FutureWarning: elementwise comparison failed; returning scalar instead, but in the future will perform elementwise comparison\n",
      "  print(lon_bnds != \"all\", lon_bnds)\n",
      "/home/prodhommec/analyseMF/scripts-final-MF/previ-sais/function_read.py:27: FutureWarning: elementwise comparison failed; returning scalar instead, but in the future will perform elementwise comparison\n",
      "  if lon_bnds != \"all\":\n"
     ]
    },
    {
     "name": "stdout",
     "output_type": "stream",
     "text": [
      "all\n",
      "True [290  20]\n",
      "3\n",
      "(6, 60, 91)\n",
      "all\n",
      "True [290  20]\n",
      "3\n",
      "(6, 60, 91)\n"
     ]
    },
    {
     "name": "stderr",
     "output_type": "stream",
     "text": [
      "/home/prodhommec/analyseMF/scripts-final-MF/previ-sais/function_read.py:26: FutureWarning: elementwise comparison failed; returning scalar instead, but in the future will perform elementwise comparison\n",
      "  print(lon_bnds != \"all\", lon_bnds)\n",
      "/home/prodhommec/analyseMF/scripts-final-MF/previ-sais/function_read.py:27: FutureWarning: elementwise comparison failed; returning scalar instead, but in the future will perform elementwise comparison\n",
      "  if lon_bnds != \"all\":\n",
      "/home/prodhommec/analyseMF/scripts-final-MF/previ-sais/function_read.py:26: FutureWarning: elementwise comparison failed; returning scalar instead, but in the future will perform elementwise comparison\n",
      "  print(lon_bnds != \"all\", lon_bnds)\n",
      "/home/prodhommec/analyseMF/scripts-final-MF/previ-sais/function_read.py:27: FutureWarning: elementwise comparison failed; returning scalar instead, but in the future will perform elementwise comparison\n",
      "  if lon_bnds != \"all\":\n"
     ]
    },
    {
     "name": "stdout",
     "output_type": "stream",
     "text": [
      "all\n",
      "True [290  20]\n",
      "3\n",
      "(6, 60, 91)\n",
      "all\n",
      "True [290  20]\n",
      "3\n",
      "(6, 60, 91)\n"
     ]
    },
    {
     "name": "stderr",
     "output_type": "stream",
     "text": [
      "/home/prodhommec/analyseMF/scripts-final-MF/previ-sais/function_read.py:26: FutureWarning: elementwise comparison failed; returning scalar instead, but in the future will perform elementwise comparison\n",
      "  print(lon_bnds != \"all\", lon_bnds)\n",
      "/home/prodhommec/analyseMF/scripts-final-MF/previ-sais/function_read.py:27: FutureWarning: elementwise comparison failed; returning scalar instead, but in the future will perform elementwise comparison\n",
      "  if lon_bnds != \"all\":\n",
      "/home/prodhommec/analyseMF/scripts-final-MF/previ-sais/function_read.py:26: FutureWarning: elementwise comparison failed; returning scalar instead, but in the future will perform elementwise comparison\n",
      "  print(lon_bnds != \"all\", lon_bnds)\n",
      "/home/prodhommec/analyseMF/scripts-final-MF/previ-sais/function_read.py:27: FutureWarning: elementwise comparison failed; returning scalar instead, but in the future will perform elementwise comparison\n",
      "  if lon_bnds != \"all\":\n"
     ]
    },
    {
     "name": "stdout",
     "output_type": "stream",
     "text": [
      "all\n",
      "True [290  20]\n",
      "3\n",
      "(6, 60, 91)\n",
      "all\n",
      "True [290  20]\n",
      "3\n",
      "(6, 60, 91)\n"
     ]
    },
    {
     "name": "stderr",
     "output_type": "stream",
     "text": [
      "/home/prodhommec/analyseMF/scripts-final-MF/previ-sais/function_read.py:26: FutureWarning: elementwise comparison failed; returning scalar instead, but in the future will perform elementwise comparison\n",
      "  print(lon_bnds != \"all\", lon_bnds)\n",
      "/home/prodhommec/analyseMF/scripts-final-MF/previ-sais/function_read.py:27: FutureWarning: elementwise comparison failed; returning scalar instead, but in the future will perform elementwise comparison\n",
      "  if lon_bnds != \"all\":\n",
      "/home/prodhommec/analyseMF/scripts-final-MF/previ-sais/function_read.py:26: FutureWarning: elementwise comparison failed; returning scalar instead, but in the future will perform elementwise comparison\n",
      "  print(lon_bnds != \"all\", lon_bnds)\n",
      "/home/prodhommec/analyseMF/scripts-final-MF/previ-sais/function_read.py:27: FutureWarning: elementwise comparison failed; returning scalar instead, but in the future will perform elementwise comparison\n",
      "  if lon_bnds != \"all\":\n"
     ]
    },
    {
     "name": "stdout",
     "output_type": "stream",
     "text": [
      "all\n",
      "True [290  20]\n",
      "3\n",
      "(6, 60, 91)\n",
      "all\n",
      "True [290  20]\n",
      "3\n",
      "(6, 60, 91)\n"
     ]
    },
    {
     "name": "stderr",
     "output_type": "stream",
     "text": [
      "/home/prodhommec/analyseMF/scripts-final-MF/previ-sais/function_read.py:26: FutureWarning: elementwise comparison failed; returning scalar instead, but in the future will perform elementwise comparison\n",
      "  print(lon_bnds != \"all\", lon_bnds)\n",
      "/home/prodhommec/analyseMF/scripts-final-MF/previ-sais/function_read.py:27: FutureWarning: elementwise comparison failed; returning scalar instead, but in the future will perform elementwise comparison\n",
      "  if lon_bnds != \"all\":\n",
      "/home/prodhommec/analyseMF/scripts-final-MF/previ-sais/function_read.py:26: FutureWarning: elementwise comparison failed; returning scalar instead, but in the future will perform elementwise comparison\n",
      "  print(lon_bnds != \"all\", lon_bnds)\n",
      "/home/prodhommec/analyseMF/scripts-final-MF/previ-sais/function_read.py:27: FutureWarning: elementwise comparison failed; returning scalar instead, but in the future will perform elementwise comparison\n",
      "  if lon_bnds != \"all\":\n"
     ]
    },
    {
     "name": "stdout",
     "output_type": "stream",
     "text": [
      "all\n",
      "True [290  20]\n",
      "3\n",
      "(6, 60, 91)\n",
      "all\n",
      "True [290  20]\n",
      "3\n",
      "(6, 60, 91)\n"
     ]
    },
    {
     "name": "stderr",
     "output_type": "stream",
     "text": [
      "/home/prodhommec/analyseMF/scripts-final-MF/previ-sais/function_read.py:26: FutureWarning: elementwise comparison failed; returning scalar instead, but in the future will perform elementwise comparison\n",
      "  print(lon_bnds != \"all\", lon_bnds)\n",
      "/home/prodhommec/analyseMF/scripts-final-MF/previ-sais/function_read.py:27: FutureWarning: elementwise comparison failed; returning scalar instead, but in the future will perform elementwise comparison\n",
      "  if lon_bnds != \"all\":\n",
      "/home/prodhommec/analyseMF/scripts-final-MF/previ-sais/function_read.py:26: FutureWarning: elementwise comparison failed; returning scalar instead, but in the future will perform elementwise comparison\n",
      "  print(lon_bnds != \"all\", lon_bnds)\n",
      "/home/prodhommec/analyseMF/scripts-final-MF/previ-sais/function_read.py:27: FutureWarning: elementwise comparison failed; returning scalar instead, but in the future will perform elementwise comparison\n",
      "  if lon_bnds != \"all\":\n"
     ]
    },
    {
     "name": "stdout",
     "output_type": "stream",
     "text": [
      "all\n",
      "True [290  20]\n",
      "3\n",
      "(6, 60, 91)\n",
      "all\n",
      "True [290  20]\n",
      "3\n",
      "(6, 60, 91)\n"
     ]
    },
    {
     "name": "stderr",
     "output_type": "stream",
     "text": [
      "/home/prodhommec/analyseMF/scripts-final-MF/previ-sais/function_read.py:26: FutureWarning: elementwise comparison failed; returning scalar instead, but in the future will perform elementwise comparison\n",
      "  print(lon_bnds != \"all\", lon_bnds)\n",
      "/home/prodhommec/analyseMF/scripts-final-MF/previ-sais/function_read.py:27: FutureWarning: elementwise comparison failed; returning scalar instead, but in the future will perform elementwise comparison\n",
      "  if lon_bnds != \"all\":\n",
      "/home/prodhommec/analyseMF/scripts-final-MF/previ-sais/function_read.py:26: FutureWarning: elementwise comparison failed; returning scalar instead, but in the future will perform elementwise comparison\n",
      "  print(lon_bnds != \"all\", lon_bnds)\n",
      "/home/prodhommec/analyseMF/scripts-final-MF/previ-sais/function_read.py:27: FutureWarning: elementwise comparison failed; returning scalar instead, but in the future will perform elementwise comparison\n",
      "  if lon_bnds != \"all\":\n"
     ]
    },
    {
     "name": "stdout",
     "output_type": "stream",
     "text": [
      "all\n",
      "True [290  20]\n",
      "3\n",
      "(6, 60, 91)\n",
      "all\n",
      "True [290  20]\n",
      "3\n",
      "(6, 60, 91)\n"
     ]
    },
    {
     "name": "stderr",
     "output_type": "stream",
     "text": [
      "/home/prodhommec/analyseMF/scripts-final-MF/previ-sais/function_read.py:26: FutureWarning: elementwise comparison failed; returning scalar instead, but in the future will perform elementwise comparison\n",
      "  print(lon_bnds != \"all\", lon_bnds)\n",
      "/home/prodhommec/analyseMF/scripts-final-MF/previ-sais/function_read.py:27: FutureWarning: elementwise comparison failed; returning scalar instead, but in the future will perform elementwise comparison\n",
      "  if lon_bnds != \"all\":\n",
      "/home/prodhommec/analyseMF/scripts-final-MF/previ-sais/function_read.py:26: FutureWarning: elementwise comparison failed; returning scalar instead, but in the future will perform elementwise comparison\n",
      "  print(lon_bnds != \"all\", lon_bnds)\n",
      "/home/prodhommec/analyseMF/scripts-final-MF/previ-sais/function_read.py:27: FutureWarning: elementwise comparison failed; returning scalar instead, but in the future will perform elementwise comparison\n",
      "  if lon_bnds != \"all\":\n"
     ]
    }
   ],
   "source": [
    "# list to be converted in array to store the data\n",
    "varMM=[]\n",
    "# list to store the missing members\n",
    "# additional comment: in the test simulation I was investigating a few members where missing; I replace them\n",
    "# by the members 5 this should be remove when the dataset will be complete\n",
    "missing=[]\n",
    "#loop over members\n",
    "for imemb in range(1,nmemb+1):\n",
    "    moddate=[]\n",
    "    for s in sdatelst:\n",
    "        #f=glob(\"/cnrm/pastel/USERS/prodhommec/NO_SAVE/dcppA-hindcast/*r%ii2p1f2/\"%imemb+varname+\"*gn_\"+s.strftime(\"%Y%m\")+\"*04.nc\")\n",
    "        f=glob(\"/cnrm/pastel/USERS/prodhommec/NO_SAVE/dcppA-hindcast/*r%ii2p1f2/\"%imemb+varname+\"_Omon**\"+s.strftime(\"%Y%m\")+\"*\")\n",
    "        # as said before if the member is missing use the member 5 (to be removed with a complete dataset)\n",
    "        if len(f)==0:\n",
    "            f=glob(\"/cnrm/pastel/USERS/prodhommec/NO_SAVE/dcppA-hindcast/*r%ii2p1f2/\"%(5)+varname+\"_Omon*\"+s.strftime(\"%Y%m\")+\"*\")\n",
    "            missing.append((s,imemb))\n",
    "        f=f[0] \n",
    "        #extract level in cas of 3D files\n",
    "        if level!=\"all\":\n",
    "            f=cdo.selvar(varname, input=f)\n",
    "            f=cdo.sellevidx(level, input=f)\n",
    "            f=cdo.vertmean(input=f)\n",
    "        #    print(f)\n",
    "        #interpolation to 1x1 degree grid \n",
    "        f=cdo.remapbil(\"r360x180\", input=f)\n",
    "        varf=netCDF4.Dataset(f)\n",
    "        #extract array from fonction read (the fonction would need adaptation to work directly on the NEMO grid)\n",
    "        mod, latobs, lonobs  = extract_array(varf, varname, nmon, lon_bnds, lat_bnds, level=\"all\")\n",
    "        #mask land\n",
    "        mod=np.ma.array(mod, mask=mod>1e10)\n",
    "        #average over the region (from function read)\n",
    "        mod = area_av(mod, 1, 2, latobs, lonobs)\n",
    "        moddate.append(mod)\n",
    "        \n",
    "    varMM.append(np.ma.array(moddate))\n",
    "    \n",
    "varMM=np.ma.array(varMM)*scale"
   ]
  },
  {
   "cell_type": "code",
   "execution_count": 23,
   "metadata": {},
   "outputs": [
    {
     "data": {
      "text/plain": [
       "[(datetime.date(1998, 5, 1), 1),\n",
       " (datetime.date(2000, 5, 1), 1),\n",
       " (datetime.date(1999, 5, 1), 3),\n",
       " (datetime.date(2003, 5, 1), 4),\n",
       " (datetime.date(2004, 5, 1), 4),\n",
       " (datetime.date(2012, 5, 1), 4),\n",
       " (datetime.date(2013, 5, 1), 4)]"
      ]
     },
     "execution_count": 23,
     "metadata": {},
     "output_type": "execute_result"
    }
   ],
   "source": [
    "#check missing members\n",
    "missing"
   ]
  },
  {
   "cell_type": "markdown",
   "metadata": {},
   "source": [
    "### read the files:observation"
   ]
  },
  {
   "cell_type": "code",
   "execution_count": 24,
   "metadata": {},
   "outputs": [
    {
     "name": "stdout",
     "output_type": "stream",
     "text": [
      "all\n",
      "True [290  20]\n",
      "3\n"
     ]
    },
    {
     "name": "stderr",
     "output_type": "stream",
     "text": [
      "/home/prodhommec/analyseMF/scripts-final-MF/previ-sais/function_read.py:26: FutureWarning: elementwise comparison failed; returning scalar instead, but in the future will perform elementwise comparison\n",
      "  print(lon_bnds != \"all\", lon_bnds)\n",
      "/home/prodhommec/analyseMF/scripts-final-MF/previ-sais/function_read.py:27: FutureWarning: elementwise comparison failed; returning scalar instead, but in the future will perform elementwise comparison\n",
      "  if lon_bnds != \"all\":\n"
     ]
    },
    {
     "name": "stdout",
     "output_type": "stream",
     "text": [
      "(208, 60, 91)\n"
     ]
    }
   ],
   "source": [
    "pathobs = \"/cnrm/pastel/USERS/prodhommec/NO_SAVE/obs/\"\n",
    "if varname==\"chlos\":\n",
    "    obsname=\"ESA-CCI\"\n",
    "    fileobs = pathobs+\"chlos_Omon_ESACCI-OC-L3S_fv5.0_199709-202006_1d.nc\"\n",
    "    fileobs=cdo.remapbil(\"r360x180\", input=fileobs)\n",
    "    varfobs=netCDF4.Dataset(fileobs)\n",
    "    varfobs.variables\n",
    "    #extract array from fonction read and read the timesteps until the end of the period (year1->year2\n",
    "    obs, latobs, lonobs  = extract_array(varfobs, varname, (yearlst[-1]-1998+2)*12+4, lon_bnds, lat_bnds, level=\"all\")\n",
    "    obs=np.ma.array(obs, mask=obs>1e10)\n",
    "    #remove the timesteps from 09-1997 to 01-1998\n",
    "    obs = area_av(obs[((yearlst[0]-1998)*12+4):,:,:], 1, 2, latobs, lonobs)\n",
    "    #obs = np.ma.mean(np.ma.mean(obs[((yearlst[0]-1998)*12+4):,:,:], axis=2), axis=1)\n",
    "elif varname==\"intpp\":\n",
    "    obsname=\"Kulk et al. 2020\"\n",
    "    fileobs = pathobs+\"intpp_Omon_ESACCI-OC-PP_v4-2_Kulk_et_al_199801-201812_1d.nc\"\n",
    "    fileobs=cdo.remapbil(\"r360x180\", input=fileobs)\n",
    "    varfobs=netCDF4.Dataset(fileobs)\n",
    "    varfobs.variables\n",
    "    #remove the timesteps from 09-1997 to 01-1998\n",
    "    obs, latobs, lonobs  = extract_array(varfobs, varname, (yearlst[-1]-1998+2)*12, lon_bnds, lat_bnds, level=\"all\")\n",
    "    obs=np.ma.array(obs, mask=obs>1e10)\n",
    "    obs = area_av(obs[((yearlst[0]-1998)*12):,:,:], 1, 2, latobs, lonobs)\n",
    "elif varname==\"tos\":\n",
    "    obsname=\"ersst\"\n",
    "    fileobs = pathobs+\"ersst-v4_185401-201612.nc\"\n",
    "    fileobs=cdo.remapbil(\"r360x180\", input=fileobs)\n",
    "    varfobs=netCDF4.Dataset(fileobs)\n",
    "    varfobs.variables\n",
    "    #remove the timesteps from 09-1997 to 01-1998\n",
    "    obs, latobs, lonobs  = extract_array(varfobs, \"sst\", (yearlst[-1]-1854+2)*12, lon_bnds, lat_bnds, level=\"all\")\n",
    "    obs=np.ma.array(obs, mask=obs<-300)\n",
    "    obs = area_av(obs[((yearlst[0]-1854)*12):,0,:,:], 1, 2, latobs, lonobs)\n"
   ]
  },
  {
   "cell_type": "markdown",
   "metadata": {},
   "source": [
    "### read the files: Forced simulation (NEMO-PISCES forced by JRA55)\n",
    "\n",
    "the file is not used in the current version of the code, but calculations are done (correlations, anomalies.... so it's easy to use this simulation as a refernce instead of observation or dcppA-assim)"
   ]
  },
  {
   "cell_type": "code",
   "execution_count": 25,
   "metadata": {},
   "outputs": [
    {
     "name": "stdout",
     "output_type": "stream",
     "text": [
      "all\n",
      "True [290  20]\n",
      "3\n"
     ]
    },
    {
     "name": "stderr",
     "output_type": "stream",
     "text": [
      "/home/prodhommec/analyseMF/scripts-final-MF/previ-sais/function_read.py:26: FutureWarning: elementwise comparison failed; returning scalar instead, but in the future will perform elementwise comparison\n",
      "  print(lon_bnds != \"all\", lon_bnds)\n",
      "/home/prodhommec/analyseMF/scripts-final-MF/previ-sais/function_read.py:27: FutureWarning: elementwise comparison failed; returning scalar instead, but in the future will perform elementwise comparison\n",
      "  if lon_bnds != \"all\":\n"
     ]
    },
    {
     "name": "stdout",
     "output_type": "stream",
     "text": [
      "(2004, 60, 91)\n"
     ]
    }
   ],
   "source": [
    "f=\"/cnrm/pastel/USERS/prodhommec/NO_SAVE/JRA55doV1.5_Acycl/\"+varname+\"_Omon_CNRM-ESM2-1_gcpA_r1i1p1f1_gn_184801-201912.nc\"\n",
    "if level!=\"all\":\n",
    "    f=cdo.remapbil(\"r360x180\", input=(\"-sellevel,%i \"%level)+f)\n",
    "else:\n",
    "    f=cdo.remapbil(\"r360x180\", input=f)\n",
    "#print(f)\n",
    "varffor=netCDF4.Dataset(f)\n",
    "#extract array from fonction read \n",
    "indexfor, latfor, lonfor  = extract_array(varffor, varname, (year2-1848+2)*12, lon_bnds, lat_bnds)\n",
    "indexfor=np.ma.array(indexfor, mask=indexfor>1e10)\n",
    "indexfor = area_av(indexfor[((year1-1848)*12):,:,:], 1, 2, latfor, lonfor)*scale\n",
    "#probleme interpolation\n"
   ]
  },
  {
   "cell_type": "markdown",
   "metadata": {},
   "source": [
    "### read the files: home reanalysis (dcppA-assim)"
   ]
  },
  {
   "cell_type": "code",
   "execution_count": 26,
   "metadata": {},
   "outputs": [
    {
     "name": "stdout",
     "output_type": "stream",
     "text": [
      "/home/prodhommec/tmp/cdoPyxr6344cb\n",
      "all\n",
      "True [290  20]\n",
      "3\n",
      "(660, 60, 91)\n"
     ]
    },
    {
     "name": "stderr",
     "output_type": "stream",
     "text": [
      "/home/prodhommec/analyseMF/scripts-final-MF/previ-sais/function_read.py:26: FutureWarning: elementwise comparison failed; returning scalar instead, but in the future will perform elementwise comparison\n",
      "  print(lon_bnds != \"all\", lon_bnds)\n",
      "/home/prodhommec/analyseMF/scripts-final-MF/previ-sais/function_read.py:27: FutureWarning: elementwise comparison failed; returning scalar instead, but in the future will perform elementwise comparison\n",
      "  if lon_bnds != \"all\":\n"
     ]
    }
   ],
   "source": [
    "f=\"/cnrm/pastel/USERS/prodhommec/NO_SAVE/dcppA-assim_r4i1p1f2/\"+varname+\"_Omon_CNRM-ESM2-1_dcppA-assim_r4i1p1f2_gn_196001-201412.nc\"\n",
    "if level!=\"all\":\n",
    "    f=cdo.remapbil(\"r360x180\", input=(\"-sellevel,%i \"%level)+f)\n",
    "else:\n",
    "    f=cdo.remapbil(\"r360x180\", input=f)\n",
    "print(f)\n",
    "\n",
    "varfndg=netCDF4.Dataset(f)\n",
    "#extract array from fonction read \n",
    "indexndg, latndg, lonndg  = extract_array(varfndg, varname, (year2-1960+2)*12, lon_bnds, lat_bnds, level=\"all\")\n",
    "indexndg=np.ma.array(indexndg, mask=indexndg>1e10)\n",
    "indexndg = area_av(indexndg[((year1-1960)*12):,:,:], 1, 2, latndg, lonndg)*scale"
   ]
  },
  {
   "cell_type": "code",
   "execution_count": 27,
   "metadata": {},
   "outputs": [],
   "source": [
    "### Analysis"
   ]
  },
  {
   "cell_type": "code",
   "execution_count": 28,
   "metadata": {},
   "outputs": [],
   "source": [
    "# transform reference to have data organized following (nyear, 12, nlon, nlat)\n",
    "indexobsresh = obs.reshape((year2-year1+2),12)\n",
    "indexforresh = indexfor.reshape((year2-year1+2),12)\n",
    "indexndgresh = indexndg.reshape((year2-year1+2),12)\n",
    "\n",
    "\n",
    "#compute climatologies\n",
    "climmod=np.mean(varMM, axis=(0,1))\n",
    "climobs = np.mean(indexobsresh, axis = 0)\n",
    "climfor = np.mean(indexforresh, axis = 0)\n",
    "climndg = np.mean(indexndgresh, axis = 0)\n",
    "\n",
    "#compute anomalies \n",
    "#additional note: This should be done in cross-validation for this preliminary analysis it's not done)\n",
    "anom = varMM-extend_table(climmod, [1, (year2-year1+1)])\n",
    "anomobs = np.ndarray.flatten(indexobsresh - climobs)\n",
    "anomfor = np.ndarray.flatten(indexforresh -climfor)\n",
    "anomndg = np.ndarray.flatten(indexndgresh -climndg)\n"
   ]
  },
  {
   "cell_type": "code",
   "execution_count": 29,
   "metadata": {},
   "outputs": [],
   "source": [
    "#compute correlation with observations\n",
    "obsreorghind=obs[(monstart-1):((monstart-1)+(nyear)*12)].reshape(nyear, 12)\n",
    "corr=[]\n",
    "for imon in range(nmon):\n",
    "    corr.append(scipy.stats.pearsonr(np.mean(anom, axis=0)[:,imon], obsreorghind[:,imon]))\n",
    "corr=np.array(corr)"
   ]
  },
  {
   "cell_type": "code",
   "execution_count": 30,
   "metadata": {},
   "outputs": [],
   "source": [
    "#compute correlation with the forced simulation (not plotted)\n",
    "forreorghind=indexfor[(monstart-1):((monstart-1)+(nyear)*12)].reshape(nyear, 12)\n",
    "corrfor=[]\n",
    "for imon in range(nmon):\n",
    "    corrfor.append(scipy.stats.pearsonr(np.mean(anom, axis=0)[:,imon], forreorghind[:,imon]))\n",
    "corrfor=np.array(corrfor)"
   ]
  },
  {
   "cell_type": "code",
   "execution_count": 31,
   "metadata": {},
   "outputs": [],
   "source": [
    "#compute correlation with dcppa-assm\n",
    "ndgreorghind=indexndg[(monstart-1):((monstart-1)+(nyear)*12)].reshape(nyear, 12)\n",
    "corrndg=[]\n",
    "for imon in range(nmon):\n",
    "    corrndg.append(scipy.stats.pearsonr(np.mean(anom, axis=0)[:,imon], ndgreorghind[:,imon]))\n",
    "corrndg=np.array(corrndg)"
   ]
  },
  {
   "cell_type": "markdown",
   "metadata": {},
   "source": [
    "### Plots"
   ]
  },
  {
   "cell_type": "code",
   "execution_count": 32,
   "metadata": {},
   "outputs": [
    {
     "name": "stderr",
     "output_type": "stream",
     "text": [
      "/usr/lib64/python3.7/site-packages/pandas/plotting/_matplotlib/converter.py:103: FutureWarning: Using an implicitly registered datetime converter for a matplotlib plotting method. The converter was registered by pandas on import. Future versions of pandas will require you to explicitly register matplotlib converters.\n",
      "\n",
      "To register the converters:\n",
      "\t>>> from pandas.plotting import register_matplotlib_converters\n",
      "\t>>> register_matplotlib_converters()\n",
      "  warnings.warn(msg, FutureWarning)\n"
     ]
    },
    {
     "data": {
      "text/plain": [
       "<matplotlib.legend.Legend at 0x7f625cd5d150>"
      ]
     },
     "execution_count": 32,
     "metadata": {},
     "output_type": "execute_result"
    },
    {
     "data": {
      "image/png": "[encoded data removed]",
      "text/plain": [
       "<Figure size 720x720 with 4 Axes>"
      ]
     },
     "metadata": {
      "needs_background": "light"
     },
     "output_type": "display_data"
    }
   ],
   "source": [
    "nline=4\n",
    "ncol=1\n",
    "\n",
    "fig, ax = plt.subplots(ncols=ncol, nrows=nline, \n",
    "                        figsize=(10, 10))\n",
    "\n",
    "plt.tight_layout(pad=3)\n",
    "\n",
    "obssdatelst=[]\n",
    "for year in np.arange(year1,year2+2):\n",
    "    for mon in range(1, 13):\n",
    "        obssdatelst.append(date(year=year, month=mon, day=1))\n",
    "\n",
    "\n",
    "for isdates in range(len(sdatelst)):\n",
    "    modsdatelst=[]\n",
    "    for imon in range(nmon):\n",
    "        modsdatelst.append(sdatelst[isdates]+relativedelta(months=+imon))\n",
    "    \n",
    "        \n",
    "for isdates in range(len(sdatelst)):\n",
    "    modsdatelst=[]\n",
    "    for imon in range(nmon):\n",
    "        modsdatelst.append(sdatelst[isdates]+relativedelta(months=+imon))\n",
    "\n",
    "    for imemb in range(6):\n",
    "        ax[0].plot(modsdatelst, np.ndarray.flatten(varMM[imemb,isdates,:]), color=\"darkgrey\")\n",
    "        \n",
    "ax[0].plot(obssdatelst, obs, color=\"black\")\n",
    "#ax[0].plot(obssdatelst[:(year2-year1+2)*12], indexfor, color=\"blue\")\n",
    "ax[0].plot(obssdatelst[:(year2-year1+2)*12], indexndg, color=\"C0\")\n",
    "\n",
    "\n",
    "        \n",
    "\n",
    "ax[0].set_title(\"raw SST \"+regname)\n",
    "    \n",
    "ax[1].axhline(y=0, linestyle=\"dashed\", color=\"black\")\n",
    "\n",
    "for isdates in range(len(sdatelst)):\n",
    "    modsdatelst=[]\n",
    "    for imon in range(nmon):\n",
    "        modsdatelst.append(sdatelst[isdates]+relativedelta(months=+imon))\n",
    "    \n",
    "    for imemb in range(nmemb):\n",
    "        ax[1].plot(modsdatelst, np.ndarray.flatten(anom[imemb,isdates,:]), color=\"darkgrey\")\n",
    "        \n",
    "ax[1].plot(obssdatelst, anomobs, color=\"black\")\n",
    "#ax[1].plot(obssdatelst[:(year2-year1+2)*12], anomfor, color=\"blue\")\n",
    "ax[1].plot(obssdatelst[:(year2-year1+2)*12], anomndg, color=\"C0\")\n",
    "\n",
    "ax[1].set_title(\"anom SST\"+regname)\n",
    "\n",
    "\n",
    "        \n",
    "\n",
    "ax[2].plot([s.strftime(\"%b\") for s in modsdatelst], climobs[monstart:(monstart+nmon)], color=\"black\")\n",
    "#ax[2].plot([s.strftime(\"%b\") for s in modsdatelst], climfor[monstart:(monstart+nmon)], color=\"blue\")\n",
    "ax[2].plot([s.strftime(\"%b\") for s in modsdatelst], climndg[monstart:(monstart+nmon)], color=\"C0\")\n",
    "ax[2].plot([s.strftime(\"%b\") for s in modsdatelst], climmod, color=\"darkgrey\")\n",
    "\n",
    "ax[2].set_title(\"Clim \"+regname)\n",
    "\n",
    "ax[2].legend([\"ESA\", \"dcppA-assim\", \"dccpA-hindcast_May\"])\n",
    "        \n",
    "        \n",
    "\n",
    "line1 = ax[3].plot([s.strftime(\"%b\") for s in modsdatelst], corr[:,0], color=\"black\")\n",
    "for imon in range(nmon):\n",
    "    if corr[imon,1]<0.1:\n",
    "        ax[3].scatter(modsdatelst[imon].strftime(\"%b\"), corr[imon,0], marker=\"*\", color=\"black\")\n",
    "            \n",
    "line2 = ax[3].plot([s.strftime(\"%b\") for s in modsdatelst], corrndg[:,0], color=\"C0\")\n",
    "for imon in range(nmon):\n",
    "    if corrndg[imon,1]<0.1:\n",
    "        ax[3].scatter(modsdatelst[imon].strftime(\"%b\"), corrndg[imon,0], marker=\"*\", color=\"C0\")\n",
    "ax[3].axhline(y=0, linestyle=\"dashed\", color=\"black\")\n",
    "\n",
    "ax[3].set_title(\"Corr \"+regname)\n",
    "\n",
    "ax[3].legend([ obsname,  \"dcppA-assim\"])\n",
    "\n"
   ]
  },
  {
   "cell_type": "code",
   "execution_count": 33,
   "metadata": {},
   "outputs": [
    {
     "name": "stdout",
     "output_type": "stream",
     "text": [
      "/home/prodhommec/cnrm/pastel/USERS/prodhommec/NO_SAVE/plot/Skill/Corr_dcppA-hindcast_chlos_monstart-5_TropAtl.pdf\n"
     ]
    }
   ],
   "source": [
    "figdir=\"/home/prodhommec/cnrm/pastel/USERS/prodhommec/NO_SAVE/plot/Skill/\"\n",
    "figname=figdir+(\"Corr\"+\"_\"+exp+\"_\"+varname+\"_monstart-%i_\"%monstart+regname)\n",
    "figname=(figname+\".pdf\")\n",
    "\n",
    "print(figname)\n",
    "fig.savefig(figname)"
   ]
  },
  {
   "cell_type": "code",
   "execution_count": null,
   "metadata": {},
   "outputs": [],
   "source": []
  }
 ],
 "metadata": {
  "kernelspec": {
   "display_name": "Python 3",
   "language": "python",
   "name": "python3"
  },
  "language_info": {
   "codemirror_mode": {
    "name": "ipython",
    "version": 3
   },
   "file_extension": ".py",
   "mimetype": "text/x-python",
   "name": "python",
   "nbconvert_exporter": "python",
   "pygments_lexer": "ipython3",
   "version": "3.7.6"
  }
 },
 "nbformat": 4,
 "nbformat_minor": 2
}
