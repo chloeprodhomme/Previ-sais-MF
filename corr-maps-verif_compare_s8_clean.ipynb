{
 "cells": [
  {
   "cell_type": "markdown",
   "metadata": {},
   "source": [
    "script to compare the hindcasts (May) with the system 8 for SST"
   ]
  },
  {
   "cell_type": "markdown",
   "metadata": {},
   "source": [
    "### Input parameters and libraries"
   ]
  },
  {
   "cell_type": "code",
   "execution_count": 1,
   "metadata": {},
   "outputs": [],
   "source": [
    "#import matplotlib\n",
    "#matplotlib.use('Agg') # to run on aneto (not very useful for this script)\n",
    "from function_read import * # some auxiliary functions that I wrote to read the file\n",
    "from mpl_toolkits.basemap import Basemap\n",
    "import matplotlib.pyplot as plt\n",
    "import scipy.stats\n",
    "import cartopy as cart\n",
    "import cartopy.crs as ccrs\n",
    "from function_read import *\n",
    "from mpl_toolkits.axisartist.axislines import Subplot \n",
    "import sys\n",
    "\n",
    "# name of the experience\n",
    "exp=\"dcppA-hincast\"\n",
    "\n",
    "\n",
    "#period to analyse\n",
    "year1=1998\n",
    "year2=2014\n",
    "#number of months of the hindcast to read\n",
    "nmon=6\n",
    "#number of members (to select the same number of member in Sys8 and the hindcast)\n",
    "nmemb=10\n",
    "#starting month of the hindcast (may:5 or November:11)\n",
    "monstart=5\n",
    "\n",
    "lat_bnds = [-90,90]\n",
    "lon_bnds = [-180,179]\n",
    "varname=\"tos\"\n",
    "\n",
    "# define the target season to compute the skill, seas=(6,8) for JJA\n",
    "seas=(6,8)\n"
   ]
  },
  {
   "cell_type": "code",
   "execution_count": 2,
   "metadata": {},
   "outputs": [],
   "source": [
    "#compute dates from year1 and year2\n",
    "nyear=year2-year1+1\n",
    "yearlst=np.arange(year1, year2+1)\n",
    "sdatelst=[]\n",
    "for year in yearlst:\n",
    "    sdatelst.append(date(year=year, month=monstart, day=1))"
   ]
  },
  {
   "cell_type": "markdown",
   "metadata": {},
   "source": [
    "### Read files: hindcasts"
   ]
  },
  {
   "cell_type": "code",
   "execution_count": 4,
   "metadata": {},
   "outputs": [
    {
     "name": "stdout",
     "output_type": "stream",
     "text": [
      "all\n",
      "True [-180  179]\n",
      "3\n",
      "(6, 180, 360)\n",
      "all\n",
      "True [-180  179]\n",
      "3\n",
      "(6, 180, 360)\n"
     ]
    },
    {
     "name": "stderr",
     "output_type": "stream",
     "text": [
      "/home/prodhommec/analyseMF/scripts-final-MF/previ-sais/function_read.py:27: FutureWarning: elementwise comparison failed; returning scalar instead, but in the future will perform elementwise comparison\n",
      "  print(lon_bnds != \"all\", lon_bnds)\n",
      "/home/prodhommec/analyseMF/scripts-final-MF/previ-sais/function_read.py:28: FutureWarning: elementwise comparison failed; returning scalar instead, but in the future will perform elementwise comparison\n",
      "  if lon_bnds != \"all\":\n",
      "/home/prodhommec/analyseMF/scripts-final-MF/previ-sais/function_read.py:27: FutureWarning: elementwise comparison failed; returning scalar instead, but in the future will perform elementwise comparison\n",
      "  print(lon_bnds != \"all\", lon_bnds)\n",
      "/home/prodhommec/analyseMF/scripts-final-MF/previ-sais/function_read.py:28: FutureWarning: elementwise comparison failed; returning scalar instead, but in the future will perform elementwise comparison\n",
      "  if lon_bnds != \"all\":\n"
     ]
    },
    {
     "name": "stdout",
     "output_type": "stream",
     "text": [
      "all\n",
      "True [-180  179]\n",
      "3\n",
      "(6, 180, 360)\n"
     ]
    },
    {
     "name": "stderr",
     "output_type": "stream",
     "text": [
      "/home/prodhommec/analyseMF/scripts-final-MF/previ-sais/function_read.py:27: FutureWarning: elementwise comparison failed; returning scalar instead, but in the future will perform elementwise comparison\n",
      "  print(lon_bnds != \"all\", lon_bnds)\n",
      "/home/prodhommec/analyseMF/scripts-final-MF/previ-sais/function_read.py:28: FutureWarning: elementwise comparison failed; returning scalar instead, but in the future will perform elementwise comparison\n",
      "  if lon_bnds != \"all\":\n"
     ]
    },
    {
     "name": "stdout",
     "output_type": "stream",
     "text": [
      "all\n",
      "True [-180  179]\n",
      "3\n",
      "(6, 180, 360)\n"
     ]
    },
    {
     "name": "stderr",
     "output_type": "stream",
     "text": [
      "/home/prodhommec/analyseMF/scripts-final-MF/previ-sais/function_read.py:27: FutureWarning: elementwise comparison failed; returning scalar instead, but in the future will perform elementwise comparison\n",
      "  print(lon_bnds != \"all\", lon_bnds)\n",
      "/home/prodhommec/analyseMF/scripts-final-MF/previ-sais/function_read.py:28: FutureWarning: elementwise comparison failed; returning scalar instead, but in the future will perform elementwise comparison\n",
      "  if lon_bnds != \"all\":\n"
     ]
    },
    {
     "name": "stdout",
     "output_type": "stream",
     "text": [
      "all\n",
      "True [-180  179]\n",
      "3\n",
      "(6, 180, 360)\n"
     ]
    },
    {
     "name": "stderr",
     "output_type": "stream",
     "text": [
      "/home/prodhommec/analyseMF/scripts-final-MF/previ-sais/function_read.py:27: FutureWarning: elementwise comparison failed; returning scalar instead, but in the future will perform elementwise comparison\n",
      "  print(lon_bnds != \"all\", lon_bnds)\n",
      "/home/prodhommec/analyseMF/scripts-final-MF/previ-sais/function_read.py:28: FutureWarning: elementwise comparison failed; returning scalar instead, but in the future will perform elementwise comparison\n",
      "  if lon_bnds != \"all\":\n"
     ]
    },
    {
     "name": "stdout",
     "output_type": "stream",
     "text": [
      "all\n",
      "True [-180  179]\n",
      "3\n",
      "(6, 180, 360)\n"
     ]
    },
    {
     "name": "stderr",
     "output_type": "stream",
     "text": [
      "/home/prodhommec/analyseMF/scripts-final-MF/previ-sais/function_read.py:27: FutureWarning: elementwise comparison failed; returning scalar instead, but in the future will perform elementwise comparison\n",
      "  print(lon_bnds != \"all\", lon_bnds)\n",
      "/home/prodhommec/analyseMF/scripts-final-MF/previ-sais/function_read.py:28: FutureWarning: elementwise comparison failed; returning scalar instead, but in the future will perform elementwise comparison\n",
      "  if lon_bnds != \"all\":\n"
     ]
    },
    {
     "name": "stdout",
     "output_type": "stream",
     "text": [
      "all\n",
      "True [-180  179]\n",
      "3\n",
      "(6, 180, 360)\n"
     ]
    },
    {
     "name": "stderr",
     "output_type": "stream",
     "text": [
      "/home/prodhommec/analyseMF/scripts-final-MF/previ-sais/function_read.py:27: FutureWarning: elementwise comparison failed; returning scalar instead, but in the future will perform elementwise comparison\n",
      "  print(lon_bnds != \"all\", lon_bnds)\n",
      "/home/prodhommec/analyseMF/scripts-final-MF/previ-sais/function_read.py:28: FutureWarning: elementwise comparison failed; returning scalar instead, but in the future will perform elementwise comparison\n",
      "  if lon_bnds != \"all\":\n"
     ]
    },
    {
     "name": "stdout",
     "output_type": "stream",
     "text": [
      "all\n",
      "True [-180  179]\n",
      "3\n",
      "(6, 180, 360)\n"
     ]
    },
    {
     "name": "stderr",
     "output_type": "stream",
     "text": [
      "/home/prodhommec/analyseMF/scripts-final-MF/previ-sais/function_read.py:27: FutureWarning: elementwise comparison failed; returning scalar instead, but in the future will perform elementwise comparison\n",
      "  print(lon_bnds != \"all\", lon_bnds)\n",
      "/home/prodhommec/analyseMF/scripts-final-MF/previ-sais/function_read.py:28: FutureWarning: elementwise comparison failed; returning scalar instead, but in the future will perform elementwise comparison\n",
      "  if lon_bnds != \"all\":\n"
     ]
    },
    {
     "name": "stdout",
     "output_type": "stream",
     "text": [
      "all\n",
      "True [-180  179]\n",
      "3\n",
      "(6, 180, 360)\n"
     ]
    },
    {
     "name": "stderr",
     "output_type": "stream",
     "text": [
      "/home/prodhommec/analyseMF/scripts-final-MF/previ-sais/function_read.py:27: FutureWarning: elementwise comparison failed; returning scalar instead, but in the future will perform elementwise comparison\n",
      "  print(lon_bnds != \"all\", lon_bnds)\n",
      "/home/prodhommec/analyseMF/scripts-final-MF/previ-sais/function_read.py:28: FutureWarning: elementwise comparison failed; returning scalar instead, but in the future will perform elementwise comparison\n",
      "  if lon_bnds != \"all\":\n"
     ]
    },
    {
     "name": "stdout",
     "output_type": "stream",
     "text": [
      "all\n",
      "True [-180  179]\n",
      "3\n",
      "(6, 180, 360)\n"
     ]
    },
    {
     "name": "stderr",
     "output_type": "stream",
     "text": [
      "/home/prodhommec/analyseMF/scripts-final-MF/previ-sais/function_read.py:27: FutureWarning: elementwise comparison failed; returning scalar instead, but in the future will perform elementwise comparison\n",
      "  print(lon_bnds != \"all\", lon_bnds)\n",
      "/home/prodhommec/analyseMF/scripts-final-MF/previ-sais/function_read.py:28: FutureWarning: elementwise comparison failed; returning scalar instead, but in the future will perform elementwise comparison\n",
      "  if lon_bnds != \"all\":\n"
     ]
    },
    {
     "name": "stdout",
     "output_type": "stream",
     "text": [
      "all\n",
      "True [-180  179]\n",
      "3\n",
      "(6, 180, 360)\n"
     ]
    },
    {
     "name": "stderr",
     "output_type": "stream",
     "text": [
      "/home/prodhommec/analyseMF/scripts-final-MF/previ-sais/function_read.py:27: FutureWarning: elementwise comparison failed; returning scalar instead, but in the future will perform elementwise comparison\n",
      "  print(lon_bnds != \"all\", lon_bnds)\n",
      "/home/prodhommec/analyseMF/scripts-final-MF/previ-sais/function_read.py:28: FutureWarning: elementwise comparison failed; returning scalar instead, but in the future will perform elementwise comparison\n",
      "  if lon_bnds != \"all\":\n"
     ]
    },
    {
     "name": "stdout",
     "output_type": "stream",
     "text": [
      "all\n",
      "True [-180  179]\n",
      "3\n",
      "(6, 180, 360)\n"
     ]
    },
    {
     "name": "stderr",
     "output_type": "stream",
     "text": [
      "/home/prodhommec/analyseMF/scripts-final-MF/previ-sais/function_read.py:27: FutureWarning: elementwise comparison failed; returning scalar instead, but in the future will perform elementwise comparison\n",
      "  print(lon_bnds != \"all\", lon_bnds)\n",
      "/home/prodhommec/analyseMF/scripts-final-MF/previ-sais/function_read.py:28: FutureWarning: elementwise comparison failed; returning scalar instead, but in the future will perform elementwise comparison\n",
      "  if lon_bnds != \"all\":\n"
     ]
    },
    {
     "name": "stdout",
     "output_type": "stream",
     "text": [
      "all\n",
      "True [-180  179]\n",
      "3\n",
      "(6, 180, 360)\n"
     ]
    },
    {
     "name": "stderr",
     "output_type": "stream",
     "text": [
      "/home/prodhommec/analyseMF/scripts-final-MF/previ-sais/function_read.py:27: FutureWarning: elementwise comparison failed; returning scalar instead, but in the future will perform elementwise comparison\n",
      "  print(lon_bnds != \"all\", lon_bnds)\n",
      "/home/prodhommec/analyseMF/scripts-final-MF/previ-sais/function_read.py:28: FutureWarning: elementwise comparison failed; returning scalar instead, but in the future will perform elementwise comparison\n",
      "  if lon_bnds != \"all\":\n"
     ]
    },
    {
     "name": "stdout",
     "output_type": "stream",
     "text": [
      "all\n",
      "True [-180  179]\n",
      "3\n",
      "(6, 180, 360)\n"
     ]
    },
    {
     "name": "stderr",
     "output_type": "stream",
     "text": [
      "/home/prodhommec/analyseMF/scripts-final-MF/previ-sais/function_read.py:27: FutureWarning: elementwise comparison failed; returning scalar instead, but in the future will perform elementwise comparison\n",
      "  print(lon_bnds != \"all\", lon_bnds)\n",
      "/home/prodhommec/analyseMF/scripts-final-MF/previ-sais/function_read.py:28: FutureWarning: elementwise comparison failed; returning scalar instead, but in the future will perform elementwise comparison\n",
      "  if lon_bnds != \"all\":\n"
     ]
    },
    {
     "name": "stdout",
     "output_type": "stream",
     "text": [
      "all\n",
      "True [-180  179]\n",
      "3\n",
      "(6, 180, 360)\n"
     ]
    },
    {
     "name": "stderr",
     "output_type": "stream",
     "text": [
      "/home/prodhommec/analyseMF/scripts-final-MF/previ-sais/function_read.py:27: FutureWarning: elementwise comparison failed; returning scalar instead, but in the future will perform elementwise comparison\n",
      "  print(lon_bnds != \"all\", lon_bnds)\n",
      "/home/prodhommec/analyseMF/scripts-final-MF/previ-sais/function_read.py:28: FutureWarning: elementwise comparison failed; returning scalar instead, but in the future will perform elementwise comparison\n",
      "  if lon_bnds != \"all\":\n"
     ]
    },
    {
     "name": "stdout",
     "output_type": "stream",
     "text": [
      "all\n",
      "True [-180  179]\n",
      "3\n",
      "(6, 180, 360)\n"
     ]
    },
    {
     "name": "stderr",
     "output_type": "stream",
     "text": [
      "/home/prodhommec/analyseMF/scripts-final-MF/previ-sais/function_read.py:27: FutureWarning: elementwise comparison failed; returning scalar instead, but in the future will perform elementwise comparison\n",
      "  print(lon_bnds != \"all\", lon_bnds)\n",
      "/home/prodhommec/analyseMF/scripts-final-MF/previ-sais/function_read.py:28: FutureWarning: elementwise comparison failed; returning scalar instead, but in the future will perform elementwise comparison\n",
      "  if lon_bnds != \"all\":\n"
     ]
    },
    {
     "name": "stdout",
     "output_type": "stream",
     "text": [
      "all\n",
      "True [-180  179]\n",
      "3\n",
      "(6, 180, 360)\n",
      "(17, 6, 180, 360)\n"
     ]
    },
    {
     "name": "stderr",
     "output_type": "stream",
     "text": [
      "/home/prodhommec/analyseMF/scripts-final-MF/previ-sais/function_read.py:27: FutureWarning: elementwise comparison failed; returning scalar instead, but in the future will perform elementwise comparison\n",
      "  print(lon_bnds != \"all\", lon_bnds)\n",
      "/home/prodhommec/analyseMF/scripts-final-MF/previ-sais/function_read.py:28: FutureWarning: elementwise comparison failed; returning scalar instead, but in the future will perform elementwise comparison\n",
      "  if lon_bnds != \"all\":\n"
     ]
    },
    {
     "name": "stdout",
     "output_type": "stream",
     "text": [
      "all\n",
      "True [-180  179]\n",
      "3\n",
      "(6, 180, 360)\n"
     ]
    },
    {
     "name": "stderr",
     "output_type": "stream",
     "text": [
      "/home/prodhommec/analyseMF/scripts-final-MF/previ-sais/function_read.py:27: FutureWarning: elementwise comparison failed; returning scalar instead, but in the future will perform elementwise comparison\n",
      "  print(lon_bnds != \"all\", lon_bnds)\n",
      "/home/prodhommec/analyseMF/scripts-final-MF/previ-sais/function_read.py:28: FutureWarning: elementwise comparison failed; returning scalar instead, but in the future will perform elementwise comparison\n",
      "  if lon_bnds != \"all\":\n"
     ]
    },
    {
     "name": "stdout",
     "output_type": "stream",
     "text": [
      "all\n",
      "True [-180  179]\n",
      "3\n",
      "(6, 180, 360)\n"
     ]
    },
    {
     "name": "stderr",
     "output_type": "stream",
     "text": [
      "/home/prodhommec/analyseMF/scripts-final-MF/previ-sais/function_read.py:27: FutureWarning: elementwise comparison failed; returning scalar instead, but in the future will perform elementwise comparison\n",
      "  print(lon_bnds != \"all\", lon_bnds)\n",
      "/home/prodhommec/analyseMF/scripts-final-MF/previ-sais/function_read.py:28: FutureWarning: elementwise comparison failed; returning scalar instead, but in the future will perform elementwise comparison\n",
      "  if lon_bnds != \"all\":\n"
     ]
    },
    {
     "name": "stdout",
     "output_type": "stream",
     "text": [
      "all\n",
      "True [-180  179]\n",
      "3\n",
      "(6, 180, 360)\n"
     ]
    },
    {
     "name": "stderr",
     "output_type": "stream",
     "text": [
      "/home/prodhommec/analyseMF/scripts-final-MF/previ-sais/function_read.py:27: FutureWarning: elementwise comparison failed; returning scalar instead, but in the future will perform elementwise comparison\n",
      "  print(lon_bnds != \"all\", lon_bnds)\n",
      "/home/prodhommec/analyseMF/scripts-final-MF/previ-sais/function_read.py:28: FutureWarning: elementwise comparison failed; returning scalar instead, but in the future will perform elementwise comparison\n",
      "  if lon_bnds != \"all\":\n"
     ]
    },
    {
     "name": "stdout",
     "output_type": "stream",
     "text": [
      "all\n",
      "True [-180  179]\n",
      "3\n",
      "(6, 180, 360)\n"
     ]
    },
    {
     "name": "stderr",
     "output_type": "stream",
     "text": [
      "/home/prodhommec/analyseMF/scripts-final-MF/previ-sais/function_read.py:27: FutureWarning: elementwise comparison failed; returning scalar instead, but in the future will perform elementwise comparison\n",
      "  print(lon_bnds != \"all\", lon_bnds)\n",
      "/home/prodhommec/analyseMF/scripts-final-MF/previ-sais/function_read.py:28: FutureWarning: elementwise comparison failed; returning scalar instead, but in the future will perform elementwise comparison\n",
      "  if lon_bnds != \"all\":\n"
     ]
    },
    {
     "name": "stdout",
     "output_type": "stream",
     "text": [
      "all\n",
      "True [-180  179]\n",
      "3\n",
      "(6, 180, 360)\n"
     ]
    },
    {
     "name": "stderr",
     "output_type": "stream",
     "text": [
      "/home/prodhommec/analyseMF/scripts-final-MF/previ-sais/function_read.py:27: FutureWarning: elementwise comparison failed; returning scalar instead, but in the future will perform elementwise comparison\n",
      "  print(lon_bnds != \"all\", lon_bnds)\n",
      "/home/prodhommec/analyseMF/scripts-final-MF/previ-sais/function_read.py:28: FutureWarning: elementwise comparison failed; returning scalar instead, but in the future will perform elementwise comparison\n",
      "  if lon_bnds != \"all\":\n"
     ]
    },
    {
     "name": "stdout",
     "output_type": "stream",
     "text": [
      "all\n",
      "True [-180  179]\n",
      "3\n",
      "(6, 180, 360)\n"
     ]
    },
    {
     "name": "stderr",
     "output_type": "stream",
     "text": [
      "/home/prodhommec/analyseMF/scripts-final-MF/previ-sais/function_read.py:27: FutureWarning: elementwise comparison failed; returning scalar instead, but in the future will perform elementwise comparison\n",
      "  print(lon_bnds != \"all\", lon_bnds)\n",
      "/home/prodhommec/analyseMF/scripts-final-MF/previ-sais/function_read.py:28: FutureWarning: elementwise comparison failed; returning scalar instead, but in the future will perform elementwise comparison\n",
      "  if lon_bnds != \"all\":\n"
     ]
    },
    {
     "name": "stdout",
     "output_type": "stream",
     "text": [
      "all\n",
      "True [-180  179]\n",
      "3\n",
      "(6, 180, 360)\n"
     ]
    },
    {
     "name": "stderr",
     "output_type": "stream",
     "text": [
      "/home/prodhommec/analyseMF/scripts-final-MF/previ-sais/function_read.py:27: FutureWarning: elementwise comparison failed; returning scalar instead, but in the future will perform elementwise comparison\n",
      "  print(lon_bnds != \"all\", lon_bnds)\n",
      "/home/prodhommec/analyseMF/scripts-final-MF/previ-sais/function_read.py:28: FutureWarning: elementwise comparison failed; returning scalar instead, but in the future will perform elementwise comparison\n",
      "  if lon_bnds != \"all\":\n"
     ]
    },
    {
     "name": "stdout",
     "output_type": "stream",
     "text": [
      "all\n",
      "True [-180  179]\n",
      "3\n",
      "(6, 180, 360)\n"
     ]
    },
    {
     "name": "stderr",
     "output_type": "stream",
     "text": [
      "/home/prodhommec/analyseMF/scripts-final-MF/previ-sais/function_read.py:27: FutureWarning: elementwise comparison failed; returning scalar instead, but in the future will perform elementwise comparison\n",
      "  print(lon_bnds != \"all\", lon_bnds)\n",
      "/home/prodhommec/analyseMF/scripts-final-MF/previ-sais/function_read.py:28: FutureWarning: elementwise comparison failed; returning scalar instead, but in the future will perform elementwise comparison\n",
      "  if lon_bnds != \"all\":\n"
     ]
    },
    {
     "name": "stdout",
     "output_type": "stream",
     "text": [
      "all\n",
      "True [-180  179]\n",
      "3\n",
      "(6, 180, 360)\n"
     ]
    },
    {
     "name": "stderr",
     "output_type": "stream",
     "text": [
      "/home/prodhommec/analyseMF/scripts-final-MF/previ-sais/function_read.py:27: FutureWarning: elementwise comparison failed; returning scalar instead, but in the future will perform elementwise comparison\n",
      "  print(lon_bnds != \"all\", lon_bnds)\n",
      "/home/prodhommec/analyseMF/scripts-final-MF/previ-sais/function_read.py:28: FutureWarning: elementwise comparison failed; returning scalar instead, but in the future will perform elementwise comparison\n",
      "  if lon_bnds != \"all\":\n"
     ]
    },
    {
     "name": "stdout",
     "output_type": "stream",
     "text": [
      "all\n",
      "True [-180  179]\n",
      "3\n",
      "(6, 180, 360)\n"
     ]
    },
    {
     "name": "stderr",
     "output_type": "stream",
     "text": [
      "/home/prodhommec/analyseMF/scripts-final-MF/previ-sais/function_read.py:27: FutureWarning: elementwise comparison failed; returning scalar instead, but in the future will perform elementwise comparison\n",
      "  print(lon_bnds != \"all\", lon_bnds)\n",
      "/home/prodhommec/analyseMF/scripts-final-MF/previ-sais/function_read.py:28: FutureWarning: elementwise comparison failed; returning scalar instead, but in the future will perform elementwise comparison\n",
      "  if lon_bnds != \"all\":\n"
     ]
    },
    {
     "name": "stdout",
     "output_type": "stream",
     "text": [
      "all\n",
      "True [-180  179]\n",
      "3\n",
      "(6, 180, 360)\n"
     ]
    },
    {
     "name": "stderr",
     "output_type": "stream",
     "text": [
      "/home/prodhommec/analyseMF/scripts-final-MF/previ-sais/function_read.py:27: FutureWarning: elementwise comparison failed; returning scalar instead, but in the future will perform elementwise comparison\n",
      "  print(lon_bnds != \"all\", lon_bnds)\n",
      "/home/prodhommec/analyseMF/scripts-final-MF/previ-sais/function_read.py:28: FutureWarning: elementwise comparison failed; returning scalar instead, but in the future will perform elementwise comparison\n",
      "  if lon_bnds != \"all\":\n"
     ]
    },
    {
     "name": "stdout",
     "output_type": "stream",
     "text": [
      "all\n",
      "True [-180  179]\n",
      "3\n",
      "(6, 180, 360)\n"
     ]
    },
    {
     "name": "stderr",
     "output_type": "stream",
     "text": [
      "/home/prodhommec/analyseMF/scripts-final-MF/previ-sais/function_read.py:27: FutureWarning: elementwise comparison failed; returning scalar instead, but in the future will perform elementwise comparison\n",
      "  print(lon_bnds != \"all\", lon_bnds)\n",
      "/home/prodhommec/analyseMF/scripts-final-MF/previ-sais/function_read.py:28: FutureWarning: elementwise comparison failed; returning scalar instead, but in the future will perform elementwise comparison\n",
      "  if lon_bnds != \"all\":\n"
     ]
    },
    {
     "name": "stdout",
     "output_type": "stream",
     "text": [
      "all\n",
      "True [-180  179]\n",
      "3\n",
      "(6, 180, 360)\n"
     ]
    },
    {
     "name": "stderr",
     "output_type": "stream",
     "text": [
      "/home/prodhommec/analyseMF/scripts-final-MF/previ-sais/function_read.py:27: FutureWarning: elementwise comparison failed; returning scalar instead, but in the future will perform elementwise comparison\n",
      "  print(lon_bnds != \"all\", lon_bnds)\n",
      "/home/prodhommec/analyseMF/scripts-final-MF/previ-sais/function_read.py:28: FutureWarning: elementwise comparison failed; returning scalar instead, but in the future will perform elementwise comparison\n",
      "  if lon_bnds != \"all\":\n"
     ]
    },
    {
     "name": "stdout",
     "output_type": "stream",
     "text": [
      "all\n",
      "True [-180  179]\n",
      "3\n",
      "(6, 180, 360)\n"
     ]
    },
    {
     "name": "stderr",
     "output_type": "stream",
     "text": [
      "/home/prodhommec/analyseMF/scripts-final-MF/previ-sais/function_read.py:27: FutureWarning: elementwise comparison failed; returning scalar instead, but in the future will perform elementwise comparison\n",
      "  print(lon_bnds != \"all\", lon_bnds)\n",
      "/home/prodhommec/analyseMF/scripts-final-MF/previ-sais/function_read.py:28: FutureWarning: elementwise comparison failed; returning scalar instead, but in the future will perform elementwise comparison\n",
      "  if lon_bnds != \"all\":\n"
     ]
    },
    {
     "name": "stdout",
     "output_type": "stream",
     "text": [
      "all\n",
      "True [-180  179]\n",
      "3\n",
      "(6, 180, 360)\n"
     ]
    },
    {
     "name": "stderr",
     "output_type": "stream",
     "text": [
      "/home/prodhommec/analyseMF/scripts-final-MF/previ-sais/function_read.py:27: FutureWarning: elementwise comparison failed; returning scalar instead, but in the future will perform elementwise comparison\n",
      "  print(lon_bnds != \"all\", lon_bnds)\n",
      "/home/prodhommec/analyseMF/scripts-final-MF/previ-sais/function_read.py:28: FutureWarning: elementwise comparison failed; returning scalar instead, but in the future will perform elementwise comparison\n",
      "  if lon_bnds != \"all\":\n"
     ]
    },
    {
     "name": "stdout",
     "output_type": "stream",
     "text": [
      "all\n",
      "True [-180  179]\n",
      "3\n",
      "(6, 180, 360)\n"
     ]
    },
    {
     "name": "stderr",
     "output_type": "stream",
     "text": [
      "/home/prodhommec/analyseMF/scripts-final-MF/previ-sais/function_read.py:27: FutureWarning: elementwise comparison failed; returning scalar instead, but in the future will perform elementwise comparison\n",
      "  print(lon_bnds != \"all\", lon_bnds)\n",
      "/home/prodhommec/analyseMF/scripts-final-MF/previ-sais/function_read.py:28: FutureWarning: elementwise comparison failed; returning scalar instead, but in the future will perform elementwise comparison\n",
      "  if lon_bnds != \"all\":\n"
     ]
    },
    {
     "name": "stdout",
     "output_type": "stream",
     "text": [
      "all\n",
      "True [-180  179]\n",
      "3\n",
      "(6, 180, 360)\n",
      "(17, 6, 180, 360)\n"
     ]
    },
    {
     "name": "stderr",
     "output_type": "stream",
     "text": [
      "/home/prodhommec/analyseMF/scripts-final-MF/previ-sais/function_read.py:27: FutureWarning: elementwise comparison failed; returning scalar instead, but in the future will perform elementwise comparison\n",
      "  print(lon_bnds != \"all\", lon_bnds)\n",
      "/home/prodhommec/analyseMF/scripts-final-MF/previ-sais/function_read.py:28: FutureWarning: elementwise comparison failed; returning scalar instead, but in the future will perform elementwise comparison\n",
      "  if lon_bnds != \"all\":\n"
     ]
    },
    {
     "name": "stdout",
     "output_type": "stream",
     "text": [
      "all\n",
      "True [-180  179]\n",
      "3\n",
      "(6, 180, 360)\n",
      "[]\n"
     ]
    },
    {
     "name": "stderr",
     "output_type": "stream",
     "text": [
      "/home/prodhommec/analyseMF/scripts-final-MF/previ-sais/function_read.py:27: FutureWarning: elementwise comparison failed; returning scalar instead, but in the future will perform elementwise comparison\n",
      "  print(lon_bnds != \"all\", lon_bnds)\n",
      "/home/prodhommec/analyseMF/scripts-final-MF/previ-sais/function_read.py:28: FutureWarning: elementwise comparison failed; returning scalar instead, but in the future will perform elementwise comparison\n",
      "  if lon_bnds != \"all\":\n"
     ]
    },
    {
     "name": "stdout",
     "output_type": "stream",
     "text": [
      "all\n",
      "True [-180  179]\n",
      "3\n",
      "(6, 180, 360)\n"
     ]
    },
    {
     "name": "stderr",
     "output_type": "stream",
     "text": [
      "/home/prodhommec/analyseMF/scripts-final-MF/previ-sais/function_read.py:27: FutureWarning: elementwise comparison failed; returning scalar instead, but in the future will perform elementwise comparison\n",
      "  print(lon_bnds != \"all\", lon_bnds)\n",
      "/home/prodhommec/analyseMF/scripts-final-MF/previ-sais/function_read.py:28: FutureWarning: elementwise comparison failed; returning scalar instead, but in the future will perform elementwise comparison\n",
      "  if lon_bnds != \"all\":\n"
     ]
    },
    {
     "name": "stdout",
     "output_type": "stream",
     "text": [
      "all\n",
      "True [-180  179]\n",
      "3\n",
      "(6, 180, 360)\n"
     ]
    },
    {
     "name": "stderr",
     "output_type": "stream",
     "text": [
      "/home/prodhommec/analyseMF/scripts-final-MF/previ-sais/function_read.py:27: FutureWarning: elementwise comparison failed; returning scalar instead, but in the future will perform elementwise comparison\n",
      "  print(lon_bnds != \"all\", lon_bnds)\n",
      "/home/prodhommec/analyseMF/scripts-final-MF/previ-sais/function_read.py:28: FutureWarning: elementwise comparison failed; returning scalar instead, but in the future will perform elementwise comparison\n",
      "  if lon_bnds != \"all\":\n"
     ]
    },
    {
     "name": "stdout",
     "output_type": "stream",
     "text": [
      "all\n",
      "True [-180  179]\n",
      "3\n",
      "(6, 180, 360)\n"
     ]
    },
    {
     "name": "stderr",
     "output_type": "stream",
     "text": [
      "/home/prodhommec/analyseMF/scripts-final-MF/previ-sais/function_read.py:27: FutureWarning: elementwise comparison failed; returning scalar instead, but in the future will perform elementwise comparison\n",
      "  print(lon_bnds != \"all\", lon_bnds)\n",
      "/home/prodhommec/analyseMF/scripts-final-MF/previ-sais/function_read.py:28: FutureWarning: elementwise comparison failed; returning scalar instead, but in the future will perform elementwise comparison\n",
      "  if lon_bnds != \"all\":\n"
     ]
    },
    {
     "name": "stdout",
     "output_type": "stream",
     "text": [
      "all\n",
      "True [-180  179]\n",
      "3\n",
      "(6, 180, 360)\n"
     ]
    },
    {
     "name": "stderr",
     "output_type": "stream",
     "text": [
      "/home/prodhommec/analyseMF/scripts-final-MF/previ-sais/function_read.py:27: FutureWarning: elementwise comparison failed; returning scalar instead, but in the future will perform elementwise comparison\n",
      "  print(lon_bnds != \"all\", lon_bnds)\n",
      "/home/prodhommec/analyseMF/scripts-final-MF/previ-sais/function_read.py:28: FutureWarning: elementwise comparison failed; returning scalar instead, but in the future will perform elementwise comparison\n",
      "  if lon_bnds != \"all\":\n"
     ]
    },
    {
     "name": "stdout",
     "output_type": "stream",
     "text": [
      "all\n",
      "True [-180  179]\n",
      "3\n",
      "(6, 180, 360)\n"
     ]
    },
    {
     "name": "stderr",
     "output_type": "stream",
     "text": [
      "/home/prodhommec/analyseMF/scripts-final-MF/previ-sais/function_read.py:27: FutureWarning: elementwise comparison failed; returning scalar instead, but in the future will perform elementwise comparison\n",
      "  print(lon_bnds != \"all\", lon_bnds)\n",
      "/home/prodhommec/analyseMF/scripts-final-MF/previ-sais/function_read.py:28: FutureWarning: elementwise comparison failed; returning scalar instead, but in the future will perform elementwise comparison\n",
      "  if lon_bnds != \"all\":\n"
     ]
    },
    {
     "name": "stdout",
     "output_type": "stream",
     "text": [
      "all\n",
      "True [-180  179]\n",
      "3\n",
      "(6, 180, 360)\n"
     ]
    },
    {
     "name": "stderr",
     "output_type": "stream",
     "text": [
      "/home/prodhommec/analyseMF/scripts-final-MF/previ-sais/function_read.py:27: FutureWarning: elementwise comparison failed; returning scalar instead, but in the future will perform elementwise comparison\n",
      "  print(lon_bnds != \"all\", lon_bnds)\n",
      "/home/prodhommec/analyseMF/scripts-final-MF/previ-sais/function_read.py:28: FutureWarning: elementwise comparison failed; returning scalar instead, but in the future will perform elementwise comparison\n",
      "  if lon_bnds != \"all\":\n"
     ]
    },
    {
     "name": "stdout",
     "output_type": "stream",
     "text": [
      "all\n",
      "True [-180  179]\n",
      "3\n",
      "(6, 180, 360)\n"
     ]
    },
    {
     "name": "stderr",
     "output_type": "stream",
     "text": [
      "/home/prodhommec/analyseMF/scripts-final-MF/previ-sais/function_read.py:27: FutureWarning: elementwise comparison failed; returning scalar instead, but in the future will perform elementwise comparison\n",
      "  print(lon_bnds != \"all\", lon_bnds)\n",
      "/home/prodhommec/analyseMF/scripts-final-MF/previ-sais/function_read.py:28: FutureWarning: elementwise comparison failed; returning scalar instead, but in the future will perform elementwise comparison\n",
      "  if lon_bnds != \"all\":\n"
     ]
    },
    {
     "name": "stdout",
     "output_type": "stream",
     "text": [
      "all\n",
      "True [-180  179]\n",
      "3\n",
      "(6, 180, 360)\n"
     ]
    },
    {
     "name": "stderr",
     "output_type": "stream",
     "text": [
      "/home/prodhommec/analyseMF/scripts-final-MF/previ-sais/function_read.py:27: FutureWarning: elementwise comparison failed; returning scalar instead, but in the future will perform elementwise comparison\n",
      "  print(lon_bnds != \"all\", lon_bnds)\n",
      "/home/prodhommec/analyseMF/scripts-final-MF/previ-sais/function_read.py:28: FutureWarning: elementwise comparison failed; returning scalar instead, but in the future will perform elementwise comparison\n",
      "  if lon_bnds != \"all\":\n"
     ]
    },
    {
     "name": "stdout",
     "output_type": "stream",
     "text": [
      "all\n",
      "True [-180  179]\n",
      "3\n",
      "(6, 180, 360)\n"
     ]
    },
    {
     "name": "stderr",
     "output_type": "stream",
     "text": [
      "/home/prodhommec/analyseMF/scripts-final-MF/previ-sais/function_read.py:27: FutureWarning: elementwise comparison failed; returning scalar instead, but in the future will perform elementwise comparison\n",
      "  print(lon_bnds != \"all\", lon_bnds)\n",
      "/home/prodhommec/analyseMF/scripts-final-MF/previ-sais/function_read.py:28: FutureWarning: elementwise comparison failed; returning scalar instead, but in the future will perform elementwise comparison\n",
      "  if lon_bnds != \"all\":\n"
     ]
    },
    {
     "name": "stdout",
     "output_type": "stream",
     "text": [
      "all\n",
      "True [-180  179]\n",
      "3\n",
      "(6, 180, 360)\n"
     ]
    },
    {
     "name": "stderr",
     "output_type": "stream",
     "text": [
      "/home/prodhommec/analyseMF/scripts-final-MF/previ-sais/function_read.py:27: FutureWarning: elementwise comparison failed; returning scalar instead, but in the future will perform elementwise comparison\n",
      "  print(lon_bnds != \"all\", lon_bnds)\n",
      "/home/prodhommec/analyseMF/scripts-final-MF/previ-sais/function_read.py:28: FutureWarning: elementwise comparison failed; returning scalar instead, but in the future will perform elementwise comparison\n",
      "  if lon_bnds != \"all\":\n"
     ]
    },
    {
     "name": "stdout",
     "output_type": "stream",
     "text": [
      "all\n",
      "True [-180  179]\n",
      "3\n",
      "(6, 180, 360)\n"
     ]
    },
    {
     "name": "stderr",
     "output_type": "stream",
     "text": [
      "/home/prodhommec/analyseMF/scripts-final-MF/previ-sais/function_read.py:27: FutureWarning: elementwise comparison failed; returning scalar instead, but in the future will perform elementwise comparison\n",
      "  print(lon_bnds != \"all\", lon_bnds)\n",
      "/home/prodhommec/analyseMF/scripts-final-MF/previ-sais/function_read.py:28: FutureWarning: elementwise comparison failed; returning scalar instead, but in the future will perform elementwise comparison\n",
      "  if lon_bnds != \"all\":\n"
     ]
    },
    {
     "name": "stdout",
     "output_type": "stream",
     "text": [
      "all\n",
      "True [-180  179]\n",
      "3\n",
      "(6, 180, 360)\n"
     ]
    },
    {
     "name": "stderr",
     "output_type": "stream",
     "text": [
      "/home/prodhommec/analyseMF/scripts-final-MF/previ-sais/function_read.py:27: FutureWarning: elementwise comparison failed; returning scalar instead, but in the future will perform elementwise comparison\n",
      "  print(lon_bnds != \"all\", lon_bnds)\n",
      "/home/prodhommec/analyseMF/scripts-final-MF/previ-sais/function_read.py:28: FutureWarning: elementwise comparison failed; returning scalar instead, but in the future will perform elementwise comparison\n",
      "  if lon_bnds != \"all\":\n"
     ]
    },
    {
     "name": "stdout",
     "output_type": "stream",
     "text": [
      "all\n",
      "True [-180  179]\n",
      "3\n",
      "(6, 180, 360)\n"
     ]
    },
    {
     "name": "stderr",
     "output_type": "stream",
     "text": [
      "/home/prodhommec/analyseMF/scripts-final-MF/previ-sais/function_read.py:27: FutureWarning: elementwise comparison failed; returning scalar instead, but in the future will perform elementwise comparison\n",
      "  print(lon_bnds != \"all\", lon_bnds)\n",
      "/home/prodhommec/analyseMF/scripts-final-MF/previ-sais/function_read.py:28: FutureWarning: elementwise comparison failed; returning scalar instead, but in the future will perform elementwise comparison\n",
      "  if lon_bnds != \"all\":\n"
     ]
    },
    {
     "name": "stdout",
     "output_type": "stream",
     "text": [
      "all\n",
      "True [-180  179]\n",
      "3\n",
      "(6, 180, 360)\n"
     ]
    },
    {
     "name": "stderr",
     "output_type": "stream",
     "text": [
      "/home/prodhommec/analyseMF/scripts-final-MF/previ-sais/function_read.py:27: FutureWarning: elementwise comparison failed; returning scalar instead, but in the future will perform elementwise comparison\n",
      "  print(lon_bnds != \"all\", lon_bnds)\n",
      "/home/prodhommec/analyseMF/scripts-final-MF/previ-sais/function_read.py:28: FutureWarning: elementwise comparison failed; returning scalar instead, but in the future will perform elementwise comparison\n",
      "  if lon_bnds != \"all\":\n"
     ]
    },
    {
     "name": "stdout",
     "output_type": "stream",
     "text": [
      "all\n",
      "True [-180  179]\n",
      "3\n",
      "(6, 180, 360)\n"
     ]
    },
    {
     "name": "stderr",
     "output_type": "stream",
     "text": [
      "/home/prodhommec/analyseMF/scripts-final-MF/previ-sais/function_read.py:27: FutureWarning: elementwise comparison failed; returning scalar instead, but in the future will perform elementwise comparison\n",
      "  print(lon_bnds != \"all\", lon_bnds)\n",
      "/home/prodhommec/analyseMF/scripts-final-MF/previ-sais/function_read.py:28: FutureWarning: elementwise comparison failed; returning scalar instead, but in the future will perform elementwise comparison\n",
      "  if lon_bnds != \"all\":\n"
     ]
    },
    {
     "name": "stdout",
     "output_type": "stream",
     "text": [
      "all\n",
      "True [-180  179]\n",
      "3\n",
      "(6, 180, 360)\n",
      "(17, 6, 180, 360)\n"
     ]
    },
    {
     "name": "stderr",
     "output_type": "stream",
     "text": [
      "/home/prodhommec/analyseMF/scripts-final-MF/previ-sais/function_read.py:27: FutureWarning: elementwise comparison failed; returning scalar instead, but in the future will perform elementwise comparison\n",
      "  print(lon_bnds != \"all\", lon_bnds)\n",
      "/home/prodhommec/analyseMF/scripts-final-MF/previ-sais/function_read.py:28: FutureWarning: elementwise comparison failed; returning scalar instead, but in the future will perform elementwise comparison\n",
      "  if lon_bnds != \"all\":\n"
     ]
    },
    {
     "name": "stdout",
     "output_type": "stream",
     "text": [
      "all\n",
      "True [-180  179]\n",
      "3\n",
      "(6, 180, 360)\n"
     ]
    },
    {
     "name": "stderr",
     "output_type": "stream",
     "text": [
      "/home/prodhommec/analyseMF/scripts-final-MF/previ-sais/function_read.py:27: FutureWarning: elementwise comparison failed; returning scalar instead, but in the future will perform elementwise comparison\n",
      "  print(lon_bnds != \"all\", lon_bnds)\n",
      "/home/prodhommec/analyseMF/scripts-final-MF/previ-sais/function_read.py:28: FutureWarning: elementwise comparison failed; returning scalar instead, but in the future will perform elementwise comparison\n",
      "  if lon_bnds != \"all\":\n"
     ]
    },
    {
     "name": "stdout",
     "output_type": "stream",
     "text": [
      "all\n",
      "True [-180  179]\n",
      "3\n",
      "(6, 180, 360)\n"
     ]
    },
    {
     "name": "stderr",
     "output_type": "stream",
     "text": [
      "/home/prodhommec/analyseMF/scripts-final-MF/previ-sais/function_read.py:27: FutureWarning: elementwise comparison failed; returning scalar instead, but in the future will perform elementwise comparison\n",
      "  print(lon_bnds != \"all\", lon_bnds)\n",
      "/home/prodhommec/analyseMF/scripts-final-MF/previ-sais/function_read.py:28: FutureWarning: elementwise comparison failed; returning scalar instead, but in the future will perform elementwise comparison\n",
      "  if lon_bnds != \"all\":\n"
     ]
    },
    {
     "name": "stdout",
     "output_type": "stream",
     "text": [
      "all\n",
      "True [-180  179]\n",
      "3\n",
      "(6, 180, 360)\n"
     ]
    },
    {
     "name": "stderr",
     "output_type": "stream",
     "text": [
      "/home/prodhommec/analyseMF/scripts-final-MF/previ-sais/function_read.py:27: FutureWarning: elementwise comparison failed; returning scalar instead, but in the future will perform elementwise comparison\n",
      "  print(lon_bnds != \"all\", lon_bnds)\n",
      "/home/prodhommec/analyseMF/scripts-final-MF/previ-sais/function_read.py:28: FutureWarning: elementwise comparison failed; returning scalar instead, but in the future will perform elementwise comparison\n",
      "  if lon_bnds != \"all\":\n"
     ]
    },
    {
     "name": "stdout",
     "output_type": "stream",
     "text": [
      "all\n",
      "True [-180  179]\n",
      "3\n",
      "(6, 180, 360)\n"
     ]
    },
    {
     "name": "stderr",
     "output_type": "stream",
     "text": [
      "/home/prodhommec/analyseMF/scripts-final-MF/previ-sais/function_read.py:27: FutureWarning: elementwise comparison failed; returning scalar instead, but in the future will perform elementwise comparison\n",
      "  print(lon_bnds != \"all\", lon_bnds)\n",
      "/home/prodhommec/analyseMF/scripts-final-MF/previ-sais/function_read.py:28: FutureWarning: elementwise comparison failed; returning scalar instead, but in the future will perform elementwise comparison\n",
      "  if lon_bnds != \"all\":\n"
     ]
    },
    {
     "name": "stdout",
     "output_type": "stream",
     "text": [
      "all\n",
      "True [-180  179]\n",
      "3\n",
      "(6, 180, 360)\n"
     ]
    },
    {
     "name": "stderr",
     "output_type": "stream",
     "text": [
      "/home/prodhommec/analyseMF/scripts-final-MF/previ-sais/function_read.py:27: FutureWarning: elementwise comparison failed; returning scalar instead, but in the future will perform elementwise comparison\n",
      "  print(lon_bnds != \"all\", lon_bnds)\n",
      "/home/prodhommec/analyseMF/scripts-final-MF/previ-sais/function_read.py:28: FutureWarning: elementwise comparison failed; returning scalar instead, but in the future will perform elementwise comparison\n",
      "  if lon_bnds != \"all\":\n"
     ]
    },
    {
     "name": "stdout",
     "output_type": "stream",
     "text": [
      "all\n",
      "True [-180  179]\n",
      "3\n",
      "(6, 180, 360)\n"
     ]
    },
    {
     "name": "stderr",
     "output_type": "stream",
     "text": [
      "/home/prodhommec/analyseMF/scripts-final-MF/previ-sais/function_read.py:27: FutureWarning: elementwise comparison failed; returning scalar instead, but in the future will perform elementwise comparison\n",
      "  print(lon_bnds != \"all\", lon_bnds)\n",
      "/home/prodhommec/analyseMF/scripts-final-MF/previ-sais/function_read.py:28: FutureWarning: elementwise comparison failed; returning scalar instead, but in the future will perform elementwise comparison\n",
      "  if lon_bnds != \"all\":\n"
     ]
    },
    {
     "name": "stdout",
     "output_type": "stream",
     "text": [
      "all\n",
      "True [-180  179]\n",
      "3\n",
      "(6, 180, 360)\n"
     ]
    },
    {
     "name": "stderr",
     "output_type": "stream",
     "text": [
      "/home/prodhommec/analyseMF/scripts-final-MF/previ-sais/function_read.py:27: FutureWarning: elementwise comparison failed; returning scalar instead, but in the future will perform elementwise comparison\n",
      "  print(lon_bnds != \"all\", lon_bnds)\n",
      "/home/prodhommec/analyseMF/scripts-final-MF/previ-sais/function_read.py:28: FutureWarning: elementwise comparison failed; returning scalar instead, but in the future will perform elementwise comparison\n",
      "  if lon_bnds != \"all\":\n"
     ]
    },
    {
     "name": "stdout",
     "output_type": "stream",
     "text": [
      "all\n",
      "True [-180  179]\n",
      "3\n",
      "(6, 180, 360)\n"
     ]
    },
    {
     "name": "stderr",
     "output_type": "stream",
     "text": [
      "/home/prodhommec/analyseMF/scripts-final-MF/previ-sais/function_read.py:27: FutureWarning: elementwise comparison failed; returning scalar instead, but in the future will perform elementwise comparison\n",
      "  print(lon_bnds != \"all\", lon_bnds)\n",
      "/home/prodhommec/analyseMF/scripts-final-MF/previ-sais/function_read.py:28: FutureWarning: elementwise comparison failed; returning scalar instead, but in the future will perform elementwise comparison\n",
      "  if lon_bnds != \"all\":\n"
     ]
    },
    {
     "name": "stdout",
     "output_type": "stream",
     "text": [
      "all\n",
      "True [-180  179]\n",
      "3\n",
      "(6, 180, 360)\n"
     ]
    },
    {
     "name": "stderr",
     "output_type": "stream",
     "text": [
      "/home/prodhommec/analyseMF/scripts-final-MF/previ-sais/function_read.py:27: FutureWarning: elementwise comparison failed; returning scalar instead, but in the future will perform elementwise comparison\n",
      "  print(lon_bnds != \"all\", lon_bnds)\n",
      "/home/prodhommec/analyseMF/scripts-final-MF/previ-sais/function_read.py:28: FutureWarning: elementwise comparison failed; returning scalar instead, but in the future will perform elementwise comparison\n",
      "  if lon_bnds != \"all\":\n"
     ]
    },
    {
     "name": "stdout",
     "output_type": "stream",
     "text": [
      "all\n",
      "True [-180  179]\n",
      "3\n",
      "(6, 180, 360)\n"
     ]
    },
    {
     "name": "stderr",
     "output_type": "stream",
     "text": [
      "/home/prodhommec/analyseMF/scripts-final-MF/previ-sais/function_read.py:27: FutureWarning: elementwise comparison failed; returning scalar instead, but in the future will perform elementwise comparison\n",
      "  print(lon_bnds != \"all\", lon_bnds)\n",
      "/home/prodhommec/analyseMF/scripts-final-MF/previ-sais/function_read.py:28: FutureWarning: elementwise comparison failed; returning scalar instead, but in the future will perform elementwise comparison\n",
      "  if lon_bnds != \"all\":\n"
     ]
    },
    {
     "name": "stdout",
     "output_type": "stream",
     "text": [
      "all\n",
      "True [-180  179]\n",
      "3\n",
      "(6, 180, 360)\n"
     ]
    },
    {
     "name": "stderr",
     "output_type": "stream",
     "text": [
      "/home/prodhommec/analyseMF/scripts-final-MF/previ-sais/function_read.py:27: FutureWarning: elementwise comparison failed; returning scalar instead, but in the future will perform elementwise comparison\n",
      "  print(lon_bnds != \"all\", lon_bnds)\n",
      "/home/prodhommec/analyseMF/scripts-final-MF/previ-sais/function_read.py:28: FutureWarning: elementwise comparison failed; returning scalar instead, but in the future will perform elementwise comparison\n",
      "  if lon_bnds != \"all\":\n"
     ]
    },
    {
     "name": "stdout",
     "output_type": "stream",
     "text": [
      "all\n",
      "True [-180  179]\n",
      "3\n",
      "(6, 180, 360)\n"
     ]
    },
    {
     "name": "stderr",
     "output_type": "stream",
     "text": [
      "/home/prodhommec/analyseMF/scripts-final-MF/previ-sais/function_read.py:27: FutureWarning: elementwise comparison failed; returning scalar instead, but in the future will perform elementwise comparison\n",
      "  print(lon_bnds != \"all\", lon_bnds)\n",
      "/home/prodhommec/analyseMF/scripts-final-MF/previ-sais/function_read.py:28: FutureWarning: elementwise comparison failed; returning scalar instead, but in the future will perform elementwise comparison\n",
      "  if lon_bnds != \"all\":\n"
     ]
    },
    {
     "name": "stdout",
     "output_type": "stream",
     "text": [
      "all\n",
      "True [-180  179]\n",
      "3\n",
      "(6, 180, 360)\n"
     ]
    },
    {
     "name": "stderr",
     "output_type": "stream",
     "text": [
      "/home/prodhommec/analyseMF/scripts-final-MF/previ-sais/function_read.py:27: FutureWarning: elementwise comparison failed; returning scalar instead, but in the future will perform elementwise comparison\n",
      "  print(lon_bnds != \"all\", lon_bnds)\n",
      "/home/prodhommec/analyseMF/scripts-final-MF/previ-sais/function_read.py:28: FutureWarning: elementwise comparison failed; returning scalar instead, but in the future will perform elementwise comparison\n",
      "  if lon_bnds != \"all\":\n"
     ]
    },
    {
     "name": "stdout",
     "output_type": "stream",
     "text": [
      "all\n",
      "True [-180  179]\n",
      "3\n",
      "(6, 180, 360)\n",
      "[]\n"
     ]
    },
    {
     "name": "stderr",
     "output_type": "stream",
     "text": [
      "/home/prodhommec/analyseMF/scripts-final-MF/previ-sais/function_read.py:27: FutureWarning: elementwise comparison failed; returning scalar instead, but in the future will perform elementwise comparison\n",
      "  print(lon_bnds != \"all\", lon_bnds)\n",
      "/home/prodhommec/analyseMF/scripts-final-MF/previ-sais/function_read.py:28: FutureWarning: elementwise comparison failed; returning scalar instead, but in the future will perform elementwise comparison\n",
      "  if lon_bnds != \"all\":\n"
     ]
    },
    {
     "name": "stdout",
     "output_type": "stream",
     "text": [
      "all\n",
      "True [-180  179]\n",
      "3\n",
      "(6, 180, 360)\n",
      "[]\n"
     ]
    },
    {
     "name": "stderr",
     "output_type": "stream",
     "text": [
      "/home/prodhommec/analyseMF/scripts-final-MF/previ-sais/function_read.py:27: FutureWarning: elementwise comparison failed; returning scalar instead, but in the future will perform elementwise comparison\n",
      "  print(lon_bnds != \"all\", lon_bnds)\n",
      "/home/prodhommec/analyseMF/scripts-final-MF/previ-sais/function_read.py:28: FutureWarning: elementwise comparison failed; returning scalar instead, but in the future will perform elementwise comparison\n",
      "  if lon_bnds != \"all\":\n"
     ]
    },
    {
     "name": "stdout",
     "output_type": "stream",
     "text": [
      "all\n",
      "True [-180  179]\n",
      "3\n",
      "(6, 180, 360)\n",
      "[]\n"
     ]
    },
    {
     "name": "stderr",
     "output_type": "stream",
     "text": [
      "/home/prodhommec/analyseMF/scripts-final-MF/previ-sais/function_read.py:27: FutureWarning: elementwise comparison failed; returning scalar instead, but in the future will perform elementwise comparison\n",
      "  print(lon_bnds != \"all\", lon_bnds)\n",
      "/home/prodhommec/analyseMF/scripts-final-MF/previ-sais/function_read.py:28: FutureWarning: elementwise comparison failed; returning scalar instead, but in the future will perform elementwise comparison\n",
      "  if lon_bnds != \"all\":\n"
     ]
    },
    {
     "name": "stdout",
     "output_type": "stream",
     "text": [
      "all\n",
      "True [-180  179]\n",
      "3\n",
      "(6, 180, 360)\n",
      "(17, 6, 180, 360)\n"
     ]
    },
    {
     "name": "stderr",
     "output_type": "stream",
     "text": [
      "/home/prodhommec/analyseMF/scripts-final-MF/previ-sais/function_read.py:27: FutureWarning: elementwise comparison failed; returning scalar instead, but in the future will perform elementwise comparison\n",
      "  print(lon_bnds != \"all\", lon_bnds)\n",
      "/home/prodhommec/analyseMF/scripts-final-MF/previ-sais/function_read.py:28: FutureWarning: elementwise comparison failed; returning scalar instead, but in the future will perform elementwise comparison\n",
      "  if lon_bnds != \"all\":\n"
     ]
    },
    {
     "name": "stdout",
     "output_type": "stream",
     "text": [
      "all\n",
      "True [-180  179]\n",
      "3\n",
      "(6, 180, 360)\n",
      "all\n",
      "True [-180  179]\n",
      "3\n",
      "(6, 180, 360)\n"
     ]
    },
    {
     "name": "stderr",
     "output_type": "stream",
     "text": [
      "/home/prodhommec/analyseMF/scripts-final-MF/previ-sais/function_read.py:27: FutureWarning: elementwise comparison failed; returning scalar instead, but in the future will perform elementwise comparison\n",
      "  print(lon_bnds != \"all\", lon_bnds)\n",
      "/home/prodhommec/analyseMF/scripts-final-MF/previ-sais/function_read.py:28: FutureWarning: elementwise comparison failed; returning scalar instead, but in the future will perform elementwise comparison\n",
      "  if lon_bnds != \"all\":\n",
      "/home/prodhommec/analyseMF/scripts-final-MF/previ-sais/function_read.py:27: FutureWarning: elementwise comparison failed; returning scalar instead, but in the future will perform elementwise comparison\n",
      "  print(lon_bnds != \"all\", lon_bnds)\n",
      "/home/prodhommec/analyseMF/scripts-final-MF/previ-sais/function_read.py:28: FutureWarning: elementwise comparison failed; returning scalar instead, but in the future will perform elementwise comparison\n",
      "  if lon_bnds != \"all\":\n"
     ]
    },
    {
     "name": "stdout",
     "output_type": "stream",
     "text": [
      "all\n",
      "True [-180  179]\n",
      "3\n",
      "(6, 180, 360)\n"
     ]
    },
    {
     "name": "stderr",
     "output_type": "stream",
     "text": [
      "/home/prodhommec/analyseMF/scripts-final-MF/previ-sais/function_read.py:27: FutureWarning: elementwise comparison failed; returning scalar instead, but in the future will perform elementwise comparison\n",
      "  print(lon_bnds != \"all\", lon_bnds)\n",
      "/home/prodhommec/analyseMF/scripts-final-MF/previ-sais/function_read.py:28: FutureWarning: elementwise comparison failed; returning scalar instead, but in the future will perform elementwise comparison\n",
      "  if lon_bnds != \"all\":\n"
     ]
    },
    {
     "name": "stdout",
     "output_type": "stream",
     "text": [
      "all\n",
      "True [-180  179]\n",
      "3\n",
      "(6, 180, 360)\n"
     ]
    },
    {
     "name": "stderr",
     "output_type": "stream",
     "text": [
      "/home/prodhommec/analyseMF/scripts-final-MF/previ-sais/function_read.py:27: FutureWarning: elementwise comparison failed; returning scalar instead, but in the future will perform elementwise comparison\n",
      "  print(lon_bnds != \"all\", lon_bnds)\n",
      "/home/prodhommec/analyseMF/scripts-final-MF/previ-sais/function_read.py:28: FutureWarning: elementwise comparison failed; returning scalar instead, but in the future will perform elementwise comparison\n",
      "  if lon_bnds != \"all\":\n"
     ]
    },
    {
     "name": "stdout",
     "output_type": "stream",
     "text": [
      "all\n",
      "True [-180  179]\n",
      "3\n",
      "(6, 180, 360)\n"
     ]
    },
    {
     "name": "stderr",
     "output_type": "stream",
     "text": [
      "/home/prodhommec/analyseMF/scripts-final-MF/previ-sais/function_read.py:27: FutureWarning: elementwise comparison failed; returning scalar instead, but in the future will perform elementwise comparison\n",
      "  print(lon_bnds != \"all\", lon_bnds)\n",
      "/home/prodhommec/analyseMF/scripts-final-MF/previ-sais/function_read.py:28: FutureWarning: elementwise comparison failed; returning scalar instead, but in the future will perform elementwise comparison\n",
      "  if lon_bnds != \"all\":\n"
     ]
    },
    {
     "name": "stdout",
     "output_type": "stream",
     "text": [
      "all\n",
      "True [-180  179]\n",
      "3\n",
      "(6, 180, 360)\n"
     ]
    },
    {
     "name": "stderr",
     "output_type": "stream",
     "text": [
      "/home/prodhommec/analyseMF/scripts-final-MF/previ-sais/function_read.py:27: FutureWarning: elementwise comparison failed; returning scalar instead, but in the future will perform elementwise comparison\n",
      "  print(lon_bnds != \"all\", lon_bnds)\n",
      "/home/prodhommec/analyseMF/scripts-final-MF/previ-sais/function_read.py:28: FutureWarning: elementwise comparison failed; returning scalar instead, but in the future will perform elementwise comparison\n",
      "  if lon_bnds != \"all\":\n"
     ]
    },
    {
     "name": "stdout",
     "output_type": "stream",
     "text": [
      "all\n",
      "True [-180  179]\n",
      "3\n",
      "(6, 180, 360)\n"
     ]
    },
    {
     "name": "stderr",
     "output_type": "stream",
     "text": [
      "/home/prodhommec/analyseMF/scripts-final-MF/previ-sais/function_read.py:27: FutureWarning: elementwise comparison failed; returning scalar instead, but in the future will perform elementwise comparison\n",
      "  print(lon_bnds != \"all\", lon_bnds)\n",
      "/home/prodhommec/analyseMF/scripts-final-MF/previ-sais/function_read.py:28: FutureWarning: elementwise comparison failed; returning scalar instead, but in the future will perform elementwise comparison\n",
      "  if lon_bnds != \"all\":\n"
     ]
    },
    {
     "name": "stdout",
     "output_type": "stream",
     "text": [
      "all\n",
      "True [-180  179]\n",
      "3\n",
      "(6, 180, 360)\n"
     ]
    },
    {
     "name": "stderr",
     "output_type": "stream",
     "text": [
      "/home/prodhommec/analyseMF/scripts-final-MF/previ-sais/function_read.py:27: FutureWarning: elementwise comparison failed; returning scalar instead, but in the future will perform elementwise comparison\n",
      "  print(lon_bnds != \"all\", lon_bnds)\n",
      "/home/prodhommec/analyseMF/scripts-final-MF/previ-sais/function_read.py:28: FutureWarning: elementwise comparison failed; returning scalar instead, but in the future will perform elementwise comparison\n",
      "  if lon_bnds != \"all\":\n"
     ]
    },
    {
     "name": "stdout",
     "output_type": "stream",
     "text": [
      "all\n",
      "True [-180  179]\n",
      "3\n",
      "(6, 180, 360)\n"
     ]
    },
    {
     "name": "stderr",
     "output_type": "stream",
     "text": [
      "/home/prodhommec/analyseMF/scripts-final-MF/previ-sais/function_read.py:27: FutureWarning: elementwise comparison failed; returning scalar instead, but in the future will perform elementwise comparison\n",
      "  print(lon_bnds != \"all\", lon_bnds)\n",
      "/home/prodhommec/analyseMF/scripts-final-MF/previ-sais/function_read.py:28: FutureWarning: elementwise comparison failed; returning scalar instead, but in the future will perform elementwise comparison\n",
      "  if lon_bnds != \"all\":\n"
     ]
    },
    {
     "name": "stdout",
     "output_type": "stream",
     "text": [
      "all\n",
      "True [-180  179]\n",
      "3\n",
      "(6, 180, 360)\n"
     ]
    },
    {
     "name": "stderr",
     "output_type": "stream",
     "text": [
      "/home/prodhommec/analyseMF/scripts-final-MF/previ-sais/function_read.py:27: FutureWarning: elementwise comparison failed; returning scalar instead, but in the future will perform elementwise comparison\n",
      "  print(lon_bnds != \"all\", lon_bnds)\n",
      "/home/prodhommec/analyseMF/scripts-final-MF/previ-sais/function_read.py:28: FutureWarning: elementwise comparison failed; returning scalar instead, but in the future will perform elementwise comparison\n",
      "  if lon_bnds != \"all\":\n"
     ]
    },
    {
     "name": "stdout",
     "output_type": "stream",
     "text": [
      "all\n",
      "True [-180  179]\n",
      "3\n",
      "(6, 180, 360)\n"
     ]
    },
    {
     "name": "stderr",
     "output_type": "stream",
     "text": [
      "/home/prodhommec/analyseMF/scripts-final-MF/previ-sais/function_read.py:27: FutureWarning: elementwise comparison failed; returning scalar instead, but in the future will perform elementwise comparison\n",
      "  print(lon_bnds != \"all\", lon_bnds)\n",
      "/home/prodhommec/analyseMF/scripts-final-MF/previ-sais/function_read.py:28: FutureWarning: elementwise comparison failed; returning scalar instead, but in the future will perform elementwise comparison\n",
      "  if lon_bnds != \"all\":\n"
     ]
    },
    {
     "name": "stdout",
     "output_type": "stream",
     "text": [
      "all\n",
      "True [-180  179]\n",
      "3\n",
      "(6, 180, 360)\n"
     ]
    },
    {
     "name": "stderr",
     "output_type": "stream",
     "text": [
      "/home/prodhommec/analyseMF/scripts-final-MF/previ-sais/function_read.py:27: FutureWarning: elementwise comparison failed; returning scalar instead, but in the future will perform elementwise comparison\n",
      "  print(lon_bnds != \"all\", lon_bnds)\n",
      "/home/prodhommec/analyseMF/scripts-final-MF/previ-sais/function_read.py:28: FutureWarning: elementwise comparison failed; returning scalar instead, but in the future will perform elementwise comparison\n",
      "  if lon_bnds != \"all\":\n"
     ]
    },
    {
     "name": "stdout",
     "output_type": "stream",
     "text": [
      "all\n",
      "True [-180  179]\n",
      "3\n",
      "(6, 180, 360)\n"
     ]
    },
    {
     "name": "stderr",
     "output_type": "stream",
     "text": [
      "/home/prodhommec/analyseMF/scripts-final-MF/previ-sais/function_read.py:27: FutureWarning: elementwise comparison failed; returning scalar instead, but in the future will perform elementwise comparison\n",
      "  print(lon_bnds != \"all\", lon_bnds)\n",
      "/home/prodhommec/analyseMF/scripts-final-MF/previ-sais/function_read.py:28: FutureWarning: elementwise comparison failed; returning scalar instead, but in the future will perform elementwise comparison\n",
      "  if lon_bnds != \"all\":\n"
     ]
    },
    {
     "name": "stdout",
     "output_type": "stream",
     "text": [
      "all\n",
      "True [-180  179]\n",
      "3\n",
      "(6, 180, 360)\n",
      "all\n",
      "True [-180  179]\n",
      "3\n",
      "(6, 180, 360)\n"
     ]
    },
    {
     "name": "stderr",
     "output_type": "stream",
     "text": [
      "/home/prodhommec/analyseMF/scripts-final-MF/previ-sais/function_read.py:27: FutureWarning: elementwise comparison failed; returning scalar instead, but in the future will perform elementwise comparison\n",
      "  print(lon_bnds != \"all\", lon_bnds)\n",
      "/home/prodhommec/analyseMF/scripts-final-MF/previ-sais/function_read.py:28: FutureWarning: elementwise comparison failed; returning scalar instead, but in the future will perform elementwise comparison\n",
      "  if lon_bnds != \"all\":\n",
      "/home/prodhommec/analyseMF/scripts-final-MF/previ-sais/function_read.py:27: FutureWarning: elementwise comparison failed; returning scalar instead, but in the future will perform elementwise comparison\n",
      "  print(lon_bnds != \"all\", lon_bnds)\n",
      "/home/prodhommec/analyseMF/scripts-final-MF/previ-sais/function_read.py:28: FutureWarning: elementwise comparison failed; returning scalar instead, but in the future will perform elementwise comparison\n",
      "  if lon_bnds != \"all\":\n"
     ]
    },
    {
     "name": "stdout",
     "output_type": "stream",
     "text": [
      "all\n",
      "True [-180  179]\n",
      "3\n",
      "(6, 180, 360)\n",
      "all\n",
      "True [-180  179]\n",
      "3\n",
      "(6, 180, 360)\n",
      "(17, 6, 180, 360)\n"
     ]
    },
    {
     "name": "stderr",
     "output_type": "stream",
     "text": [
      "/home/prodhommec/analyseMF/scripts-final-MF/previ-sais/function_read.py:27: FutureWarning: elementwise comparison failed; returning scalar instead, but in the future will perform elementwise comparison\n",
      "  print(lon_bnds != \"all\", lon_bnds)\n",
      "/home/prodhommec/analyseMF/scripts-final-MF/previ-sais/function_read.py:28: FutureWarning: elementwise comparison failed; returning scalar instead, but in the future will perform elementwise comparison\n",
      "  if lon_bnds != \"all\":\n",
      "/home/prodhommec/analyseMF/scripts-final-MF/previ-sais/function_read.py:27: FutureWarning: elementwise comparison failed; returning scalar instead, but in the future will perform elementwise comparison\n",
      "  print(lon_bnds != \"all\", lon_bnds)\n",
      "/home/prodhommec/analyseMF/scripts-final-MF/previ-sais/function_read.py:28: FutureWarning: elementwise comparison failed; returning scalar instead, but in the future will perform elementwise comparison\n",
      "  if lon_bnds != \"all\":\n"
     ]
    },
    {
     "name": "stdout",
     "output_type": "stream",
     "text": [
      "all\n",
      "True [-180  179]\n",
      "3\n",
      "(6, 180, 360)\n"
     ]
    },
    {
     "name": "stderr",
     "output_type": "stream",
     "text": [
      "/home/prodhommec/analyseMF/scripts-final-MF/previ-sais/function_read.py:27: FutureWarning: elementwise comparison failed; returning scalar instead, but in the future will perform elementwise comparison\n",
      "  print(lon_bnds != \"all\", lon_bnds)\n",
      "/home/prodhommec/analyseMF/scripts-final-MF/previ-sais/function_read.py:28: FutureWarning: elementwise comparison failed; returning scalar instead, but in the future will perform elementwise comparison\n",
      "  if lon_bnds != \"all\":\n"
     ]
    },
    {
     "name": "stdout",
     "output_type": "stream",
     "text": [
      "all\n",
      "True [-180  179]\n",
      "3\n",
      "(6, 180, 360)\n"
     ]
    },
    {
     "name": "stderr",
     "output_type": "stream",
     "text": [
      "/home/prodhommec/analyseMF/scripts-final-MF/previ-sais/function_read.py:27: FutureWarning: elementwise comparison failed; returning scalar instead, but in the future will perform elementwise comparison\n",
      "  print(lon_bnds != \"all\", lon_bnds)\n",
      "/home/prodhommec/analyseMF/scripts-final-MF/previ-sais/function_read.py:28: FutureWarning: elementwise comparison failed; returning scalar instead, but in the future will perform elementwise comparison\n",
      "  if lon_bnds != \"all\":\n"
     ]
    },
    {
     "name": "stdout",
     "output_type": "stream",
     "text": [
      "all\n",
      "True [-180  179]\n",
      "3\n",
      "(6, 180, 360)\n"
     ]
    },
    {
     "name": "stderr",
     "output_type": "stream",
     "text": [
      "/home/prodhommec/analyseMF/scripts-final-MF/previ-sais/function_read.py:27: FutureWarning: elementwise comparison failed; returning scalar instead, but in the future will perform elementwise comparison\n",
      "  print(lon_bnds != \"all\", lon_bnds)\n",
      "/home/prodhommec/analyseMF/scripts-final-MF/previ-sais/function_read.py:28: FutureWarning: elementwise comparison failed; returning scalar instead, but in the future will perform elementwise comparison\n",
      "  if lon_bnds != \"all\":\n"
     ]
    },
    {
     "name": "stdout",
     "output_type": "stream",
     "text": [
      "all\n",
      "True [-180  179]\n",
      "3\n",
      "(6, 180, 360)\n"
     ]
    },
    {
     "name": "stderr",
     "output_type": "stream",
     "text": [
      "/home/prodhommec/analyseMF/scripts-final-MF/previ-sais/function_read.py:27: FutureWarning: elementwise comparison failed; returning scalar instead, but in the future will perform elementwise comparison\n",
      "  print(lon_bnds != \"all\", lon_bnds)\n",
      "/home/prodhommec/analyseMF/scripts-final-MF/previ-sais/function_read.py:28: FutureWarning: elementwise comparison failed; returning scalar instead, but in the future will perform elementwise comparison\n",
      "  if lon_bnds != \"all\":\n"
     ]
    },
    {
     "name": "stdout",
     "output_type": "stream",
     "text": [
      "all\n",
      "True [-180  179]\n",
      "3\n",
      "(6, 180, 360)\n"
     ]
    },
    {
     "name": "stderr",
     "output_type": "stream",
     "text": [
      "/home/prodhommec/analyseMF/scripts-final-MF/previ-sais/function_read.py:27: FutureWarning: elementwise comparison failed; returning scalar instead, but in the future will perform elementwise comparison\n",
      "  print(lon_bnds != \"all\", lon_bnds)\n",
      "/home/prodhommec/analyseMF/scripts-final-MF/previ-sais/function_read.py:28: FutureWarning: elementwise comparison failed; returning scalar instead, but in the future will perform elementwise comparison\n",
      "  if lon_bnds != \"all\":\n"
     ]
    },
    {
     "name": "stdout",
     "output_type": "stream",
     "text": [
      "all\n",
      "True [-180  179]\n",
      "3\n",
      "(6, 180, 360)\n"
     ]
    },
    {
     "name": "stderr",
     "output_type": "stream",
     "text": [
      "/home/prodhommec/analyseMF/scripts-final-MF/previ-sais/function_read.py:27: FutureWarning: elementwise comparison failed; returning scalar instead, but in the future will perform elementwise comparison\n",
      "  print(lon_bnds != \"all\", lon_bnds)\n",
      "/home/prodhommec/analyseMF/scripts-final-MF/previ-sais/function_read.py:28: FutureWarning: elementwise comparison failed; returning scalar instead, but in the future will perform elementwise comparison\n",
      "  if lon_bnds != \"all\":\n"
     ]
    },
    {
     "name": "stdout",
     "output_type": "stream",
     "text": [
      "all\n",
      "True [-180  179]\n",
      "3\n",
      "(6, 180, 360)\n"
     ]
    },
    {
     "name": "stderr",
     "output_type": "stream",
     "text": [
      "/home/prodhommec/analyseMF/scripts-final-MF/previ-sais/function_read.py:27: FutureWarning: elementwise comparison failed; returning scalar instead, but in the future will perform elementwise comparison\n",
      "  print(lon_bnds != \"all\", lon_bnds)\n",
      "/home/prodhommec/analyseMF/scripts-final-MF/previ-sais/function_read.py:28: FutureWarning: elementwise comparison failed; returning scalar instead, but in the future will perform elementwise comparison\n",
      "  if lon_bnds != \"all\":\n"
     ]
    },
    {
     "name": "stdout",
     "output_type": "stream",
     "text": [
      "all\n",
      "True [-180  179]\n",
      "3\n",
      "(6, 180, 360)\n"
     ]
    },
    {
     "name": "stderr",
     "output_type": "stream",
     "text": [
      "/home/prodhommec/analyseMF/scripts-final-MF/previ-sais/function_read.py:27: FutureWarning: elementwise comparison failed; returning scalar instead, but in the future will perform elementwise comparison\n",
      "  print(lon_bnds != \"all\", lon_bnds)\n",
      "/home/prodhommec/analyseMF/scripts-final-MF/previ-sais/function_read.py:28: FutureWarning: elementwise comparison failed; returning scalar instead, but in the future will perform elementwise comparison\n",
      "  if lon_bnds != \"all\":\n"
     ]
    },
    {
     "name": "stdout",
     "output_type": "stream",
     "text": [
      "all\n",
      "True [-180  179]\n",
      "3\n",
      "(6, 180, 360)\n"
     ]
    },
    {
     "name": "stderr",
     "output_type": "stream",
     "text": [
      "/home/prodhommec/analyseMF/scripts-final-MF/previ-sais/function_read.py:27: FutureWarning: elementwise comparison failed; returning scalar instead, but in the future will perform elementwise comparison\n",
      "  print(lon_bnds != \"all\", lon_bnds)\n",
      "/home/prodhommec/analyseMF/scripts-final-MF/previ-sais/function_read.py:28: FutureWarning: elementwise comparison failed; returning scalar instead, but in the future will perform elementwise comparison\n",
      "  if lon_bnds != \"all\":\n"
     ]
    },
    {
     "name": "stdout",
     "output_type": "stream",
     "text": [
      "all\n",
      "True [-180  179]\n",
      "3\n",
      "(6, 180, 360)\n"
     ]
    },
    {
     "name": "stderr",
     "output_type": "stream",
     "text": [
      "/home/prodhommec/analyseMF/scripts-final-MF/previ-sais/function_read.py:27: FutureWarning: elementwise comparison failed; returning scalar instead, but in the future will perform elementwise comparison\n",
      "  print(lon_bnds != \"all\", lon_bnds)\n",
      "/home/prodhommec/analyseMF/scripts-final-MF/previ-sais/function_read.py:28: FutureWarning: elementwise comparison failed; returning scalar instead, but in the future will perform elementwise comparison\n",
      "  if lon_bnds != \"all\":\n"
     ]
    },
    {
     "name": "stdout",
     "output_type": "stream",
     "text": [
      "all\n",
      "True [-180  179]\n",
      "3\n",
      "(6, 180, 360)\n"
     ]
    },
    {
     "name": "stderr",
     "output_type": "stream",
     "text": [
      "/home/prodhommec/analyseMF/scripts-final-MF/previ-sais/function_read.py:27: FutureWarning: elementwise comparison failed; returning scalar instead, but in the future will perform elementwise comparison\n",
      "  print(lon_bnds != \"all\", lon_bnds)\n",
      "/home/prodhommec/analyseMF/scripts-final-MF/previ-sais/function_read.py:28: FutureWarning: elementwise comparison failed; returning scalar instead, but in the future will perform elementwise comparison\n",
      "  if lon_bnds != \"all\":\n"
     ]
    },
    {
     "name": "stdout",
     "output_type": "stream",
     "text": [
      "all\n",
      "True [-180  179]\n",
      "3\n",
      "(6, 180, 360)\n"
     ]
    },
    {
     "name": "stderr",
     "output_type": "stream",
     "text": [
      "/home/prodhommec/analyseMF/scripts-final-MF/previ-sais/function_read.py:27: FutureWarning: elementwise comparison failed; returning scalar instead, but in the future will perform elementwise comparison\n",
      "  print(lon_bnds != \"all\", lon_bnds)\n",
      "/home/prodhommec/analyseMF/scripts-final-MF/previ-sais/function_read.py:28: FutureWarning: elementwise comparison failed; returning scalar instead, but in the future will perform elementwise comparison\n",
      "  if lon_bnds != \"all\":\n"
     ]
    },
    {
     "name": "stdout",
     "output_type": "stream",
     "text": [
      "all\n",
      "True [-180  179]\n",
      "3\n",
      "(6, 180, 360)\n"
     ]
    },
    {
     "name": "stderr",
     "output_type": "stream",
     "text": [
      "/home/prodhommec/analyseMF/scripts-final-MF/previ-sais/function_read.py:27: FutureWarning: elementwise comparison failed; returning scalar instead, but in the future will perform elementwise comparison\n",
      "  print(lon_bnds != \"all\", lon_bnds)\n",
      "/home/prodhommec/analyseMF/scripts-final-MF/previ-sais/function_read.py:28: FutureWarning: elementwise comparison failed; returning scalar instead, but in the future will perform elementwise comparison\n",
      "  if lon_bnds != \"all\":\n"
     ]
    },
    {
     "name": "stdout",
     "output_type": "stream",
     "text": [
      "all\n",
      "True [-180  179]\n",
      "3\n",
      "(6, 180, 360)\n"
     ]
    },
    {
     "name": "stderr",
     "output_type": "stream",
     "text": [
      "/home/prodhommec/analyseMF/scripts-final-MF/previ-sais/function_read.py:27: FutureWarning: elementwise comparison failed; returning scalar instead, but in the future will perform elementwise comparison\n",
      "  print(lon_bnds != \"all\", lon_bnds)\n",
      "/home/prodhommec/analyseMF/scripts-final-MF/previ-sais/function_read.py:28: FutureWarning: elementwise comparison failed; returning scalar instead, but in the future will perform elementwise comparison\n",
      "  if lon_bnds != \"all\":\n"
     ]
    },
    {
     "name": "stdout",
     "output_type": "stream",
     "text": [
      "all\n",
      "True [-180  179]\n",
      "3\n",
      "(6, 180, 360)\n"
     ]
    },
    {
     "name": "stderr",
     "output_type": "stream",
     "text": [
      "/home/prodhommec/analyseMF/scripts-final-MF/previ-sais/function_read.py:27: FutureWarning: elementwise comparison failed; returning scalar instead, but in the future will perform elementwise comparison\n",
      "  print(lon_bnds != \"all\", lon_bnds)\n",
      "/home/prodhommec/analyseMF/scripts-final-MF/previ-sais/function_read.py:28: FutureWarning: elementwise comparison failed; returning scalar instead, but in the future will perform elementwise comparison\n",
      "  if lon_bnds != \"all\":\n"
     ]
    },
    {
     "name": "stdout",
     "output_type": "stream",
     "text": [
      "all\n",
      "True [-180  179]\n",
      "3\n",
      "(6, 180, 360)\n"
     ]
    },
    {
     "name": "stderr",
     "output_type": "stream",
     "text": [
      "/home/prodhommec/analyseMF/scripts-final-MF/previ-sais/function_read.py:27: FutureWarning: elementwise comparison failed; returning scalar instead, but in the future will perform elementwise comparison\n",
      "  print(lon_bnds != \"all\", lon_bnds)\n",
      "/home/prodhommec/analyseMF/scripts-final-MF/previ-sais/function_read.py:28: FutureWarning: elementwise comparison failed; returning scalar instead, but in the future will perform elementwise comparison\n",
      "  if lon_bnds != \"all\":\n"
     ]
    },
    {
     "name": "stdout",
     "output_type": "stream",
     "text": [
      "all\n",
      "True [-180  179]\n",
      "3\n",
      "(6, 180, 360)\n",
      "(17, 6, 180, 360)\n"
     ]
    },
    {
     "name": "stderr",
     "output_type": "stream",
     "text": [
      "/home/prodhommec/analyseMF/scripts-final-MF/previ-sais/function_read.py:27: FutureWarning: elementwise comparison failed; returning scalar instead, but in the future will perform elementwise comparison\n",
      "  print(lon_bnds != \"all\", lon_bnds)\n",
      "/home/prodhommec/analyseMF/scripts-final-MF/previ-sais/function_read.py:28: FutureWarning: elementwise comparison failed; returning scalar instead, but in the future will perform elementwise comparison\n",
      "  if lon_bnds != \"all\":\n"
     ]
    },
    {
     "name": "stdout",
     "output_type": "stream",
     "text": [
      "all\n",
      "True [-180  179]\n",
      "3\n",
      "(6, 180, 360)\n"
     ]
    },
    {
     "name": "stderr",
     "output_type": "stream",
     "text": [
      "/home/prodhommec/analyseMF/scripts-final-MF/previ-sais/function_read.py:27: FutureWarning: elementwise comparison failed; returning scalar instead, but in the future will perform elementwise comparison\n",
      "  print(lon_bnds != \"all\", lon_bnds)\n",
      "/home/prodhommec/analyseMF/scripts-final-MF/previ-sais/function_read.py:28: FutureWarning: elementwise comparison failed; returning scalar instead, but in the future will perform elementwise comparison\n",
      "  if lon_bnds != \"all\":\n"
     ]
    },
    {
     "name": "stdout",
     "output_type": "stream",
     "text": [
      "all\n",
      "True [-180  179]\n",
      "3\n",
      "(6, 180, 360)\n"
     ]
    },
    {
     "name": "stderr",
     "output_type": "stream",
     "text": [
      "/home/prodhommec/analyseMF/scripts-final-MF/previ-sais/function_read.py:27: FutureWarning: elementwise comparison failed; returning scalar instead, but in the future will perform elementwise comparison\n",
      "  print(lon_bnds != \"all\", lon_bnds)\n",
      "/home/prodhommec/analyseMF/scripts-final-MF/previ-sais/function_read.py:28: FutureWarning: elementwise comparison failed; returning scalar instead, but in the future will perform elementwise comparison\n",
      "  if lon_bnds != \"all\":\n"
     ]
    },
    {
     "name": "stdout",
     "output_type": "stream",
     "text": [
      "all\n",
      "True [-180  179]\n",
      "3\n",
      "(6, 180, 360)\n"
     ]
    },
    {
     "name": "stderr",
     "output_type": "stream",
     "text": [
      "/home/prodhommec/analyseMF/scripts-final-MF/previ-sais/function_read.py:27: FutureWarning: elementwise comparison failed; returning scalar instead, but in the future will perform elementwise comparison\n",
      "  print(lon_bnds != \"all\", lon_bnds)\n",
      "/home/prodhommec/analyseMF/scripts-final-MF/previ-sais/function_read.py:28: FutureWarning: elementwise comparison failed; returning scalar instead, but in the future will perform elementwise comparison\n",
      "  if lon_bnds != \"all\":\n"
     ]
    },
    {
     "name": "stdout",
     "output_type": "stream",
     "text": [
      "all\n",
      "True [-180  179]\n",
      "3\n",
      "(6, 180, 360)\n"
     ]
    },
    {
     "name": "stderr",
     "output_type": "stream",
     "text": [
      "/home/prodhommec/analyseMF/scripts-final-MF/previ-sais/function_read.py:27: FutureWarning: elementwise comparison failed; returning scalar instead, but in the future will perform elementwise comparison\n",
      "  print(lon_bnds != \"all\", lon_bnds)\n",
      "/home/prodhommec/analyseMF/scripts-final-MF/previ-sais/function_read.py:28: FutureWarning: elementwise comparison failed; returning scalar instead, but in the future will perform elementwise comparison\n",
      "  if lon_bnds != \"all\":\n"
     ]
    },
    {
     "name": "stdout",
     "output_type": "stream",
     "text": [
      "all\n",
      "True [-180  179]\n",
      "3\n",
      "(6, 180, 360)\n"
     ]
    },
    {
     "name": "stderr",
     "output_type": "stream",
     "text": [
      "/home/prodhommec/analyseMF/scripts-final-MF/previ-sais/function_read.py:27: FutureWarning: elementwise comparison failed; returning scalar instead, but in the future will perform elementwise comparison\n",
      "  print(lon_bnds != \"all\", lon_bnds)\n",
      "/home/prodhommec/analyseMF/scripts-final-MF/previ-sais/function_read.py:28: FutureWarning: elementwise comparison failed; returning scalar instead, but in the future will perform elementwise comparison\n",
      "  if lon_bnds != \"all\":\n"
     ]
    },
    {
     "name": "stdout",
     "output_type": "stream",
     "text": [
      "all\n",
      "True [-180  179]\n",
      "3\n",
      "(6, 180, 360)\n"
     ]
    },
    {
     "name": "stderr",
     "output_type": "stream",
     "text": [
      "/home/prodhommec/analyseMF/scripts-final-MF/previ-sais/function_read.py:27: FutureWarning: elementwise comparison failed; returning scalar instead, but in the future will perform elementwise comparison\n",
      "  print(lon_bnds != \"all\", lon_bnds)\n",
      "/home/prodhommec/analyseMF/scripts-final-MF/previ-sais/function_read.py:28: FutureWarning: elementwise comparison failed; returning scalar instead, but in the future will perform elementwise comparison\n",
      "  if lon_bnds != \"all\":\n"
     ]
    },
    {
     "name": "stdout",
     "output_type": "stream",
     "text": [
      "all\n",
      "True [-180  179]\n",
      "3\n",
      "(6, 180, 360)\n"
     ]
    },
    {
     "name": "stderr",
     "output_type": "stream",
     "text": [
      "/home/prodhommec/analyseMF/scripts-final-MF/previ-sais/function_read.py:27: FutureWarning: elementwise comparison failed; returning scalar instead, but in the future will perform elementwise comparison\n",
      "  print(lon_bnds != \"all\", lon_bnds)\n",
      "/home/prodhommec/analyseMF/scripts-final-MF/previ-sais/function_read.py:28: FutureWarning: elementwise comparison failed; returning scalar instead, but in the future will perform elementwise comparison\n",
      "  if lon_bnds != \"all\":\n"
     ]
    },
    {
     "name": "stdout",
     "output_type": "stream",
     "text": [
      "all\n",
      "True [-180  179]\n",
      "3\n",
      "(6, 180, 360)\n"
     ]
    },
    {
     "name": "stderr",
     "output_type": "stream",
     "text": [
      "/home/prodhommec/analyseMF/scripts-final-MF/previ-sais/function_read.py:27: FutureWarning: elementwise comparison failed; returning scalar instead, but in the future will perform elementwise comparison\n",
      "  print(lon_bnds != \"all\", lon_bnds)\n",
      "/home/prodhommec/analyseMF/scripts-final-MF/previ-sais/function_read.py:28: FutureWarning: elementwise comparison failed; returning scalar instead, but in the future will perform elementwise comparison\n",
      "  if lon_bnds != \"all\":\n"
     ]
    },
    {
     "name": "stdout",
     "output_type": "stream",
     "text": [
      "all\n",
      "True [-180  179]\n",
      "3\n",
      "(6, 180, 360)\n"
     ]
    },
    {
     "name": "stderr",
     "output_type": "stream",
     "text": [
      "/home/prodhommec/analyseMF/scripts-final-MF/previ-sais/function_read.py:27: FutureWarning: elementwise comparison failed; returning scalar instead, but in the future will perform elementwise comparison\n",
      "  print(lon_bnds != \"all\", lon_bnds)\n",
      "/home/prodhommec/analyseMF/scripts-final-MF/previ-sais/function_read.py:28: FutureWarning: elementwise comparison failed; returning scalar instead, but in the future will perform elementwise comparison\n",
      "  if lon_bnds != \"all\":\n"
     ]
    },
    {
     "name": "stdout",
     "output_type": "stream",
     "text": [
      "all\n",
      "True [-180  179]\n",
      "3\n",
      "(6, 180, 360)\n"
     ]
    },
    {
     "name": "stderr",
     "output_type": "stream",
     "text": [
      "/home/prodhommec/analyseMF/scripts-final-MF/previ-sais/function_read.py:27: FutureWarning: elementwise comparison failed; returning scalar instead, but in the future will perform elementwise comparison\n",
      "  print(lon_bnds != \"all\", lon_bnds)\n",
      "/home/prodhommec/analyseMF/scripts-final-MF/previ-sais/function_read.py:28: FutureWarning: elementwise comparison failed; returning scalar instead, but in the future will perform elementwise comparison\n",
      "  if lon_bnds != \"all\":\n"
     ]
    },
    {
     "name": "stdout",
     "output_type": "stream",
     "text": [
      "all\n",
      "True [-180  179]\n",
      "3\n",
      "(6, 180, 360)\n"
     ]
    },
    {
     "name": "stderr",
     "output_type": "stream",
     "text": [
      "/home/prodhommec/analyseMF/scripts-final-MF/previ-sais/function_read.py:27: FutureWarning: elementwise comparison failed; returning scalar instead, but in the future will perform elementwise comparison\n",
      "  print(lon_bnds != \"all\", lon_bnds)\n",
      "/home/prodhommec/analyseMF/scripts-final-MF/previ-sais/function_read.py:28: FutureWarning: elementwise comparison failed; returning scalar instead, but in the future will perform elementwise comparison\n",
      "  if lon_bnds != \"all\":\n"
     ]
    },
    {
     "name": "stdout",
     "output_type": "stream",
     "text": [
      "all\n",
      "True [-180  179]\n",
      "3\n",
      "(6, 180, 360)\n"
     ]
    },
    {
     "name": "stderr",
     "output_type": "stream",
     "text": [
      "/home/prodhommec/analyseMF/scripts-final-MF/previ-sais/function_read.py:27: FutureWarning: elementwise comparison failed; returning scalar instead, but in the future will perform elementwise comparison\n",
      "  print(lon_bnds != \"all\", lon_bnds)\n",
      "/home/prodhommec/analyseMF/scripts-final-MF/previ-sais/function_read.py:28: FutureWarning: elementwise comparison failed; returning scalar instead, but in the future will perform elementwise comparison\n",
      "  if lon_bnds != \"all\":\n"
     ]
    },
    {
     "name": "stdout",
     "output_type": "stream",
     "text": [
      "all\n",
      "True [-180  179]\n",
      "3\n",
      "(6, 180, 360)\n"
     ]
    },
    {
     "name": "stderr",
     "output_type": "stream",
     "text": [
      "/home/prodhommec/analyseMF/scripts-final-MF/previ-sais/function_read.py:27: FutureWarning: elementwise comparison failed; returning scalar instead, but in the future will perform elementwise comparison\n",
      "  print(lon_bnds != \"all\", lon_bnds)\n",
      "/home/prodhommec/analyseMF/scripts-final-MF/previ-sais/function_read.py:28: FutureWarning: elementwise comparison failed; returning scalar instead, but in the future will perform elementwise comparison\n",
      "  if lon_bnds != \"all\":\n"
     ]
    },
    {
     "name": "stdout",
     "output_type": "stream",
     "text": [
      "all\n",
      "True [-180  179]\n",
      "3\n",
      "(6, 180, 360)\n"
     ]
    },
    {
     "name": "stderr",
     "output_type": "stream",
     "text": [
      "/home/prodhommec/analyseMF/scripts-final-MF/previ-sais/function_read.py:27: FutureWarning: elementwise comparison failed; returning scalar instead, but in the future will perform elementwise comparison\n",
      "  print(lon_bnds != \"all\", lon_bnds)\n",
      "/home/prodhommec/analyseMF/scripts-final-MF/previ-sais/function_read.py:28: FutureWarning: elementwise comparison failed; returning scalar instead, but in the future will perform elementwise comparison\n",
      "  if lon_bnds != \"all\":\n"
     ]
    },
    {
     "name": "stdout",
     "output_type": "stream",
     "text": [
      "all\n",
      "True [-180  179]\n",
      "3\n",
      "(6, 180, 360)\n"
     ]
    },
    {
     "name": "stderr",
     "output_type": "stream",
     "text": [
      "/home/prodhommec/analyseMF/scripts-final-MF/previ-sais/function_read.py:27: FutureWarning: elementwise comparison failed; returning scalar instead, but in the future will perform elementwise comparison\n",
      "  print(lon_bnds != \"all\", lon_bnds)\n",
      "/home/prodhommec/analyseMF/scripts-final-MF/previ-sais/function_read.py:28: FutureWarning: elementwise comparison failed; returning scalar instead, but in the future will perform elementwise comparison\n",
      "  if lon_bnds != \"all\":\n"
     ]
    },
    {
     "name": "stdout",
     "output_type": "stream",
     "text": [
      "all\n",
      "True [-180  179]\n",
      "3\n",
      "(6, 180, 360)\n"
     ]
    },
    {
     "name": "stderr",
     "output_type": "stream",
     "text": [
      "/home/prodhommec/analyseMF/scripts-final-MF/previ-sais/function_read.py:27: FutureWarning: elementwise comparison failed; returning scalar instead, but in the future will perform elementwise comparison\n",
      "  print(lon_bnds != \"all\", lon_bnds)\n",
      "/home/prodhommec/analyseMF/scripts-final-MF/previ-sais/function_read.py:28: FutureWarning: elementwise comparison failed; returning scalar instead, but in the future will perform elementwise comparison\n",
      "  if lon_bnds != \"all\":\n"
     ]
    },
    {
     "name": "stdout",
     "output_type": "stream",
     "text": [
      "all\n",
      "True [-180  179]\n",
      "3\n",
      "(6, 180, 360)\n",
      "(17, 6, 180, 360)\n"
     ]
    },
    {
     "name": "stderr",
     "output_type": "stream",
     "text": [
      "/home/prodhommec/analyseMF/scripts-final-MF/previ-sais/function_read.py:27: FutureWarning: elementwise comparison failed; returning scalar instead, but in the future will perform elementwise comparison\n",
      "  print(lon_bnds != \"all\", lon_bnds)\n",
      "/home/prodhommec/analyseMF/scripts-final-MF/previ-sais/function_read.py:28: FutureWarning: elementwise comparison failed; returning scalar instead, but in the future will perform elementwise comparison\n",
      "  if lon_bnds != \"all\":\n"
     ]
    },
    {
     "name": "stdout",
     "output_type": "stream",
     "text": [
      "all\n",
      "True [-180  179]\n",
      "3\n",
      "(6, 180, 360)\n"
     ]
    },
    {
     "name": "stderr",
     "output_type": "stream",
     "text": [
      "/home/prodhommec/analyseMF/scripts-final-MF/previ-sais/function_read.py:27: FutureWarning: elementwise comparison failed; returning scalar instead, but in the future will perform elementwise comparison\n",
      "  print(lon_bnds != \"all\", lon_bnds)\n",
      "/home/prodhommec/analyseMF/scripts-final-MF/previ-sais/function_read.py:28: FutureWarning: elementwise comparison failed; returning scalar instead, but in the future will perform elementwise comparison\n",
      "  if lon_bnds != \"all\":\n"
     ]
    },
    {
     "name": "stdout",
     "output_type": "stream",
     "text": [
      "all\n",
      "True [-180  179]\n",
      "3\n",
      "(6, 180, 360)\n"
     ]
    },
    {
     "name": "stderr",
     "output_type": "stream",
     "text": [
      "/home/prodhommec/analyseMF/scripts-final-MF/previ-sais/function_read.py:27: FutureWarning: elementwise comparison failed; returning scalar instead, but in the future will perform elementwise comparison\n",
      "  print(lon_bnds != \"all\", lon_bnds)\n",
      "/home/prodhommec/analyseMF/scripts-final-MF/previ-sais/function_read.py:28: FutureWarning: elementwise comparison failed; returning scalar instead, but in the future will perform elementwise comparison\n",
      "  if lon_bnds != \"all\":\n"
     ]
    },
    {
     "name": "stdout",
     "output_type": "stream",
     "text": [
      "all\n",
      "True [-180  179]\n",
      "3\n",
      "(6, 180, 360)\n"
     ]
    },
    {
     "name": "stderr",
     "output_type": "stream",
     "text": [
      "/home/prodhommec/analyseMF/scripts-final-MF/previ-sais/function_read.py:27: FutureWarning: elementwise comparison failed; returning scalar instead, but in the future will perform elementwise comparison\n",
      "  print(lon_bnds != \"all\", lon_bnds)\n",
      "/home/prodhommec/analyseMF/scripts-final-MF/previ-sais/function_read.py:28: FutureWarning: elementwise comparison failed; returning scalar instead, but in the future will perform elementwise comparison\n",
      "  if lon_bnds != \"all\":\n"
     ]
    },
    {
     "name": "stdout",
     "output_type": "stream",
     "text": [
      "all\n",
      "True [-180  179]\n",
      "3\n",
      "(6, 180, 360)\n"
     ]
    },
    {
     "name": "stderr",
     "output_type": "stream",
     "text": [
      "/home/prodhommec/analyseMF/scripts-final-MF/previ-sais/function_read.py:27: FutureWarning: elementwise comparison failed; returning scalar instead, but in the future will perform elementwise comparison\n",
      "  print(lon_bnds != \"all\", lon_bnds)\n",
      "/home/prodhommec/analyseMF/scripts-final-MF/previ-sais/function_read.py:28: FutureWarning: elementwise comparison failed; returning scalar instead, but in the future will perform elementwise comparison\n",
      "  if lon_bnds != \"all\":\n"
     ]
    },
    {
     "name": "stdout",
     "output_type": "stream",
     "text": [
      "all\n",
      "True [-180  179]\n",
      "3\n",
      "(6, 180, 360)\n"
     ]
    },
    {
     "name": "stderr",
     "output_type": "stream",
     "text": [
      "/home/prodhommec/analyseMF/scripts-final-MF/previ-sais/function_read.py:27: FutureWarning: elementwise comparison failed; returning scalar instead, but in the future will perform elementwise comparison\n",
      "  print(lon_bnds != \"all\", lon_bnds)\n",
      "/home/prodhommec/analyseMF/scripts-final-MF/previ-sais/function_read.py:28: FutureWarning: elementwise comparison failed; returning scalar instead, but in the future will perform elementwise comparison\n",
      "  if lon_bnds != \"all\":\n"
     ]
    },
    {
     "name": "stdout",
     "output_type": "stream",
     "text": [
      "all\n",
      "True [-180  179]\n",
      "3\n",
      "(6, 180, 360)\n"
     ]
    },
    {
     "name": "stderr",
     "output_type": "stream",
     "text": [
      "/home/prodhommec/analyseMF/scripts-final-MF/previ-sais/function_read.py:27: FutureWarning: elementwise comparison failed; returning scalar instead, but in the future will perform elementwise comparison\n",
      "  print(lon_bnds != \"all\", lon_bnds)\n",
      "/home/prodhommec/analyseMF/scripts-final-MF/previ-sais/function_read.py:28: FutureWarning: elementwise comparison failed; returning scalar instead, but in the future will perform elementwise comparison\n",
      "  if lon_bnds != \"all\":\n"
     ]
    },
    {
     "name": "stdout",
     "output_type": "stream",
     "text": [
      "all\n",
      "True [-180  179]\n",
      "3\n",
      "(6, 180, 360)\n"
     ]
    },
    {
     "name": "stderr",
     "output_type": "stream",
     "text": [
      "/home/prodhommec/analyseMF/scripts-final-MF/previ-sais/function_read.py:27: FutureWarning: elementwise comparison failed; returning scalar instead, but in the future will perform elementwise comparison\n",
      "  print(lon_bnds != \"all\", lon_bnds)\n",
      "/home/prodhommec/analyseMF/scripts-final-MF/previ-sais/function_read.py:28: FutureWarning: elementwise comparison failed; returning scalar instead, but in the future will perform elementwise comparison\n",
      "  if lon_bnds != \"all\":\n"
     ]
    },
    {
     "name": "stdout",
     "output_type": "stream",
     "text": [
      "all\n",
      "True [-180  179]\n",
      "3\n",
      "(6, 180, 360)\n"
     ]
    },
    {
     "name": "stderr",
     "output_type": "stream",
     "text": [
      "/home/prodhommec/analyseMF/scripts-final-MF/previ-sais/function_read.py:27: FutureWarning: elementwise comparison failed; returning scalar instead, but in the future will perform elementwise comparison\n",
      "  print(lon_bnds != \"all\", lon_bnds)\n",
      "/home/prodhommec/analyseMF/scripts-final-MF/previ-sais/function_read.py:28: FutureWarning: elementwise comparison failed; returning scalar instead, but in the future will perform elementwise comparison\n",
      "  if lon_bnds != \"all\":\n"
     ]
    },
    {
     "name": "stdout",
     "output_type": "stream",
     "text": [
      "all\n",
      "True [-180  179]\n",
      "3\n",
      "(6, 180, 360)\n"
     ]
    },
    {
     "name": "stderr",
     "output_type": "stream",
     "text": [
      "/home/prodhommec/analyseMF/scripts-final-MF/previ-sais/function_read.py:27: FutureWarning: elementwise comparison failed; returning scalar instead, but in the future will perform elementwise comparison\n",
      "  print(lon_bnds != \"all\", lon_bnds)\n",
      "/home/prodhommec/analyseMF/scripts-final-MF/previ-sais/function_read.py:28: FutureWarning: elementwise comparison failed; returning scalar instead, but in the future will perform elementwise comparison\n",
      "  if lon_bnds != \"all\":\n"
     ]
    },
    {
     "name": "stdout",
     "output_type": "stream",
     "text": [
      "all\n",
      "True [-180  179]\n",
      "3\n",
      "(6, 180, 360)\n"
     ]
    },
    {
     "name": "stderr",
     "output_type": "stream",
     "text": [
      "/home/prodhommec/analyseMF/scripts-final-MF/previ-sais/function_read.py:27: FutureWarning: elementwise comparison failed; returning scalar instead, but in the future will perform elementwise comparison\n",
      "  print(lon_bnds != \"all\", lon_bnds)\n",
      "/home/prodhommec/analyseMF/scripts-final-MF/previ-sais/function_read.py:28: FutureWarning: elementwise comparison failed; returning scalar instead, but in the future will perform elementwise comparison\n",
      "  if lon_bnds != \"all\":\n"
     ]
    },
    {
     "name": "stdout",
     "output_type": "stream",
     "text": [
      "all\n",
      "True [-180  179]\n",
      "3\n",
      "(6, 180, 360)\n"
     ]
    },
    {
     "name": "stderr",
     "output_type": "stream",
     "text": [
      "/home/prodhommec/analyseMF/scripts-final-MF/previ-sais/function_read.py:27: FutureWarning: elementwise comparison failed; returning scalar instead, but in the future will perform elementwise comparison\n",
      "  print(lon_bnds != \"all\", lon_bnds)\n",
      "/home/prodhommec/analyseMF/scripts-final-MF/previ-sais/function_read.py:28: FutureWarning: elementwise comparison failed; returning scalar instead, but in the future will perform elementwise comparison\n",
      "  if lon_bnds != \"all\":\n"
     ]
    },
    {
     "name": "stdout",
     "output_type": "stream",
     "text": [
      "all\n",
      "True [-180  179]\n",
      "3\n",
      "(6, 180, 360)\n"
     ]
    },
    {
     "name": "stderr",
     "output_type": "stream",
     "text": [
      "/home/prodhommec/analyseMF/scripts-final-MF/previ-sais/function_read.py:27: FutureWarning: elementwise comparison failed; returning scalar instead, but in the future will perform elementwise comparison\n",
      "  print(lon_bnds != \"all\", lon_bnds)\n",
      "/home/prodhommec/analyseMF/scripts-final-MF/previ-sais/function_read.py:28: FutureWarning: elementwise comparison failed; returning scalar instead, but in the future will perform elementwise comparison\n",
      "  if lon_bnds != \"all\":\n"
     ]
    },
    {
     "name": "stdout",
     "output_type": "stream",
     "text": [
      "all\n",
      "True [-180  179]\n",
      "3\n",
      "(6, 180, 360)\n"
     ]
    },
    {
     "name": "stderr",
     "output_type": "stream",
     "text": [
      "/home/prodhommec/analyseMF/scripts-final-MF/previ-sais/function_read.py:27: FutureWarning: elementwise comparison failed; returning scalar instead, but in the future will perform elementwise comparison\n",
      "  print(lon_bnds != \"all\", lon_bnds)\n",
      "/home/prodhommec/analyseMF/scripts-final-MF/previ-sais/function_read.py:28: FutureWarning: elementwise comparison failed; returning scalar instead, but in the future will perform elementwise comparison\n",
      "  if lon_bnds != \"all\":\n"
     ]
    },
    {
     "name": "stdout",
     "output_type": "stream",
     "text": [
      "all\n",
      "True [-180  179]\n",
      "3\n",
      "(6, 180, 360)\n"
     ]
    },
    {
     "name": "stderr",
     "output_type": "stream",
     "text": [
      "/home/prodhommec/analyseMF/scripts-final-MF/previ-sais/function_read.py:27: FutureWarning: elementwise comparison failed; returning scalar instead, but in the future will perform elementwise comparison\n",
      "  print(lon_bnds != \"all\", lon_bnds)\n",
      "/home/prodhommec/analyseMF/scripts-final-MF/previ-sais/function_read.py:28: FutureWarning: elementwise comparison failed; returning scalar instead, but in the future will perform elementwise comparison\n",
      "  if lon_bnds != \"all\":\n"
     ]
    },
    {
     "name": "stdout",
     "output_type": "stream",
     "text": [
      "all\n",
      "True [-180  179]\n",
      "3\n",
      "(6, 180, 360)\n"
     ]
    },
    {
     "name": "stderr",
     "output_type": "stream",
     "text": [
      "/home/prodhommec/analyseMF/scripts-final-MF/previ-sais/function_read.py:27: FutureWarning: elementwise comparison failed; returning scalar instead, but in the future will perform elementwise comparison\n",
      "  print(lon_bnds != \"all\", lon_bnds)\n",
      "/home/prodhommec/analyseMF/scripts-final-MF/previ-sais/function_read.py:28: FutureWarning: elementwise comparison failed; returning scalar instead, but in the future will perform elementwise comparison\n",
      "  if lon_bnds != \"all\":\n"
     ]
    },
    {
     "name": "stdout",
     "output_type": "stream",
     "text": [
      "all\n",
      "True [-180  179]\n",
      "3\n",
      "(6, 180, 360)\n"
     ]
    },
    {
     "name": "stderr",
     "output_type": "stream",
     "text": [
      "/home/prodhommec/analyseMF/scripts-final-MF/previ-sais/function_read.py:27: FutureWarning: elementwise comparison failed; returning scalar instead, but in the future will perform elementwise comparison\n",
      "  print(lon_bnds != \"all\", lon_bnds)\n",
      "/home/prodhommec/analyseMF/scripts-final-MF/previ-sais/function_read.py:28: FutureWarning: elementwise comparison failed; returning scalar instead, but in the future will perform elementwise comparison\n",
      "  if lon_bnds != \"all\":\n"
     ]
    },
    {
     "name": "stdout",
     "output_type": "stream",
     "text": [
      "all\n",
      "True [-180  179]\n",
      "3\n",
      "(6, 180, 360)\n",
      "(17, 6, 180, 360)\n"
     ]
    },
    {
     "name": "stderr",
     "output_type": "stream",
     "text": [
      "/home/prodhommec/analyseMF/scripts-final-MF/previ-sais/function_read.py:27: FutureWarning: elementwise comparison failed; returning scalar instead, but in the future will perform elementwise comparison\n",
      "  print(lon_bnds != \"all\", lon_bnds)\n",
      "/home/prodhommec/analyseMF/scripts-final-MF/previ-sais/function_read.py:28: FutureWarning: elementwise comparison failed; returning scalar instead, but in the future will perform elementwise comparison\n",
      "  if lon_bnds != \"all\":\n"
     ]
    },
    {
     "name": "stdout",
     "output_type": "stream",
     "text": [
      "all\n",
      "True [-180  179]\n",
      "3\n",
      "(6, 180, 360)\n"
     ]
    },
    {
     "name": "stderr",
     "output_type": "stream",
     "text": [
      "/home/prodhommec/analyseMF/scripts-final-MF/previ-sais/function_read.py:27: FutureWarning: elementwise comparison failed; returning scalar instead, but in the future will perform elementwise comparison\n",
      "  print(lon_bnds != \"all\", lon_bnds)\n",
      "/home/prodhommec/analyseMF/scripts-final-MF/previ-sais/function_read.py:28: FutureWarning: elementwise comparison failed; returning scalar instead, but in the future will perform elementwise comparison\n",
      "  if lon_bnds != \"all\":\n"
     ]
    },
    {
     "name": "stdout",
     "output_type": "stream",
     "text": [
      "all\n",
      "True [-180  179]\n",
      "3\n",
      "(6, 180, 360)\n"
     ]
    },
    {
     "name": "stderr",
     "output_type": "stream",
     "text": [
      "/home/prodhommec/analyseMF/scripts-final-MF/previ-sais/function_read.py:27: FutureWarning: elementwise comparison failed; returning scalar instead, but in the future will perform elementwise comparison\n",
      "  print(lon_bnds != \"all\", lon_bnds)\n",
      "/home/prodhommec/analyseMF/scripts-final-MF/previ-sais/function_read.py:28: FutureWarning: elementwise comparison failed; returning scalar instead, but in the future will perform elementwise comparison\n",
      "  if lon_bnds != \"all\":\n"
     ]
    },
    {
     "name": "stdout",
     "output_type": "stream",
     "text": [
      "all\n",
      "True [-180  179]\n",
      "3\n",
      "(6, 180, 360)\n"
     ]
    },
    {
     "name": "stderr",
     "output_type": "stream",
     "text": [
      "/home/prodhommec/analyseMF/scripts-final-MF/previ-sais/function_read.py:27: FutureWarning: elementwise comparison failed; returning scalar instead, but in the future will perform elementwise comparison\n",
      "  print(lon_bnds != \"all\", lon_bnds)\n",
      "/home/prodhommec/analyseMF/scripts-final-MF/previ-sais/function_read.py:28: FutureWarning: elementwise comparison failed; returning scalar instead, but in the future will perform elementwise comparison\n",
      "  if lon_bnds != \"all\":\n"
     ]
    },
    {
     "name": "stdout",
     "output_type": "stream",
     "text": [
      "all\n",
      "True [-180  179]\n",
      "3\n",
      "(6, 180, 360)\n"
     ]
    },
    {
     "name": "stderr",
     "output_type": "stream",
     "text": [
      "/home/prodhommec/analyseMF/scripts-final-MF/previ-sais/function_read.py:27: FutureWarning: elementwise comparison failed; returning scalar instead, but in the future will perform elementwise comparison\n",
      "  print(lon_bnds != \"all\", lon_bnds)\n",
      "/home/prodhommec/analyseMF/scripts-final-MF/previ-sais/function_read.py:28: FutureWarning: elementwise comparison failed; returning scalar instead, but in the future will perform elementwise comparison\n",
      "  if lon_bnds != \"all\":\n"
     ]
    },
    {
     "name": "stdout",
     "output_type": "stream",
     "text": [
      "all\n",
      "True [-180  179]\n",
      "3\n",
      "(6, 180, 360)\n"
     ]
    },
    {
     "name": "stderr",
     "output_type": "stream",
     "text": [
      "/home/prodhommec/analyseMF/scripts-final-MF/previ-sais/function_read.py:27: FutureWarning: elementwise comparison failed; returning scalar instead, but in the future will perform elementwise comparison\n",
      "  print(lon_bnds != \"all\", lon_bnds)\n",
      "/home/prodhommec/analyseMF/scripts-final-MF/previ-sais/function_read.py:28: FutureWarning: elementwise comparison failed; returning scalar instead, but in the future will perform elementwise comparison\n",
      "  if lon_bnds != \"all\":\n"
     ]
    },
    {
     "name": "stdout",
     "output_type": "stream",
     "text": [
      "all\n",
      "True [-180  179]\n",
      "3\n",
      "(6, 180, 360)\n"
     ]
    },
    {
     "name": "stderr",
     "output_type": "stream",
     "text": [
      "/home/prodhommec/analyseMF/scripts-final-MF/previ-sais/function_read.py:27: FutureWarning: elementwise comparison failed; returning scalar instead, but in the future will perform elementwise comparison\n",
      "  print(lon_bnds != \"all\", lon_bnds)\n",
      "/home/prodhommec/analyseMF/scripts-final-MF/previ-sais/function_read.py:28: FutureWarning: elementwise comparison failed; returning scalar instead, but in the future will perform elementwise comparison\n",
      "  if lon_bnds != \"all\":\n"
     ]
    },
    {
     "name": "stdout",
     "output_type": "stream",
     "text": [
      "all\n",
      "True [-180  179]\n",
      "3\n",
      "(6, 180, 360)\n"
     ]
    },
    {
     "name": "stderr",
     "output_type": "stream",
     "text": [
      "/home/prodhommec/analyseMF/scripts-final-MF/previ-sais/function_read.py:27: FutureWarning: elementwise comparison failed; returning scalar instead, but in the future will perform elementwise comparison\n",
      "  print(lon_bnds != \"all\", lon_bnds)\n",
      "/home/prodhommec/analyseMF/scripts-final-MF/previ-sais/function_read.py:28: FutureWarning: elementwise comparison failed; returning scalar instead, but in the future will perform elementwise comparison\n",
      "  if lon_bnds != \"all\":\n"
     ]
    },
    {
     "name": "stdout",
     "output_type": "stream",
     "text": [
      "all\n",
      "True [-180  179]\n",
      "3\n",
      "(6, 180, 360)\n"
     ]
    },
    {
     "name": "stderr",
     "output_type": "stream",
     "text": [
      "/home/prodhommec/analyseMF/scripts-final-MF/previ-sais/function_read.py:27: FutureWarning: elementwise comparison failed; returning scalar instead, but in the future will perform elementwise comparison\n",
      "  print(lon_bnds != \"all\", lon_bnds)\n",
      "/home/prodhommec/analyseMF/scripts-final-MF/previ-sais/function_read.py:28: FutureWarning: elementwise comparison failed; returning scalar instead, but in the future will perform elementwise comparison\n",
      "  if lon_bnds != \"all\":\n"
     ]
    },
    {
     "name": "stdout",
     "output_type": "stream",
     "text": [
      "all\n",
      "True [-180  179]\n",
      "3\n",
      "(6, 180, 360)\n"
     ]
    },
    {
     "name": "stderr",
     "output_type": "stream",
     "text": [
      "/home/prodhommec/analyseMF/scripts-final-MF/previ-sais/function_read.py:27: FutureWarning: elementwise comparison failed; returning scalar instead, but in the future will perform elementwise comparison\n",
      "  print(lon_bnds != \"all\", lon_bnds)\n",
      "/home/prodhommec/analyseMF/scripts-final-MF/previ-sais/function_read.py:28: FutureWarning: elementwise comparison failed; returning scalar instead, but in the future will perform elementwise comparison\n",
      "  if lon_bnds != \"all\":\n"
     ]
    },
    {
     "name": "stdout",
     "output_type": "stream",
     "text": [
      "all\n",
      "True [-180  179]\n",
      "3\n",
      "(6, 180, 360)\n"
     ]
    },
    {
     "name": "stderr",
     "output_type": "stream",
     "text": [
      "/home/prodhommec/analyseMF/scripts-final-MF/previ-sais/function_read.py:27: FutureWarning: elementwise comparison failed; returning scalar instead, but in the future will perform elementwise comparison\n",
      "  print(lon_bnds != \"all\", lon_bnds)\n",
      "/home/prodhommec/analyseMF/scripts-final-MF/previ-sais/function_read.py:28: FutureWarning: elementwise comparison failed; returning scalar instead, but in the future will perform elementwise comparison\n",
      "  if lon_bnds != \"all\":\n"
     ]
    },
    {
     "name": "stdout",
     "output_type": "stream",
     "text": [
      "all\n",
      "True [-180  179]\n",
      "3\n",
      "(6, 180, 360)\n"
     ]
    },
    {
     "name": "stderr",
     "output_type": "stream",
     "text": [
      "/home/prodhommec/analyseMF/scripts-final-MF/previ-sais/function_read.py:27: FutureWarning: elementwise comparison failed; returning scalar instead, but in the future will perform elementwise comparison\n",
      "  print(lon_bnds != \"all\", lon_bnds)\n",
      "/home/prodhommec/analyseMF/scripts-final-MF/previ-sais/function_read.py:28: FutureWarning: elementwise comparison failed; returning scalar instead, but in the future will perform elementwise comparison\n",
      "  if lon_bnds != \"all\":\n"
     ]
    },
    {
     "name": "stdout",
     "output_type": "stream",
     "text": [
      "all\n",
      "True [-180  179]\n",
      "3\n",
      "(6, 180, 360)\n"
     ]
    },
    {
     "name": "stderr",
     "output_type": "stream",
     "text": [
      "/home/prodhommec/analyseMF/scripts-final-MF/previ-sais/function_read.py:27: FutureWarning: elementwise comparison failed; returning scalar instead, but in the future will perform elementwise comparison\n",
      "  print(lon_bnds != \"all\", lon_bnds)\n",
      "/home/prodhommec/analyseMF/scripts-final-MF/previ-sais/function_read.py:28: FutureWarning: elementwise comparison failed; returning scalar instead, but in the future will perform elementwise comparison\n",
      "  if lon_bnds != \"all\":\n"
     ]
    },
    {
     "name": "stdout",
     "output_type": "stream",
     "text": [
      "all\n",
      "True [-180  179]\n",
      "3\n",
      "(6, 180, 360)\n"
     ]
    },
    {
     "name": "stderr",
     "output_type": "stream",
     "text": [
      "/home/prodhommec/analyseMF/scripts-final-MF/previ-sais/function_read.py:27: FutureWarning: elementwise comparison failed; returning scalar instead, but in the future will perform elementwise comparison\n",
      "  print(lon_bnds != \"all\", lon_bnds)\n",
      "/home/prodhommec/analyseMF/scripts-final-MF/previ-sais/function_read.py:28: FutureWarning: elementwise comparison failed; returning scalar instead, but in the future will perform elementwise comparison\n",
      "  if lon_bnds != \"all\":\n"
     ]
    },
    {
     "name": "stdout",
     "output_type": "stream",
     "text": [
      "all\n",
      "True [-180  179]\n",
      "3\n",
      "(6, 180, 360)\n"
     ]
    },
    {
     "name": "stderr",
     "output_type": "stream",
     "text": [
      "/home/prodhommec/analyseMF/scripts-final-MF/previ-sais/function_read.py:27: FutureWarning: elementwise comparison failed; returning scalar instead, but in the future will perform elementwise comparison\n",
      "  print(lon_bnds != \"all\", lon_bnds)\n",
      "/home/prodhommec/analyseMF/scripts-final-MF/previ-sais/function_read.py:28: FutureWarning: elementwise comparison failed; returning scalar instead, but in the future will perform elementwise comparison\n",
      "  if lon_bnds != \"all\":\n"
     ]
    },
    {
     "name": "stdout",
     "output_type": "stream",
     "text": [
      "all\n",
      "True [-180  179]\n",
      "3\n",
      "(6, 180, 360)\n"
     ]
    },
    {
     "name": "stderr",
     "output_type": "stream",
     "text": [
      "/home/prodhommec/analyseMF/scripts-final-MF/previ-sais/function_read.py:27: FutureWarning: elementwise comparison failed; returning scalar instead, but in the future will perform elementwise comparison\n",
      "  print(lon_bnds != \"all\", lon_bnds)\n",
      "/home/prodhommec/analyseMF/scripts-final-MF/previ-sais/function_read.py:28: FutureWarning: elementwise comparison failed; returning scalar instead, but in the future will perform elementwise comparison\n",
      "  if lon_bnds != \"all\":\n"
     ]
    },
    {
     "name": "stdout",
     "output_type": "stream",
     "text": [
      "all\n",
      "True [-180  179]\n",
      "3\n",
      "(6, 180, 360)\n"
     ]
    },
    {
     "name": "stderr",
     "output_type": "stream",
     "text": [
      "/home/prodhommec/analyseMF/scripts-final-MF/previ-sais/function_read.py:27: FutureWarning: elementwise comparison failed; returning scalar instead, but in the future will perform elementwise comparison\n",
      "  print(lon_bnds != \"all\", lon_bnds)\n",
      "/home/prodhommec/analyseMF/scripts-final-MF/previ-sais/function_read.py:28: FutureWarning: elementwise comparison failed; returning scalar instead, but in the future will perform elementwise comparison\n",
      "  if lon_bnds != \"all\":\n"
     ]
    },
    {
     "name": "stdout",
     "output_type": "stream",
     "text": [
      "all\n",
      "True [-180  179]\n",
      "3\n",
      "(6, 180, 360)\n",
      "(17, 6, 180, 360)\n"
     ]
    },
    {
     "name": "stderr",
     "output_type": "stream",
     "text": [
      "/home/prodhommec/analyseMF/scripts-final-MF/previ-sais/function_read.py:27: FutureWarning: elementwise comparison failed; returning scalar instead, but in the future will perform elementwise comparison\n",
      "  print(lon_bnds != \"all\", lon_bnds)\n",
      "/home/prodhommec/analyseMF/scripts-final-MF/previ-sais/function_read.py:28: FutureWarning: elementwise comparison failed; returning scalar instead, but in the future will perform elementwise comparison\n",
      "  if lon_bnds != \"all\":\n"
     ]
    },
    {
     "name": "stdout",
     "output_type": "stream",
     "text": [
      "all\n",
      "True [-180  179]\n",
      "3\n",
      "(6, 180, 360)\n"
     ]
    },
    {
     "name": "stderr",
     "output_type": "stream",
     "text": [
      "/home/prodhommec/analyseMF/scripts-final-MF/previ-sais/function_read.py:27: FutureWarning: elementwise comparison failed; returning scalar instead, but in the future will perform elementwise comparison\n",
      "  print(lon_bnds != \"all\", lon_bnds)\n",
      "/home/prodhommec/analyseMF/scripts-final-MF/previ-sais/function_read.py:28: FutureWarning: elementwise comparison failed; returning scalar instead, but in the future will perform elementwise comparison\n",
      "  if lon_bnds != \"all\":\n"
     ]
    },
    {
     "name": "stdout",
     "output_type": "stream",
     "text": [
      "all\n",
      "True [-180  179]\n",
      "3\n",
      "(6, 180, 360)\n"
     ]
    },
    {
     "name": "stderr",
     "output_type": "stream",
     "text": [
      "/home/prodhommec/analyseMF/scripts-final-MF/previ-sais/function_read.py:27: FutureWarning: elementwise comparison failed; returning scalar instead, but in the future will perform elementwise comparison\n",
      "  print(lon_bnds != \"all\", lon_bnds)\n",
      "/home/prodhommec/analyseMF/scripts-final-MF/previ-sais/function_read.py:28: FutureWarning: elementwise comparison failed; returning scalar instead, but in the future will perform elementwise comparison\n",
      "  if lon_bnds != \"all\":\n"
     ]
    },
    {
     "name": "stdout",
     "output_type": "stream",
     "text": [
      "all\n",
      "True [-180  179]\n",
      "3\n",
      "(6, 180, 360)\n"
     ]
    },
    {
     "name": "stderr",
     "output_type": "stream",
     "text": [
      "/home/prodhommec/analyseMF/scripts-final-MF/previ-sais/function_read.py:27: FutureWarning: elementwise comparison failed; returning scalar instead, but in the future will perform elementwise comparison\n",
      "  print(lon_bnds != \"all\", lon_bnds)\n",
      "/home/prodhommec/analyseMF/scripts-final-MF/previ-sais/function_read.py:28: FutureWarning: elementwise comparison failed; returning scalar instead, but in the future will perform elementwise comparison\n",
      "  if lon_bnds != \"all\":\n"
     ]
    },
    {
     "name": "stdout",
     "output_type": "stream",
     "text": [
      "all\n",
      "True [-180  179]\n",
      "3\n",
      "(6, 180, 360)\n"
     ]
    },
    {
     "name": "stderr",
     "output_type": "stream",
     "text": [
      "/home/prodhommec/analyseMF/scripts-final-MF/previ-sais/function_read.py:27: FutureWarning: elementwise comparison failed; returning scalar instead, but in the future will perform elementwise comparison\n",
      "  print(lon_bnds != \"all\", lon_bnds)\n",
      "/home/prodhommec/analyseMF/scripts-final-MF/previ-sais/function_read.py:28: FutureWarning: elementwise comparison failed; returning scalar instead, but in the future will perform elementwise comparison\n",
      "  if lon_bnds != \"all\":\n"
     ]
    },
    {
     "name": "stdout",
     "output_type": "stream",
     "text": [
      "all\n",
      "True [-180  179]\n",
      "3\n",
      "(6, 180, 360)\n"
     ]
    },
    {
     "name": "stderr",
     "output_type": "stream",
     "text": [
      "/home/prodhommec/analyseMF/scripts-final-MF/previ-sais/function_read.py:27: FutureWarning: elementwise comparison failed; returning scalar instead, but in the future will perform elementwise comparison\n",
      "  print(lon_bnds != \"all\", lon_bnds)\n",
      "/home/prodhommec/analyseMF/scripts-final-MF/previ-sais/function_read.py:28: FutureWarning: elementwise comparison failed; returning scalar instead, but in the future will perform elementwise comparison\n",
      "  if lon_bnds != \"all\":\n"
     ]
    },
    {
     "name": "stdout",
     "output_type": "stream",
     "text": [
      "all\n",
      "True [-180  179]\n",
      "3\n",
      "(6, 180, 360)\n"
     ]
    },
    {
     "name": "stderr",
     "output_type": "stream",
     "text": [
      "/home/prodhommec/analyseMF/scripts-final-MF/previ-sais/function_read.py:27: FutureWarning: elementwise comparison failed; returning scalar instead, but in the future will perform elementwise comparison\n",
      "  print(lon_bnds != \"all\", lon_bnds)\n",
      "/home/prodhommec/analyseMF/scripts-final-MF/previ-sais/function_read.py:28: FutureWarning: elementwise comparison failed; returning scalar instead, but in the future will perform elementwise comparison\n",
      "  if lon_bnds != \"all\":\n"
     ]
    },
    {
     "name": "stdout",
     "output_type": "stream",
     "text": [
      "all\n",
      "True [-180  179]\n",
      "3\n",
      "(6, 180, 360)\n"
     ]
    },
    {
     "name": "stderr",
     "output_type": "stream",
     "text": [
      "/home/prodhommec/analyseMF/scripts-final-MF/previ-sais/function_read.py:27: FutureWarning: elementwise comparison failed; returning scalar instead, but in the future will perform elementwise comparison\n",
      "  print(lon_bnds != \"all\", lon_bnds)\n",
      "/home/prodhommec/analyseMF/scripts-final-MF/previ-sais/function_read.py:28: FutureWarning: elementwise comparison failed; returning scalar instead, but in the future will perform elementwise comparison\n",
      "  if lon_bnds != \"all\":\n"
     ]
    },
    {
     "name": "stdout",
     "output_type": "stream",
     "text": [
      "all\n",
      "True [-180  179]\n",
      "3\n",
      "(6, 180, 360)\n"
     ]
    },
    {
     "name": "stderr",
     "output_type": "stream",
     "text": [
      "/home/prodhommec/analyseMF/scripts-final-MF/previ-sais/function_read.py:27: FutureWarning: elementwise comparison failed; returning scalar instead, but in the future will perform elementwise comparison\n",
      "  print(lon_bnds != \"all\", lon_bnds)\n",
      "/home/prodhommec/analyseMF/scripts-final-MF/previ-sais/function_read.py:28: FutureWarning: elementwise comparison failed; returning scalar instead, but in the future will perform elementwise comparison\n",
      "  if lon_bnds != \"all\":\n"
     ]
    },
    {
     "name": "stdout",
     "output_type": "stream",
     "text": [
      "all\n",
      "True [-180  179]\n",
      "3\n",
      "(6, 180, 360)\n"
     ]
    },
    {
     "name": "stderr",
     "output_type": "stream",
     "text": [
      "/home/prodhommec/analyseMF/scripts-final-MF/previ-sais/function_read.py:27: FutureWarning: elementwise comparison failed; returning scalar instead, but in the future will perform elementwise comparison\n",
      "  print(lon_bnds != \"all\", lon_bnds)\n",
      "/home/prodhommec/analyseMF/scripts-final-MF/previ-sais/function_read.py:28: FutureWarning: elementwise comparison failed; returning scalar instead, but in the future will perform elementwise comparison\n",
      "  if lon_bnds != \"all\":\n"
     ]
    },
    {
     "name": "stdout",
     "output_type": "stream",
     "text": [
      "all\n",
      "True [-180  179]\n",
      "3\n",
      "(6, 180, 360)\n"
     ]
    },
    {
     "name": "stderr",
     "output_type": "stream",
     "text": [
      "/home/prodhommec/analyseMF/scripts-final-MF/previ-sais/function_read.py:27: FutureWarning: elementwise comparison failed; returning scalar instead, but in the future will perform elementwise comparison\n",
      "  print(lon_bnds != \"all\", lon_bnds)\n",
      "/home/prodhommec/analyseMF/scripts-final-MF/previ-sais/function_read.py:28: FutureWarning: elementwise comparison failed; returning scalar instead, but in the future will perform elementwise comparison\n",
      "  if lon_bnds != \"all\":\n"
     ]
    },
    {
     "name": "stdout",
     "output_type": "stream",
     "text": [
      "all\n",
      "True [-180  179]\n",
      "3\n",
      "(6, 180, 360)\n"
     ]
    },
    {
     "name": "stderr",
     "output_type": "stream",
     "text": [
      "/home/prodhommec/analyseMF/scripts-final-MF/previ-sais/function_read.py:27: FutureWarning: elementwise comparison failed; returning scalar instead, but in the future will perform elementwise comparison\n",
      "  print(lon_bnds != \"all\", lon_bnds)\n",
      "/home/prodhommec/analyseMF/scripts-final-MF/previ-sais/function_read.py:28: FutureWarning: elementwise comparison failed; returning scalar instead, but in the future will perform elementwise comparison\n",
      "  if lon_bnds != \"all\":\n"
     ]
    },
    {
     "name": "stdout",
     "output_type": "stream",
     "text": [
      "all\n",
      "True [-180  179]\n",
      "3\n",
      "(6, 180, 360)\n"
     ]
    },
    {
     "name": "stderr",
     "output_type": "stream",
     "text": [
      "/home/prodhommec/analyseMF/scripts-final-MF/previ-sais/function_read.py:27: FutureWarning: elementwise comparison failed; returning scalar instead, but in the future will perform elementwise comparison\n",
      "  print(lon_bnds != \"all\", lon_bnds)\n",
      "/home/prodhommec/analyseMF/scripts-final-MF/previ-sais/function_read.py:28: FutureWarning: elementwise comparison failed; returning scalar instead, but in the future will perform elementwise comparison\n",
      "  if lon_bnds != \"all\":\n"
     ]
    },
    {
     "name": "stdout",
     "output_type": "stream",
     "text": [
      "all\n",
      "True [-180  179]\n",
      "3\n",
      "(6, 180, 360)\n"
     ]
    },
    {
     "name": "stderr",
     "output_type": "stream",
     "text": [
      "/home/prodhommec/analyseMF/scripts-final-MF/previ-sais/function_read.py:27: FutureWarning: elementwise comparison failed; returning scalar instead, but in the future will perform elementwise comparison\n",
      "  print(lon_bnds != \"all\", lon_bnds)\n",
      "/home/prodhommec/analyseMF/scripts-final-MF/previ-sais/function_read.py:28: FutureWarning: elementwise comparison failed; returning scalar instead, but in the future will perform elementwise comparison\n",
      "  if lon_bnds != \"all\":\n"
     ]
    },
    {
     "name": "stdout",
     "output_type": "stream",
     "text": [
      "all\n",
      "True [-180  179]\n",
      "3\n",
      "(6, 180, 360)\n"
     ]
    },
    {
     "name": "stderr",
     "output_type": "stream",
     "text": [
      "/home/prodhommec/analyseMF/scripts-final-MF/previ-sais/function_read.py:27: FutureWarning: elementwise comparison failed; returning scalar instead, but in the future will perform elementwise comparison\n",
      "  print(lon_bnds != \"all\", lon_bnds)\n",
      "/home/prodhommec/analyseMF/scripts-final-MF/previ-sais/function_read.py:28: FutureWarning: elementwise comparison failed; returning scalar instead, but in the future will perform elementwise comparison\n",
      "  if lon_bnds != \"all\":\n"
     ]
    },
    {
     "name": "stdout",
     "output_type": "stream",
     "text": [
      "all\n",
      "True [-180  179]\n",
      "3\n",
      "(6, 180, 360)\n"
     ]
    },
    {
     "name": "stderr",
     "output_type": "stream",
     "text": [
      "/home/prodhommec/analyseMF/scripts-final-MF/previ-sais/function_read.py:27: FutureWarning: elementwise comparison failed; returning scalar instead, but in the future will perform elementwise comparison\n",
      "  print(lon_bnds != \"all\", lon_bnds)\n",
      "/home/prodhommec/analyseMF/scripts-final-MF/previ-sais/function_read.py:28: FutureWarning: elementwise comparison failed; returning scalar instead, but in the future will perform elementwise comparison\n",
      "  if lon_bnds != \"all\":\n"
     ]
    },
    {
     "name": "stdout",
     "output_type": "stream",
     "text": [
      "all\n",
      "True [-180  179]\n",
      "3\n",
      "(6, 180, 360)\n"
     ]
    },
    {
     "name": "stderr",
     "output_type": "stream",
     "text": [
      "/home/prodhommec/analyseMF/scripts-final-MF/previ-sais/function_read.py:27: FutureWarning: elementwise comparison failed; returning scalar instead, but in the future will perform elementwise comparison\n",
      "  print(lon_bnds != \"all\", lon_bnds)\n",
      "/home/prodhommec/analyseMF/scripts-final-MF/previ-sais/function_read.py:28: FutureWarning: elementwise comparison failed; returning scalar instead, but in the future will perform elementwise comparison\n",
      "  if lon_bnds != \"all\":\n"
     ]
    },
    {
     "name": "stdout",
     "output_type": "stream",
     "text": [
      "all\n",
      "True [-180  179]\n",
      "3\n",
      "(6, 180, 360)\n",
      "(17, 6, 180, 360)\n"
     ]
    },
    {
     "name": "stderr",
     "output_type": "stream",
     "text": [
      "/home/prodhommec/analyseMF/scripts-final-MF/previ-sais/function_read.py:27: FutureWarning: elementwise comparison failed; returning scalar instead, but in the future will perform elementwise comparison\n",
      "  print(lon_bnds != \"all\", lon_bnds)\n",
      "/home/prodhommec/analyseMF/scripts-final-MF/previ-sais/function_read.py:28: FutureWarning: elementwise comparison failed; returning scalar instead, but in the future will perform elementwise comparison\n",
      "  if lon_bnds != \"all\":\n"
     ]
    }
   ],
   "source": [
    "# list to be converted in array to store the data\n",
    "varMM=[]\n",
    "# list to store the missing members\n",
    "# additional comment: in the test simulation I was investigating a few members where missing; I replace them\n",
    "# by the members 5 this should be remove when the dataset will be complete\n",
    "missing=[]\n",
    "#loop over members\n",
    "for imemb in range(1,nmemb+1):\n",
    "    moddate=[]\n",
    "    # loop over start dates\n",
    "    for s in sdatelst:\n",
    "        f=glob(\"/cnrm/pastel/USERS/prodhommec/NO_SAVE/dcppA-hindcast/*r%ii2p1f2/\"%imemb+varname+\"*\"+s.strftime(\"%Y%m\")+\"*\")\n",
    "        # as said before if the member is missing use the member 5 (to be removed with a complete dataset)\n",
    "        if len(f)==0:\n",
    "            print(f)\n",
    "            f=glob(\"/cnrm/pastel/USERS/prodhommec/NO_SAVE/dcppA-hindcast/*r%ii2p1f2/\"%(5)+varname+\"*\"+s.strftime(\"%Y%m\")+\"*\")\n",
    "            missing.append((imemb, s))\n",
    "          \n",
    "        #interpolation to 1x1 degree grid \n",
    "        f=cdo.remapbil(\"r360x180\", input=f[0])\n",
    "            \n",
    "        varf=netCDF4.Dataset(f)\n",
    "        #extract array from fonction read (the fonction would need adaptation to work directly on the NEMO grid)\n",
    "        mod, latobs, lonobs  = extract_array(varf, varname, nmon, lon_bnds, lat_bnds)\n",
    "        moddate.append(mod)\n",
    "    #store data    \n",
    "    varMM.append(np.array(moddate))\n",
    "    print(np.array(moddate).shape)\n",
    "\n",
    "#convert in numpy array\n",
    "varMM=np.array(varMM)"
   ]
  },
  {
   "cell_type": "markdown",
   "metadata": {},
   "source": [
    "### Read files: system8"
   ]
  },
  {
   "cell_type": "code",
   "execution_count": 5,
   "metadata": {},
   "outputs": [
    {
     "name": "stdout",
     "output_type": "stream",
     "text": [
      "all\n",
      "True [-180  179]\n",
      "3\n",
      "(6, 180, 360)\n"
     ]
    },
    {
     "name": "stderr",
     "output_type": "stream",
     "text": [
      "/home/prodhommec/analyseMF/scripts-final-MF/previ-sais/function_read.py:27: FutureWarning: elementwise comparison failed; returning scalar instead, but in the future will perform elementwise comparison\n",
      "  print(lon_bnds != \"all\", lon_bnds)\n",
      "/home/prodhommec/analyseMF/scripts-final-MF/previ-sais/function_read.py:28: FutureWarning: elementwise comparison failed; returning scalar instead, but in the future will perform elementwise comparison\n",
      "  if lon_bnds != \"all\":\n"
     ]
    },
    {
     "name": "stdout",
     "output_type": "stream",
     "text": [
      "all\n",
      "True [-180  179]\n",
      "3\n",
      "(6, 180, 360)\n"
     ]
    },
    {
     "name": "stderr",
     "output_type": "stream",
     "text": [
      "/home/prodhommec/analyseMF/scripts-final-MF/previ-sais/function_read.py:27: FutureWarning: elementwise comparison failed; returning scalar instead, but in the future will perform elementwise comparison\n",
      "  print(lon_bnds != \"all\", lon_bnds)\n",
      "/home/prodhommec/analyseMF/scripts-final-MF/previ-sais/function_read.py:28: FutureWarning: elementwise comparison failed; returning scalar instead, but in the future will perform elementwise comparison\n",
      "  if lon_bnds != \"all\":\n"
     ]
    },
    {
     "name": "stdout",
     "output_type": "stream",
     "text": [
      "all\n",
      "True [-180  179]\n",
      "3\n",
      "(6, 180, 360)\n"
     ]
    },
    {
     "name": "stderr",
     "output_type": "stream",
     "text": [
      "/home/prodhommec/analyseMF/scripts-final-MF/previ-sais/function_read.py:27: FutureWarning: elementwise comparison failed; returning scalar instead, but in the future will perform elementwise comparison\n",
      "  print(lon_bnds != \"all\", lon_bnds)\n",
      "/home/prodhommec/analyseMF/scripts-final-MF/previ-sais/function_read.py:28: FutureWarning: elementwise comparison failed; returning scalar instead, but in the future will perform elementwise comparison\n",
      "  if lon_bnds != \"all\":\n"
     ]
    },
    {
     "name": "stdout",
     "output_type": "stream",
     "text": [
      "all\n",
      "True [-180  179]\n",
      "3\n",
      "(6, 180, 360)\n"
     ]
    },
    {
     "name": "stderr",
     "output_type": "stream",
     "text": [
      "/home/prodhommec/analyseMF/scripts-final-MF/previ-sais/function_read.py:27: FutureWarning: elementwise comparison failed; returning scalar instead, but in the future will perform elementwise comparison\n",
      "  print(lon_bnds != \"all\", lon_bnds)\n",
      "/home/prodhommec/analyseMF/scripts-final-MF/previ-sais/function_read.py:28: FutureWarning: elementwise comparison failed; returning scalar instead, but in the future will perform elementwise comparison\n",
      "  if lon_bnds != \"all\":\n"
     ]
    },
    {
     "name": "stdout",
     "output_type": "stream",
     "text": [
      "all\n",
      "True [-180  179]\n",
      "3\n",
      "(6, 180, 360)\n"
     ]
    },
    {
     "name": "stderr",
     "output_type": "stream",
     "text": [
      "/home/prodhommec/analyseMF/scripts-final-MF/previ-sais/function_read.py:27: FutureWarning: elementwise comparison failed; returning scalar instead, but in the future will perform elementwise comparison\n",
      "  print(lon_bnds != \"all\", lon_bnds)\n",
      "/home/prodhommec/analyseMF/scripts-final-MF/previ-sais/function_read.py:28: FutureWarning: elementwise comparison failed; returning scalar instead, but in the future will perform elementwise comparison\n",
      "  if lon_bnds != \"all\":\n"
     ]
    },
    {
     "name": "stdout",
     "output_type": "stream",
     "text": [
      "all\n",
      "True [-180  179]\n",
      "3\n",
      "(6, 180, 360)\n"
     ]
    },
    {
     "name": "stderr",
     "output_type": "stream",
     "text": [
      "/home/prodhommec/analyseMF/scripts-final-MF/previ-sais/function_read.py:27: FutureWarning: elementwise comparison failed; returning scalar instead, but in the future will perform elementwise comparison\n",
      "  print(lon_bnds != \"all\", lon_bnds)\n",
      "/home/prodhommec/analyseMF/scripts-final-MF/previ-sais/function_read.py:28: FutureWarning: elementwise comparison failed; returning scalar instead, but in the future will perform elementwise comparison\n",
      "  if lon_bnds != \"all\":\n"
     ]
    },
    {
     "name": "stdout",
     "output_type": "stream",
     "text": [
      "all\n",
      "True [-180  179]\n",
      "3\n",
      "(6, 180, 360)\n"
     ]
    },
    {
     "name": "stderr",
     "output_type": "stream",
     "text": [
      "/home/prodhommec/analyseMF/scripts-final-MF/previ-sais/function_read.py:27: FutureWarning: elementwise comparison failed; returning scalar instead, but in the future will perform elementwise comparison\n",
      "  print(lon_bnds != \"all\", lon_bnds)\n",
      "/home/prodhommec/analyseMF/scripts-final-MF/previ-sais/function_read.py:28: FutureWarning: elementwise comparison failed; returning scalar instead, but in the future will perform elementwise comparison\n",
      "  if lon_bnds != \"all\":\n"
     ]
    },
    {
     "name": "stdout",
     "output_type": "stream",
     "text": [
      "all\n",
      "True [-180  179]\n",
      "3\n",
      "(6, 180, 360)\n"
     ]
    },
    {
     "name": "stderr",
     "output_type": "stream",
     "text": [
      "/home/prodhommec/analyseMF/scripts-final-MF/previ-sais/function_read.py:27: FutureWarning: elementwise comparison failed; returning scalar instead, but in the future will perform elementwise comparison\n",
      "  print(lon_bnds != \"all\", lon_bnds)\n",
      "/home/prodhommec/analyseMF/scripts-final-MF/previ-sais/function_read.py:28: FutureWarning: elementwise comparison failed; returning scalar instead, but in the future will perform elementwise comparison\n",
      "  if lon_bnds != \"all\":\n"
     ]
    },
    {
     "name": "stdout",
     "output_type": "stream",
     "text": [
      "all\n",
      "True [-180  179]\n",
      "3\n",
      "(6, 180, 360)\n"
     ]
    },
    {
     "name": "stderr",
     "output_type": "stream",
     "text": [
      "/home/prodhommec/analyseMF/scripts-final-MF/previ-sais/function_read.py:27: FutureWarning: elementwise comparison failed; returning scalar instead, but in the future will perform elementwise comparison\n",
      "  print(lon_bnds != \"all\", lon_bnds)\n",
      "/home/prodhommec/analyseMF/scripts-final-MF/previ-sais/function_read.py:28: FutureWarning: elementwise comparison failed; returning scalar instead, but in the future will perform elementwise comparison\n",
      "  if lon_bnds != \"all\":\n"
     ]
    },
    {
     "name": "stdout",
     "output_type": "stream",
     "text": [
      "all\n",
      "True [-180  179]\n",
      "3\n",
      "(6, 180, 360)\n"
     ]
    },
    {
     "name": "stderr",
     "output_type": "stream",
     "text": [
      "/home/prodhommec/analyseMF/scripts-final-MF/previ-sais/function_read.py:27: FutureWarning: elementwise comparison failed; returning scalar instead, but in the future will perform elementwise comparison\n",
      "  print(lon_bnds != \"all\", lon_bnds)\n",
      "/home/prodhommec/analyseMF/scripts-final-MF/previ-sais/function_read.py:28: FutureWarning: elementwise comparison failed; returning scalar instead, but in the future will perform elementwise comparison\n",
      "  if lon_bnds != \"all\":\n"
     ]
    },
    {
     "name": "stdout",
     "output_type": "stream",
     "text": [
      "all\n",
      "True [-180  179]\n",
      "3\n",
      "(6, 180, 360)\n"
     ]
    },
    {
     "name": "stderr",
     "output_type": "stream",
     "text": [
      "/home/prodhommec/analyseMF/scripts-final-MF/previ-sais/function_read.py:27: FutureWarning: elementwise comparison failed; returning scalar instead, but in the future will perform elementwise comparison\n",
      "  print(lon_bnds != \"all\", lon_bnds)\n",
      "/home/prodhommec/analyseMF/scripts-final-MF/previ-sais/function_read.py:28: FutureWarning: elementwise comparison failed; returning scalar instead, but in the future will perform elementwise comparison\n",
      "  if lon_bnds != \"all\":\n"
     ]
    },
    {
     "name": "stdout",
     "output_type": "stream",
     "text": [
      "all\n",
      "True [-180  179]\n",
      "3\n",
      "(6, 180, 360)\n"
     ]
    },
    {
     "name": "stderr",
     "output_type": "stream",
     "text": [
      "/home/prodhommec/analyseMF/scripts-final-MF/previ-sais/function_read.py:27: FutureWarning: elementwise comparison failed; returning scalar instead, but in the future will perform elementwise comparison\n",
      "  print(lon_bnds != \"all\", lon_bnds)\n",
      "/home/prodhommec/analyseMF/scripts-final-MF/previ-sais/function_read.py:28: FutureWarning: elementwise comparison failed; returning scalar instead, but in the future will perform elementwise comparison\n",
      "  if lon_bnds != \"all\":\n"
     ]
    },
    {
     "name": "stdout",
     "output_type": "stream",
     "text": [
      "all\n",
      "True [-180  179]\n",
      "3\n",
      "(6, 180, 360)\n"
     ]
    },
    {
     "name": "stderr",
     "output_type": "stream",
     "text": [
      "/home/prodhommec/analyseMF/scripts-final-MF/previ-sais/function_read.py:27: FutureWarning: elementwise comparison failed; returning scalar instead, but in the future will perform elementwise comparison\n",
      "  print(lon_bnds != \"all\", lon_bnds)\n",
      "/home/prodhommec/analyseMF/scripts-final-MF/previ-sais/function_read.py:28: FutureWarning: elementwise comparison failed; returning scalar instead, but in the future will perform elementwise comparison\n",
      "  if lon_bnds != \"all\":\n"
     ]
    },
    {
     "name": "stdout",
     "output_type": "stream",
     "text": [
      "all\n",
      "True [-180  179]\n",
      "3\n",
      "(6, 180, 360)\n"
     ]
    },
    {
     "name": "stderr",
     "output_type": "stream",
     "text": [
      "/home/prodhommec/analyseMF/scripts-final-MF/previ-sais/function_read.py:27: FutureWarning: elementwise comparison failed; returning scalar instead, but in the future will perform elementwise comparison\n",
      "  print(lon_bnds != \"all\", lon_bnds)\n",
      "/home/prodhommec/analyseMF/scripts-final-MF/previ-sais/function_read.py:28: FutureWarning: elementwise comparison failed; returning scalar instead, but in the future will perform elementwise comparison\n",
      "  if lon_bnds != \"all\":\n"
     ]
    },
    {
     "name": "stdout",
     "output_type": "stream",
     "text": [
      "all\n",
      "True [-180  179]\n",
      "3\n",
      "(6, 180, 360)\n"
     ]
    },
    {
     "name": "stderr",
     "output_type": "stream",
     "text": [
      "/home/prodhommec/analyseMF/scripts-final-MF/previ-sais/function_read.py:27: FutureWarning: elementwise comparison failed; returning scalar instead, but in the future will perform elementwise comparison\n",
      "  print(lon_bnds != \"all\", lon_bnds)\n",
      "/home/prodhommec/analyseMF/scripts-final-MF/previ-sais/function_read.py:28: FutureWarning: elementwise comparison failed; returning scalar instead, but in the future will perform elementwise comparison\n",
      "  if lon_bnds != \"all\":\n"
     ]
    },
    {
     "name": "stdout",
     "output_type": "stream",
     "text": [
      "all\n",
      "True [-180  179]\n",
      "3\n",
      "(6, 180, 360)\n"
     ]
    },
    {
     "name": "stderr",
     "output_type": "stream",
     "text": [
      "/home/prodhommec/analyseMF/scripts-final-MF/previ-sais/function_read.py:27: FutureWarning: elementwise comparison failed; returning scalar instead, but in the future will perform elementwise comparison\n",
      "  print(lon_bnds != \"all\", lon_bnds)\n",
      "/home/prodhommec/analyseMF/scripts-final-MF/previ-sais/function_read.py:28: FutureWarning: elementwise comparison failed; returning scalar instead, but in the future will perform elementwise comparison\n",
      "  if lon_bnds != \"all\":\n"
     ]
    },
    {
     "name": "stdout",
     "output_type": "stream",
     "text": [
      "all\n",
      "True [-180  179]\n",
      "3\n",
      "(6, 180, 360)\n"
     ]
    },
    {
     "name": "stderr",
     "output_type": "stream",
     "text": [
      "/home/prodhommec/analyseMF/scripts-final-MF/previ-sais/function_read.py:27: FutureWarning: elementwise comparison failed; returning scalar instead, but in the future will perform elementwise comparison\n",
      "  print(lon_bnds != \"all\", lon_bnds)\n",
      "/home/prodhommec/analyseMF/scripts-final-MF/previ-sais/function_read.py:28: FutureWarning: elementwise comparison failed; returning scalar instead, but in the future will perform elementwise comparison\n",
      "  if lon_bnds != \"all\":\n"
     ]
    },
    {
     "name": "stdout",
     "output_type": "stream",
     "text": [
      "all\n",
      "True [-180  179]\n",
      "3\n",
      "(6, 180, 360)\n"
     ]
    },
    {
     "name": "stderr",
     "output_type": "stream",
     "text": [
      "/home/prodhommec/analyseMF/scripts-final-MF/previ-sais/function_read.py:27: FutureWarning: elementwise comparison failed; returning scalar instead, but in the future will perform elementwise comparison\n",
      "  print(lon_bnds != \"all\", lon_bnds)\n",
      "/home/prodhommec/analyseMF/scripts-final-MF/previ-sais/function_read.py:28: FutureWarning: elementwise comparison failed; returning scalar instead, but in the future will perform elementwise comparison\n",
      "  if lon_bnds != \"all\":\n"
     ]
    },
    {
     "name": "stdout",
     "output_type": "stream",
     "text": [
      "all\n",
      "True [-180  179]\n",
      "3\n",
      "(6, 180, 360)\n"
     ]
    },
    {
     "name": "stderr",
     "output_type": "stream",
     "text": [
      "/home/prodhommec/analyseMF/scripts-final-MF/previ-sais/function_read.py:27: FutureWarning: elementwise comparison failed; returning scalar instead, but in the future will perform elementwise comparison\n",
      "  print(lon_bnds != \"all\", lon_bnds)\n",
      "/home/prodhommec/analyseMF/scripts-final-MF/previ-sais/function_read.py:28: FutureWarning: elementwise comparison failed; returning scalar instead, but in the future will perform elementwise comparison\n",
      "  if lon_bnds != \"all\":\n"
     ]
    },
    {
     "name": "stdout",
     "output_type": "stream",
     "text": [
      "all\n",
      "True [-180  179]\n",
      "3\n",
      "(6, 180, 360)\n"
     ]
    },
    {
     "name": "stderr",
     "output_type": "stream",
     "text": [
      "/home/prodhommec/analyseMF/scripts-final-MF/previ-sais/function_read.py:27: FutureWarning: elementwise comparison failed; returning scalar instead, but in the future will perform elementwise comparison\n",
      "  print(lon_bnds != \"all\", lon_bnds)\n",
      "/home/prodhommec/analyseMF/scripts-final-MF/previ-sais/function_read.py:28: FutureWarning: elementwise comparison failed; returning scalar instead, but in the future will perform elementwise comparison\n",
      "  if lon_bnds != \"all\":\n"
     ]
    },
    {
     "name": "stdout",
     "output_type": "stream",
     "text": [
      "all\n",
      "True [-180  179]\n",
      "3\n",
      "(6, 180, 360)\n"
     ]
    },
    {
     "name": "stderr",
     "output_type": "stream",
     "text": [
      "/home/prodhommec/analyseMF/scripts-final-MF/previ-sais/function_read.py:27: FutureWarning: elementwise comparison failed; returning scalar instead, but in the future will perform elementwise comparison\n",
      "  print(lon_bnds != \"all\", lon_bnds)\n",
      "/home/prodhommec/analyseMF/scripts-final-MF/previ-sais/function_read.py:28: FutureWarning: elementwise comparison failed; returning scalar instead, but in the future will perform elementwise comparison\n",
      "  if lon_bnds != \"all\":\n"
     ]
    },
    {
     "name": "stdout",
     "output_type": "stream",
     "text": [
      "all\n",
      "True [-180  179]\n",
      "3\n",
      "(6, 180, 360)\n"
     ]
    },
    {
     "name": "stderr",
     "output_type": "stream",
     "text": [
      "/home/prodhommec/analyseMF/scripts-final-MF/previ-sais/function_read.py:27: FutureWarning: elementwise comparison failed; returning scalar instead, but in the future will perform elementwise comparison\n",
      "  print(lon_bnds != \"all\", lon_bnds)\n",
      "/home/prodhommec/analyseMF/scripts-final-MF/previ-sais/function_read.py:28: FutureWarning: elementwise comparison failed; returning scalar instead, but in the future will perform elementwise comparison\n",
      "  if lon_bnds != \"all\":\n"
     ]
    },
    {
     "name": "stdout",
     "output_type": "stream",
     "text": [
      "all\n",
      "True [-180  179]\n",
      "3\n",
      "(6, 180, 360)\n"
     ]
    },
    {
     "name": "stderr",
     "output_type": "stream",
     "text": [
      "/home/prodhommec/analyseMF/scripts-final-MF/previ-sais/function_read.py:27: FutureWarning: elementwise comparison failed; returning scalar instead, but in the future will perform elementwise comparison\n",
      "  print(lon_bnds != \"all\", lon_bnds)\n",
      "/home/prodhommec/analyseMF/scripts-final-MF/previ-sais/function_read.py:28: FutureWarning: elementwise comparison failed; returning scalar instead, but in the future will perform elementwise comparison\n",
      "  if lon_bnds != \"all\":\n"
     ]
    },
    {
     "name": "stdout",
     "output_type": "stream",
     "text": [
      "all\n",
      "True [-180  179]\n",
      "3\n",
      "(6, 180, 360)\n"
     ]
    },
    {
     "name": "stderr",
     "output_type": "stream",
     "text": [
      "/home/prodhommec/analyseMF/scripts-final-MF/previ-sais/function_read.py:27: FutureWarning: elementwise comparison failed; returning scalar instead, but in the future will perform elementwise comparison\n",
      "  print(lon_bnds != \"all\", lon_bnds)\n",
      "/home/prodhommec/analyseMF/scripts-final-MF/previ-sais/function_read.py:28: FutureWarning: elementwise comparison failed; returning scalar instead, but in the future will perform elementwise comparison\n",
      "  if lon_bnds != \"all\":\n"
     ]
    },
    {
     "name": "stdout",
     "output_type": "stream",
     "text": [
      "all\n",
      "True [-180  179]\n",
      "3\n",
      "(6, 180, 360)\n"
     ]
    },
    {
     "name": "stderr",
     "output_type": "stream",
     "text": [
      "/home/prodhommec/analyseMF/scripts-final-MF/previ-sais/function_read.py:27: FutureWarning: elementwise comparison failed; returning scalar instead, but in the future will perform elementwise comparison\n",
      "  print(lon_bnds != \"all\", lon_bnds)\n",
      "/home/prodhommec/analyseMF/scripts-final-MF/previ-sais/function_read.py:28: FutureWarning: elementwise comparison failed; returning scalar instead, but in the future will perform elementwise comparison\n",
      "  if lon_bnds != \"all\":\n"
     ]
    },
    {
     "name": "stdout",
     "output_type": "stream",
     "text": [
      "all\n",
      "True [-180  179]\n",
      "3\n",
      "(6, 180, 360)\n"
     ]
    },
    {
     "name": "stderr",
     "output_type": "stream",
     "text": [
      "/home/prodhommec/analyseMF/scripts-final-MF/previ-sais/function_read.py:27: FutureWarning: elementwise comparison failed; returning scalar instead, but in the future will perform elementwise comparison\n",
      "  print(lon_bnds != \"all\", lon_bnds)\n",
      "/home/prodhommec/analyseMF/scripts-final-MF/previ-sais/function_read.py:28: FutureWarning: elementwise comparison failed; returning scalar instead, but in the future will perform elementwise comparison\n",
      "  if lon_bnds != \"all\":\n"
     ]
    },
    {
     "name": "stdout",
     "output_type": "stream",
     "text": [
      "all\n",
      "True [-180  179]\n",
      "3\n",
      "(6, 180, 360)\n"
     ]
    },
    {
     "name": "stderr",
     "output_type": "stream",
     "text": [
      "/home/prodhommec/analyseMF/scripts-final-MF/previ-sais/function_read.py:27: FutureWarning: elementwise comparison failed; returning scalar instead, but in the future will perform elementwise comparison\n",
      "  print(lon_bnds != \"all\", lon_bnds)\n",
      "/home/prodhommec/analyseMF/scripts-final-MF/previ-sais/function_read.py:28: FutureWarning: elementwise comparison failed; returning scalar instead, but in the future will perform elementwise comparison\n",
      "  if lon_bnds != \"all\":\n"
     ]
    },
    {
     "name": "stdout",
     "output_type": "stream",
     "text": [
      "all\n",
      "True [-180  179]\n",
      "3\n",
      "(6, 180, 360)\n"
     ]
    },
    {
     "name": "stderr",
     "output_type": "stream",
     "text": [
      "/home/prodhommec/analyseMF/scripts-final-MF/previ-sais/function_read.py:27: FutureWarning: elementwise comparison failed; returning scalar instead, but in the future will perform elementwise comparison\n",
      "  print(lon_bnds != \"all\", lon_bnds)\n",
      "/home/prodhommec/analyseMF/scripts-final-MF/previ-sais/function_read.py:28: FutureWarning: elementwise comparison failed; returning scalar instead, but in the future will perform elementwise comparison\n",
      "  if lon_bnds != \"all\":\n"
     ]
    },
    {
     "name": "stdout",
     "output_type": "stream",
     "text": [
      "all\n",
      "True [-180  179]\n",
      "3\n",
      "(6, 180, 360)\n"
     ]
    },
    {
     "name": "stderr",
     "output_type": "stream",
     "text": [
      "/home/prodhommec/analyseMF/scripts-final-MF/previ-sais/function_read.py:27: FutureWarning: elementwise comparison failed; returning scalar instead, but in the future will perform elementwise comparison\n",
      "  print(lon_bnds != \"all\", lon_bnds)\n",
      "/home/prodhommec/analyseMF/scripts-final-MF/previ-sais/function_read.py:28: FutureWarning: elementwise comparison failed; returning scalar instead, but in the future will perform elementwise comparison\n",
      "  if lon_bnds != \"all\":\n"
     ]
    },
    {
     "name": "stdout",
     "output_type": "stream",
     "text": [
      "all\n",
      "True [-180  179]\n",
      "3\n",
      "(6, 180, 360)\n"
     ]
    },
    {
     "name": "stderr",
     "output_type": "stream",
     "text": [
      "/home/prodhommec/analyseMF/scripts-final-MF/previ-sais/function_read.py:27: FutureWarning: elementwise comparison failed; returning scalar instead, but in the future will perform elementwise comparison\n",
      "  print(lon_bnds != \"all\", lon_bnds)\n",
      "/home/prodhommec/analyseMF/scripts-final-MF/previ-sais/function_read.py:28: FutureWarning: elementwise comparison failed; returning scalar instead, but in the future will perform elementwise comparison\n",
      "  if lon_bnds != \"all\":\n"
     ]
    },
    {
     "name": "stdout",
     "output_type": "stream",
     "text": [
      "all\n",
      "True [-180  179]\n",
      "3\n",
      "(6, 180, 360)\n"
     ]
    },
    {
     "name": "stderr",
     "output_type": "stream",
     "text": [
      "/home/prodhommec/analyseMF/scripts-final-MF/previ-sais/function_read.py:27: FutureWarning: elementwise comparison failed; returning scalar instead, but in the future will perform elementwise comparison\n",
      "  print(lon_bnds != \"all\", lon_bnds)\n",
      "/home/prodhommec/analyseMF/scripts-final-MF/previ-sais/function_read.py:28: FutureWarning: elementwise comparison failed; returning scalar instead, but in the future will perform elementwise comparison\n",
      "  if lon_bnds != \"all\":\n"
     ]
    },
    {
     "name": "stdout",
     "output_type": "stream",
     "text": [
      "all\n",
      "True [-180  179]\n",
      "3\n",
      "(6, 180, 360)\n"
     ]
    },
    {
     "name": "stderr",
     "output_type": "stream",
     "text": [
      "/home/prodhommec/analyseMF/scripts-final-MF/previ-sais/function_read.py:27: FutureWarning: elementwise comparison failed; returning scalar instead, but in the future will perform elementwise comparison\n",
      "  print(lon_bnds != \"all\", lon_bnds)\n",
      "/home/prodhommec/analyseMF/scripts-final-MF/previ-sais/function_read.py:28: FutureWarning: elementwise comparison failed; returning scalar instead, but in the future will perform elementwise comparison\n",
      "  if lon_bnds != \"all\":\n"
     ]
    },
    {
     "name": "stdout",
     "output_type": "stream",
     "text": [
      "all\n",
      "True [-180  179]\n",
      "3\n",
      "(6, 180, 360)\n"
     ]
    },
    {
     "name": "stderr",
     "output_type": "stream",
     "text": [
      "/home/prodhommec/analyseMF/scripts-final-MF/previ-sais/function_read.py:27: FutureWarning: elementwise comparison failed; returning scalar instead, but in the future will perform elementwise comparison\n",
      "  print(lon_bnds != \"all\", lon_bnds)\n",
      "/home/prodhommec/analyseMF/scripts-final-MF/previ-sais/function_read.py:28: FutureWarning: elementwise comparison failed; returning scalar instead, but in the future will perform elementwise comparison\n",
      "  if lon_bnds != \"all\":\n"
     ]
    },
    {
     "name": "stdout",
     "output_type": "stream",
     "text": [
      "all\n",
      "True [-180  179]\n",
      "3\n",
      "(6, 180, 360)\n"
     ]
    },
    {
     "name": "stderr",
     "output_type": "stream",
     "text": [
      "/home/prodhommec/analyseMF/scripts-final-MF/previ-sais/function_read.py:27: FutureWarning: elementwise comparison failed; returning scalar instead, but in the future will perform elementwise comparison\n",
      "  print(lon_bnds != \"all\", lon_bnds)\n",
      "/home/prodhommec/analyseMF/scripts-final-MF/previ-sais/function_read.py:28: FutureWarning: elementwise comparison failed; returning scalar instead, but in the future will perform elementwise comparison\n",
      "  if lon_bnds != \"all\":\n"
     ]
    },
    {
     "name": "stdout",
     "output_type": "stream",
     "text": [
      "all\n",
      "True [-180  179]\n",
      "3\n",
      "(6, 180, 360)\n"
     ]
    },
    {
     "name": "stderr",
     "output_type": "stream",
     "text": [
      "/home/prodhommec/analyseMF/scripts-final-MF/previ-sais/function_read.py:27: FutureWarning: elementwise comparison failed; returning scalar instead, but in the future will perform elementwise comparison\n",
      "  print(lon_bnds != \"all\", lon_bnds)\n",
      "/home/prodhommec/analyseMF/scripts-final-MF/previ-sais/function_read.py:28: FutureWarning: elementwise comparison failed; returning scalar instead, but in the future will perform elementwise comparison\n",
      "  if lon_bnds != \"all\":\n"
     ]
    },
    {
     "name": "stdout",
     "output_type": "stream",
     "text": [
      "all\n",
      "True [-180  179]\n",
      "3\n",
      "(6, 180, 360)\n"
     ]
    },
    {
     "name": "stderr",
     "output_type": "stream",
     "text": [
      "/home/prodhommec/analyseMF/scripts-final-MF/previ-sais/function_read.py:27: FutureWarning: elementwise comparison failed; returning scalar instead, but in the future will perform elementwise comparison\n",
      "  print(lon_bnds != \"all\", lon_bnds)\n",
      "/home/prodhommec/analyseMF/scripts-final-MF/previ-sais/function_read.py:28: FutureWarning: elementwise comparison failed; returning scalar instead, but in the future will perform elementwise comparison\n",
      "  if lon_bnds != \"all\":\n"
     ]
    },
    {
     "name": "stdout",
     "output_type": "stream",
     "text": [
      "all\n",
      "True [-180  179]\n",
      "3\n",
      "(6, 180, 360)\n"
     ]
    },
    {
     "name": "stderr",
     "output_type": "stream",
     "text": [
      "/home/prodhommec/analyseMF/scripts-final-MF/previ-sais/function_read.py:27: FutureWarning: elementwise comparison failed; returning scalar instead, but in the future will perform elementwise comparison\n",
      "  print(lon_bnds != \"all\", lon_bnds)\n",
      "/home/prodhommec/analyseMF/scripts-final-MF/previ-sais/function_read.py:28: FutureWarning: elementwise comparison failed; returning scalar instead, but in the future will perform elementwise comparison\n",
      "  if lon_bnds != \"all\":\n"
     ]
    },
    {
     "name": "stdout",
     "output_type": "stream",
     "text": [
      "all\n",
      "True [-180  179]\n",
      "3\n",
      "(6, 180, 360)\n"
     ]
    },
    {
     "name": "stderr",
     "output_type": "stream",
     "text": [
      "/home/prodhommec/analyseMF/scripts-final-MF/previ-sais/function_read.py:27: FutureWarning: elementwise comparison failed; returning scalar instead, but in the future will perform elementwise comparison\n",
      "  print(lon_bnds != \"all\", lon_bnds)\n",
      "/home/prodhommec/analyseMF/scripts-final-MF/previ-sais/function_read.py:28: FutureWarning: elementwise comparison failed; returning scalar instead, but in the future will perform elementwise comparison\n",
      "  if lon_bnds != \"all\":\n"
     ]
    },
    {
     "name": "stdout",
     "output_type": "stream",
     "text": [
      "all\n",
      "True [-180  179]\n",
      "3\n",
      "(6, 180, 360)\n"
     ]
    },
    {
     "name": "stderr",
     "output_type": "stream",
     "text": [
      "/home/prodhommec/analyseMF/scripts-final-MF/previ-sais/function_read.py:27: FutureWarning: elementwise comparison failed; returning scalar instead, but in the future will perform elementwise comparison\n",
      "  print(lon_bnds != \"all\", lon_bnds)\n",
      "/home/prodhommec/analyseMF/scripts-final-MF/previ-sais/function_read.py:28: FutureWarning: elementwise comparison failed; returning scalar instead, but in the future will perform elementwise comparison\n",
      "  if lon_bnds != \"all\":\n"
     ]
    },
    {
     "name": "stdout",
     "output_type": "stream",
     "text": [
      "all\n",
      "True [-180  179]\n",
      "3\n",
      "(6, 180, 360)\n"
     ]
    },
    {
     "name": "stderr",
     "output_type": "stream",
     "text": [
      "/home/prodhommec/analyseMF/scripts-final-MF/previ-sais/function_read.py:27: FutureWarning: elementwise comparison failed; returning scalar instead, but in the future will perform elementwise comparison\n",
      "  print(lon_bnds != \"all\", lon_bnds)\n",
      "/home/prodhommec/analyseMF/scripts-final-MF/previ-sais/function_read.py:28: FutureWarning: elementwise comparison failed; returning scalar instead, but in the future will perform elementwise comparison\n",
      "  if lon_bnds != \"all\":\n"
     ]
    },
    {
     "name": "stdout",
     "output_type": "stream",
     "text": [
      "all\n",
      "True [-180  179]\n",
      "3\n",
      "(6, 180, 360)\n"
     ]
    },
    {
     "name": "stderr",
     "output_type": "stream",
     "text": [
      "/home/prodhommec/analyseMF/scripts-final-MF/previ-sais/function_read.py:27: FutureWarning: elementwise comparison failed; returning scalar instead, but in the future will perform elementwise comparison\n",
      "  print(lon_bnds != \"all\", lon_bnds)\n",
      "/home/prodhommec/analyseMF/scripts-final-MF/previ-sais/function_read.py:28: FutureWarning: elementwise comparison failed; returning scalar instead, but in the future will perform elementwise comparison\n",
      "  if lon_bnds != \"all\":\n"
     ]
    },
    {
     "name": "stdout",
     "output_type": "stream",
     "text": [
      "all\n",
      "True [-180  179]\n",
      "3\n",
      "(6, 180, 360)\n"
     ]
    },
    {
     "name": "stderr",
     "output_type": "stream",
     "text": [
      "/home/prodhommec/analyseMF/scripts-final-MF/previ-sais/function_read.py:27: FutureWarning: elementwise comparison failed; returning scalar instead, but in the future will perform elementwise comparison\n",
      "  print(lon_bnds != \"all\", lon_bnds)\n",
      "/home/prodhommec/analyseMF/scripts-final-MF/previ-sais/function_read.py:28: FutureWarning: elementwise comparison failed; returning scalar instead, but in the future will perform elementwise comparison\n",
      "  if lon_bnds != \"all\":\n"
     ]
    },
    {
     "name": "stdout",
     "output_type": "stream",
     "text": [
      "all\n",
      "True [-180  179]\n",
      "3\n",
      "(6, 180, 360)\n"
     ]
    },
    {
     "name": "stderr",
     "output_type": "stream",
     "text": [
      "/home/prodhommec/analyseMF/scripts-final-MF/previ-sais/function_read.py:27: FutureWarning: elementwise comparison failed; returning scalar instead, but in the future will perform elementwise comparison\n",
      "  print(lon_bnds != \"all\", lon_bnds)\n",
      "/home/prodhommec/analyseMF/scripts-final-MF/previ-sais/function_read.py:28: FutureWarning: elementwise comparison failed; returning scalar instead, but in the future will perform elementwise comparison\n",
      "  if lon_bnds != \"all\":\n"
     ]
    },
    {
     "name": "stdout",
     "output_type": "stream",
     "text": [
      "all\n",
      "True [-180  179]\n",
      "3\n",
      "(6, 180, 360)\n"
     ]
    },
    {
     "name": "stderr",
     "output_type": "stream",
     "text": [
      "/home/prodhommec/analyseMF/scripts-final-MF/previ-sais/function_read.py:27: FutureWarning: elementwise comparison failed; returning scalar instead, but in the future will perform elementwise comparison\n",
      "  print(lon_bnds != \"all\", lon_bnds)\n",
      "/home/prodhommec/analyseMF/scripts-final-MF/previ-sais/function_read.py:28: FutureWarning: elementwise comparison failed; returning scalar instead, but in the future will perform elementwise comparison\n",
      "  if lon_bnds != \"all\":\n"
     ]
    },
    {
     "name": "stdout",
     "output_type": "stream",
     "text": [
      "all\n",
      "True [-180  179]\n",
      "3\n",
      "(6, 180, 360)\n"
     ]
    },
    {
     "name": "stderr",
     "output_type": "stream",
     "text": [
      "/home/prodhommec/analyseMF/scripts-final-MF/previ-sais/function_read.py:27: FutureWarning: elementwise comparison failed; returning scalar instead, but in the future will perform elementwise comparison\n",
      "  print(lon_bnds != \"all\", lon_bnds)\n",
      "/home/prodhommec/analyseMF/scripts-final-MF/previ-sais/function_read.py:28: FutureWarning: elementwise comparison failed; returning scalar instead, but in the future will perform elementwise comparison\n",
      "  if lon_bnds != \"all\":\n"
     ]
    },
    {
     "name": "stdout",
     "output_type": "stream",
     "text": [
      "all\n",
      "True [-180  179]\n",
      "3\n",
      "(6, 180, 360)\n"
     ]
    },
    {
     "name": "stderr",
     "output_type": "stream",
     "text": [
      "/home/prodhommec/analyseMF/scripts-final-MF/previ-sais/function_read.py:27: FutureWarning: elementwise comparison failed; returning scalar instead, but in the future will perform elementwise comparison\n",
      "  print(lon_bnds != \"all\", lon_bnds)\n",
      "/home/prodhommec/analyseMF/scripts-final-MF/previ-sais/function_read.py:28: FutureWarning: elementwise comparison failed; returning scalar instead, but in the future will perform elementwise comparison\n",
      "  if lon_bnds != \"all\":\n"
     ]
    },
    {
     "name": "stdout",
     "output_type": "stream",
     "text": [
      "all\n",
      "True [-180  179]\n",
      "3\n",
      "(6, 180, 360)\n"
     ]
    },
    {
     "name": "stderr",
     "output_type": "stream",
     "text": [
      "/home/prodhommec/analyseMF/scripts-final-MF/previ-sais/function_read.py:27: FutureWarning: elementwise comparison failed; returning scalar instead, but in the future will perform elementwise comparison\n",
      "  print(lon_bnds != \"all\", lon_bnds)\n",
      "/home/prodhommec/analyseMF/scripts-final-MF/previ-sais/function_read.py:28: FutureWarning: elementwise comparison failed; returning scalar instead, but in the future will perform elementwise comparison\n",
      "  if lon_bnds != \"all\":\n"
     ]
    },
    {
     "name": "stdout",
     "output_type": "stream",
     "text": [
      "all\n",
      "True [-180  179]\n",
      "3\n",
      "(6, 180, 360)\n"
     ]
    },
    {
     "name": "stderr",
     "output_type": "stream",
     "text": [
      "/home/prodhommec/analyseMF/scripts-final-MF/previ-sais/function_read.py:27: FutureWarning: elementwise comparison failed; returning scalar instead, but in the future will perform elementwise comparison\n",
      "  print(lon_bnds != \"all\", lon_bnds)\n",
      "/home/prodhommec/analyseMF/scripts-final-MF/previ-sais/function_read.py:28: FutureWarning: elementwise comparison failed; returning scalar instead, but in the future will perform elementwise comparison\n",
      "  if lon_bnds != \"all\":\n"
     ]
    },
    {
     "name": "stdout",
     "output_type": "stream",
     "text": [
      "all\n",
      "True [-180  179]\n",
      "3\n",
      "(6, 180, 360)\n"
     ]
    },
    {
     "name": "stderr",
     "output_type": "stream",
     "text": [
      "/home/prodhommec/analyseMF/scripts-final-MF/previ-sais/function_read.py:27: FutureWarning: elementwise comparison failed; returning scalar instead, but in the future will perform elementwise comparison\n",
      "  print(lon_bnds != \"all\", lon_bnds)\n",
      "/home/prodhommec/analyseMF/scripts-final-MF/previ-sais/function_read.py:28: FutureWarning: elementwise comparison failed; returning scalar instead, but in the future will perform elementwise comparison\n",
      "  if lon_bnds != \"all\":\n"
     ]
    },
    {
     "name": "stdout",
     "output_type": "stream",
     "text": [
      "all\n",
      "True [-180  179]\n",
      "3\n",
      "(6, 180, 360)\n"
     ]
    },
    {
     "name": "stderr",
     "output_type": "stream",
     "text": [
      "/home/prodhommec/analyseMF/scripts-final-MF/previ-sais/function_read.py:27: FutureWarning: elementwise comparison failed; returning scalar instead, but in the future will perform elementwise comparison\n",
      "  print(lon_bnds != \"all\", lon_bnds)\n",
      "/home/prodhommec/analyseMF/scripts-final-MF/previ-sais/function_read.py:28: FutureWarning: elementwise comparison failed; returning scalar instead, but in the future will perform elementwise comparison\n",
      "  if lon_bnds != \"all\":\n"
     ]
    },
    {
     "name": "stdout",
     "output_type": "stream",
     "text": [
      "all\n",
      "True [-180  179]\n",
      "3\n",
      "(6, 180, 360)\n"
     ]
    },
    {
     "name": "stderr",
     "output_type": "stream",
     "text": [
      "/home/prodhommec/analyseMF/scripts-final-MF/previ-sais/function_read.py:27: FutureWarning: elementwise comparison failed; returning scalar instead, but in the future will perform elementwise comparison\n",
      "  print(lon_bnds != \"all\", lon_bnds)\n",
      "/home/prodhommec/analyseMF/scripts-final-MF/previ-sais/function_read.py:28: FutureWarning: elementwise comparison failed; returning scalar instead, but in the future will perform elementwise comparison\n",
      "  if lon_bnds != \"all\":\n"
     ]
    },
    {
     "name": "stdout",
     "output_type": "stream",
     "text": [
      "all\n",
      "True [-180  179]\n",
      "3\n",
      "(6, 180, 360)\n"
     ]
    },
    {
     "name": "stderr",
     "output_type": "stream",
     "text": [
      "/home/prodhommec/analyseMF/scripts-final-MF/previ-sais/function_read.py:27: FutureWarning: elementwise comparison failed; returning scalar instead, but in the future will perform elementwise comparison\n",
      "  print(lon_bnds != \"all\", lon_bnds)\n",
      "/home/prodhommec/analyseMF/scripts-final-MF/previ-sais/function_read.py:28: FutureWarning: elementwise comparison failed; returning scalar instead, but in the future will perform elementwise comparison\n",
      "  if lon_bnds != \"all\":\n"
     ]
    },
    {
     "name": "stdout",
     "output_type": "stream",
     "text": [
      "all\n",
      "True [-180  179]\n",
      "3\n",
      "(6, 180, 360)\n"
     ]
    },
    {
     "name": "stderr",
     "output_type": "stream",
     "text": [
      "/home/prodhommec/analyseMF/scripts-final-MF/previ-sais/function_read.py:27: FutureWarning: elementwise comparison failed; returning scalar instead, but in the future will perform elementwise comparison\n",
      "  print(lon_bnds != \"all\", lon_bnds)\n",
      "/home/prodhommec/analyseMF/scripts-final-MF/previ-sais/function_read.py:28: FutureWarning: elementwise comparison failed; returning scalar instead, but in the future will perform elementwise comparison\n",
      "  if lon_bnds != \"all\":\n"
     ]
    },
    {
     "name": "stdout",
     "output_type": "stream",
     "text": [
      "all\n",
      "True [-180  179]\n",
      "3\n",
      "(6, 180, 360)\n"
     ]
    },
    {
     "name": "stderr",
     "output_type": "stream",
     "text": [
      "/home/prodhommec/analyseMF/scripts-final-MF/previ-sais/function_read.py:27: FutureWarning: elementwise comparison failed; returning scalar instead, but in the future will perform elementwise comparison\n",
      "  print(lon_bnds != \"all\", lon_bnds)\n",
      "/home/prodhommec/analyseMF/scripts-final-MF/previ-sais/function_read.py:28: FutureWarning: elementwise comparison failed; returning scalar instead, but in the future will perform elementwise comparison\n",
      "  if lon_bnds != \"all\":\n"
     ]
    },
    {
     "name": "stdout",
     "output_type": "stream",
     "text": [
      "all\n",
      "True [-180  179]\n",
      "3\n",
      "(6, 180, 360)\n"
     ]
    },
    {
     "name": "stderr",
     "output_type": "stream",
     "text": [
      "/home/prodhommec/analyseMF/scripts-final-MF/previ-sais/function_read.py:27: FutureWarning: elementwise comparison failed; returning scalar instead, but in the future will perform elementwise comparison\n",
      "  print(lon_bnds != \"all\", lon_bnds)\n",
      "/home/prodhommec/analyseMF/scripts-final-MF/previ-sais/function_read.py:28: FutureWarning: elementwise comparison failed; returning scalar instead, but in the future will perform elementwise comparison\n",
      "  if lon_bnds != \"all\":\n"
     ]
    },
    {
     "name": "stdout",
     "output_type": "stream",
     "text": [
      "all\n",
      "True [-180  179]\n",
      "3\n",
      "(6, 180, 360)\n"
     ]
    },
    {
     "name": "stderr",
     "output_type": "stream",
     "text": [
      "/home/prodhommec/analyseMF/scripts-final-MF/previ-sais/function_read.py:27: FutureWarning: elementwise comparison failed; returning scalar instead, but in the future will perform elementwise comparison\n",
      "  print(lon_bnds != \"all\", lon_bnds)\n",
      "/home/prodhommec/analyseMF/scripts-final-MF/previ-sais/function_read.py:28: FutureWarning: elementwise comparison failed; returning scalar instead, but in the future will perform elementwise comparison\n",
      "  if lon_bnds != \"all\":\n"
     ]
    },
    {
     "name": "stdout",
     "output_type": "stream",
     "text": [
      "all\n",
      "True [-180  179]\n",
      "3\n",
      "(6, 180, 360)\n"
     ]
    },
    {
     "name": "stderr",
     "output_type": "stream",
     "text": [
      "/home/prodhommec/analyseMF/scripts-final-MF/previ-sais/function_read.py:27: FutureWarning: elementwise comparison failed; returning scalar instead, but in the future will perform elementwise comparison\n",
      "  print(lon_bnds != \"all\", lon_bnds)\n",
      "/home/prodhommec/analyseMF/scripts-final-MF/previ-sais/function_read.py:28: FutureWarning: elementwise comparison failed; returning scalar instead, but in the future will perform elementwise comparison\n",
      "  if lon_bnds != \"all\":\n"
     ]
    },
    {
     "name": "stdout",
     "output_type": "stream",
     "text": [
      "all\n",
      "True [-180  179]\n",
      "3\n",
      "(6, 180, 360)\n"
     ]
    },
    {
     "name": "stderr",
     "output_type": "stream",
     "text": [
      "/home/prodhommec/analyseMF/scripts-final-MF/previ-sais/function_read.py:27: FutureWarning: elementwise comparison failed; returning scalar instead, but in the future will perform elementwise comparison\n",
      "  print(lon_bnds != \"all\", lon_bnds)\n",
      "/home/prodhommec/analyseMF/scripts-final-MF/previ-sais/function_read.py:28: FutureWarning: elementwise comparison failed; returning scalar instead, but in the future will perform elementwise comparison\n",
      "  if lon_bnds != \"all\":\n"
     ]
    },
    {
     "name": "stdout",
     "output_type": "stream",
     "text": [
      "all\n",
      "True [-180  179]\n",
      "3\n",
      "(6, 180, 360)\n"
     ]
    },
    {
     "name": "stderr",
     "output_type": "stream",
     "text": [
      "/home/prodhommec/analyseMF/scripts-final-MF/previ-sais/function_read.py:27: FutureWarning: elementwise comparison failed; returning scalar instead, but in the future will perform elementwise comparison\n",
      "  print(lon_bnds != \"all\", lon_bnds)\n",
      "/home/prodhommec/analyseMF/scripts-final-MF/previ-sais/function_read.py:28: FutureWarning: elementwise comparison failed; returning scalar instead, but in the future will perform elementwise comparison\n",
      "  if lon_bnds != \"all\":\n"
     ]
    },
    {
     "name": "stdout",
     "output_type": "stream",
     "text": [
      "all\n",
      "True [-180  179]\n",
      "3\n",
      "(6, 180, 360)\n"
     ]
    },
    {
     "name": "stderr",
     "output_type": "stream",
     "text": [
      "/home/prodhommec/analyseMF/scripts-final-MF/previ-sais/function_read.py:27: FutureWarning: elementwise comparison failed; returning scalar instead, but in the future will perform elementwise comparison\n",
      "  print(lon_bnds != \"all\", lon_bnds)\n",
      "/home/prodhommec/analyseMF/scripts-final-MF/previ-sais/function_read.py:28: FutureWarning: elementwise comparison failed; returning scalar instead, but in the future will perform elementwise comparison\n",
      "  if lon_bnds != \"all\":\n"
     ]
    },
    {
     "name": "stdout",
     "output_type": "stream",
     "text": [
      "all\n",
      "True [-180  179]\n",
      "3\n",
      "(6, 180, 360)\n"
     ]
    },
    {
     "name": "stderr",
     "output_type": "stream",
     "text": [
      "/home/prodhommec/analyseMF/scripts-final-MF/previ-sais/function_read.py:27: FutureWarning: elementwise comparison failed; returning scalar instead, but in the future will perform elementwise comparison\n",
      "  print(lon_bnds != \"all\", lon_bnds)\n",
      "/home/prodhommec/analyseMF/scripts-final-MF/previ-sais/function_read.py:28: FutureWarning: elementwise comparison failed; returning scalar instead, but in the future will perform elementwise comparison\n",
      "  if lon_bnds != \"all\":\n"
     ]
    },
    {
     "name": "stdout",
     "output_type": "stream",
     "text": [
      "all\n",
      "True [-180  179]\n",
      "3\n",
      "(6, 180, 360)\n"
     ]
    },
    {
     "name": "stderr",
     "output_type": "stream",
     "text": [
      "/home/prodhommec/analyseMF/scripts-final-MF/previ-sais/function_read.py:27: FutureWarning: elementwise comparison failed; returning scalar instead, but in the future will perform elementwise comparison\n",
      "  print(lon_bnds != \"all\", lon_bnds)\n",
      "/home/prodhommec/analyseMF/scripts-final-MF/previ-sais/function_read.py:28: FutureWarning: elementwise comparison failed; returning scalar instead, but in the future will perform elementwise comparison\n",
      "  if lon_bnds != \"all\":\n"
     ]
    },
    {
     "name": "stdout",
     "output_type": "stream",
     "text": [
      "all\n",
      "True [-180  179]\n",
      "3\n",
      "(6, 180, 360)\n"
     ]
    },
    {
     "name": "stderr",
     "output_type": "stream",
     "text": [
      "/home/prodhommec/analyseMF/scripts-final-MF/previ-sais/function_read.py:27: FutureWarning: elementwise comparison failed; returning scalar instead, but in the future will perform elementwise comparison\n",
      "  print(lon_bnds != \"all\", lon_bnds)\n",
      "/home/prodhommec/analyseMF/scripts-final-MF/previ-sais/function_read.py:28: FutureWarning: elementwise comparison failed; returning scalar instead, but in the future will perform elementwise comparison\n",
      "  if lon_bnds != \"all\":\n"
     ]
    },
    {
     "name": "stdout",
     "output_type": "stream",
     "text": [
      "all\n",
      "True [-180  179]\n",
      "3\n",
      "(6, 180, 360)\n"
     ]
    },
    {
     "name": "stderr",
     "output_type": "stream",
     "text": [
      "/home/prodhommec/analyseMF/scripts-final-MF/previ-sais/function_read.py:27: FutureWarning: elementwise comparison failed; returning scalar instead, but in the future will perform elementwise comparison\n",
      "  print(lon_bnds != \"all\", lon_bnds)\n",
      "/home/prodhommec/analyseMF/scripts-final-MF/previ-sais/function_read.py:28: FutureWarning: elementwise comparison failed; returning scalar instead, but in the future will perform elementwise comparison\n",
      "  if lon_bnds != \"all\":\n"
     ]
    },
    {
     "name": "stdout",
     "output_type": "stream",
     "text": [
      "all\n",
      "True [-180  179]\n",
      "3\n",
      "(6, 180, 360)\n"
     ]
    },
    {
     "name": "stderr",
     "output_type": "stream",
     "text": [
      "/home/prodhommec/analyseMF/scripts-final-MF/previ-sais/function_read.py:27: FutureWarning: elementwise comparison failed; returning scalar instead, but in the future will perform elementwise comparison\n",
      "  print(lon_bnds != \"all\", lon_bnds)\n",
      "/home/prodhommec/analyseMF/scripts-final-MF/previ-sais/function_read.py:28: FutureWarning: elementwise comparison failed; returning scalar instead, but in the future will perform elementwise comparison\n",
      "  if lon_bnds != \"all\":\n"
     ]
    },
    {
     "name": "stdout",
     "output_type": "stream",
     "text": [
      "all\n",
      "True [-180  179]\n",
      "3\n",
      "(6, 180, 360)\n"
     ]
    },
    {
     "name": "stderr",
     "output_type": "stream",
     "text": [
      "/home/prodhommec/analyseMF/scripts-final-MF/previ-sais/function_read.py:27: FutureWarning: elementwise comparison failed; returning scalar instead, but in the future will perform elementwise comparison\n",
      "  print(lon_bnds != \"all\", lon_bnds)\n",
      "/home/prodhommec/analyseMF/scripts-final-MF/previ-sais/function_read.py:28: FutureWarning: elementwise comparison failed; returning scalar instead, but in the future will perform elementwise comparison\n",
      "  if lon_bnds != \"all\":\n"
     ]
    },
    {
     "name": "stdout",
     "output_type": "stream",
     "text": [
      "all\n",
      "True [-180  179]\n",
      "3\n",
      "(6, 180, 360)\n"
     ]
    },
    {
     "name": "stderr",
     "output_type": "stream",
     "text": [
      "/home/prodhommec/analyseMF/scripts-final-MF/previ-sais/function_read.py:27: FutureWarning: elementwise comparison failed; returning scalar instead, but in the future will perform elementwise comparison\n",
      "  print(lon_bnds != \"all\", lon_bnds)\n",
      "/home/prodhommec/analyseMF/scripts-final-MF/previ-sais/function_read.py:28: FutureWarning: elementwise comparison failed; returning scalar instead, but in the future will perform elementwise comparison\n",
      "  if lon_bnds != \"all\":\n"
     ]
    },
    {
     "name": "stdout",
     "output_type": "stream",
     "text": [
      "all\n",
      "True [-180  179]\n",
      "3\n",
      "(6, 180, 360)\n"
     ]
    },
    {
     "name": "stderr",
     "output_type": "stream",
     "text": [
      "/home/prodhommec/analyseMF/scripts-final-MF/previ-sais/function_read.py:27: FutureWarning: elementwise comparison failed; returning scalar instead, but in the future will perform elementwise comparison\n",
      "  print(lon_bnds != \"all\", lon_bnds)\n",
      "/home/prodhommec/analyseMF/scripts-final-MF/previ-sais/function_read.py:28: FutureWarning: elementwise comparison failed; returning scalar instead, but in the future will perform elementwise comparison\n",
      "  if lon_bnds != \"all\":\n"
     ]
    },
    {
     "name": "stdout",
     "output_type": "stream",
     "text": [
      "all\n",
      "True [-180  179]\n",
      "3\n",
      "(6, 180, 360)\n"
     ]
    },
    {
     "name": "stderr",
     "output_type": "stream",
     "text": [
      "/home/prodhommec/analyseMF/scripts-final-MF/previ-sais/function_read.py:27: FutureWarning: elementwise comparison failed; returning scalar instead, but in the future will perform elementwise comparison\n",
      "  print(lon_bnds != \"all\", lon_bnds)\n",
      "/home/prodhommec/analyseMF/scripts-final-MF/previ-sais/function_read.py:28: FutureWarning: elementwise comparison failed; returning scalar instead, but in the future will perform elementwise comparison\n",
      "  if lon_bnds != \"all\":\n"
     ]
    },
    {
     "name": "stdout",
     "output_type": "stream",
     "text": [
      "all\n",
      "True [-180  179]\n",
      "3\n",
      "(6, 180, 360)\n"
     ]
    },
    {
     "name": "stderr",
     "output_type": "stream",
     "text": [
      "/home/prodhommec/analyseMF/scripts-final-MF/previ-sais/function_read.py:27: FutureWarning: elementwise comparison failed; returning scalar instead, but in the future will perform elementwise comparison\n",
      "  print(lon_bnds != \"all\", lon_bnds)\n",
      "/home/prodhommec/analyseMF/scripts-final-MF/previ-sais/function_read.py:28: FutureWarning: elementwise comparison failed; returning scalar instead, but in the future will perform elementwise comparison\n",
      "  if lon_bnds != \"all\":\n"
     ]
    },
    {
     "name": "stdout",
     "output_type": "stream",
     "text": [
      "all\n",
      "True [-180  179]\n",
      "3\n",
      "(6, 180, 360)\n"
     ]
    },
    {
     "name": "stderr",
     "output_type": "stream",
     "text": [
      "/home/prodhommec/analyseMF/scripts-final-MF/previ-sais/function_read.py:27: FutureWarning: elementwise comparison failed; returning scalar instead, but in the future will perform elementwise comparison\n",
      "  print(lon_bnds != \"all\", lon_bnds)\n",
      "/home/prodhommec/analyseMF/scripts-final-MF/previ-sais/function_read.py:28: FutureWarning: elementwise comparison failed; returning scalar instead, but in the future will perform elementwise comparison\n",
      "  if lon_bnds != \"all\":\n"
     ]
    },
    {
     "name": "stdout",
     "output_type": "stream",
     "text": [
      "all\n",
      "True [-180  179]\n",
      "3\n",
      "(6, 180, 360)\n"
     ]
    },
    {
     "name": "stderr",
     "output_type": "stream",
     "text": [
      "/home/prodhommec/analyseMF/scripts-final-MF/previ-sais/function_read.py:27: FutureWarning: elementwise comparison failed; returning scalar instead, but in the future will perform elementwise comparison\n",
      "  print(lon_bnds != \"all\", lon_bnds)\n",
      "/home/prodhommec/analyseMF/scripts-final-MF/previ-sais/function_read.py:28: FutureWarning: elementwise comparison failed; returning scalar instead, but in the future will perform elementwise comparison\n",
      "  if lon_bnds != \"all\":\n"
     ]
    },
    {
     "name": "stdout",
     "output_type": "stream",
     "text": [
      "all\n",
      "True [-180  179]\n",
      "3\n",
      "(6, 180, 360)\n"
     ]
    },
    {
     "name": "stderr",
     "output_type": "stream",
     "text": [
      "/home/prodhommec/analyseMF/scripts-final-MF/previ-sais/function_read.py:27: FutureWarning: elementwise comparison failed; returning scalar instead, but in the future will perform elementwise comparison\n",
      "  print(lon_bnds != \"all\", lon_bnds)\n",
      "/home/prodhommec/analyseMF/scripts-final-MF/previ-sais/function_read.py:28: FutureWarning: elementwise comparison failed; returning scalar instead, but in the future will perform elementwise comparison\n",
      "  if lon_bnds != \"all\":\n"
     ]
    },
    {
     "name": "stdout",
     "output_type": "stream",
     "text": [
      "all\n",
      "True [-180  179]\n",
      "3\n",
      "(6, 180, 360)\n"
     ]
    },
    {
     "name": "stderr",
     "output_type": "stream",
     "text": [
      "/home/prodhommec/analyseMF/scripts-final-MF/previ-sais/function_read.py:27: FutureWarning: elementwise comparison failed; returning scalar instead, but in the future will perform elementwise comparison\n",
      "  print(lon_bnds != \"all\", lon_bnds)\n",
      "/home/prodhommec/analyseMF/scripts-final-MF/previ-sais/function_read.py:28: FutureWarning: elementwise comparison failed; returning scalar instead, but in the future will perform elementwise comparison\n",
      "  if lon_bnds != \"all\":\n"
     ]
    },
    {
     "name": "stdout",
     "output_type": "stream",
     "text": [
      "all\n",
      "True [-180  179]\n",
      "3\n",
      "(6, 180, 360)\n"
     ]
    },
    {
     "name": "stderr",
     "output_type": "stream",
     "text": [
      "/home/prodhommec/analyseMF/scripts-final-MF/previ-sais/function_read.py:27: FutureWarning: elementwise comparison failed; returning scalar instead, but in the future will perform elementwise comparison\n",
      "  print(lon_bnds != \"all\", lon_bnds)\n",
      "/home/prodhommec/analyseMF/scripts-final-MF/previ-sais/function_read.py:28: FutureWarning: elementwise comparison failed; returning scalar instead, but in the future will perform elementwise comparison\n",
      "  if lon_bnds != \"all\":\n"
     ]
    },
    {
     "name": "stdout",
     "output_type": "stream",
     "text": [
      "all\n",
      "True [-180  179]\n",
      "3\n",
      "(6, 180, 360)\n"
     ]
    },
    {
     "name": "stderr",
     "output_type": "stream",
     "text": [
      "/home/prodhommec/analyseMF/scripts-final-MF/previ-sais/function_read.py:27: FutureWarning: elementwise comparison failed; returning scalar instead, but in the future will perform elementwise comparison\n",
      "  print(lon_bnds != \"all\", lon_bnds)\n",
      "/home/prodhommec/analyseMF/scripts-final-MF/previ-sais/function_read.py:28: FutureWarning: elementwise comparison failed; returning scalar instead, but in the future will perform elementwise comparison\n",
      "  if lon_bnds != \"all\":\n"
     ]
    },
    {
     "name": "stdout",
     "output_type": "stream",
     "text": [
      "all\n",
      "True [-180  179]\n",
      "3\n",
      "(6, 180, 360)\n"
     ]
    },
    {
     "name": "stderr",
     "output_type": "stream",
     "text": [
      "/home/prodhommec/analyseMF/scripts-final-MF/previ-sais/function_read.py:27: FutureWarning: elementwise comparison failed; returning scalar instead, but in the future will perform elementwise comparison\n",
      "  print(lon_bnds != \"all\", lon_bnds)\n",
      "/home/prodhommec/analyseMF/scripts-final-MF/previ-sais/function_read.py:28: FutureWarning: elementwise comparison failed; returning scalar instead, but in the future will perform elementwise comparison\n",
      "  if lon_bnds != \"all\":\n"
     ]
    },
    {
     "name": "stdout",
     "output_type": "stream",
     "text": [
      "all\n",
      "True [-180  179]\n",
      "3\n",
      "(6, 180, 360)\n"
     ]
    },
    {
     "name": "stderr",
     "output_type": "stream",
     "text": [
      "/home/prodhommec/analyseMF/scripts-final-MF/previ-sais/function_read.py:27: FutureWarning: elementwise comparison failed; returning scalar instead, but in the future will perform elementwise comparison\n",
      "  print(lon_bnds != \"all\", lon_bnds)\n",
      "/home/prodhommec/analyseMF/scripts-final-MF/previ-sais/function_read.py:28: FutureWarning: elementwise comparison failed; returning scalar instead, but in the future will perform elementwise comparison\n",
      "  if lon_bnds != \"all\":\n"
     ]
    },
    {
     "name": "stdout",
     "output_type": "stream",
     "text": [
      "all\n",
      "True [-180  179]\n",
      "3\n",
      "(6, 180, 360)\n"
     ]
    },
    {
     "name": "stderr",
     "output_type": "stream",
     "text": [
      "/home/prodhommec/analyseMF/scripts-final-MF/previ-sais/function_read.py:27: FutureWarning: elementwise comparison failed; returning scalar instead, but in the future will perform elementwise comparison\n",
      "  print(lon_bnds != \"all\", lon_bnds)\n",
      "/home/prodhommec/analyseMF/scripts-final-MF/previ-sais/function_read.py:28: FutureWarning: elementwise comparison failed; returning scalar instead, but in the future will perform elementwise comparison\n",
      "  if lon_bnds != \"all\":\n"
     ]
    },
    {
     "name": "stdout",
     "output_type": "stream",
     "text": [
      "all\n",
      "True [-180  179]\n",
      "3\n",
      "(6, 180, 360)\n"
     ]
    },
    {
     "name": "stderr",
     "output_type": "stream",
     "text": [
      "/home/prodhommec/analyseMF/scripts-final-MF/previ-sais/function_read.py:27: FutureWarning: elementwise comparison failed; returning scalar instead, but in the future will perform elementwise comparison\n",
      "  print(lon_bnds != \"all\", lon_bnds)\n",
      "/home/prodhommec/analyseMF/scripts-final-MF/previ-sais/function_read.py:28: FutureWarning: elementwise comparison failed; returning scalar instead, but in the future will perform elementwise comparison\n",
      "  if lon_bnds != \"all\":\n"
     ]
    },
    {
     "name": "stdout",
     "output_type": "stream",
     "text": [
      "all\n",
      "True [-180  179]\n",
      "3\n",
      "(6, 180, 360)\n"
     ]
    },
    {
     "name": "stderr",
     "output_type": "stream",
     "text": [
      "/home/prodhommec/analyseMF/scripts-final-MF/previ-sais/function_read.py:27: FutureWarning: elementwise comparison failed; returning scalar instead, but in the future will perform elementwise comparison\n",
      "  print(lon_bnds != \"all\", lon_bnds)\n",
      "/home/prodhommec/analyseMF/scripts-final-MF/previ-sais/function_read.py:28: FutureWarning: elementwise comparison failed; returning scalar instead, but in the future will perform elementwise comparison\n",
      "  if lon_bnds != \"all\":\n"
     ]
    },
    {
     "name": "stdout",
     "output_type": "stream",
     "text": [
      "all\n",
      "True [-180  179]\n",
      "3\n",
      "(6, 180, 360)\n"
     ]
    },
    {
     "name": "stderr",
     "output_type": "stream",
     "text": [
      "/home/prodhommec/analyseMF/scripts-final-MF/previ-sais/function_read.py:27: FutureWarning: elementwise comparison failed; returning scalar instead, but in the future will perform elementwise comparison\n",
      "  print(lon_bnds != \"all\", lon_bnds)\n",
      "/home/prodhommec/analyseMF/scripts-final-MF/previ-sais/function_read.py:28: FutureWarning: elementwise comparison failed; returning scalar instead, but in the future will perform elementwise comparison\n",
      "  if lon_bnds != \"all\":\n"
     ]
    },
    {
     "name": "stdout",
     "output_type": "stream",
     "text": [
      "all\n",
      "True [-180  179]\n",
      "3\n",
      "(6, 180, 360)\n"
     ]
    },
    {
     "name": "stderr",
     "output_type": "stream",
     "text": [
      "/home/prodhommec/analyseMF/scripts-final-MF/previ-sais/function_read.py:27: FutureWarning: elementwise comparison failed; returning scalar instead, but in the future will perform elementwise comparison\n",
      "  print(lon_bnds != \"all\", lon_bnds)\n",
      "/home/prodhommec/analyseMF/scripts-final-MF/previ-sais/function_read.py:28: FutureWarning: elementwise comparison failed; returning scalar instead, but in the future will perform elementwise comparison\n",
      "  if lon_bnds != \"all\":\n"
     ]
    },
    {
     "name": "stdout",
     "output_type": "stream",
     "text": [
      "all\n",
      "True [-180  179]\n",
      "3\n",
      "(6, 180, 360)\n"
     ]
    },
    {
     "name": "stderr",
     "output_type": "stream",
     "text": [
      "/home/prodhommec/analyseMF/scripts-final-MF/previ-sais/function_read.py:27: FutureWarning: elementwise comparison failed; returning scalar instead, but in the future will perform elementwise comparison\n",
      "  print(lon_bnds != \"all\", lon_bnds)\n",
      "/home/prodhommec/analyseMF/scripts-final-MF/previ-sais/function_read.py:28: FutureWarning: elementwise comparison failed; returning scalar instead, but in the future will perform elementwise comparison\n",
      "  if lon_bnds != \"all\":\n"
     ]
    },
    {
     "name": "stdout",
     "output_type": "stream",
     "text": [
      "all\n",
      "True [-180  179]\n",
      "3\n",
      "(6, 180, 360)\n"
     ]
    },
    {
     "name": "stderr",
     "output_type": "stream",
     "text": [
      "/home/prodhommec/analyseMF/scripts-final-MF/previ-sais/function_read.py:27: FutureWarning: elementwise comparison failed; returning scalar instead, but in the future will perform elementwise comparison\n",
      "  print(lon_bnds != \"all\", lon_bnds)\n",
      "/home/prodhommec/analyseMF/scripts-final-MF/previ-sais/function_read.py:28: FutureWarning: elementwise comparison failed; returning scalar instead, but in the future will perform elementwise comparison\n",
      "  if lon_bnds != \"all\":\n"
     ]
    },
    {
     "name": "stdout",
     "output_type": "stream",
     "text": [
      "all\n",
      "True [-180  179]\n",
      "3\n",
      "(6, 180, 360)\n"
     ]
    },
    {
     "name": "stderr",
     "output_type": "stream",
     "text": [
      "/home/prodhommec/analyseMF/scripts-final-MF/previ-sais/function_read.py:27: FutureWarning: elementwise comparison failed; returning scalar instead, but in the future will perform elementwise comparison\n",
      "  print(lon_bnds != \"all\", lon_bnds)\n",
      "/home/prodhommec/analyseMF/scripts-final-MF/previ-sais/function_read.py:28: FutureWarning: elementwise comparison failed; returning scalar instead, but in the future will perform elementwise comparison\n",
      "  if lon_bnds != \"all\":\n"
     ]
    },
    {
     "name": "stdout",
     "output_type": "stream",
     "text": [
      "all\n",
      "True [-180  179]\n",
      "3\n",
      "(6, 180, 360)\n"
     ]
    },
    {
     "name": "stderr",
     "output_type": "stream",
     "text": [
      "/home/prodhommec/analyseMF/scripts-final-MF/previ-sais/function_read.py:27: FutureWarning: elementwise comparison failed; returning scalar instead, but in the future will perform elementwise comparison\n",
      "  print(lon_bnds != \"all\", lon_bnds)\n",
      "/home/prodhommec/analyseMF/scripts-final-MF/previ-sais/function_read.py:28: FutureWarning: elementwise comparison failed; returning scalar instead, but in the future will perform elementwise comparison\n",
      "  if lon_bnds != \"all\":\n"
     ]
    },
    {
     "name": "stdout",
     "output_type": "stream",
     "text": [
      "all\n",
      "True [-180  179]\n",
      "3\n",
      "(6, 180, 360)\n"
     ]
    },
    {
     "name": "stderr",
     "output_type": "stream",
     "text": [
      "/home/prodhommec/analyseMF/scripts-final-MF/previ-sais/function_read.py:27: FutureWarning: elementwise comparison failed; returning scalar instead, but in the future will perform elementwise comparison\n",
      "  print(lon_bnds != \"all\", lon_bnds)\n",
      "/home/prodhommec/analyseMF/scripts-final-MF/previ-sais/function_read.py:28: FutureWarning: elementwise comparison failed; returning scalar instead, but in the future will perform elementwise comparison\n",
      "  if lon_bnds != \"all\":\n"
     ]
    },
    {
     "name": "stdout",
     "output_type": "stream",
     "text": [
      "all\n",
      "True [-180  179]\n",
      "3\n",
      "(6, 180, 360)\n"
     ]
    },
    {
     "name": "stderr",
     "output_type": "stream",
     "text": [
      "/home/prodhommec/analyseMF/scripts-final-MF/previ-sais/function_read.py:27: FutureWarning: elementwise comparison failed; returning scalar instead, but in the future will perform elementwise comparison\n",
      "  print(lon_bnds != \"all\", lon_bnds)\n",
      "/home/prodhommec/analyseMF/scripts-final-MF/previ-sais/function_read.py:28: FutureWarning: elementwise comparison failed; returning scalar instead, but in the future will perform elementwise comparison\n",
      "  if lon_bnds != \"all\":\n"
     ]
    },
    {
     "name": "stdout",
     "output_type": "stream",
     "text": [
      "all\n",
      "True [-180  179]\n",
      "3\n",
      "(6, 180, 360)\n"
     ]
    },
    {
     "name": "stderr",
     "output_type": "stream",
     "text": [
      "/home/prodhommec/analyseMF/scripts-final-MF/previ-sais/function_read.py:27: FutureWarning: elementwise comparison failed; returning scalar instead, but in the future will perform elementwise comparison\n",
      "  print(lon_bnds != \"all\", lon_bnds)\n",
      "/home/prodhommec/analyseMF/scripts-final-MF/previ-sais/function_read.py:28: FutureWarning: elementwise comparison failed; returning scalar instead, but in the future will perform elementwise comparison\n",
      "  if lon_bnds != \"all\":\n"
     ]
    },
    {
     "name": "stdout",
     "output_type": "stream",
     "text": [
      "all\n",
      "True [-180  179]\n",
      "3\n",
      "(6, 180, 360)\n"
     ]
    },
    {
     "name": "stderr",
     "output_type": "stream",
     "text": [
      "/home/prodhommec/analyseMF/scripts-final-MF/previ-sais/function_read.py:27: FutureWarning: elementwise comparison failed; returning scalar instead, but in the future will perform elementwise comparison\n",
      "  print(lon_bnds != \"all\", lon_bnds)\n",
      "/home/prodhommec/analyseMF/scripts-final-MF/previ-sais/function_read.py:28: FutureWarning: elementwise comparison failed; returning scalar instead, but in the future will perform elementwise comparison\n",
      "  if lon_bnds != \"all\":\n"
     ]
    },
    {
     "name": "stdout",
     "output_type": "stream",
     "text": [
      "all\n",
      "True [-180  179]\n",
      "3\n",
      "(6, 180, 360)\n"
     ]
    },
    {
     "name": "stderr",
     "output_type": "stream",
     "text": [
      "/home/prodhommec/analyseMF/scripts-final-MF/previ-sais/function_read.py:27: FutureWarning: elementwise comparison failed; returning scalar instead, but in the future will perform elementwise comparison\n",
      "  print(lon_bnds != \"all\", lon_bnds)\n",
      "/home/prodhommec/analyseMF/scripts-final-MF/previ-sais/function_read.py:28: FutureWarning: elementwise comparison failed; returning scalar instead, but in the future will perform elementwise comparison\n",
      "  if lon_bnds != \"all\":\n"
     ]
    },
    {
     "name": "stdout",
     "output_type": "stream",
     "text": [
      "all\n",
      "True [-180  179]\n",
      "3\n",
      "(6, 180, 360)\n"
     ]
    },
    {
     "name": "stderr",
     "output_type": "stream",
     "text": [
      "/home/prodhommec/analyseMF/scripts-final-MF/previ-sais/function_read.py:27: FutureWarning: elementwise comparison failed; returning scalar instead, but in the future will perform elementwise comparison\n",
      "  print(lon_bnds != \"all\", lon_bnds)\n",
      "/home/prodhommec/analyseMF/scripts-final-MF/previ-sais/function_read.py:28: FutureWarning: elementwise comparison failed; returning scalar instead, but in the future will perform elementwise comparison\n",
      "  if lon_bnds != \"all\":\n"
     ]
    },
    {
     "name": "stdout",
     "output_type": "stream",
     "text": [
      "all\n",
      "True [-180  179]\n",
      "3\n",
      "(6, 180, 360)\n"
     ]
    },
    {
     "name": "stderr",
     "output_type": "stream",
     "text": [
      "/home/prodhommec/analyseMF/scripts-final-MF/previ-sais/function_read.py:27: FutureWarning: elementwise comparison failed; returning scalar instead, but in the future will perform elementwise comparison\n",
      "  print(lon_bnds != \"all\", lon_bnds)\n",
      "/home/prodhommec/analyseMF/scripts-final-MF/previ-sais/function_read.py:28: FutureWarning: elementwise comparison failed; returning scalar instead, but in the future will perform elementwise comparison\n",
      "  if lon_bnds != \"all\":\n"
     ]
    },
    {
     "name": "stdout",
     "output_type": "stream",
     "text": [
      "all\n",
      "True [-180  179]\n",
      "3\n",
      "(6, 180, 360)\n"
     ]
    },
    {
     "name": "stderr",
     "output_type": "stream",
     "text": [
      "/home/prodhommec/analyseMF/scripts-final-MF/previ-sais/function_read.py:27: FutureWarning: elementwise comparison failed; returning scalar instead, but in the future will perform elementwise comparison\n",
      "  print(lon_bnds != \"all\", lon_bnds)\n",
      "/home/prodhommec/analyseMF/scripts-final-MF/previ-sais/function_read.py:28: FutureWarning: elementwise comparison failed; returning scalar instead, but in the future will perform elementwise comparison\n",
      "  if lon_bnds != \"all\":\n"
     ]
    },
    {
     "name": "stdout",
     "output_type": "stream",
     "text": [
      "all\n",
      "True [-180  179]\n",
      "3\n",
      "(6, 180, 360)\n"
     ]
    },
    {
     "name": "stderr",
     "output_type": "stream",
     "text": [
      "/home/prodhommec/analyseMF/scripts-final-MF/previ-sais/function_read.py:27: FutureWarning: elementwise comparison failed; returning scalar instead, but in the future will perform elementwise comparison\n",
      "  print(lon_bnds != \"all\", lon_bnds)\n",
      "/home/prodhommec/analyseMF/scripts-final-MF/previ-sais/function_read.py:28: FutureWarning: elementwise comparison failed; returning scalar instead, but in the future will perform elementwise comparison\n",
      "  if lon_bnds != \"all\":\n"
     ]
    },
    {
     "name": "stdout",
     "output_type": "stream",
     "text": [
      "all\n",
      "True [-180  179]\n",
      "3\n",
      "(6, 180, 360)\n"
     ]
    },
    {
     "name": "stderr",
     "output_type": "stream",
     "text": [
      "/home/prodhommec/analyseMF/scripts-final-MF/previ-sais/function_read.py:27: FutureWarning: elementwise comparison failed; returning scalar instead, but in the future will perform elementwise comparison\n",
      "  print(lon_bnds != \"all\", lon_bnds)\n",
      "/home/prodhommec/analyseMF/scripts-final-MF/previ-sais/function_read.py:28: FutureWarning: elementwise comparison failed; returning scalar instead, but in the future will perform elementwise comparison\n",
      "  if lon_bnds != \"all\":\n"
     ]
    },
    {
     "name": "stdout",
     "output_type": "stream",
     "text": [
      "all\n",
      "True [-180  179]\n",
      "3\n",
      "(6, 180, 360)\n"
     ]
    },
    {
     "name": "stderr",
     "output_type": "stream",
     "text": [
      "/home/prodhommec/analyseMF/scripts-final-MF/previ-sais/function_read.py:27: FutureWarning: elementwise comparison failed; returning scalar instead, but in the future will perform elementwise comparison\n",
      "  print(lon_bnds != \"all\", lon_bnds)\n",
      "/home/prodhommec/analyseMF/scripts-final-MF/previ-sais/function_read.py:28: FutureWarning: elementwise comparison failed; returning scalar instead, but in the future will perform elementwise comparison\n",
      "  if lon_bnds != \"all\":\n"
     ]
    },
    {
     "name": "stdout",
     "output_type": "stream",
     "text": [
      "all\n",
      "True [-180  179]\n",
      "3\n",
      "(6, 180, 360)\n"
     ]
    },
    {
     "name": "stderr",
     "output_type": "stream",
     "text": [
      "/home/prodhommec/analyseMF/scripts-final-MF/previ-sais/function_read.py:27: FutureWarning: elementwise comparison failed; returning scalar instead, but in the future will perform elementwise comparison\n",
      "  print(lon_bnds != \"all\", lon_bnds)\n",
      "/home/prodhommec/analyseMF/scripts-final-MF/previ-sais/function_read.py:28: FutureWarning: elementwise comparison failed; returning scalar instead, but in the future will perform elementwise comparison\n",
      "  if lon_bnds != \"all\":\n"
     ]
    },
    {
     "name": "stdout",
     "output_type": "stream",
     "text": [
      "all\n",
      "True [-180  179]\n",
      "3\n",
      "(6, 180, 360)\n"
     ]
    },
    {
     "name": "stderr",
     "output_type": "stream",
     "text": [
      "/home/prodhommec/analyseMF/scripts-final-MF/previ-sais/function_read.py:27: FutureWarning: elementwise comparison failed; returning scalar instead, but in the future will perform elementwise comparison\n",
      "  print(lon_bnds != \"all\", lon_bnds)\n",
      "/home/prodhommec/analyseMF/scripts-final-MF/previ-sais/function_read.py:28: FutureWarning: elementwise comparison failed; returning scalar instead, but in the future will perform elementwise comparison\n",
      "  if lon_bnds != \"all\":\n"
     ]
    },
    {
     "name": "stdout",
     "output_type": "stream",
     "text": [
      "all\n",
      "True [-180  179]\n",
      "3\n",
      "(6, 180, 360)\n"
     ]
    },
    {
     "name": "stderr",
     "output_type": "stream",
     "text": [
      "/home/prodhommec/analyseMF/scripts-final-MF/previ-sais/function_read.py:27: FutureWarning: elementwise comparison failed; returning scalar instead, but in the future will perform elementwise comparison\n",
      "  print(lon_bnds != \"all\", lon_bnds)\n",
      "/home/prodhommec/analyseMF/scripts-final-MF/previ-sais/function_read.py:28: FutureWarning: elementwise comparison failed; returning scalar instead, but in the future will perform elementwise comparison\n",
      "  if lon_bnds != \"all\":\n"
     ]
    },
    {
     "name": "stdout",
     "output_type": "stream",
     "text": [
      "all\n",
      "True [-180  179]\n",
      "3\n",
      "(6, 180, 360)\n"
     ]
    },
    {
     "name": "stderr",
     "output_type": "stream",
     "text": [
      "/home/prodhommec/analyseMF/scripts-final-MF/previ-sais/function_read.py:27: FutureWarning: elementwise comparison failed; returning scalar instead, but in the future will perform elementwise comparison\n",
      "  print(lon_bnds != \"all\", lon_bnds)\n",
      "/home/prodhommec/analyseMF/scripts-final-MF/previ-sais/function_read.py:28: FutureWarning: elementwise comparison failed; returning scalar instead, but in the future will perform elementwise comparison\n",
      "  if lon_bnds != \"all\":\n"
     ]
    },
    {
     "name": "stdout",
     "output_type": "stream",
     "text": [
      "all\n",
      "True [-180  179]\n",
      "3\n",
      "(6, 180, 360)\n"
     ]
    },
    {
     "name": "stderr",
     "output_type": "stream",
     "text": [
      "/home/prodhommec/analyseMF/scripts-final-MF/previ-sais/function_read.py:27: FutureWarning: elementwise comparison failed; returning scalar instead, but in the future will perform elementwise comparison\n",
      "  print(lon_bnds != \"all\", lon_bnds)\n",
      "/home/prodhommec/analyseMF/scripts-final-MF/previ-sais/function_read.py:28: FutureWarning: elementwise comparison failed; returning scalar instead, but in the future will perform elementwise comparison\n",
      "  if lon_bnds != \"all\":\n"
     ]
    },
    {
     "name": "stdout",
     "output_type": "stream",
     "text": [
      "all\n",
      "True [-180  179]\n",
      "3\n",
      "(6, 180, 360)\n"
     ]
    },
    {
     "name": "stderr",
     "output_type": "stream",
     "text": [
      "/home/prodhommec/analyseMF/scripts-final-MF/previ-sais/function_read.py:27: FutureWarning: elementwise comparison failed; returning scalar instead, but in the future will perform elementwise comparison\n",
      "  print(lon_bnds != \"all\", lon_bnds)\n",
      "/home/prodhommec/analyseMF/scripts-final-MF/previ-sais/function_read.py:28: FutureWarning: elementwise comparison failed; returning scalar instead, but in the future will perform elementwise comparison\n",
      "  if lon_bnds != \"all\":\n"
     ]
    },
    {
     "name": "stdout",
     "output_type": "stream",
     "text": [
      "all\n",
      "True [-180  179]\n",
      "3\n",
      "(6, 180, 360)\n"
     ]
    },
    {
     "name": "stderr",
     "output_type": "stream",
     "text": [
      "/home/prodhommec/analyseMF/scripts-final-MF/previ-sais/function_read.py:27: FutureWarning: elementwise comparison failed; returning scalar instead, but in the future will perform elementwise comparison\n",
      "  print(lon_bnds != \"all\", lon_bnds)\n",
      "/home/prodhommec/analyseMF/scripts-final-MF/previ-sais/function_read.py:28: FutureWarning: elementwise comparison failed; returning scalar instead, but in the future will perform elementwise comparison\n",
      "  if lon_bnds != \"all\":\n"
     ]
    },
    {
     "name": "stdout",
     "output_type": "stream",
     "text": [
      "all\n",
      "True [-180  179]\n",
      "3\n",
      "(6, 180, 360)\n"
     ]
    },
    {
     "name": "stderr",
     "output_type": "stream",
     "text": [
      "/home/prodhommec/analyseMF/scripts-final-MF/previ-sais/function_read.py:27: FutureWarning: elementwise comparison failed; returning scalar instead, but in the future will perform elementwise comparison\n",
      "  print(lon_bnds != \"all\", lon_bnds)\n",
      "/home/prodhommec/analyseMF/scripts-final-MF/previ-sais/function_read.py:28: FutureWarning: elementwise comparison failed; returning scalar instead, but in the future will perform elementwise comparison\n",
      "  if lon_bnds != \"all\":\n"
     ]
    },
    {
     "name": "stdout",
     "output_type": "stream",
     "text": [
      "all\n",
      "True [-180  179]\n",
      "3\n",
      "(6, 180, 360)\n"
     ]
    },
    {
     "name": "stderr",
     "output_type": "stream",
     "text": [
      "/home/prodhommec/analyseMF/scripts-final-MF/previ-sais/function_read.py:27: FutureWarning: elementwise comparison failed; returning scalar instead, but in the future will perform elementwise comparison\n",
      "  print(lon_bnds != \"all\", lon_bnds)\n",
      "/home/prodhommec/analyseMF/scripts-final-MF/previ-sais/function_read.py:28: FutureWarning: elementwise comparison failed; returning scalar instead, but in the future will perform elementwise comparison\n",
      "  if lon_bnds != \"all\":\n"
     ]
    },
    {
     "name": "stdout",
     "output_type": "stream",
     "text": [
      "all\n",
      "True [-180  179]\n",
      "3\n",
      "(6, 180, 360)\n"
     ]
    },
    {
     "name": "stderr",
     "output_type": "stream",
     "text": [
      "/home/prodhommec/analyseMF/scripts-final-MF/previ-sais/function_read.py:27: FutureWarning: elementwise comparison failed; returning scalar instead, but in the future will perform elementwise comparison\n",
      "  print(lon_bnds != \"all\", lon_bnds)\n",
      "/home/prodhommec/analyseMF/scripts-final-MF/previ-sais/function_read.py:28: FutureWarning: elementwise comparison failed; returning scalar instead, but in the future will perform elementwise comparison\n",
      "  if lon_bnds != \"all\":\n"
     ]
    },
    {
     "name": "stdout",
     "output_type": "stream",
     "text": [
      "all\n",
      "True [-180  179]\n",
      "3\n",
      "(6, 180, 360)\n"
     ]
    },
    {
     "name": "stderr",
     "output_type": "stream",
     "text": [
      "/home/prodhommec/analyseMF/scripts-final-MF/previ-sais/function_read.py:27: FutureWarning: elementwise comparison failed; returning scalar instead, but in the future will perform elementwise comparison\n",
      "  print(lon_bnds != \"all\", lon_bnds)\n",
      "/home/prodhommec/analyseMF/scripts-final-MF/previ-sais/function_read.py:28: FutureWarning: elementwise comparison failed; returning scalar instead, but in the future will perform elementwise comparison\n",
      "  if lon_bnds != \"all\":\n"
     ]
    },
    {
     "name": "stdout",
     "output_type": "stream",
     "text": [
      "all\n",
      "True [-180  179]\n",
      "3\n",
      "(6, 180, 360)\n"
     ]
    },
    {
     "name": "stderr",
     "output_type": "stream",
     "text": [
      "/home/prodhommec/analyseMF/scripts-final-MF/previ-sais/function_read.py:27: FutureWarning: elementwise comparison failed; returning scalar instead, but in the future will perform elementwise comparison\n",
      "  print(lon_bnds != \"all\", lon_bnds)\n",
      "/home/prodhommec/analyseMF/scripts-final-MF/previ-sais/function_read.py:28: FutureWarning: elementwise comparison failed; returning scalar instead, but in the future will perform elementwise comparison\n",
      "  if lon_bnds != \"all\":\n"
     ]
    },
    {
     "name": "stdout",
     "output_type": "stream",
     "text": [
      "all\n",
      "True [-180  179]\n",
      "3\n",
      "(6, 180, 360)\n"
     ]
    },
    {
     "name": "stderr",
     "output_type": "stream",
     "text": [
      "/home/prodhommec/analyseMF/scripts-final-MF/previ-sais/function_read.py:27: FutureWarning: elementwise comparison failed; returning scalar instead, but in the future will perform elementwise comparison\n",
      "  print(lon_bnds != \"all\", lon_bnds)\n",
      "/home/prodhommec/analyseMF/scripts-final-MF/previ-sais/function_read.py:28: FutureWarning: elementwise comparison failed; returning scalar instead, but in the future will perform elementwise comparison\n",
      "  if lon_bnds != \"all\":\n"
     ]
    },
    {
     "name": "stdout",
     "output_type": "stream",
     "text": [
      "all\n",
      "True [-180  179]\n",
      "3\n",
      "(6, 180, 360)\n"
     ]
    },
    {
     "name": "stderr",
     "output_type": "stream",
     "text": [
      "/home/prodhommec/analyseMF/scripts-final-MF/previ-sais/function_read.py:27: FutureWarning: elementwise comparison failed; returning scalar instead, but in the future will perform elementwise comparison\n",
      "  print(lon_bnds != \"all\", lon_bnds)\n",
      "/home/prodhommec/analyseMF/scripts-final-MF/previ-sais/function_read.py:28: FutureWarning: elementwise comparison failed; returning scalar instead, but in the future will perform elementwise comparison\n",
      "  if lon_bnds != \"all\":\n"
     ]
    },
    {
     "name": "stdout",
     "output_type": "stream",
     "text": [
      "all\n",
      "True [-180  179]\n",
      "3\n",
      "(6, 180, 360)\n"
     ]
    },
    {
     "name": "stderr",
     "output_type": "stream",
     "text": [
      "/home/prodhommec/analyseMF/scripts-final-MF/previ-sais/function_read.py:27: FutureWarning: elementwise comparison failed; returning scalar instead, but in the future will perform elementwise comparison\n",
      "  print(lon_bnds != \"all\", lon_bnds)\n",
      "/home/prodhommec/analyseMF/scripts-final-MF/previ-sais/function_read.py:28: FutureWarning: elementwise comparison failed; returning scalar instead, but in the future will perform elementwise comparison\n",
      "  if lon_bnds != \"all\":\n"
     ]
    },
    {
     "name": "stdout",
     "output_type": "stream",
     "text": [
      "all\n",
      "True [-180  179]\n",
      "3\n",
      "(6, 180, 360)\n"
     ]
    },
    {
     "name": "stderr",
     "output_type": "stream",
     "text": [
      "/home/prodhommec/analyseMF/scripts-final-MF/previ-sais/function_read.py:27: FutureWarning: elementwise comparison failed; returning scalar instead, but in the future will perform elementwise comparison\n",
      "  print(lon_bnds != \"all\", lon_bnds)\n",
      "/home/prodhommec/analyseMF/scripts-final-MF/previ-sais/function_read.py:28: FutureWarning: elementwise comparison failed; returning scalar instead, but in the future will perform elementwise comparison\n",
      "  if lon_bnds != \"all\":\n"
     ]
    },
    {
     "name": "stdout",
     "output_type": "stream",
     "text": [
      "all\n",
      "True [-180  179]\n",
      "3\n",
      "(6, 180, 360)\n"
     ]
    },
    {
     "name": "stderr",
     "output_type": "stream",
     "text": [
      "/home/prodhommec/analyseMF/scripts-final-MF/previ-sais/function_read.py:27: FutureWarning: elementwise comparison failed; returning scalar instead, but in the future will perform elementwise comparison\n",
      "  print(lon_bnds != \"all\", lon_bnds)\n",
      "/home/prodhommec/analyseMF/scripts-final-MF/previ-sais/function_read.py:28: FutureWarning: elementwise comparison failed; returning scalar instead, but in the future will perform elementwise comparison\n",
      "  if lon_bnds != \"all\":\n"
     ]
    },
    {
     "name": "stdout",
     "output_type": "stream",
     "text": [
      "all\n",
      "True [-180  179]\n",
      "3\n",
      "(6, 180, 360)\n"
     ]
    },
    {
     "name": "stderr",
     "output_type": "stream",
     "text": [
      "/home/prodhommec/analyseMF/scripts-final-MF/previ-sais/function_read.py:27: FutureWarning: elementwise comparison failed; returning scalar instead, but in the future will perform elementwise comparison\n",
      "  print(lon_bnds != \"all\", lon_bnds)\n",
      "/home/prodhommec/analyseMF/scripts-final-MF/previ-sais/function_read.py:28: FutureWarning: elementwise comparison failed; returning scalar instead, but in the future will perform elementwise comparison\n",
      "  if lon_bnds != \"all\":\n"
     ]
    },
    {
     "name": "stdout",
     "output_type": "stream",
     "text": [
      "all\n",
      "True [-180  179]\n",
      "3\n",
      "(6, 180, 360)\n"
     ]
    },
    {
     "name": "stderr",
     "output_type": "stream",
     "text": [
      "/home/prodhommec/analyseMF/scripts-final-MF/previ-sais/function_read.py:27: FutureWarning: elementwise comparison failed; returning scalar instead, but in the future will perform elementwise comparison\n",
      "  print(lon_bnds != \"all\", lon_bnds)\n",
      "/home/prodhommec/analyseMF/scripts-final-MF/previ-sais/function_read.py:28: FutureWarning: elementwise comparison failed; returning scalar instead, but in the future will perform elementwise comparison\n",
      "  if lon_bnds != \"all\":\n"
     ]
    },
    {
     "name": "stdout",
     "output_type": "stream",
     "text": [
      "all\n",
      "True [-180  179]\n",
      "3\n",
      "(6, 180, 360)\n"
     ]
    },
    {
     "name": "stderr",
     "output_type": "stream",
     "text": [
      "/home/prodhommec/analyseMF/scripts-final-MF/previ-sais/function_read.py:27: FutureWarning: elementwise comparison failed; returning scalar instead, but in the future will perform elementwise comparison\n",
      "  print(lon_bnds != \"all\", lon_bnds)\n",
      "/home/prodhommec/analyseMF/scripts-final-MF/previ-sais/function_read.py:28: FutureWarning: elementwise comparison failed; returning scalar instead, but in the future will perform elementwise comparison\n",
      "  if lon_bnds != \"all\":\n"
     ]
    },
    {
     "name": "stdout",
     "output_type": "stream",
     "text": [
      "all\n",
      "True [-180  179]\n",
      "3\n",
      "(6, 180, 360)\n"
     ]
    },
    {
     "name": "stderr",
     "output_type": "stream",
     "text": [
      "/home/prodhommec/analyseMF/scripts-final-MF/previ-sais/function_read.py:27: FutureWarning: elementwise comparison failed; returning scalar instead, but in the future will perform elementwise comparison\n",
      "  print(lon_bnds != \"all\", lon_bnds)\n",
      "/home/prodhommec/analyseMF/scripts-final-MF/previ-sais/function_read.py:28: FutureWarning: elementwise comparison failed; returning scalar instead, but in the future will perform elementwise comparison\n",
      "  if lon_bnds != \"all\":\n"
     ]
    },
    {
     "name": "stdout",
     "output_type": "stream",
     "text": [
      "all\n",
      "True [-180  179]\n",
      "3\n",
      "(6, 180, 360)\n"
     ]
    },
    {
     "name": "stderr",
     "output_type": "stream",
     "text": [
      "/home/prodhommec/analyseMF/scripts-final-MF/previ-sais/function_read.py:27: FutureWarning: elementwise comparison failed; returning scalar instead, but in the future will perform elementwise comparison\n",
      "  print(lon_bnds != \"all\", lon_bnds)\n",
      "/home/prodhommec/analyseMF/scripts-final-MF/previ-sais/function_read.py:28: FutureWarning: elementwise comparison failed; returning scalar instead, but in the future will perform elementwise comparison\n",
      "  if lon_bnds != \"all\":\n"
     ]
    },
    {
     "name": "stdout",
     "output_type": "stream",
     "text": [
      "all\n",
      "True [-180  179]\n",
      "3\n",
      "(6, 180, 360)\n"
     ]
    },
    {
     "name": "stderr",
     "output_type": "stream",
     "text": [
      "/home/prodhommec/analyseMF/scripts-final-MF/previ-sais/function_read.py:27: FutureWarning: elementwise comparison failed; returning scalar instead, but in the future will perform elementwise comparison\n",
      "  print(lon_bnds != \"all\", lon_bnds)\n",
      "/home/prodhommec/analyseMF/scripts-final-MF/previ-sais/function_read.py:28: FutureWarning: elementwise comparison failed; returning scalar instead, but in the future will perform elementwise comparison\n",
      "  if lon_bnds != \"all\":\n"
     ]
    },
    {
     "name": "stdout",
     "output_type": "stream",
     "text": [
      "all\n",
      "True [-180  179]\n",
      "3\n",
      "(6, 180, 360)\n"
     ]
    },
    {
     "name": "stderr",
     "output_type": "stream",
     "text": [
      "/home/prodhommec/analyseMF/scripts-final-MF/previ-sais/function_read.py:27: FutureWarning: elementwise comparison failed; returning scalar instead, but in the future will perform elementwise comparison\n",
      "  print(lon_bnds != \"all\", lon_bnds)\n",
      "/home/prodhommec/analyseMF/scripts-final-MF/previ-sais/function_read.py:28: FutureWarning: elementwise comparison failed; returning scalar instead, but in the future will perform elementwise comparison\n",
      "  if lon_bnds != \"all\":\n"
     ]
    },
    {
     "name": "stdout",
     "output_type": "stream",
     "text": [
      "all\n",
      "True [-180  179]\n",
      "3\n",
      "(6, 180, 360)\n"
     ]
    },
    {
     "name": "stderr",
     "output_type": "stream",
     "text": [
      "/home/prodhommec/analyseMF/scripts-final-MF/previ-sais/function_read.py:27: FutureWarning: elementwise comparison failed; returning scalar instead, but in the future will perform elementwise comparison\n",
      "  print(lon_bnds != \"all\", lon_bnds)\n",
      "/home/prodhommec/analyseMF/scripts-final-MF/previ-sais/function_read.py:28: FutureWarning: elementwise comparison failed; returning scalar instead, but in the future will perform elementwise comparison\n",
      "  if lon_bnds != \"all\":\n"
     ]
    },
    {
     "name": "stdout",
     "output_type": "stream",
     "text": [
      "all\n",
      "True [-180  179]\n",
      "3\n",
      "(6, 180, 360)\n"
     ]
    },
    {
     "name": "stderr",
     "output_type": "stream",
     "text": [
      "/home/prodhommec/analyseMF/scripts-final-MF/previ-sais/function_read.py:27: FutureWarning: elementwise comparison failed; returning scalar instead, but in the future will perform elementwise comparison\n",
      "  print(lon_bnds != \"all\", lon_bnds)\n",
      "/home/prodhommec/analyseMF/scripts-final-MF/previ-sais/function_read.py:28: FutureWarning: elementwise comparison failed; returning scalar instead, but in the future will perform elementwise comparison\n",
      "  if lon_bnds != \"all\":\n"
     ]
    },
    {
     "name": "stdout",
     "output_type": "stream",
     "text": [
      "all\n",
      "True [-180  179]\n",
      "3\n",
      "(6, 180, 360)\n"
     ]
    },
    {
     "name": "stderr",
     "output_type": "stream",
     "text": [
      "/home/prodhommec/analyseMF/scripts-final-MF/previ-sais/function_read.py:27: FutureWarning: elementwise comparison failed; returning scalar instead, but in the future will perform elementwise comparison\n",
      "  print(lon_bnds != \"all\", lon_bnds)\n",
      "/home/prodhommec/analyseMF/scripts-final-MF/previ-sais/function_read.py:28: FutureWarning: elementwise comparison failed; returning scalar instead, but in the future will perform elementwise comparison\n",
      "  if lon_bnds != \"all\":\n"
     ]
    },
    {
     "name": "stdout",
     "output_type": "stream",
     "text": [
      "all\n",
      "True [-180  179]\n",
      "3\n",
      "(6, 180, 360)\n"
     ]
    },
    {
     "name": "stderr",
     "output_type": "stream",
     "text": [
      "/home/prodhommec/analyseMF/scripts-final-MF/previ-sais/function_read.py:27: FutureWarning: elementwise comparison failed; returning scalar instead, but in the future will perform elementwise comparison\n",
      "  print(lon_bnds != \"all\", lon_bnds)\n",
      "/home/prodhommec/analyseMF/scripts-final-MF/previ-sais/function_read.py:28: FutureWarning: elementwise comparison failed; returning scalar instead, but in the future will perform elementwise comparison\n",
      "  if lon_bnds != \"all\":\n"
     ]
    },
    {
     "name": "stdout",
     "output_type": "stream",
     "text": [
      "all\n",
      "True [-180  179]\n",
      "3\n",
      "(6, 180, 360)\n"
     ]
    },
    {
     "name": "stderr",
     "output_type": "stream",
     "text": [
      "/home/prodhommec/analyseMF/scripts-final-MF/previ-sais/function_read.py:27: FutureWarning: elementwise comparison failed; returning scalar instead, but in the future will perform elementwise comparison\n",
      "  print(lon_bnds != \"all\", lon_bnds)\n",
      "/home/prodhommec/analyseMF/scripts-final-MF/previ-sais/function_read.py:28: FutureWarning: elementwise comparison failed; returning scalar instead, but in the future will perform elementwise comparison\n",
      "  if lon_bnds != \"all\":\n"
     ]
    },
    {
     "name": "stdout",
     "output_type": "stream",
     "text": [
      "all\n",
      "True [-180  179]\n",
      "3\n",
      "(6, 180, 360)\n"
     ]
    },
    {
     "name": "stderr",
     "output_type": "stream",
     "text": [
      "/home/prodhommec/analyseMF/scripts-final-MF/previ-sais/function_read.py:27: FutureWarning: elementwise comparison failed; returning scalar instead, but in the future will perform elementwise comparison\n",
      "  print(lon_bnds != \"all\", lon_bnds)\n",
      "/home/prodhommec/analyseMF/scripts-final-MF/previ-sais/function_read.py:28: FutureWarning: elementwise comparison failed; returning scalar instead, but in the future will perform elementwise comparison\n",
      "  if lon_bnds != \"all\":\n"
     ]
    },
    {
     "name": "stdout",
     "output_type": "stream",
     "text": [
      "all\n",
      "True [-180  179]\n",
      "3\n",
      "(6, 180, 360)\n"
     ]
    },
    {
     "name": "stderr",
     "output_type": "stream",
     "text": [
      "/home/prodhommec/analyseMF/scripts-final-MF/previ-sais/function_read.py:27: FutureWarning: elementwise comparison failed; returning scalar instead, but in the future will perform elementwise comparison\n",
      "  print(lon_bnds != \"all\", lon_bnds)\n",
      "/home/prodhommec/analyseMF/scripts-final-MF/previ-sais/function_read.py:28: FutureWarning: elementwise comparison failed; returning scalar instead, but in the future will perform elementwise comparison\n",
      "  if lon_bnds != \"all\":\n"
     ]
    },
    {
     "name": "stdout",
     "output_type": "stream",
     "text": [
      "all\n",
      "True [-180  179]\n",
      "3\n",
      "(6, 180, 360)\n"
     ]
    },
    {
     "name": "stderr",
     "output_type": "stream",
     "text": [
      "/home/prodhommec/analyseMF/scripts-final-MF/previ-sais/function_read.py:27: FutureWarning: elementwise comparison failed; returning scalar instead, but in the future will perform elementwise comparison\n",
      "  print(lon_bnds != \"all\", lon_bnds)\n",
      "/home/prodhommec/analyseMF/scripts-final-MF/previ-sais/function_read.py:28: FutureWarning: elementwise comparison failed; returning scalar instead, but in the future will perform elementwise comparison\n",
      "  if lon_bnds != \"all\":\n"
     ]
    },
    {
     "name": "stdout",
     "output_type": "stream",
     "text": [
      "all\n",
      "True [-180  179]\n",
      "3\n",
      "(6, 180, 360)\n"
     ]
    },
    {
     "name": "stderr",
     "output_type": "stream",
     "text": [
      "/home/prodhommec/analyseMF/scripts-final-MF/previ-sais/function_read.py:27: FutureWarning: elementwise comparison failed; returning scalar instead, but in the future will perform elementwise comparison\n",
      "  print(lon_bnds != \"all\", lon_bnds)\n",
      "/home/prodhommec/analyseMF/scripts-final-MF/previ-sais/function_read.py:28: FutureWarning: elementwise comparison failed; returning scalar instead, but in the future will perform elementwise comparison\n",
      "  if lon_bnds != \"all\":\n"
     ]
    },
    {
     "name": "stdout",
     "output_type": "stream",
     "text": [
      "all\n",
      "True [-180  179]\n",
      "3\n",
      "(6, 180, 360)\n"
     ]
    },
    {
     "name": "stderr",
     "output_type": "stream",
     "text": [
      "/home/prodhommec/analyseMF/scripts-final-MF/previ-sais/function_read.py:27: FutureWarning: elementwise comparison failed; returning scalar instead, but in the future will perform elementwise comparison\n",
      "  print(lon_bnds != \"all\", lon_bnds)\n",
      "/home/prodhommec/analyseMF/scripts-final-MF/previ-sais/function_read.py:28: FutureWarning: elementwise comparison failed; returning scalar instead, but in the future will perform elementwise comparison\n",
      "  if lon_bnds != \"all\":\n"
     ]
    },
    {
     "name": "stdout",
     "output_type": "stream",
     "text": [
      "all\n",
      "True [-180  179]\n",
      "3\n",
      "(6, 180, 360)\n"
     ]
    },
    {
     "name": "stderr",
     "output_type": "stream",
     "text": [
      "/home/prodhommec/analyseMF/scripts-final-MF/previ-sais/function_read.py:27: FutureWarning: elementwise comparison failed; returning scalar instead, but in the future will perform elementwise comparison\n",
      "  print(lon_bnds != \"all\", lon_bnds)\n",
      "/home/prodhommec/analyseMF/scripts-final-MF/previ-sais/function_read.py:28: FutureWarning: elementwise comparison failed; returning scalar instead, but in the future will perform elementwise comparison\n",
      "  if lon_bnds != \"all\":\n"
     ]
    },
    {
     "name": "stdout",
     "output_type": "stream",
     "text": [
      "all\n",
      "True [-180  179]\n",
      "3\n",
      "(6, 180, 360)\n"
     ]
    },
    {
     "name": "stderr",
     "output_type": "stream",
     "text": [
      "/home/prodhommec/analyseMF/scripts-final-MF/previ-sais/function_read.py:27: FutureWarning: elementwise comparison failed; returning scalar instead, but in the future will perform elementwise comparison\n",
      "  print(lon_bnds != \"all\", lon_bnds)\n",
      "/home/prodhommec/analyseMF/scripts-final-MF/previ-sais/function_read.py:28: FutureWarning: elementwise comparison failed; returning scalar instead, but in the future will perform elementwise comparison\n",
      "  if lon_bnds != \"all\":\n"
     ]
    },
    {
     "name": "stdout",
     "output_type": "stream",
     "text": [
      "all\n",
      "True [-180  179]\n",
      "3\n",
      "(6, 180, 360)\n"
     ]
    },
    {
     "name": "stderr",
     "output_type": "stream",
     "text": [
      "/home/prodhommec/analyseMF/scripts-final-MF/previ-sais/function_read.py:27: FutureWarning: elementwise comparison failed; returning scalar instead, but in the future will perform elementwise comparison\n",
      "  print(lon_bnds != \"all\", lon_bnds)\n",
      "/home/prodhommec/analyseMF/scripts-final-MF/previ-sais/function_read.py:28: FutureWarning: elementwise comparison failed; returning scalar instead, but in the future will perform elementwise comparison\n",
      "  if lon_bnds != \"all\":\n"
     ]
    },
    {
     "name": "stdout",
     "output_type": "stream",
     "text": [
      "all\n",
      "True [-180  179]\n",
      "3\n",
      "(6, 180, 360)\n"
     ]
    },
    {
     "name": "stderr",
     "output_type": "stream",
     "text": [
      "/home/prodhommec/analyseMF/scripts-final-MF/previ-sais/function_read.py:27: FutureWarning: elementwise comparison failed; returning scalar instead, but in the future will perform elementwise comparison\n",
      "  print(lon_bnds != \"all\", lon_bnds)\n",
      "/home/prodhommec/analyseMF/scripts-final-MF/previ-sais/function_read.py:28: FutureWarning: elementwise comparison failed; returning scalar instead, but in the future will perform elementwise comparison\n",
      "  if lon_bnds != \"all\":\n"
     ]
    },
    {
     "name": "stdout",
     "output_type": "stream",
     "text": [
      "all\n",
      "True [-180  179]\n",
      "3\n",
      "(6, 180, 360)\n"
     ]
    },
    {
     "name": "stderr",
     "output_type": "stream",
     "text": [
      "/home/prodhommec/analyseMF/scripts-final-MF/previ-sais/function_read.py:27: FutureWarning: elementwise comparison failed; returning scalar instead, but in the future will perform elementwise comparison\n",
      "  print(lon_bnds != \"all\", lon_bnds)\n",
      "/home/prodhommec/analyseMF/scripts-final-MF/previ-sais/function_read.py:28: FutureWarning: elementwise comparison failed; returning scalar instead, but in the future will perform elementwise comparison\n",
      "  if lon_bnds != \"all\":\n"
     ]
    },
    {
     "name": "stdout",
     "output_type": "stream",
     "text": [
      "all\n",
      "True [-180  179]\n",
      "3\n",
      "(6, 180, 360)\n"
     ]
    },
    {
     "name": "stderr",
     "output_type": "stream",
     "text": [
      "/home/prodhommec/analyseMF/scripts-final-MF/previ-sais/function_read.py:27: FutureWarning: elementwise comparison failed; returning scalar instead, but in the future will perform elementwise comparison\n",
      "  print(lon_bnds != \"all\", lon_bnds)\n",
      "/home/prodhommec/analyseMF/scripts-final-MF/previ-sais/function_read.py:28: FutureWarning: elementwise comparison failed; returning scalar instead, but in the future will perform elementwise comparison\n",
      "  if lon_bnds != \"all\":\n"
     ]
    },
    {
     "name": "stdout",
     "output_type": "stream",
     "text": [
      "all\n",
      "True [-180  179]\n",
      "3\n",
      "(6, 180, 360)\n"
     ]
    },
    {
     "name": "stderr",
     "output_type": "stream",
     "text": [
      "/home/prodhommec/analyseMF/scripts-final-MF/previ-sais/function_read.py:27: FutureWarning: elementwise comparison failed; returning scalar instead, but in the future will perform elementwise comparison\n",
      "  print(lon_bnds != \"all\", lon_bnds)\n",
      "/home/prodhommec/analyseMF/scripts-final-MF/previ-sais/function_read.py:28: FutureWarning: elementwise comparison failed; returning scalar instead, but in the future will perform elementwise comparison\n",
      "  if lon_bnds != \"all\":\n"
     ]
    },
    {
     "name": "stdout",
     "output_type": "stream",
     "text": [
      "all\n",
      "True [-180  179]\n",
      "3\n",
      "(6, 180, 360)\n"
     ]
    },
    {
     "name": "stderr",
     "output_type": "stream",
     "text": [
      "/home/prodhommec/analyseMF/scripts-final-MF/previ-sais/function_read.py:27: FutureWarning: elementwise comparison failed; returning scalar instead, but in the future will perform elementwise comparison\n",
      "  print(lon_bnds != \"all\", lon_bnds)\n",
      "/home/prodhommec/analyseMF/scripts-final-MF/previ-sais/function_read.py:28: FutureWarning: elementwise comparison failed; returning scalar instead, but in the future will perform elementwise comparison\n",
      "  if lon_bnds != \"all\":\n"
     ]
    },
    {
     "name": "stdout",
     "output_type": "stream",
     "text": [
      "all\n",
      "True [-180  179]\n",
      "3\n",
      "(6, 180, 360)\n"
     ]
    },
    {
     "name": "stderr",
     "output_type": "stream",
     "text": [
      "/home/prodhommec/analyseMF/scripts-final-MF/previ-sais/function_read.py:27: FutureWarning: elementwise comparison failed; returning scalar instead, but in the future will perform elementwise comparison\n",
      "  print(lon_bnds != \"all\", lon_bnds)\n",
      "/home/prodhommec/analyseMF/scripts-final-MF/previ-sais/function_read.py:28: FutureWarning: elementwise comparison failed; returning scalar instead, but in the future will perform elementwise comparison\n",
      "  if lon_bnds != \"all\":\n"
     ]
    },
    {
     "name": "stdout",
     "output_type": "stream",
     "text": [
      "all\n",
      "True [-180  179]\n",
      "3\n",
      "(6, 180, 360)\n"
     ]
    },
    {
     "name": "stderr",
     "output_type": "stream",
     "text": [
      "/home/prodhommec/analyseMF/scripts-final-MF/previ-sais/function_read.py:27: FutureWarning: elementwise comparison failed; returning scalar instead, but in the future will perform elementwise comparison\n",
      "  print(lon_bnds != \"all\", lon_bnds)\n",
      "/home/prodhommec/analyseMF/scripts-final-MF/previ-sais/function_read.py:28: FutureWarning: elementwise comparison failed; returning scalar instead, but in the future will perform elementwise comparison\n",
      "  if lon_bnds != \"all\":\n"
     ]
    },
    {
     "name": "stdout",
     "output_type": "stream",
     "text": [
      "all\n",
      "True [-180  179]\n",
      "3\n",
      "(6, 180, 360)\n"
     ]
    },
    {
     "name": "stderr",
     "output_type": "stream",
     "text": [
      "/home/prodhommec/analyseMF/scripts-final-MF/previ-sais/function_read.py:27: FutureWarning: elementwise comparison failed; returning scalar instead, but in the future will perform elementwise comparison\n",
      "  print(lon_bnds != \"all\", lon_bnds)\n",
      "/home/prodhommec/analyseMF/scripts-final-MF/previ-sais/function_read.py:28: FutureWarning: elementwise comparison failed; returning scalar instead, but in the future will perform elementwise comparison\n",
      "  if lon_bnds != \"all\":\n"
     ]
    },
    {
     "name": "stdout",
     "output_type": "stream",
     "text": [
      "all\n",
      "True [-180  179]\n",
      "3\n",
      "(6, 180, 360)\n"
     ]
    },
    {
     "name": "stderr",
     "output_type": "stream",
     "text": [
      "/home/prodhommec/analyseMF/scripts-final-MF/previ-sais/function_read.py:27: FutureWarning: elementwise comparison failed; returning scalar instead, but in the future will perform elementwise comparison\n",
      "  print(lon_bnds != \"all\", lon_bnds)\n",
      "/home/prodhommec/analyseMF/scripts-final-MF/previ-sais/function_read.py:28: FutureWarning: elementwise comparison failed; returning scalar instead, but in the future will perform elementwise comparison\n",
      "  if lon_bnds != \"all\":\n"
     ]
    },
    {
     "name": "stdout",
     "output_type": "stream",
     "text": [
      "all\n",
      "True [-180  179]\n",
      "3\n",
      "(6, 180, 360)\n"
     ]
    },
    {
     "name": "stderr",
     "output_type": "stream",
     "text": [
      "/home/prodhommec/analyseMF/scripts-final-MF/previ-sais/function_read.py:27: FutureWarning: elementwise comparison failed; returning scalar instead, but in the future will perform elementwise comparison\n",
      "  print(lon_bnds != \"all\", lon_bnds)\n",
      "/home/prodhommec/analyseMF/scripts-final-MF/previ-sais/function_read.py:28: FutureWarning: elementwise comparison failed; returning scalar instead, but in the future will perform elementwise comparison\n",
      "  if lon_bnds != \"all\":\n"
     ]
    },
    {
     "name": "stdout",
     "output_type": "stream",
     "text": [
      "all\n",
      "True [-180  179]\n",
      "3\n",
      "(6, 180, 360)\n"
     ]
    },
    {
     "name": "stderr",
     "output_type": "stream",
     "text": [
      "/home/prodhommec/analyseMF/scripts-final-MF/previ-sais/function_read.py:27: FutureWarning: elementwise comparison failed; returning scalar instead, but in the future will perform elementwise comparison\n",
      "  print(lon_bnds != \"all\", lon_bnds)\n",
      "/home/prodhommec/analyseMF/scripts-final-MF/previ-sais/function_read.py:28: FutureWarning: elementwise comparison failed; returning scalar instead, but in the future will perform elementwise comparison\n",
      "  if lon_bnds != \"all\":\n"
     ]
    },
    {
     "name": "stdout",
     "output_type": "stream",
     "text": [
      "all\n",
      "True [-180  179]\n",
      "3\n",
      "(6, 180, 360)\n"
     ]
    },
    {
     "name": "stderr",
     "output_type": "stream",
     "text": [
      "/home/prodhommec/analyseMF/scripts-final-MF/previ-sais/function_read.py:27: FutureWarning: elementwise comparison failed; returning scalar instead, but in the future will perform elementwise comparison\n",
      "  print(lon_bnds != \"all\", lon_bnds)\n",
      "/home/prodhommec/analyseMF/scripts-final-MF/previ-sais/function_read.py:28: FutureWarning: elementwise comparison failed; returning scalar instead, but in the future will perform elementwise comparison\n",
      "  if lon_bnds != \"all\":\n"
     ]
    },
    {
     "name": "stdout",
     "output_type": "stream",
     "text": [
      "all\n",
      "True [-180  179]\n",
      "3\n",
      "(6, 180, 360)\n"
     ]
    },
    {
     "name": "stderr",
     "output_type": "stream",
     "text": [
      "/home/prodhommec/analyseMF/scripts-final-MF/previ-sais/function_read.py:27: FutureWarning: elementwise comparison failed; returning scalar instead, but in the future will perform elementwise comparison\n",
      "  print(lon_bnds != \"all\", lon_bnds)\n",
      "/home/prodhommec/analyseMF/scripts-final-MF/previ-sais/function_read.py:28: FutureWarning: elementwise comparison failed; returning scalar instead, but in the future will perform elementwise comparison\n",
      "  if lon_bnds != \"all\":\n"
     ]
    },
    {
     "name": "stdout",
     "output_type": "stream",
     "text": [
      "all\n",
      "True [-180  179]\n",
      "3\n",
      "(6, 180, 360)\n"
     ]
    },
    {
     "name": "stderr",
     "output_type": "stream",
     "text": [
      "/home/prodhommec/analyseMF/scripts-final-MF/previ-sais/function_read.py:27: FutureWarning: elementwise comparison failed; returning scalar instead, but in the future will perform elementwise comparison\n",
      "  print(lon_bnds != \"all\", lon_bnds)\n",
      "/home/prodhommec/analyseMF/scripts-final-MF/previ-sais/function_read.py:28: FutureWarning: elementwise comparison failed; returning scalar instead, but in the future will perform elementwise comparison\n",
      "  if lon_bnds != \"all\":\n"
     ]
    },
    {
     "name": "stdout",
     "output_type": "stream",
     "text": [
      "all\n",
      "True [-180  179]\n",
      "3\n",
      "(6, 180, 360)\n"
     ]
    },
    {
     "name": "stderr",
     "output_type": "stream",
     "text": [
      "/home/prodhommec/analyseMF/scripts-final-MF/previ-sais/function_read.py:27: FutureWarning: elementwise comparison failed; returning scalar instead, but in the future will perform elementwise comparison\n",
      "  print(lon_bnds != \"all\", lon_bnds)\n",
      "/home/prodhommec/analyseMF/scripts-final-MF/previ-sais/function_read.py:28: FutureWarning: elementwise comparison failed; returning scalar instead, but in the future will perform elementwise comparison\n",
      "  if lon_bnds != \"all\":\n"
     ]
    },
    {
     "name": "stdout",
     "output_type": "stream",
     "text": [
      "all\n",
      "True [-180  179]\n",
      "3\n",
      "(6, 180, 360)\n"
     ]
    },
    {
     "name": "stderr",
     "output_type": "stream",
     "text": [
      "/home/prodhommec/analyseMF/scripts-final-MF/previ-sais/function_read.py:27: FutureWarning: elementwise comparison failed; returning scalar instead, but in the future will perform elementwise comparison\n",
      "  print(lon_bnds != \"all\", lon_bnds)\n",
      "/home/prodhommec/analyseMF/scripts-final-MF/previ-sais/function_read.py:28: FutureWarning: elementwise comparison failed; returning scalar instead, but in the future will perform elementwise comparison\n",
      "  if lon_bnds != \"all\":\n"
     ]
    },
    {
     "name": "stdout",
     "output_type": "stream",
     "text": [
      "all\n",
      "True [-180  179]\n",
      "3\n",
      "(6, 180, 360)\n"
     ]
    },
    {
     "name": "stderr",
     "output_type": "stream",
     "text": [
      "/home/prodhommec/analyseMF/scripts-final-MF/previ-sais/function_read.py:27: FutureWarning: elementwise comparison failed; returning scalar instead, but in the future will perform elementwise comparison\n",
      "  print(lon_bnds != \"all\", lon_bnds)\n",
      "/home/prodhommec/analyseMF/scripts-final-MF/previ-sais/function_read.py:28: FutureWarning: elementwise comparison failed; returning scalar instead, but in the future will perform elementwise comparison\n",
      "  if lon_bnds != \"all\":\n"
     ]
    },
    {
     "name": "stdout",
     "output_type": "stream",
     "text": [
      "all\n",
      "True [-180  179]\n",
      "3\n",
      "(6, 180, 360)\n"
     ]
    },
    {
     "name": "stderr",
     "output_type": "stream",
     "text": [
      "/home/prodhommec/analyseMF/scripts-final-MF/previ-sais/function_read.py:27: FutureWarning: elementwise comparison failed; returning scalar instead, but in the future will perform elementwise comparison\n",
      "  print(lon_bnds != \"all\", lon_bnds)\n",
      "/home/prodhommec/analyseMF/scripts-final-MF/previ-sais/function_read.py:28: FutureWarning: elementwise comparison failed; returning scalar instead, but in the future will perform elementwise comparison\n",
      "  if lon_bnds != \"all\":\n"
     ]
    },
    {
     "name": "stdout",
     "output_type": "stream",
     "text": [
      "all\n",
      "True [-180  179]\n",
      "3\n",
      "(6, 180, 360)\n"
     ]
    },
    {
     "name": "stderr",
     "output_type": "stream",
     "text": [
      "/home/prodhommec/analyseMF/scripts-final-MF/previ-sais/function_read.py:27: FutureWarning: elementwise comparison failed; returning scalar instead, but in the future will perform elementwise comparison\n",
      "  print(lon_bnds != \"all\", lon_bnds)\n",
      "/home/prodhommec/analyseMF/scripts-final-MF/previ-sais/function_read.py:28: FutureWarning: elementwise comparison failed; returning scalar instead, but in the future will perform elementwise comparison\n",
      "  if lon_bnds != \"all\":\n"
     ]
    },
    {
     "name": "stdout",
     "output_type": "stream",
     "text": [
      "all\n",
      "True [-180  179]\n",
      "3\n",
      "(6, 180, 360)\n"
     ]
    },
    {
     "name": "stderr",
     "output_type": "stream",
     "text": [
      "/home/prodhommec/analyseMF/scripts-final-MF/previ-sais/function_read.py:27: FutureWarning: elementwise comparison failed; returning scalar instead, but in the future will perform elementwise comparison\n",
      "  print(lon_bnds != \"all\", lon_bnds)\n",
      "/home/prodhommec/analyseMF/scripts-final-MF/previ-sais/function_read.py:28: FutureWarning: elementwise comparison failed; returning scalar instead, but in the future will perform elementwise comparison\n",
      "  if lon_bnds != \"all\":\n"
     ]
    },
    {
     "name": "stdout",
     "output_type": "stream",
     "text": [
      "all\n",
      "True [-180  179]\n",
      "3\n",
      "(6, 180, 360)\n"
     ]
    },
    {
     "name": "stderr",
     "output_type": "stream",
     "text": [
      "/home/prodhommec/analyseMF/scripts-final-MF/previ-sais/function_read.py:27: FutureWarning: elementwise comparison failed; returning scalar instead, but in the future will perform elementwise comparison\n",
      "  print(lon_bnds != \"all\", lon_bnds)\n",
      "/home/prodhommec/analyseMF/scripts-final-MF/previ-sais/function_read.py:28: FutureWarning: elementwise comparison failed; returning scalar instead, but in the future will perform elementwise comparison\n",
      "  if lon_bnds != \"all\":\n"
     ]
    },
    {
     "name": "stdout",
     "output_type": "stream",
     "text": [
      "all\n",
      "True [-180  179]\n",
      "3\n",
      "(6, 180, 360)\n"
     ]
    },
    {
     "name": "stderr",
     "output_type": "stream",
     "text": [
      "/home/prodhommec/analyseMF/scripts-final-MF/previ-sais/function_read.py:27: FutureWarning: elementwise comparison failed; returning scalar instead, but in the future will perform elementwise comparison\n",
      "  print(lon_bnds != \"all\", lon_bnds)\n",
      "/home/prodhommec/analyseMF/scripts-final-MF/previ-sais/function_read.py:28: FutureWarning: elementwise comparison failed; returning scalar instead, but in the future will perform elementwise comparison\n",
      "  if lon_bnds != \"all\":\n"
     ]
    },
    {
     "name": "stdout",
     "output_type": "stream",
     "text": [
      "all\n",
      "True [-180  179]\n",
      "3\n",
      "(6, 180, 360)\n"
     ]
    },
    {
     "name": "stderr",
     "output_type": "stream",
     "text": [
      "/home/prodhommec/analyseMF/scripts-final-MF/previ-sais/function_read.py:27: FutureWarning: elementwise comparison failed; returning scalar instead, but in the future will perform elementwise comparison\n",
      "  print(lon_bnds != \"all\", lon_bnds)\n",
      "/home/prodhommec/analyseMF/scripts-final-MF/previ-sais/function_read.py:28: FutureWarning: elementwise comparison failed; returning scalar instead, but in the future will perform elementwise comparison\n",
      "  if lon_bnds != \"all\":\n"
     ]
    },
    {
     "name": "stdout",
     "output_type": "stream",
     "text": [
      "all\n",
      "True [-180  179]\n",
      "3\n",
      "(6, 180, 360)\n"
     ]
    },
    {
     "name": "stderr",
     "output_type": "stream",
     "text": [
      "/home/prodhommec/analyseMF/scripts-final-MF/previ-sais/function_read.py:27: FutureWarning: elementwise comparison failed; returning scalar instead, but in the future will perform elementwise comparison\n",
      "  print(lon_bnds != \"all\", lon_bnds)\n",
      "/home/prodhommec/analyseMF/scripts-final-MF/previ-sais/function_read.py:28: FutureWarning: elementwise comparison failed; returning scalar instead, but in the future will perform elementwise comparison\n",
      "  if lon_bnds != \"all\":\n"
     ]
    },
    {
     "name": "stdout",
     "output_type": "stream",
     "text": [
      "all\n",
      "True [-180  179]\n",
      "3\n",
      "(6, 180, 360)\n"
     ]
    },
    {
     "name": "stderr",
     "output_type": "stream",
     "text": [
      "/home/prodhommec/analyseMF/scripts-final-MF/previ-sais/function_read.py:27: FutureWarning: elementwise comparison failed; returning scalar instead, but in the future will perform elementwise comparison\n",
      "  print(lon_bnds != \"all\", lon_bnds)\n",
      "/home/prodhommec/analyseMF/scripts-final-MF/previ-sais/function_read.py:28: FutureWarning: elementwise comparison failed; returning scalar instead, but in the future will perform elementwise comparison\n",
      "  if lon_bnds != \"all\":\n"
     ]
    },
    {
     "name": "stdout",
     "output_type": "stream",
     "text": [
      "all\n",
      "True [-180  179]\n",
      "3\n",
      "(6, 180, 360)\n"
     ]
    },
    {
     "name": "stderr",
     "output_type": "stream",
     "text": [
      "/home/prodhommec/analyseMF/scripts-final-MF/previ-sais/function_read.py:27: FutureWarning: elementwise comparison failed; returning scalar instead, but in the future will perform elementwise comparison\n",
      "  print(lon_bnds != \"all\", lon_bnds)\n",
      "/home/prodhommec/analyseMF/scripts-final-MF/previ-sais/function_read.py:28: FutureWarning: elementwise comparison failed; returning scalar instead, but in the future will perform elementwise comparison\n",
      "  if lon_bnds != \"all\":\n"
     ]
    },
    {
     "name": "stdout",
     "output_type": "stream",
     "text": [
      "all\n",
      "True [-180  179]\n",
      "3\n",
      "(6, 180, 360)\n"
     ]
    },
    {
     "name": "stderr",
     "output_type": "stream",
     "text": [
      "/home/prodhommec/analyseMF/scripts-final-MF/previ-sais/function_read.py:27: FutureWarning: elementwise comparison failed; returning scalar instead, but in the future will perform elementwise comparison\n",
      "  print(lon_bnds != \"all\", lon_bnds)\n",
      "/home/prodhommec/analyseMF/scripts-final-MF/previ-sais/function_read.py:28: FutureWarning: elementwise comparison failed; returning scalar instead, but in the future will perform elementwise comparison\n",
      "  if lon_bnds != \"all\":\n"
     ]
    },
    {
     "name": "stdout",
     "output_type": "stream",
     "text": [
      "all\n",
      "True [-180  179]\n",
      "3\n",
      "(6, 180, 360)\n"
     ]
    },
    {
     "name": "stderr",
     "output_type": "stream",
     "text": [
      "/home/prodhommec/analyseMF/scripts-final-MF/previ-sais/function_read.py:27: FutureWarning: elementwise comparison failed; returning scalar instead, but in the future will perform elementwise comparison\n",
      "  print(lon_bnds != \"all\", lon_bnds)\n",
      "/home/prodhommec/analyseMF/scripts-final-MF/previ-sais/function_read.py:28: FutureWarning: elementwise comparison failed; returning scalar instead, but in the future will perform elementwise comparison\n",
      "  if lon_bnds != \"all\":\n"
     ]
    },
    {
     "name": "stdout",
     "output_type": "stream",
     "text": [
      "all\n",
      "True [-180  179]\n",
      "3\n",
      "(6, 180, 360)\n"
     ]
    },
    {
     "name": "stderr",
     "output_type": "stream",
     "text": [
      "/home/prodhommec/analyseMF/scripts-final-MF/previ-sais/function_read.py:27: FutureWarning: elementwise comparison failed; returning scalar instead, but in the future will perform elementwise comparison\n",
      "  print(lon_bnds != \"all\", lon_bnds)\n",
      "/home/prodhommec/analyseMF/scripts-final-MF/previ-sais/function_read.py:28: FutureWarning: elementwise comparison failed; returning scalar instead, but in the future will perform elementwise comparison\n",
      "  if lon_bnds != \"all\":\n"
     ]
    },
    {
     "name": "stdout",
     "output_type": "stream",
     "text": [
      "all\n",
      "True [-180  179]\n",
      "3\n",
      "(6, 180, 360)\n"
     ]
    },
    {
     "name": "stderr",
     "output_type": "stream",
     "text": [
      "/home/prodhommec/analyseMF/scripts-final-MF/previ-sais/function_read.py:27: FutureWarning: elementwise comparison failed; returning scalar instead, but in the future will perform elementwise comparison\n",
      "  print(lon_bnds != \"all\", lon_bnds)\n",
      "/home/prodhommec/analyseMF/scripts-final-MF/previ-sais/function_read.py:28: FutureWarning: elementwise comparison failed; returning scalar instead, but in the future will perform elementwise comparison\n",
      "  if lon_bnds != \"all\":\n"
     ]
    },
    {
     "name": "stdout",
     "output_type": "stream",
     "text": [
      "all\n",
      "True [-180  179]\n",
      "3\n",
      "(6, 180, 360)\n"
     ]
    },
    {
     "name": "stderr",
     "output_type": "stream",
     "text": [
      "/home/prodhommec/analyseMF/scripts-final-MF/previ-sais/function_read.py:27: FutureWarning: elementwise comparison failed; returning scalar instead, but in the future will perform elementwise comparison\n",
      "  print(lon_bnds != \"all\", lon_bnds)\n",
      "/home/prodhommec/analyseMF/scripts-final-MF/previ-sais/function_read.py:28: FutureWarning: elementwise comparison failed; returning scalar instead, but in the future will perform elementwise comparison\n",
      "  if lon_bnds != \"all\":\n"
     ]
    },
    {
     "name": "stdout",
     "output_type": "stream",
     "text": [
      "all\n",
      "True [-180  179]\n",
      "3\n",
      "(6, 180, 360)\n"
     ]
    },
    {
     "name": "stderr",
     "output_type": "stream",
     "text": [
      "/home/prodhommec/analyseMF/scripts-final-MF/previ-sais/function_read.py:27: FutureWarning: elementwise comparison failed; returning scalar instead, but in the future will perform elementwise comparison\n",
      "  print(lon_bnds != \"all\", lon_bnds)\n",
      "/home/prodhommec/analyseMF/scripts-final-MF/previ-sais/function_read.py:28: FutureWarning: elementwise comparison failed; returning scalar instead, but in the future will perform elementwise comparison\n",
      "  if lon_bnds != \"all\":\n"
     ]
    },
    {
     "name": "stdout",
     "output_type": "stream",
     "text": [
      "all\n",
      "True [-180  179]\n",
      "3\n",
      "(6, 180, 360)\n"
     ]
    },
    {
     "name": "stderr",
     "output_type": "stream",
     "text": [
      "/home/prodhommec/analyseMF/scripts-final-MF/previ-sais/function_read.py:27: FutureWarning: elementwise comparison failed; returning scalar instead, but in the future will perform elementwise comparison\n",
      "  print(lon_bnds != \"all\", lon_bnds)\n",
      "/home/prodhommec/analyseMF/scripts-final-MF/previ-sais/function_read.py:28: FutureWarning: elementwise comparison failed; returning scalar instead, but in the future will perform elementwise comparison\n",
      "  if lon_bnds != \"all\":\n"
     ]
    },
    {
     "name": "stdout",
     "output_type": "stream",
     "text": [
      "all\n",
      "True [-180  179]\n",
      "3\n",
      "(6, 180, 360)\n"
     ]
    },
    {
     "name": "stderr",
     "output_type": "stream",
     "text": [
      "/home/prodhommec/analyseMF/scripts-final-MF/previ-sais/function_read.py:27: FutureWarning: elementwise comparison failed; returning scalar instead, but in the future will perform elementwise comparison\n",
      "  print(lon_bnds != \"all\", lon_bnds)\n",
      "/home/prodhommec/analyseMF/scripts-final-MF/previ-sais/function_read.py:28: FutureWarning: elementwise comparison failed; returning scalar instead, but in the future will perform elementwise comparison\n",
      "  if lon_bnds != \"all\":\n"
     ]
    },
    {
     "name": "stdout",
     "output_type": "stream",
     "text": [
      "all\n",
      "True [-180  179]\n",
      "3\n",
      "(6, 180, 360)\n"
     ]
    },
    {
     "name": "stderr",
     "output_type": "stream",
     "text": [
      "/home/prodhommec/analyseMF/scripts-final-MF/previ-sais/function_read.py:27: FutureWarning: elementwise comparison failed; returning scalar instead, but in the future will perform elementwise comparison\n",
      "  print(lon_bnds != \"all\", lon_bnds)\n",
      "/home/prodhommec/analyseMF/scripts-final-MF/previ-sais/function_read.py:28: FutureWarning: elementwise comparison failed; returning scalar instead, but in the future will perform elementwise comparison\n",
      "  if lon_bnds != \"all\":\n"
     ]
    }
   ],
   "source": [
    "# list to be converted in array to store the data\n",
    "varMMS7=[]\n",
    "for imemb in range(1,nmemb+1):\n",
    "    membstr=\"E%03d\"%imemb\n",
    "    moddate=[]\n",
    "    for s in sdatelst:\n",
    "        #hindcasts from system 8 HE: May startdate HK: November\n",
    "        #f=glob(\"/home/prodhommec/cnrm/pastel/USERS/prodhommec/NO_SAVE/sys8/series/ts/HE/PASTEL_H\"+s.strftime(\"%Y\")+membstr+\"*6hourly_ts_\"+s.strftime(\"%Y\")+\"*\")\n",
    "        f=glob(\"/cnrm/pastel/DATA/sys8/series/ts/HE/PASTEL_H\"+s.strftime(\"%Y\")+membstr+\"*6hourly_ts_\"+s.strftime(\"%Y\")+\"*\")\n",
    "        \n",
    "        #remove lasts days of April (present due to the lagged initialisation stategy)\n",
    "        #to gain time the monthly data could be stored somewhere\n",
    "        f=cdo.monmean(input=\"-selmon,5,6,7,8,9,10 \"+f[0])\n",
    "        f=cdo.remapbil(\"r360x180\", input=f)\n",
    "        \n",
    "        varf=netCDF4.Dataset(f)\n",
    "        #extract array from fonction read \n",
    "        mod, latobs, lonobs  = extract_array(varf, \"ts\", nmon, lon_bnds, lat_bnds, level=\"all\")\n",
    "        moddate.append(mod)\n",
    "        \n",
    "    varMMS7.append(np.array(moddate))\n",
    "    \n",
    "varMMS7=np.array(varMMS7)"
   ]
  },
  {
   "cell_type": "markdown",
   "metadata": {},
   "source": [
    "### Read files: observations"
   ]
  },
  {
   "cell_type": "code",
   "execution_count": 6,
   "metadata": {},
   "outputs": [
    {
     "name": "stdout",
     "output_type": "stream",
     "text": [
      "all\n",
      "True [-180  179]\n",
      "4\n"
     ]
    },
    {
     "name": "stderr",
     "output_type": "stream",
     "text": [
      "/home/prodhommec/analyseMF/scripts-final-MF/previ-sais/function_read.py:27: FutureWarning: elementwise comparison failed; returning scalar instead, but in the future will perform elementwise comparison\n",
      "  print(lon_bnds != \"all\", lon_bnds)\n",
      "/home/prodhommec/analyseMF/scripts-final-MF/previ-sais/function_read.py:28: FutureWarning: elementwise comparison failed; returning scalar instead, but in the future will perform elementwise comparison\n",
      "  if lon_bnds != \"all\":\n"
     ]
    },
    {
     "name": "stdout",
     "output_type": "stream",
     "text": [
      "(1932, 1, 180, 360)\n"
     ]
    }
   ],
   "source": [
    "fileobs = \"/cnrm/pastel/USERS/prodhommec/NO_SAVE/obs/ersst-v4_185401-201612.nc\"\n",
    "fileobs=cdo.remapbil(\"r360x180\", input=fileobs)\n",
    "varfobs=netCDF4.Dataset(fileobs)\n",
    "obs, latobs, lonobs  = extract_array(varfobs, \"sst\", (yearlst[-1]-1854+1)*12, lon_bnds, lat_bnds, level=\"all\")\n",
    "varfobs.close()\n",
    "obs = obs[((yearlst[0]-1854)*12):,0,:,:]\n",
    "ntime, nlat, nlon = obs.shape"
   ]
  },
  {
   "cell_type": "markdown",
   "metadata": {},
   "source": [
    "### Analysis"
   ]
  },
  {
   "cell_type": "code",
   "execution_count": 8,
   "metadata": {},
   "outputs": [],
   "source": [
    "# transform obervation to have data organized following (nyear, 12, nlon, nlat)\n",
    "indexobsresh = obs.reshape((year2-year1+1),12, nlat, nlon)\n",
    "\n",
    "\n",
    "#compute climatologies\n",
    "climmod=np.mean(varMM, axis=(0,1))\n",
    "climmodS7=np.mean(varMMS7, axis=(0,1))\n",
    "climobs = np.mean(indexobsresh, axis = 0)\n",
    "\n",
    "#compute climatologies for the target season\n",
    "climmodseas=np.mean(climmod[(seas[0]-monstart):(seas[1]-monstart+1), : ,:], axis=(0))\n",
    "climmodS7seas=np.mean(climmodS7[(seas[0]-monstart):(seas[1]-monstart+1), : ,:], axis=(0))\n",
    "climobsseas = np.mean(climobs[(seas[0]-1):(seas[1]), : ,:], axis=(0))\n",
    "\n",
    "\n",
    "#compute anomalies \n",
    "#additional note: This should be done in cross-validation for this preliminary analysis it's not done\n",
    "anom = varMM-extend_table(climmod, [1, (year2-year1+1)])\n",
    "anomobs = indexobsresh - climobs\n",
    "anomseas=np.mean(anom[:, :, (seas[0]-monstart):(seas[1]-monstart+1),:,:], axis=(0,2))\n",
    "anomobsseas=np.mean(anomobs[:,(seas[0]-1):(seas[1]),:,:], axis=1)\n",
    "anomS7 = varMMS7-extend_table(climmodS7, [1, (year2-year1+1)])\n",
    "anomseasS7=np.mean(anomS7[:, :, (seas[0]-monstart):(seas[1]-monstart+1),:,:], axis=(0,2))\n"
   ]
  },
  {
   "cell_type": "code",
   "execution_count": 9,
   "metadata": {},
   "outputs": [
    {
     "name": "stderr",
     "output_type": "stream",
     "text": [
      "/usr/lib64/python3.7/site-packages/scipy/stats/stats.py:3038: RuntimeWarning: invalid value encountered in float_scalars\n",
      "  r = r_num / r_den\n"
     ]
    }
   ],
   "source": [
    "\n",
    "\n",
    "corr=np.array([[scipy.stats.pearsonr(anomseas[:,ilat, ilon],anomobsseas[:,ilat, ilon]) for ilon in range(nlon)] for ilat in range(nlat)])           \n",
    "corrS7=np.array([[scipy.stats.pearsonr(anomseasS7[:,ilat, ilon],anomobsseas[:,ilat, ilon]) for ilon in range(nlon)] for ilat in range(nlat)])           \n",
    "                 "
   ]
  },
  {
   "cell_type": "markdown",
   "metadata": {},
   "source": [
    "### Plots"
   ]
  },
  {
   "cell_type": "code",
   "execution_count": 11,
   "metadata": {},
   "outputs": [],
   "source": [
    "from mpl_toolkits.axisartist.axislines import Subplot \n",
    "import matplotlib.colors as colors\n",
    "from matplotlib import ticker, cm\n",
    "import cartopy\n",
    "import cartopy.crs as ccrs\n",
    "\n",
    "def PlotField(ax, field, lons, lats, colorbar, title, levs, norm, signi=False, signifield=None, extend=\"neither\"):\n",
    "    lons[lons>180]=lons[lons>180]-360                                                                                                                                                                           \n",
    "    #ax = plt.axes(projection=cart.crs.Robinson())                                                                                                                                                               \n",
    "    #ax.coastlines()                                                                                                                                                                                             \n",
    "    ax.set_title(title)\n",
    "    #lons_reg=np.array(list(lons)+[71, 72, 73, 74])                                                                                                                                                              \n",
    "    #field=np.ma.concatenate((field, field[:,-4:]), axis=1)                                                                                                                                                      \n",
    "    #field[field<0]=0                                                                                                                                                                                            \n",
    "    # Alternatively, you can manually set the levels                                                                                                                                                             \n",
    "    # and the norm:                                                                                                                                                                                              \n",
    "    mesh = ax.pcolormesh(lons, lats, np.ma.array(field, mask=field>1e19), cmap=colorbar,\n",
    "                     transform=ccrs.PlateCarree(),\n",
    "                         norm=norm, \n",
    "                         shading=\"flat\")\n",
    "    if signi:\n",
    "        lon2d, lat2d = np.meshgrid(lons, lats)\n",
    "        ax.scatter(lon2d[signifield], lat2d[signifield], cmap=colorbar,\n",
    "                     transform=ccrs.PlateCarree(), s=0.005, c=\"black\")\n",
    "    ax.add_feature(cartopy.feature.LAND, zorder=100, edgecolor='k')\n",
    "    #ax.set_extent((lon_bnds[0],lon_bnds[1],lat_bnds[0],lat_bnds[1]),crs=ccrs.PlateCarree(central_longitude=71),)                                                                                                \n",
    "    # cs = ax.contourf(X, Y, z, levs, norm=colors.LogNorm())                                                                                                                                                     \n",
    "    #plot = ax.contourf(lons, lats, field, levs, transform=cartopy.crs.PlateCarree(), cmap=colorbar, norm=norm)                                                                                                  \n",
    "    #ax.add_feature(cartopy.feature.LAND,zorder=100, edgecolor='k')                                                                                                                                              \n",
    "    return(mesh)\n",
    "\n"
   ]
  },
  {
   "cell_type": "code",
   "execution_count": 12,
   "metadata": {},
   "outputs": [
    {
     "data": {
      "text/plain": [
       "<matplotlib.colorbar.Colorbar at 0x7f41c4c4da10>"
      ]
     },
     "execution_count": 12,
     "metadata": {},
     "output_type": "execute_result"
    },
    {
     "data": {
      "text/plain": [
       "<Figure size 432x288 with 0 Axes>"
      ]
     },
     "metadata": {},
     "output_type": "display_data"
    },
    {
     "data": {
      "image/png": "[encoded data removed]",
      "text/plain": [
       "<Figure size 1440x720 with 8 Axes>"
      ]
     },
     "metadata": {
      "needs_background": "light"
     },
     "output_type": "display_data"
    }
   ],
   "source": [
    "nline=2\n",
    "ncol=3 #len(varnamelst)\n",
    "\n",
    "\n",
    "#fig = plt.figure(figsize=(20, 20))                                                                     \n",
    "#fig.tight_layout(pad=0)                                                                                \n",
    "fig = plt.figure()\n",
    "fig.tight_layout()\n",
    "\n",
    "fig, axs = plt.subplots(ncols=ncol, nrows=nline, subplot_kw={'projection': ccrs.PlateCarree()}, figsize=(20, 10))\n",
    "#cmap = colors.ListedColormap([\"yellow\", \"green\", \"cyan\", \"blue\", \"purple\", 'red', 'darkred', 'blue', 'cyan'])\n",
    "#cmap.set_over('0.25')\n",
    "#cmap.set_under('0.75')\n",
    "cmap = cm.get_cmap('BuPu', 20)\n",
    "\n",
    "bounds = np.arange(0,35, 3)\n",
    "norm = colors.BoundaryNorm(bounds, cmap.N, clip=False)\n",
    "\n",
    "\n",
    "\n",
    "mesh = PlotField(axs[0,0], climobsseas, lonobs, latobs,cmap, \"clim tos JJA obs\", bounds, norm, extend=\"max\")\n",
    "\n",
    "mesh = PlotField(axs[0,1], climmodS7seas, lonobs, latobs,cmap, \"clim tos JJA S8\", bounds, norm, extend=\"max\")\n",
    "\n",
    "mesh = PlotField(axs[0,2], climmodseas, lonobs, latobs,cmap, \"clim tos JJA dcppA-hindcast\", bounds, norm, extend=\"max\")\n",
    "fig.colorbar(mesh, orientation=\"horizontal\", ax=axs[0], shrink=0.5, spacing=\"proportional\", extend=\"max\")\n",
    "\n",
    "\n",
    "cmap = cm.get_cmap('RdBu_r', 20)\n",
    "\n",
    "bounds = np.arange(-4,4.5, 0.5)\n",
    "norm = colors.BoundaryNorm(bounds, cmap.N, clip=False)\n",
    "\n",
    "\n",
    "mesh = PlotField(axs[1,0], climmodS7seas-climobsseas, lonobs, latobs,cmap, \"bias tos JJA S8\", bounds, norm)\n",
    "\n",
    "mesh = PlotField(axs[1,1], climmodseas-climobsseas, lonobs, latobs,cmap, \"bias tos JJA dcppA-hindcast\", bounds, norm)\n",
    "\n",
    "mesh = PlotField(axs[1,2], climmodseas-climmodS7seas, lonobs, latobs,cmap, \"diff tos JJA dcppA-hindcast - S8\", bounds, norm)\n",
    "fig.colorbar(mesh, orientation=\"horizontal\", ax=axs[1], shrink=0.5, spacing=\"proportional\")\n",
    "\n",
    "\n",
    "    \n",
    "            #if ivar<nvar:                                                                              \n",
    "\n",
    "\n",
    "\n",
    "\n",
    "# In[28]:ftime(\"%b\") for s in modsdatelst], clims7, color=\"darkgreen\")\n"
   ]
  },
  {
   "cell_type": "code",
   "execution_count": 16,
   "metadata": {},
   "outputs": [
    {
     "name": "stdout",
     "output_type": "stream",
     "text": [
      "/home/prodhommec/cnrm/pastel/USERS/prodhommec/NO_SAVE/plot/Skill/ClimMaps_dcppA-hincast_monstart-5_tos.pdf\n"
     ]
    }
   ],
   "source": [
    "figdir=\"/home/prodhommec/cnrm/pastel/USERS/prodhommec/NO_SAVE/plot/Skill/\"\n",
    "figname=figdir+(\"ClimMaps\"+\"_\"+exp+\"_monstart-%i_\"%monstart+varname)\n",
    "figname=(figname+\".pdf\")\n",
    "\n",
    "print(figname)\n",
    "fig.savefig(figname)"
   ]
  },
  {
   "cell_type": "code",
   "execution_count": 17,
   "metadata": {},
   "outputs": [
    {
     "data": {
      "text/plain": [
       "<matplotlib.colorbar.Colorbar at 0x7f41786a5e50>"
      ]
     },
     "execution_count": 17,
     "metadata": {},
     "output_type": "execute_result"
    },
    {
     "data": {
      "text/plain": [
       "<Figure size 432x288 with 0 Axes>"
      ]
     },
     "metadata": {},
     "output_type": "display_data"
    },
    {
     "data": {
      "image/png": "[encoded data removed]",
      "text/plain": [
       "<Figure size 1440x720 with 6 Axes>"
      ]
     },
     "metadata": {
      "needs_background": "light"
     },
     "output_type": "display_data"
    }
   ],
   "source": [
    "# In[31]:\n",
    "nline=1\n",
    "ncol=3 #len(varnamelst)\n",
    "\n",
    "\n",
    "#fig = plt.figure(figsize=(20, 20))                                                                     \n",
    "#fig.tight_layout(pad=0)                                                                                \n",
    "fig = plt.figure()\n",
    "fig.tight_layout()\n",
    "\n",
    "fig, axs = plt.subplots(ncols=ncol, nrows=nline, subplot_kw={'projection': ccrs.PlateCarree()}, figsize=(20, 10))\n",
    "#cmap = colors.ListedColormap([\"yellow\", \"green\", \"cyan\", \"blue\", \"purple\", 'red', 'darkred', 'blue', 'cyan'])\n",
    "#cmap.set_over('0.25')\n",
    "#cmap.set_under('0.75')\n",
    "cmap = cm.get_cmap('RdBu_r', 20)\n",
    "\n",
    "bounds = np.arange(-10,11)/10.\n",
    "norm = colors.BoundaryNorm(bounds, cmap.N, clip=False)\n",
    "\n",
    "\n",
    "\n",
    "mesh = PlotField(axs[0], corrS7[:,:,0], lonobs, latobs,cmap, \"corr tos JJA system 7\", bounds, norm,\n",
    "                signi=True, signifield=corrS7[:,:,1]<0.05)\n",
    "fig.colorbar(mesh, orientation=\"horizontal\", ax=axs[0], shrink=1, spacing=\"proportional\")\n",
    "\n",
    "\n",
    "\n",
    "mesh = PlotField(axs[1], corr[:,:,0], lonobs, latobs,cmap, \"corr tos JJA dcppA-assim\", bounds, norm,\n",
    "                signi=True, signifield=corr[:,:,1]<0.05)\n",
    "fig.colorbar(mesh, orientation=\"horizontal\", ax=axs[1], shrink=1, spacing=\"proportional\")\n",
    "    \n",
    "\n",
    "mesh = PlotField(axs[2], corr[:,:,0]-corrS7[:,:,0], lonobs, latobs,cmap, \"diff corr dcppA-assim-sys8\", bounds, norm)\n",
    "fig.colorbar(mesh, orientation=\"horizontal\", ax=axs[2], shrink=1, spacing=\"proportional\")\n",
    "       \n",
    "    \n",
    "            #if ivar<nvar:                                                                              \n",
    "\n",
    "\n",
    "\n",
    "\n",
    "# In[28]:"
   ]
  },
  {
   "cell_type": "code",
   "execution_count": 18,
   "metadata": {},
   "outputs": [
    {
     "name": "stdout",
     "output_type": "stream",
     "text": [
      "/home/prodhommec/cnrm/pastel/USERS/prodhommec/NO_SAVE/plot/Skill/CorrMaps_dcppA-hincast_monstart-5_tos.pdf\n"
     ]
    }
   ],
   "source": [
    "figdir=\"/home/prodhommec/cnrm/pastel/USERS/prodhommec/NO_SAVE/plot/Skill/\"\n",
    "figname=figdir+(\"CorrMaps\"+\"_\"+exp+\"_monstart-%i_\"%monstart+varname)\n",
    "figname=(figname+\".pdf\")\n",
    "\n",
    "print(figname)\n",
    "fig.savefig(figname)"
   ]
  },
  {
   "cell_type": "code",
   "execution_count": null,
   "metadata": {},
   "outputs": [],
   "source": [
    "climmodS7.shape"
   ]
  },
  {
   "cell_type": "code",
   "execution_count": null,
   "metadata": {},
   "outputs": [],
   "source": []
  }
 ],
 "metadata": {
  "kernelspec": {
   "display_name": "Python 3",
   "language": "python",
   "name": "python3"
  },
  "language_info": {
   "codemirror_mode": {
    "name": "ipython",
    "version": 3
   },
   "file_extension": ".py",
   "mimetype": "text/x-python",
   "name": "python",
   "nbconvert_exporter": "python",
   "pygments_lexer": "ipython3",
   "version": "3.7.6"
  }
 },
 "nbformat": 4,
 "nbformat_minor": 2
}
